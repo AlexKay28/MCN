{
 "cells": [
  {
   "cell_type": "code",
   "execution_count": 1,
   "metadata": {},
   "outputs": [],
   "source": [
    "import pandas as pd"
   ]
  },
  {
   "cell_type": "code",
   "execution_count": null,
   "metadata": {},
   "outputs": [],
   "source": []
  },
  {
   "cell_type": "code",
   "execution_count": 16,
   "metadata": {},
   "outputs": [],
   "source": [
    "df = pd.DataFrame({\n",
    "    'a': [1, 2, 3],\n",
    "    'b': [[1,2], [3,4], [5, 6]]\n",
    "})\n",
    "df.to_pickle('p.pkl')"
   ]
  },
  {
   "cell_type": "code",
   "execution_count": 17,
   "metadata": {},
   "outputs": [
    {
     "data": {
      "text/html": [
       "<div>\n",
       "<style scoped>\n",
       "    .dataframe tbody tr th:only-of-type {\n",
       "        vertical-align: middle;\n",
       "    }\n",
       "\n",
       "    .dataframe tbody tr th {\n",
       "        vertical-align: top;\n",
       "    }\n",
       "\n",
       "    .dataframe thead th {\n",
       "        text-align: right;\n",
       "    }\n",
       "</style>\n",
       "<table border=\"1\" class=\"dataframe\">\n",
       "  <thead>\n",
       "    <tr style=\"text-align: right;\">\n",
       "      <th></th>\n",
       "      <th>a</th>\n",
       "      <th>b</th>\n",
       "    </tr>\n",
       "  </thead>\n",
       "  <tbody>\n",
       "    <tr>\n",
       "      <th>0</th>\n",
       "      <td>1</td>\n",
       "      <td>[1, 2]</td>\n",
       "    </tr>\n",
       "    <tr>\n",
       "      <th>1</th>\n",
       "      <td>2</td>\n",
       "      <td>[3, 4]</td>\n",
       "    </tr>\n",
       "    <tr>\n",
       "      <th>2</th>\n",
       "      <td>3</td>\n",
       "      <td>[5, 6]</td>\n",
       "    </tr>\n",
       "  </tbody>\n",
       "</table>\n",
       "</div>"
      ],
      "text/plain": [
       "   a       b\n",
       "0  1  [1, 2]\n",
       "1  2  [3, 4]\n",
       "2  3  [5, 6]"
      ]
     },
     "execution_count": 17,
     "metadata": {},
     "output_type": "execute_result"
    }
   ],
   "source": [
    "pd.read_pickle(\"p.pkl\")"
   ]
  },
  {
   "cell_type": "code",
   "execution_count": 12,
   "metadata": {},
   "outputs": [
    {
     "data": {
      "text/plain": [
       "'[ 0.          0.          0.          0.          0.          0.\\n  1.4285785   0.          0.          0.          0.          3.8938713\\n  0.          0.          0.          5.6631174   0.          0.\\n  0.          0.          0.          0.          0.          0.\\n  0.          6.7749305   0.          0.          0.          2.7286215\\n  0.          0.          0.          0.          0.          0.\\n  0.          0.          0.          0.          0.          0.\\n  6.2329526   0.          0.          0.          0.          0.\\n  0.          3.104117    0.          9.845002    0.          0.\\n  0.          0.          0.          0.          0.          0.\\n  0.          3.7789292   0.          0.          0.          1.1910783\\n  0.          0.38787046  0.          0.          2.3009608   1.498188\\n  0.          0.          0.          1.0454406   0.          0.\\n  5.5816245   0.          0.          0.          0.          0.\\n  0.          0.57982826  0.          0.          0.          0.\\n  0.          0.         10.823749    0.          0.          0.\\n  0.          0.          0.5312767   9.116775    0.          3.1431236\\n  0.          0.          5.422796    0.          0.          0.\\n  0.          0.          0.          0.          0.          0.\\n  2.4261713   0.          3.5027983   0.          0.          0.\\n  0.          0.          7.4511933   0.          7.5178027   0.\\n  0.7463837   0.          0.          7.6891446   2.6994178   0.\\n  0.          0.          0.          0.          0.          7.912953\\n  0.          0.          0.          0.          0.          0.\\n  0.          2.5990753   0.          0.          0.          1.2863321\\n  0.          6.0214605   0.54437655  3.400663    0.          0.\\n  0.          2.526101    0.          0.          0.9599601   0.\\n  0.          0.          0.          0.          0.          0.22556132\\n  0.          4.531943    3.485688    0.          0.          0.\\n  0.          0.          0.21348068  0.          0.          0.\\n  6.764987    1.8954023   0.          1.9741797   0.          0.\\n  0.74184453  0.          0.          0.38649046  0.          0.\\n  0.          0.          0.8880531   8.519696    0.          0.\\n  0.          0.        ]'"
      ]
     },
     "execution_count": 12,
     "metadata": {},
     "output_type": "execute_result"
    }
   ],
   "source": [
    "df['term_vec'] = df['term_vec'].apply(lambda x: x)\n",
    "df['term_vec'].to_list()[0]"
   ]
  },
  {
   "cell_type": "code",
   "execution_count": null,
   "metadata": {},
   "outputs": [],
   "source": []
  }
 ],
 "metadata": {
  "kernelspec": {
   "display_name": "Python 3",
   "language": "python",
   "name": "python3"
  },
  "language_info": {
   "codemirror_mode": {
    "name": "ipython",
    "version": 3
   },
   "file_extension": ".py",
   "mimetype": "text/x-python",
   "name": "python",
   "nbconvert_exporter": "python",
   "pygments_lexer": "ipython3",
   "version": "3.6.8"
  }
 },
 "nbformat": 4,
 "nbformat_minor": 4
}
