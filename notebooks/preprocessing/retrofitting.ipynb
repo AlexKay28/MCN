{
 "cells": [
  {
   "cell_type": "code",
   "execution_count": 1,
   "metadata": {},
   "outputs": [],
   "source": [
    "%load_ext autoreload\n",
    "%autoreload 2\n",
    "%matplotlib inline"
   ]
  },
  {
   "cell_type": "code",
   "execution_count": 2,
   "metadata": {},
   "outputs": [],
   "source": [
    "import sys\n",
    "import numpy as np\n",
    "sys.path.append(f'../../')"
   ]
  },
  {
   "cell_type": "code",
   "execution_count": 3,
   "metadata": {},
   "outputs": [
    {
     "name": "stderr",
     "output_type": "stream",
     "text": [
      "[nltk_data] Downloading package stopwords to\n",
      "[nltk_data]     /home/kaigorodov/nltk_data...\n",
      "[nltk_data]   Package stopwords is already up-to-date!\n",
      "[nltk_data] Downloading package punkt to /home/kaigorodov/nltk_data...\n",
      "[nltk_data]   Package punkt is already up-to-date!\n"
     ]
    }
   ],
   "source": [
    "import pandas as pd\n",
    "from gensim.models import FastText\n",
    "from src.features.retrofitting import *\n",
    "from src.data.sentence_vectorizer import SentenceVectorizer"
   ]
  },
  {
   "cell_type": "code",
   "execution_count": 4,
   "metadata": {},
   "outputs": [],
   "source": [
    "smm4h21_train = pd.read_csv('../../data/interim/smm4h21/train.csv')\n",
    "smm4h21_test = pd.read_csv('../../data/interim/smm4h21/test.csv')"
   ]
  },
  {
   "cell_type": "code",
   "execution_count": 5,
   "metadata": {},
   "outputs": [
    {
     "name": "stderr",
     "output_type": "stream",
     "text": [
      "/home/kaigorodov/.local/lib/python3.6/site-packages/ipykernel_launcher.py:1: DeprecationWarning: Call to deprecated `load_fasttext_format` (use load_facebook_vectors (to use pretrained embeddings) or load_facebook_model (to continue training with the loaded full model, more RAM) instead).\n",
      "  \"\"\"Entry point for launching an IPython kernel.\n"
     ]
    },
    {
     "data": {
      "text/plain": [
       "<gensim.models.fasttext.FastText at 0x7f3d1c075710>"
      ]
     },
     "execution_count": 5,
     "metadata": {},
     "output_type": "execute_result"
    }
   ],
   "source": [
    "ft_model = FastText.load_fasttext_format('../../data/external/embeddings/cc.en.300.bin')\n",
    "ft_model"
   ]
  },
  {
   "cell_type": "code",
   "execution_count": 6,
   "metadata": {},
   "outputs": [],
   "source": [
    "from copy import deepcopy\n",
    "\n",
    "def vectorize_sent(sent):\n",
    "    return np.array([ft_model.wv[w] for w in sent.split()]).mean(axis=0)\n",
    "\n",
    "def retrofitting(word_vec, lexicons_vecs, iters=1):\n",
    "    if len(lexicons_vecs) == 0:\n",
    "        return word_vec\n",
    "    new_word_vec = deepcopy(word_vec)\n",
    "    for iteration in range(iters):\n",
    "        new_word_vec *= len(lexicons_vecs)\n",
    "        for lexicons_vec in lexicons_vecs:\n",
    "            new_word_vec += lexicons_vec\n",
    "        new_word_vec /= 2 * len(lexicons_vecs)\n",
    "    return new_word_vec\n",
    "\n",
    "def retrofit_row(row):\n",
    "    concept = row['STR']\n",
    "    synonims = set(eval(row['SNMS']))\n",
    "    concept_vec = vectorize_sent(concept)\n",
    "    lexicons_vecs = [vectorize_sent(syn) for syn in synonims]\n",
    "    concept_vec = retrofitting(concept_vec, lexicons_vecs)\n",
    "    return concept_vec"
   ]
  },
  {
   "cell_type": "code",
   "execution_count": 7,
   "metadata": {},
   "outputs": [],
   "source": [
    "from sklearn.neighbors import KNeighborsClassifier\n",
    "neigh = KNeighborsClassifier(n_neighbors=3)"
   ]
  },
  {
   "cell_type": "code",
   "execution_count": 8,
   "metadata": {},
   "outputs": [],
   "source": [
    "DIM = 10"
   ]
  },
  {
   "cell_type": "code",
   "execution_count": 9,
   "metadata": {},
   "outputs": [
    {
     "data": {
      "text/plain": [
       "((1512, 10), (1512, 10))"
      ]
     },
     "execution_count": 9,
     "metadata": {},
     "output_type": "execute_result"
    }
   ],
   "source": [
    "X_train = smm4h21_train['term'].apply(lambda row: vectorize_sent(row)[:DIM])\n",
    "X_train = pd.DataFrame(X_train.values.tolist()).dropna().values\n",
    "\n",
    "y_train = smm4h21_train.apply(lambda row: retrofit_row(row)[:DIM], axis=1)\n",
    "y_train = pd.DataFrame(y_train.values.tolist()).dropna().values\n",
    "X_train.shape, y_train.shape"
   ]
  },
  {
   "cell_type": "code",
   "execution_count": 10,
   "metadata": {},
   "outputs": [
    {
     "data": {
      "text/plain": [
       "((287, 10), (287, 10))"
      ]
     },
     "execution_count": 10,
     "metadata": {},
     "output_type": "execute_result"
    }
   ],
   "source": [
    "X_test = smm4h21_test['term'].apply(lambda row: vectorize_sent(row)[:DIM])\n",
    "X_test = pd.DataFrame(X_test.values.tolist()).dropna().values\n",
    "\n",
    "y_test = smm4h21_test.apply(lambda row: retrofit_row(row)[:DIM], axis=1)\n",
    "y_test = pd.DataFrame(y_test.values.tolist()).dropna().values\n",
    "X_test.shape, y_test.shape"
   ]
  },
  {
   "cell_type": "code",
   "execution_count": 11,
   "metadata": {},
   "outputs": [
    {
     "name": "stdout",
     "output_type": "stream",
     "text": [
      "R2 0.13393389606189482\n",
      "R2 0.23893949322197666\n",
      "R2 0.2833554379972198\n",
      "R2 0.2970326029055908\n",
      "R2 0.29080484665241535\n",
      "R2 0.29146807545766473\n",
      "R2 0.2928355574349053\n",
      "R2 0.29892117186396805\n",
      "R2 0.2914062486894878\n",
      "R2 0.2881320001089448\n",
      "R2 0.28808621833680964\n",
      "R2 0.2844415109632962\n",
      "R2 0.28245175925280963\n",
      "R2 0.27782073747938274\n",
      "R2 0.27126929421711327\n",
      "R2 0.26732873433289706\n",
      "R2 0.2621997312934451\n",
      "R2 0.26005890460942194\n",
      "R2 0.2600746468564027\n"
     ]
    }
   ],
   "source": [
    "from sklearn.neighbors import KNeighborsRegressor\n",
    "\n",
    "for n in range(1, 20):\n",
    "    neigh = KNeighborsRegressor(n_neighbors=n)\n",
    "    neigh.fit(X_train, y_train)\n",
    "    print('R2', neigh.score(X_test,y_test))"
   ]
  },
  {
   "cell_type": "code",
   "execution_count": 12,
   "metadata": {},
   "outputs": [
    {
     "data": {
      "text/plain": [
       "NearestNeighbors(n_neighbors=1)"
      ]
     },
     "execution_count": 12,
     "metadata": {},
     "output_type": "execute_result"
    }
   ],
   "source": [
    "from sklearn.neighbors import NearestNeighbors\n",
    "neigh = NearestNeighbors(n_neighbors=1)\n",
    "neigh.fit(X_train, y_train)"
   ]
  },
  {
   "cell_type": "code",
   "execution_count": 13,
   "metadata": {},
   "outputs": [
    {
     "data": {
      "text/plain": [
       "(array([[0.06236535],\n",
       "        [0.        ],\n",
       "        [0.0565007 ],\n",
       "        [0.13210999],\n",
       "        [0.07909912],\n",
       "        [0.        ],\n",
       "        [0.        ],\n",
       "        [0.        ],\n",
       "        [0.        ],\n",
       "        [0.        ],\n",
       "        [0.10106691],\n",
       "        [0.        ],\n",
       "        [0.13705717],\n",
       "        [0.09143256],\n",
       "        [0.05086524],\n",
       "        [0.05581114],\n",
       "        [0.        ],\n",
       "        [0.        ],\n",
       "        [0.04656425],\n",
       "        [0.        ],\n",
       "        [0.16668339],\n",
       "        [0.05221045],\n",
       "        [0.        ],\n",
       "        [0.        ],\n",
       "        [0.        ],\n",
       "        [0.        ],\n",
       "        [0.        ],\n",
       "        [0.        ],\n",
       "        [0.09228949],\n",
       "        [0.07687752],\n",
       "        [0.15225909],\n",
       "        [0.        ],\n",
       "        [0.10647095],\n",
       "        [0.1231611 ],\n",
       "        [0.        ],\n",
       "        [0.07003382],\n",
       "        [0.        ],\n",
       "        [0.        ],\n",
       "        [0.0692636 ],\n",
       "        [0.        ],\n",
       "        [0.        ],\n",
       "        [0.13381531],\n",
       "        [0.        ],\n",
       "        [0.03401673],\n",
       "        [0.08679713],\n",
       "        [0.        ],\n",
       "        [0.09562453],\n",
       "        [0.07254257],\n",
       "        [0.        ],\n",
       "        [0.        ],\n",
       "        [0.        ],\n",
       "        [0.08829119],\n",
       "        [0.07114064],\n",
       "        [0.07014859],\n",
       "        [0.        ],\n",
       "        [0.16229469],\n",
       "        [0.        ],\n",
       "        [0.1120492 ],\n",
       "        [0.        ],\n",
       "        [0.08038639],\n",
       "        [0.07888741],\n",
       "        [0.06599829],\n",
       "        [0.05895277],\n",
       "        [0.06288774],\n",
       "        [0.07780829],\n",
       "        [0.077876  ],\n",
       "        [0.        ],\n",
       "        [0.        ],\n",
       "        [0.06037314],\n",
       "        [0.24714141],\n",
       "        [0.        ],\n",
       "        [0.07780829],\n",
       "        [0.09023738],\n",
       "        [0.06049404],\n",
       "        [0.        ],\n",
       "        [0.        ],\n",
       "        [0.        ],\n",
       "        [0.05040902],\n",
       "        [0.05558925],\n",
       "        [0.        ],\n",
       "        [0.0486367 ],\n",
       "        [0.        ],\n",
       "        [0.07564507],\n",
       "        [0.1015499 ],\n",
       "        [0.03125906],\n",
       "        [0.        ],\n",
       "        [0.08498556],\n",
       "        [0.        ],\n",
       "        [0.06788952],\n",
       "        [0.        ],\n",
       "        [0.        ],\n",
       "        [0.        ],\n",
       "        [0.06350915],\n",
       "        [0.09129669],\n",
       "        [0.        ],\n",
       "        [0.04184741],\n",
       "        [0.        ],\n",
       "        [0.        ],\n",
       "        [0.11053604],\n",
       "        [0.        ],\n",
       "        [0.        ],\n",
       "        [0.07872009],\n",
       "        [0.        ],\n",
       "        [0.06402755],\n",
       "        [0.        ],\n",
       "        [0.        ],\n",
       "        [0.05902405],\n",
       "        [0.        ],\n",
       "        [0.        ],\n",
       "        [0.07811987],\n",
       "        [0.14887964],\n",
       "        [0.        ],\n",
       "        [0.07889582],\n",
       "        [0.        ],\n",
       "        [0.        ],\n",
       "        [0.        ],\n",
       "        [0.        ],\n",
       "        [0.08985686],\n",
       "        [0.06444498],\n",
       "        [0.        ],\n",
       "        [0.06844532],\n",
       "        [0.        ],\n",
       "        [0.        ],\n",
       "        [0.08809423],\n",
       "        [0.08877981],\n",
       "        [0.15895339],\n",
       "        [0.        ],\n",
       "        [0.        ],\n",
       "        [0.06202711],\n",
       "        [0.04046808],\n",
       "        [0.04804502],\n",
       "        [0.        ],\n",
       "        [0.09265735],\n",
       "        [0.        ],\n",
       "        [0.13653095],\n",
       "        [0.        ],\n",
       "        [0.        ],\n",
       "        [0.        ],\n",
       "        [0.06544623],\n",
       "        [0.        ],\n",
       "        [0.05869816],\n",
       "        [0.08222662],\n",
       "        [0.14367833],\n",
       "        [0.06298153],\n",
       "        [0.0709406 ],\n",
       "        [0.07439891],\n",
       "        [0.07454115],\n",
       "        [0.        ],\n",
       "        [0.09957099],\n",
       "        [0.        ],\n",
       "        [0.        ],\n",
       "        [0.04749466],\n",
       "        [0.        ],\n",
       "        [0.08929139],\n",
       "        [0.        ],\n",
       "        [0.        ],\n",
       "        [0.1481647 ],\n",
       "        [0.        ],\n",
       "        [0.        ],\n",
       "        [0.        ],\n",
       "        [0.06079755],\n",
       "        [0.        ],\n",
       "        [0.        ],\n",
       "        [0.08890323],\n",
       "        [0.07978892],\n",
       "        [0.        ],\n",
       "        [0.05043171],\n",
       "        [0.        ],\n",
       "        [0.04952267],\n",
       "        [0.08471109],\n",
       "        [0.        ],\n",
       "        [0.07149932],\n",
       "        [0.        ],\n",
       "        [0.        ],\n",
       "        [0.        ],\n",
       "        [0.        ],\n",
       "        [0.06288587],\n",
       "        [0.        ],\n",
       "        [0.07127211],\n",
       "        [0.07685828],\n",
       "        [0.09822728],\n",
       "        [0.19095871],\n",
       "        [0.        ],\n",
       "        [0.        ],\n",
       "        [0.        ],\n",
       "        [0.06343828],\n",
       "        [0.07673454],\n",
       "        [0.        ],\n",
       "        [0.        ],\n",
       "        [0.        ],\n",
       "        [0.        ],\n",
       "        [0.        ],\n",
       "        [0.        ],\n",
       "        [0.17077932],\n",
       "        [0.10541332],\n",
       "        [0.        ],\n",
       "        [0.11384632],\n",
       "        [0.18592825],\n",
       "        [0.07505262],\n",
       "        [0.09024094],\n",
       "        [0.        ],\n",
       "        [0.25738307],\n",
       "        [0.0601706 ],\n",
       "        [0.        ],\n",
       "        [0.04878878],\n",
       "        [0.06524955],\n",
       "        [0.        ],\n",
       "        [0.05199859],\n",
       "        [0.11038746],\n",
       "        [0.        ],\n",
       "        [0.02263743],\n",
       "        [0.        ],\n",
       "        [0.03534655],\n",
       "        [0.        ],\n",
       "        [0.04783699],\n",
       "        [0.08878499],\n",
       "        [0.        ],\n",
       "        [0.07454748],\n",
       "        [0.03155931],\n",
       "        [0.09188811],\n",
       "        [0.        ],\n",
       "        [0.06252926],\n",
       "        [0.        ],\n",
       "        [0.09072173],\n",
       "        [0.        ],\n",
       "        [0.11664537],\n",
       "        [0.        ],\n",
       "        [0.24798318],\n",
       "        [0.        ],\n",
       "        [0.09402202],\n",
       "        [0.09849717],\n",
       "        [0.05178756],\n",
       "        [0.07635683],\n",
       "        [0.04102539],\n",
       "        [0.11484325],\n",
       "        [0.        ],\n",
       "        [0.21468288],\n",
       "        [0.        ],\n",
       "        [0.09094592],\n",
       "        [0.0588601 ],\n",
       "        [0.        ],\n",
       "        [0.07933595],\n",
       "        [0.04906171],\n",
       "        [0.06145359],\n",
       "        [0.16011857],\n",
       "        [0.        ],\n",
       "        [0.        ],\n",
       "        [0.04589635],\n",
       "        [0.05185536],\n",
       "        [0.        ],\n",
       "        [0.        ],\n",
       "        [0.        ],\n",
       "        [0.        ],\n",
       "        [0.06748194],\n",
       "        [0.07648362],\n",
       "        [0.        ],\n",
       "        [0.06331863],\n",
       "        [0.        ],\n",
       "        [0.1293248 ],\n",
       "        [0.        ],\n",
       "        [0.        ],\n",
       "        [0.06401758],\n",
       "        [0.        ],\n",
       "        [0.        ],\n",
       "        [0.06082278],\n",
       "        [0.04533075],\n",
       "        [0.08749888],\n",
       "        [0.        ],\n",
       "        [0.13908757],\n",
       "        [0.        ],\n",
       "        [0.0798389 ],\n",
       "        [0.04795107],\n",
       "        [0.        ],\n",
       "        [0.        ],\n",
       "        [0.09706147],\n",
       "        [0.        ],\n",
       "        [0.        ],\n",
       "        [0.        ],\n",
       "        [0.        ],\n",
       "        [0.        ],\n",
       "        [0.06559981],\n",
       "        [0.11501429],\n",
       "        [0.09849717],\n",
       "        [0.        ],\n",
       "        [0.09570343],\n",
       "        [0.        ],\n",
       "        [0.        ]]),\n",
       " array([[ 718],\n",
       "        [1260],\n",
       "        [ 574],\n",
       "        [ 810],\n",
       "        [ 283],\n",
       "        [ 882],\n",
       "        [ 414],\n",
       "        [1442],\n",
       "        [ 913],\n",
       "        [  43],\n",
       "        [ 747],\n",
       "        [ 812],\n",
       "        [1035],\n",
       "        [1356],\n",
       "        [ 263],\n",
       "        [ 329],\n",
       "        [1021],\n",
       "        [ 322],\n",
       "        [  76],\n",
       "        [ 291],\n",
       "        [ 583],\n",
       "        [1358],\n",
       "        [1346],\n",
       "        [1073],\n",
       "        [1021],\n",
       "        [ 399],\n",
       "        [1326],\n",
       "        [ 279],\n",
       "        [ 298],\n",
       "        [ 831],\n",
       "        [ 504],\n",
       "        [ 499],\n",
       "        [1211],\n",
       "        [ 813],\n",
       "        [ 227],\n",
       "        [1132],\n",
       "        [ 816],\n",
       "        [ 882],\n",
       "        [ 843],\n",
       "        [1175],\n",
       "        [ 732],\n",
       "        [ 268],\n",
       "        [1339],\n",
       "        [ 189],\n",
       "        [ 606],\n",
       "        [1427],\n",
       "        [ 998],\n",
       "        [ 249],\n",
       "        [ 490],\n",
       "        [ 655],\n",
       "        [ 113],\n",
       "        [ 419],\n",
       "        [ 178],\n",
       "        [1415],\n",
       "        [ 302],\n",
       "        [ 385],\n",
       "        [ 776],\n",
       "        [ 912],\n",
       "        [ 707],\n",
       "        [1320],\n",
       "        [ 456],\n",
       "        [1316],\n",
       "        [1092],\n",
       "        [1457],\n",
       "        [1177],\n",
       "        [1246],\n",
       "        [  64],\n",
       "        [ 545],\n",
       "        [1208],\n",
       "        [1172],\n",
       "        [ 897],\n",
       "        [1177],\n",
       "        [ 901],\n",
       "        [ 557],\n",
       "        [ 173],\n",
       "        [1322],\n",
       "        [ 856],\n",
       "        [1116],\n",
       "        [1167],\n",
       "        [ 655],\n",
       "        [ 175],\n",
       "        [1097],\n",
       "        [1156],\n",
       "        [1470],\n",
       "        [ 843],\n",
       "        [1350],\n",
       "        [1186],\n",
       "        [1034],\n",
       "        [ 857],\n",
       "        [ 761],\n",
       "        [1102],\n",
       "        [ 114],\n",
       "        [1281],\n",
       "        [ 844],\n",
       "        [ 234],\n",
       "        [ 733],\n",
       "        [ 871],\n",
       "        [ 723],\n",
       "        [1432],\n",
       "        [ 414],\n",
       "        [ 283],\n",
       "        [1276],\n",
       "        [ 414],\n",
       "        [ 466],\n",
       "        [ 920],\n",
       "        [ 655],\n",
       "        [ 807],\n",
       "        [ 982],\n",
       "        [1264],\n",
       "        [ 888],\n",
       "        [  37],\n",
       "        [1221],\n",
       "        [ 315],\n",
       "        [1115],\n",
       "        [ 490],\n",
       "        [ 871],\n",
       "        [ 302],\n",
       "        [ 263],\n",
       "        [ 640],\n",
       "        [  34],\n",
       "        [1506],\n",
       "        [ 283],\n",
       "        [1077],\n",
       "        [1411],\n",
       "        [ 844],\n",
       "        [ 807],\n",
       "        [ 882],\n",
       "        [ 499],\n",
       "        [ 674],\n",
       "        [1008],\n",
       "        [ 918],\n",
       "        [1061],\n",
       "        [   5],\n",
       "        [1227],\n",
       "        [1104],\n",
       "        [ 382],\n",
       "        [ 321],\n",
       "        [ 419],\n",
       "        [ 315],\n",
       "        [  51],\n",
       "        [ 344],\n",
       "        [ 356],\n",
       "        [ 510],\n",
       "        [1357],\n",
       "        [ 645],\n",
       "        [ 997],\n",
       "        [ 628],\n",
       "        [ 732],\n",
       "        [1079],\n",
       "        [ 283],\n",
       "        [ 125],\n",
       "        [1030],\n",
       "        [ 279],\n",
       "        [  28],\n",
       "        [ 882],\n",
       "        [ 577],\n",
       "        [ 684],\n",
       "        [ 414],\n",
       "        [1073],\n",
       "        [1468],\n",
       "        [ 469],\n",
       "        [ 804],\n",
       "        [1214],\n",
       "        [1467],\n",
       "        [1129],\n",
       "        [1404],\n",
       "        [ 564],\n",
       "        [ 534],\n",
       "        [ 777],\n",
       "        [1220],\n",
       "        [ 253],\n",
       "        [1438],\n",
       "        [ 881],\n",
       "        [1296],\n",
       "        [1122],\n",
       "        [ 882],\n",
       "        [1380],\n",
       "        [1055],\n",
       "        [1408],\n",
       "        [1103],\n",
       "        [1294],\n",
       "        [ 699],\n",
       "        [ 252],\n",
       "        [ 882],\n",
       "        [1427],\n",
       "        [1211],\n",
       "        [1477],\n",
       "        [ 268],\n",
       "        [ 882],\n",
       "        [ 982],\n",
       "        [ 994],\n",
       "        [1115],\n",
       "        [1029],\n",
       "        [ 699],\n",
       "        [ 292],\n",
       "        [1299],\n",
       "        [ 276],\n",
       "        [1163],\n",
       "        [1211],\n",
       "        [ 677],\n",
       "        [1175],\n",
       "        [ 396],\n",
       "        [ 528],\n",
       "        [ 982],\n",
       "        [1064],\n",
       "        [1121],\n",
       "        [ 612],\n",
       "        [  73],\n",
       "        [1122],\n",
       "        [ 382],\n",
       "        [ 189],\n",
       "        [1325],\n",
       "        [1121],\n",
       "        [ 871],\n",
       "        [1300],\n",
       "        [ 327],\n",
       "        [ 437],\n",
       "        [ 177],\n",
       "        [ 727],\n",
       "        [ 146],\n",
       "        [1339],\n",
       "        [  57],\n",
       "        [ 577],\n",
       "        [ 786],\n",
       "        [ 906],\n",
       "        [ 318],\n",
       "        [1494],\n",
       "        [1192],\n",
       "        [1339],\n",
       "        [ 141],\n",
       "        [1024],\n",
       "        [1316],\n",
       "        [ 429],\n",
       "        [1320],\n",
       "        [ 729],\n",
       "        [ 133],\n",
       "        [ 627],\n",
       "        [1504],\n",
       "        [1173],\n",
       "        [1505],\n",
       "        [1267],\n",
       "        [ 522],\n",
       "        [  74],\n",
       "        [1053],\n",
       "        [ 701],\n",
       "        [ 302],\n",
       "        [1468],\n",
       "        [ 931],\n",
       "        [1448],\n",
       "        [ 787],\n",
       "        [1420],\n",
       "        [ 318],\n",
       "        [ 564],\n",
       "        [ 915],\n",
       "        [ 922],\n",
       "        [ 382],\n",
       "        [ 421],\n",
       "        [ 288],\n",
       "        [ 530],\n",
       "        [ 728],\n",
       "        [ 114],\n",
       "        [1142],\n",
       "        [ 828],\n",
       "        [ 655],\n",
       "        [1349],\n",
       "        [1461],\n",
       "        [ 669],\n",
       "        [ 354],\n",
       "        [ 587],\n",
       "        [1000],\n",
       "        [1177],\n",
       "        [ 270],\n",
       "        [ 354],\n",
       "        [  51],\n",
       "        [1116],\n",
       "        [ 776],\n",
       "        [1077],\n",
       "        [1407],\n",
       "        [1449],\n",
       "        [ 125],\n",
       "        [1009],\n",
       "        [  14],\n",
       "        [1024],\n",
       "        [ 882],\n",
       "        [ 691],\n",
       "        [1077],\n",
       "        [ 102]]))"
      ]
     },
     "execution_count": 13,
     "metadata": {},
     "output_type": "execute_result"
    }
   ],
   "source": [
    "neigh.kneighbors(X_test)"
   ]
  },
  {
   "cell_type": "code",
   "execution_count": 14,
   "metadata": {},
   "outputs": [
    {
     "data": {
      "text/plain": [
       "(154, 1077)"
      ]
     },
     "execution_count": 14,
     "metadata": {},
     "output_type": "execute_result"
    }
   ],
   "source": [
    "case = 154\n",
    "t, p = neigh.kneighbors([X_test[122]])\n",
    "t = case\n",
    "p = int(p[0][0])\n",
    "t, p"
   ]
  },
  {
   "cell_type": "code",
   "execution_count": 15,
   "metadata": {},
   "outputs": [],
   "source": [
    "#smm4h21_test.iloc[t]['term'], smm4h21_test.iloc[p]['STR']"
   ]
  },
  {
   "cell_type": "code",
   "execution_count": 16,
   "metadata": {},
   "outputs": [],
   "source": [
    "def predict_concept(term):\n",
    "    term = vectorize_sent(term)[:DIM]\n",
    "    concept_pred = neigh.predict(term)\n",
    "    "
   ]
  },
  {
   "cell_type": "markdown",
   "metadata": {},
   "source": [
    "# COSINE NET"
   ]
  },
  {
   "cell_type": "code",
   "execution_count": 17,
   "metadata": {},
   "outputs": [],
   "source": [
    "import tensorflow as tf"
   ]
  },
  {
   "cell_type": "code",
   "execution_count": 18,
   "metadata": {},
   "outputs": [
    {
     "data": {
      "text/plain": [
       "(array([[0.99146013]]), array([[1.]]))"
      ]
     },
     "execution_count": 18,
     "metadata": {},
     "output_type": "execute_result"
    }
   ],
   "source": [
    "from sklearn.metrics.pairwise import cosine_similarity\n",
    "term = np.array(tf.constant([1, 2, 3], shape=[3]))\n",
    "concepts = np.array(tf.constant([[1, 2, 4], [1, 2, 3]], shape=[2, 3]))\n",
    "cosine_similarity([term], [concepts[0]]), cosine_similarity([term], [concepts[1]])"
   ]
  },
  {
   "cell_type": "code",
   "execution_count": 19,
   "metadata": {},
   "outputs": [
    {
     "name": "stdout",
     "output_type": "stream",
     "text": [
      "Tensor(\"lambda/sub:0\", shape=(None, None, 5), dtype=float32)\n",
      "Model: \"model\"\n",
      "__________________________________________________________________________________________________\n",
      "Layer (type)                    Output Shape         Param #     Connected to                     \n",
      "==================================================================================================\n",
      "term (InputLayer)               [(None, 20)]         0                                            \n",
      "__________________________________________________________________________________________________\n",
      "dense (Dense)                   (None, 40)           840         term[0][0]                       \n",
      "__________________________________________________________________________________________________\n",
      "dense_1 (Dense)                 (None, 20)           820         dense[0][0]                      \n",
      "__________________________________________________________________________________________________\n",
      "flatten (Flatten)               (None, 20)           0           dense_1[0][0]                    \n",
      "__________________________________________________________________________________________________\n",
      "concepts (InputLayer)           [(None, 5, 20)]      0                                            \n",
      "__________________________________________________________________________________________________\n",
      "lambda (Lambda)                 (None, 5)            0           flatten[0][0]                    \n",
      "                                                                 concepts[0][0]                   \n",
      "__________________________________________________________________________________________________\n",
      "re_lu (ReLU)                    (None, 5)            0           lambda[0][0]                     \n",
      "__________________________________________________________________________________________________\n",
      "dense_2 (Dense)                 (None, 5)            30          re_lu[0][0]                      \n",
      "==================================================================================================\n",
      "Total params: 1,690\n",
      "Trainable params: 1,690\n",
      "Non-trainable params: 0\n",
      "__________________________________________________________________________________________________\n"
     ]
    }
   ],
   "source": [
    "def cosine_mul_fun(inputs):\n",
    "    a, b = inputs[0], inputs[1]\n",
    "    normalize_a = tf.nn.l2_normalize(a,1)        \n",
    "    normalize_b = tf.nn.l2_normalize(b,1)\n",
    "    distance = 1 - tf.matmul([normalize_a], normalize_b, transpose_b=True)\n",
    "    print(distance)\n",
    "    return distance[0]\n",
    "\n",
    "n_terms = 10\n",
    "embedding_size = 20\n",
    "n_concepts = 5\n",
    "\n",
    "inputs1 =    tf.keras.layers.Input(shape=(embedding_size), name='term')\n",
    "dn =         tf.keras.layers.Dense(2 * embedding_size)(inputs1)\n",
    "dn =         tf.keras.layers.Dense(embedding_size)(dn)\n",
    "term_hat =   tf.keras.layers.Flatten()(dn)\n",
    "inputs2 =    tf.keras.layers.Input(shape=(n_concepts, embedding_size), name='concepts')\n",
    "cosine_mul = tf.keras.layers.Lambda(cosine_mul_fun)([term_hat, inputs2])\n",
    "activation = tf.keras.layers.ReLU()(cosine_mul)\n",
    "output =     tf.keras.layers.Dense(n_concepts, activation='softmax')(activation)\n",
    "\n",
    "model = tf.keras.Model(inputs=[inputs1, inputs2], outputs=[output])\n",
    "model.compile(optimizer=tf.keras.optimizers.Adam(lr=0.0005), loss=\"categorical_crossentropy\")\n",
    "model.summary()"
   ]
  },
  {
   "cell_type": "code",
   "execution_count": 20,
   "metadata": {},
   "outputs": [
    {
     "data": {
      "text/plain": [
       "((10, 20), (10, 5, 20), (10, 5))"
      ]
     },
     "execution_count": 20,
     "metadata": {},
     "output_type": "execute_result"
    }
   ],
   "source": [
    "X_train = [np.arange(n_terms * embedding_size).reshape(-1, embedding_size), np.arange(n_terms * n_concepts*embedding_size).reshape(-1, n_concepts, embedding_size)]\n",
    "y_train = np.array([[0, 1, 0, 0, 0]])\n",
    "y_train = np.vstack([y_train]*n_terms)\n",
    "X_train[0].shape, X_train[1].shape, y_train.shape"
   ]
  },
  {
   "cell_type": "code",
   "execution_count": 21,
   "metadata": {},
   "outputs": [
    {
     "name": "stdout",
     "output_type": "stream",
     "text": [
      "Epoch 1/3\n",
      "Tensor(\"model/lambda/sub:0\", shape=(None, None, 5), dtype=float32)\n",
      "Tensor(\"model/lambda/sub:0\", shape=(None, None, 5), dtype=float32)\n",
      "1/1 [==============================] - 0s 417ms/step - loss: 2.6497\n",
      "Epoch 2/3\n",
      "1/1 [==============================] - 0s 3ms/step - loss: 2.5645\n",
      "Epoch 3/3\n",
      "1/1 [==============================] - 0s 2ms/step - loss: 2.5149\n"
     ]
    },
    {
     "data": {
      "text/plain": [
       "<tensorflow.python.keras.callbacks.History at 0x7f3bba7fdc88>"
      ]
     },
     "execution_count": 21,
     "metadata": {},
     "output_type": "execute_result"
    }
   ],
   "source": [
    "model.fit(X_train, y_train, epochs=3)"
   ]
  },
  {
   "cell_type": "code",
   "execution_count": 22,
   "metadata": {},
   "outputs": [
    {
     "name": "stdout",
     "output_type": "stream",
     "text": [
      "Tensor(\"model/lambda/sub:0\", shape=(None, None, 5), dtype=float32)\n"
     ]
    },
    {
     "data": {
      "text/plain": [
       "[0, 0, 0, 0, 0, 0, 0, 0, 0, 0]"
      ]
     },
     "execution_count": 22,
     "metadata": {},
     "output_type": "execute_result"
    }
   ],
   "source": [
    "terms = np.arange(n_terms * embedding_size).reshape(-1, embedding_size)\n",
    "concepts = np.arange(n_terms * n_concepts*embedding_size).reshape(-1, n_concepts, embedding_size)\n",
    "preds = model.predict([terms, concepts])\n",
    "[np.argmax(pred) for pred in preds]"
   ]
  },
  {
   "cell_type": "code",
   "execution_count": 23,
   "metadata": {},
   "outputs": [
    {
     "data": {
      "text/plain": [
       "array([[0.36509502, 0.08156148, 0.20160426, 0.2288418 , 0.12289742],\n",
       "       [0.36505193, 0.08144022, 0.20156495, 0.22941282, 0.12252999],\n",
       "       [0.3650502 , 0.08134759, 0.20153531, 0.22978988, 0.12227702],\n",
       "       [0.36505038, 0.08129927, 0.20151979, 0.22998415, 0.12214635],\n",
       "       [0.36505076, 0.08127021, 0.20151043, 0.23010045, 0.12206812],\n",
       "       [0.3650511 , 0.08125092, 0.20150422, 0.23017754, 0.12201623],\n",
       "       [0.36505133, 0.08123722, 0.20149978, 0.23023225, 0.12197941],\n",
       "       [0.36505157, 0.08122696, 0.20149647, 0.23027311, 0.12195189],\n",
       "       [0.36505175, 0.08121902, 0.20149387, 0.23030476, 0.12193062],\n",
       "       [0.3650519 , 0.08121269, 0.20149185, 0.23032996, 0.12191364]],\n",
       "      dtype=float32)"
      ]
     },
     "execution_count": 23,
     "metadata": {},
     "output_type": "execute_result"
    }
   ],
   "source": [
    "preds"
   ]
  },
  {
   "cell_type": "code",
   "execution_count": 24,
   "metadata": {},
   "outputs": [
    {
     "data": {
      "text/plain": [
       "((10, 20), (10, 5), (10, 5, 20))"
      ]
     },
     "execution_count": 24,
     "metadata": {},
     "output_type": "execute_result"
    }
   ],
   "source": [
    "terms.shape, preds.shape, concepts.shape"
   ]
  },
  {
   "cell_type": "markdown",
   "metadata": {},
   "source": [
    "# Create train and test sets for NET"
   ]
  },
  {
   "cell_type": "code",
   "execution_count": 297,
   "metadata": {},
   "outputs": [],
   "source": [
    "from copy import copy"
   ]
  },
  {
   "cell_type": "code",
   "execution_count": 313,
   "metadata": {},
   "outputs": [
    {
     "data": {
      "text/plain": [
       "484"
      ]
     },
     "execution_count": 313,
     "metadata": {},
     "output_type": "execute_result"
    }
   ],
   "source": [
    "codes = set(list(set(smm4h21_train['code'].tolist() + smm4h21_test['code'].tolist())))\n",
    "len(codes)"
   ]
  },
  {
   "cell_type": "code",
   "execution_count": 314,
   "metadata": {},
   "outputs": [],
   "source": [
    "terms_train = copy(smm4h21_train)\n",
    "terms_vecs_train = terms_train.apply(lambda row: vectorize_sent(row['term']), axis=1)\n",
    "terms_vecs_train = pd.DataFrame(terms_vecs_train.values.tolist()).dropna().values\n",
    "\n",
    "terms_test = copy(smm4h21_test)\n",
    "terms_vecs_test = terms_test.apply(lambda row: vectorize_sent(row['term']), axis=1)\n",
    "terms_vecs_test = pd.DataFrame(terms_vecs_test.values.tolist()).dropna().values"
   ]
  },
  {
   "cell_type": "code",
   "execution_count": 315,
   "metadata": {},
   "outputs": [
    {
     "data": {
      "text/plain": [
       "(440,)"
      ]
     },
     "execution_count": 315,
     "metadata": {},
     "output_type": "execute_result"
    }
   ],
   "source": [
    "#concepts = pd.read_csv('../../data/interim/used_codes.csv')[['code', 'STR', 'SNMS']]\n",
    "concepts = pd.read_csv('../../data/interim/used_codes_big.csv')[['code', 'STR', 'SNMS']]\n",
    "\n",
    "# только те которые есть\n",
    "#concepts = concepts[concepts['code'].isin(codes)].reset_index(drop=True).reset_index().set_index('code')\n",
    "\n",
    "# все доступные\n",
    "#concepts = concepts.reset_index(drop=True).reset_index().set_index('code')\n",
    "\n",
    "# все из трейна\n",
    "concepts = concepts[concepts['code'].isin(terms_train['code'])].reset_index(drop=True).reset_index().set_index('code')\n",
    "\n",
    "codes = concepts['index'].to_numpy()\n",
    "concepts_vecs = concepts.apply(lambda row: retrofit_row(row), axis=1)\n",
    "concepts_vecs = pd.DataFrame(concepts_vecs.values.tolist()).dropna().values\n",
    "codes.shape"
   ]
  },
  {
   "cell_type": "code",
   "execution_count": 301,
   "metadata": {},
   "outputs": [],
   "source": [
    "# concepts_selected = concepts[concepts.index.isin(terms_train['code'])]\n",
    "\n",
    "\n",
    "# concepts_to_select = concepts[~concepts.index.isin(terms_train['code'])]\n",
    "# concepts_to_select_vecs = concepts_to_select.apply(lambda row: retrofit_row(row), axis=1)\n",
    "# concepts_to_select_vecs = pd.DataFrame(concepts_to_select_vecs.values.tolist()).dropna().values\n",
    "\n",
    "# from src.features.novelty_detector import NoveltyDetector\n",
    "# nd = NoveltyDetector(n_neighbors=1, contamination=0.5) \n",
    "\n",
    "# nd.fit(terms_vecs_train)\n",
    "# X_novelties, X_not_novelties, novpred = nd.select_novelties(concepts_to_select_vecs)\n",
    "# np.unique(novpred, return_counts=True)\n",
    "\n",
    "# concepts_vecs = concepts_vecs[novpred]\n",
    "# codes = codes[novpred]\n",
    "\n",
    "\n",
    "# concepts_to_select = concepts_to_select[[True if i ==1 else False for i in novpred]]\n",
    "# concepts = pd.concat([concepts_selected, concepts_to_select])\n",
    "# concepts = concepts.reset_index().drop(columns=['index']).reset_index().set_index('code')\n",
    "\n",
    "# codes = concepts['index'].to_numpy()\n",
    "# concepts_vecs = concepts.apply(lambda row: retrofit_row(row), axis=1)\n",
    "# concepts_vecs = pd.DataFrame(concepts_vecs.values.tolist()).dropna().values"
   ]
  },
  {
   "cell_type": "code",
   "execution_count": null,
   "metadata": {},
   "outputs": [],
   "source": []
  },
  {
   "cell_type": "code",
   "execution_count": null,
   "metadata": {},
   "outputs": [],
   "source": []
  },
  {
   "cell_type": "code",
   "execution_count": 302,
   "metadata": {},
   "outputs": [],
   "source": [
    "terms_codes_train = terms_train['code'].apply(lambda code: concepts.loc[code]['index'])"
   ]
  },
  {
   "cell_type": "code",
   "execution_count": 303,
   "metadata": {},
   "outputs": [
    {
     "data": {
      "text/plain": [
       "(439, 440)"
      ]
     },
     "execution_count": 303,
     "metadata": {},
     "output_type": "execute_result"
    }
   ],
   "source": [
    "terms_codes_test = terms_test['code'].apply(\n",
    "    lambda code: concepts.loc[code]['index'] if code in concepts.index else len(codes)) #OOV CODE\n",
    "terms_codes_train.max(), terms_codes_test.max()"
   ]
  },
  {
   "cell_type": "code",
   "execution_count": 304,
   "metadata": {},
   "outputs": [],
   "source": [
    "terms_codes_train = tf.keras.utils.to_categorical(\n",
    "    terms_codes_train, num_classes=len(codes)+1, dtype='float32'\n",
    ")\n",
    "terms_codes_test = tf.keras.utils.to_categorical(\n",
    "    terms_codes_test, num_classes=len(codes)+1, dtype='float32'\n",
    ")"
   ]
  },
  {
   "cell_type": "code",
   "execution_count": 305,
   "metadata": {},
   "outputs": [],
   "source": [
    "def data_generator(terms_vecs, terms_codes, concepts_vecs, batch_size=50):\n",
    "    while 1:\n",
    "\n",
    "        concepts_vecs_choosed = []\n",
    "        \n",
    "        index_to_choose = np.random.choice(terms_vecs.shape[0]-batch_size)\n",
    "        concepts_vecs_choosed.append(concepts_vecs)\n",
    "            \n",
    "        terms_vecs_choosed = terms_vecs[index_to_choose:index_to_choose+batch_size]\n",
    "        terms_codes_choosed = terms_codes[index_to_choose:index_to_choose+batch_size]\n",
    "        concepts_vecs_choosed = np.array(concepts_vecs_choosed, dtype='float32')\n",
    "        \n",
    "        train = [terms_vecs_choosed, concepts_vecs_choosed]\n",
    "        test = [terms_codes_choosed]\n",
    "        yield train, test\n"
   ]
  },
  {
   "cell_type": "code",
   "execution_count": 306,
   "metadata": {},
   "outputs": [],
   "source": [
    "def cosine_mul_fun(inputs):\n",
    "    a, b = inputs[0], inputs[1]\n",
    "    normalize_a = tf.nn.l2_normalize(a,1)        \n",
    "    normalize_b = tf.nn.l2_normalize(b,1)\n",
    "    distance = 1 - tf.matmul([normalize_a], normalize_b, transpose_b=True)\n",
    "    return distance[0]"
   ]
  },
  {
   "cell_type": "code",
   "execution_count": 311,
   "metadata": {},
   "outputs": [
    {
     "name": "stdout",
     "output_type": "stream",
     "text": [
      "Model: \"model_60\"\n",
      "__________________________________________________________________________________________________\n",
      "Layer (type)                    Output Shape         Param #     Connected to                     \n",
      "==================================================================================================\n",
      "term (InputLayer)               [(None, 300)]        0                                            \n",
      "__________________________________________________________________________________________________\n",
      "dense_169 (Dense)               (None, 512)          154112      term[0][0]                       \n",
      "__________________________________________________________________________________________________\n",
      "dense_170 (Dense)               (None, 300)          153900      dense_169[0][0]                  \n",
      "__________________________________________________________________________________________________\n",
      "flatten_51 (Flatten)            (None, 300)          0           dense_170[0][0]                  \n",
      "__________________________________________________________________________________________________\n",
      "concepts (InputLayer)           [(None, 440, 300)]   0                                            \n",
      "__________________________________________________________________________________________________\n",
      "lambda_51 (Lambda)              (None, 440)          0           flatten_51[0][0]                 \n",
      "                                                                 concepts[0][0]                   \n",
      "__________________________________________________________________________________________________\n",
      "re_lu_51 (ReLU)                 (None, 440)          0           lambda_51[0][0]                  \n",
      "__________________________________________________________________________________________________\n",
      "dense_171 (Dense)               (None, 441)          194481      re_lu_51[0][0]                   \n",
      "==================================================================================================\n",
      "Total params: 502,493\n",
      "Trainable params: 502,493\n",
      "Non-trainable params: 0\n",
      "__________________________________________________________________________________________________\n"
     ]
    }
   ],
   "source": [
    "from sklearn.metrics import accuracy_score\n",
    "from tqdm import tqdm\n",
    "import matplotlib.pyplot as plt\n",
    "\n",
    "n_concepts = len(codes)\n",
    "embedding_size = 300\n",
    "\n",
    "def get_model():\n",
    "    inputs1 =    tf.keras.layers.Input(shape=(embedding_size), name='term')\n",
    "    dn =         tf.keras.layers.Dense(512)(inputs1)\n",
    "    dn =         tf.keras.layers.Dense(embedding_size)(dn)\n",
    "    term_hat =   tf.keras.layers.Flatten()(dn)\n",
    "    inputs2 =    tf.keras.layers.Input(shape=(n_concepts, embedding_size), name='concepts')\n",
    "    cosine_mul = tf.keras.layers.Lambda(cosine_mul_fun)([term_hat, inputs2])\n",
    "    activation = tf.keras.layers.ReLU()(cosine_mul)\n",
    "    output =     tf.keras.layers.Dense(n_concepts+1, activation='softmax')(activation)\n",
    "\n",
    "    model = tf.keras.Model(inputs=[inputs1, inputs2], outputs=[output])\n",
    "    model.compile(\n",
    "        optimizer=tf.keras.optimizers.Adam(lr=0.001), \n",
    "        loss=\"categorical_crossentropy\",\n",
    "        metrics=[tf.keras.metrics.CategoricalAccuracy()],\n",
    "    )\n",
    "    return model\n",
    "\n",
    "model = get_model()\n",
    "model.summary()"
   ]
  },
  {
   "cell_type": "code",
   "execution_count": 312,
   "metadata": {
    "scrolled": false
   },
   "outputs": [
    {
     "name": "stderr",
     "output_type": "stream",
     "text": [
      "\r",
      "  0%|          | 0/3 [00:00<?, ?it/s]"
     ]
    },
    {
     "name": "stdout",
     "output_type": "stream",
     "text": [
      "Epoch 1/80\n",
      "150/150 - 2s - loss: 4.8444 - categorical_accuracy: 0.1339 - val_loss: 5.8521 - val_categorical_accuracy: 0.2148\n",
      "Epoch 2/80\n",
      "150/150 - 1s - loss: 3.9647 - categorical_accuracy: 0.2943 - val_loss: 5.6078 - val_categorical_accuracy: 0.2600\n",
      "Epoch 3/80\n",
      "150/150 - 1s - loss: 3.3716 - categorical_accuracy: 0.3961 - val_loss: 5.3985 - val_categorical_accuracy: 0.2659\n",
      "Epoch 4/80\n",
      "150/150 - 1s - loss: 2.9368 - categorical_accuracy: 0.4678 - val_loss: 5.2778 - val_categorical_accuracy: 0.3419\n",
      "Epoch 5/80\n",
      "150/150 - 1s - loss: 2.5552 - categorical_accuracy: 0.5291 - val_loss: 5.1493 - val_categorical_accuracy: 0.3576\n",
      "Epoch 6/80\n",
      "150/150 - 1s - loss: 2.2788 - categorical_accuracy: 0.5773 - val_loss: 5.0865 - val_categorical_accuracy: 0.3814\n",
      "Epoch 7/80\n",
      "150/150 - 1s - loss: 2.0608 - categorical_accuracy: 0.6215 - val_loss: 5.0079 - val_categorical_accuracy: 0.4237\n",
      "Epoch 8/80\n",
      "150/150 - 1s - loss: 1.8160 - categorical_accuracy: 0.6689 - val_loss: 4.9622 - val_categorical_accuracy: 0.4241\n",
      "Epoch 9/80\n",
      "150/150 - 1s - loss: 1.6614 - categorical_accuracy: 0.6993 - val_loss: 5.0139 - val_categorical_accuracy: 0.4266\n",
      "Epoch 10/80\n",
      "150/150 - 1s - loss: 1.4852 - categorical_accuracy: 0.7450 - val_loss: 5.0329 - val_categorical_accuracy: 0.4331\n",
      "Epoch 11/80\n",
      "150/150 - 1s - loss: 1.3715 - categorical_accuracy: 0.7684 - val_loss: 4.9311 - val_categorical_accuracy: 0.4447\n",
      "Epoch 12/80\n",
      "150/150 - 1s - loss: 1.2544 - categorical_accuracy: 0.7930 - val_loss: 5.0392 - val_categorical_accuracy: 0.4421\n",
      "Epoch 13/80\n",
      "150/150 - 1s - loss: 1.1100 - categorical_accuracy: 0.8306 - val_loss: 4.9603 - val_categorical_accuracy: 0.4263\n",
      "Epoch 14/80\n",
      "150/150 - 1s - loss: 1.0159 - categorical_accuracy: 0.8512 - val_loss: 4.9664 - val_categorical_accuracy: 0.4733\n",
      "Epoch 15/80\n",
      "150/150 - 1s - loss: 0.9746 - categorical_accuracy: 0.8518 - val_loss: 5.0822 - val_categorical_accuracy: 0.4613\n",
      "Epoch 16/80\n",
      "150/150 - 1s - loss: 0.8788 - categorical_accuracy: 0.8702 - val_loss: 5.0284 - val_categorical_accuracy: 0.4617\n",
      "Epoch 17/80\n",
      "150/150 - 1s - loss: 0.8251 - categorical_accuracy: 0.8766 - val_loss: 5.0277 - val_categorical_accuracy: 0.4724\n",
      "Epoch 18/80\n",
      "150/150 - 1s - loss: 0.7532 - categorical_accuracy: 0.8910 - val_loss: 5.0063 - val_categorical_accuracy: 0.4477\n",
      "Epoch 19/80\n",
      "150/150 - 1s - loss: 0.6929 - categorical_accuracy: 0.8971 - val_loss: 4.9764 - val_categorical_accuracy: 0.4747\n",
      "Epoch 20/80\n",
      "150/150 - 1s - loss: 0.6565 - categorical_accuracy: 0.9001 - val_loss: 5.0546 - val_categorical_accuracy: 0.4521\n",
      "Epoch 21/80\n",
      "150/150 - 1s - loss: 0.6206 - categorical_accuracy: 0.9060 - val_loss: 5.0314 - val_categorical_accuracy: 0.4621\n",
      "Epoch 22/80\n",
      "150/150 - 1s - loss: 0.5648 - categorical_accuracy: 0.9129 - val_loss: 5.0563 - val_categorical_accuracy: 0.4586\n",
      "Epoch 23/80\n",
      "150/150 - 1s - loss: 0.5561 - categorical_accuracy: 0.9102 - val_loss: 5.0857 - val_categorical_accuracy: 0.4742\n",
      "Epoch 24/80\n",
      "150/150 - 1s - loss: 0.5164 - categorical_accuracy: 0.9150 - val_loss: 5.0219 - val_categorical_accuracy: 0.4799\n",
      "Epoch 25/80\n",
      "150/150 - 1s - loss: 0.4655 - categorical_accuracy: 0.9202 - val_loss: 5.0972 - val_categorical_accuracy: 0.4634\n",
      "Epoch 26/80\n",
      "150/150 - 1s - loss: 0.4543 - categorical_accuracy: 0.9207 - val_loss: 5.0857 - val_categorical_accuracy: 0.4711\n",
      "Epoch 27/80\n",
      "150/150 - 1s - loss: 0.4358 - categorical_accuracy: 0.9228 - val_loss: 5.1260 - val_categorical_accuracy: 0.4815\n",
      "Epoch 28/80\n",
      "150/150 - 1s - loss: 0.3873 - categorical_accuracy: 0.9289 - val_loss: 5.1475 - val_categorical_accuracy: 0.4760\n",
      "Epoch 29/80\n",
      "150/150 - 1s - loss: 0.4040 - categorical_accuracy: 0.9219 - val_loss: 5.1897 - val_categorical_accuracy: 0.4642\n",
      "Epoch 30/80\n",
      "150/150 - 1s - loss: 0.3838 - categorical_accuracy: 0.9242 - val_loss: 5.1999 - val_categorical_accuracy: 0.4624\n",
      "Epoch 31/80\n",
      "150/150 - 1s - loss: 0.3492 - categorical_accuracy: 0.9299 - val_loss: 5.1832 - val_categorical_accuracy: 0.4741\n",
      "Epoch 32/80\n",
      "150/150 - 1s - loss: 0.3455 - categorical_accuracy: 0.9288 - val_loss: 5.2529 - val_categorical_accuracy: 0.4568\n",
      "Epoch 33/80\n",
      "150/150 - 1s - loss: 0.3218 - categorical_accuracy: 0.9290 - val_loss: 5.2463 - val_categorical_accuracy: 0.4717\n",
      "Epoch 34/80\n",
      "150/150 - 1s - loss: 0.3244 - categorical_accuracy: 0.9313 - val_loss: 5.2632 - val_categorical_accuracy: 0.4793\n",
      "Epoch 35/80\n",
      "150/150 - 1s - loss: 0.3075 - categorical_accuracy: 0.9297 - val_loss: 5.2474 - val_categorical_accuracy: 0.4762\n",
      "Epoch 36/80\n",
      "150/150 - 1s - loss: 0.2876 - categorical_accuracy: 0.9342 - val_loss: 5.2788 - val_categorical_accuracy: 0.4585\n",
      "Epoch 37/80\n",
      "150/150 - 1s - loss: 0.2805 - categorical_accuracy: 0.9331 - val_loss: 5.3452 - val_categorical_accuracy: 0.4691\n"
     ]
    },
    {
     "name": "stderr",
     "output_type": "stream",
     "text": [
      "\r",
      " 33%|███▎      | 1/3 [00:40<01:20, 40.29s/it]"
     ]
    },
    {
     "name": "stdout",
     "output_type": "stream",
     "text": [
      "0.9342187643051147 0.4815104305744171\n",
      "Epoch 1/80\n",
      "150/150 - 2s - loss: 4.8610 - categorical_accuracy: 0.1393 - val_loss: 5.6190 - val_categorical_accuracy: 0.1957\n",
      "Epoch 2/80\n",
      "150/150 - 1s - loss: 3.9487 - categorical_accuracy: 0.3049 - val_loss: 5.4309 - val_categorical_accuracy: 0.2868\n",
      "Epoch 3/80\n",
      "150/150 - 1s - loss: 3.3971 - categorical_accuracy: 0.3969 - val_loss: 5.1945 - val_categorical_accuracy: 0.2749\n",
      "Epoch 4/80\n",
      "150/150 - 1s - loss: 2.9410 - categorical_accuracy: 0.4748 - val_loss: 5.0469 - val_categorical_accuracy: 0.3359\n",
      "Epoch 5/80\n",
      "150/150 - 1s - loss: 2.6142 - categorical_accuracy: 0.5324 - val_loss: 4.8730 - val_categorical_accuracy: 0.3652\n",
      "Epoch 6/80\n",
      "150/150 - 1s - loss: 2.3043 - categorical_accuracy: 0.5732 - val_loss: 4.9083 - val_categorical_accuracy: 0.3948\n",
      "Epoch 7/80\n",
      "150/150 - 1s - loss: 2.0154 - categorical_accuracy: 0.6230 - val_loss: 4.7798 - val_categorical_accuracy: 0.4158\n",
      "Epoch 8/80\n",
      "150/150 - 1s - loss: 1.8750 - categorical_accuracy: 0.6564 - val_loss: 4.7334 - val_categorical_accuracy: 0.4255\n",
      "Epoch 9/80\n",
      "150/150 - 1s - loss: 1.7119 - categorical_accuracy: 0.6857 - val_loss: 4.7687 - val_categorical_accuracy: 0.4371\n",
      "Epoch 10/80\n",
      "150/150 - 1s - loss: 1.5148 - categorical_accuracy: 0.7278 - val_loss: 4.7149 - val_categorical_accuracy: 0.4501\n",
      "Epoch 11/80\n",
      "150/150 - 1s - loss: 1.3458 - categorical_accuracy: 0.7747 - val_loss: 4.7510 - val_categorical_accuracy: 0.4651\n",
      "Epoch 12/80\n",
      "150/150 - 1s - loss: 1.2658 - categorical_accuracy: 0.7887 - val_loss: 4.7589 - val_categorical_accuracy: 0.4591\n",
      "Epoch 13/80\n",
      "150/150 - 1s - loss: 1.1479 - categorical_accuracy: 0.8149 - val_loss: 4.7777 - val_categorical_accuracy: 0.4587\n",
      "Epoch 14/80\n",
      "150/150 - 1s - loss: 1.0193 - categorical_accuracy: 0.8453 - val_loss: 4.6960 - val_categorical_accuracy: 0.4521\n",
      "Epoch 15/80\n",
      "150/150 - 1s - loss: 0.9711 - categorical_accuracy: 0.8540 - val_loss: 4.7587 - val_categorical_accuracy: 0.4417\n",
      "Epoch 16/80\n",
      "150/150 - 1s - loss: 0.8701 - categorical_accuracy: 0.8723 - val_loss: 4.8969 - val_categorical_accuracy: 0.4384\n",
      "Epoch 17/80\n",
      "150/150 - 1s - loss: 0.8426 - categorical_accuracy: 0.8722 - val_loss: 4.8067 - val_categorical_accuracy: 0.4577\n",
      "Epoch 18/80\n",
      "150/150 - 1s - loss: 0.7692 - categorical_accuracy: 0.8842 - val_loss: 4.7574 - val_categorical_accuracy: 0.4686\n",
      "Epoch 19/80\n",
      "150/150 - 1s - loss: 0.7050 - categorical_accuracy: 0.8986 - val_loss: 4.7994 - val_categorical_accuracy: 0.4526\n",
      "Epoch 20/80\n",
      "150/150 - 1s - loss: 0.6624 - categorical_accuracy: 0.9008 - val_loss: 4.8158 - val_categorical_accuracy: 0.4685\n",
      "Epoch 21/80\n",
      "150/150 - 1s - loss: 0.6302 - categorical_accuracy: 0.9029 - val_loss: 4.8523 - val_categorical_accuracy: 0.4708\n",
      "Epoch 22/80\n",
      "150/150 - 1s - loss: 0.5705 - categorical_accuracy: 0.9139 - val_loss: 4.8395 - val_categorical_accuracy: 0.4716\n",
      "Epoch 23/80\n",
      "150/150 - 1s - loss: 0.5496 - categorical_accuracy: 0.9138 - val_loss: 4.8862 - val_categorical_accuracy: 0.4590\n",
      "Epoch 24/80\n",
      "150/150 - 1s - loss: 0.5091 - categorical_accuracy: 0.9182 - val_loss: 4.8541 - val_categorical_accuracy: 0.4677\n",
      "Epoch 25/80\n",
      "150/150 - 1s - loss: 0.4989 - categorical_accuracy: 0.9173 - val_loss: 4.9285 - val_categorical_accuracy: 0.4815\n",
      "Epoch 26/80\n",
      "150/150 - 1s - loss: 0.4320 - categorical_accuracy: 0.9265 - val_loss: 4.9251 - val_categorical_accuracy: 0.4759\n",
      "Epoch 27/80\n",
      "150/150 - 1s - loss: 0.4334 - categorical_accuracy: 0.9259 - val_loss: 4.9165 - val_categorical_accuracy: 0.4698\n",
      "Epoch 28/80\n",
      "150/150 - 3s - loss: 0.4336 - categorical_accuracy: 0.9221 - val_loss: 4.9361 - val_categorical_accuracy: 0.4603\n",
      "Epoch 29/80\n",
      "150/150 - 1s - loss: 0.3931 - categorical_accuracy: 0.9282 - val_loss: 5.0280 - val_categorical_accuracy: 0.4583\n",
      "Epoch 30/80\n",
      "150/150 - 1s - loss: 0.3820 - categorical_accuracy: 0.9284 - val_loss: 4.9685 - val_categorical_accuracy: 0.4646\n",
      "Epoch 31/80\n",
      "150/150 - 1s - loss: 0.3502 - categorical_accuracy: 0.9312 - val_loss: 5.0643 - val_categorical_accuracy: 0.4586\n",
      "Epoch 32/80\n",
      "150/150 - 1s - loss: 0.3332 - categorical_accuracy: 0.9317 - val_loss: 5.0731 - val_categorical_accuracy: 0.4618\n",
      "Epoch 33/80\n",
      "150/150 - 1s - loss: 0.3427 - categorical_accuracy: 0.9292 - val_loss: 5.0747 - val_categorical_accuracy: 0.4523\n",
      "Epoch 34/80\n",
      "150/150 - 1s - loss: 0.3219 - categorical_accuracy: 0.9327 - val_loss: 5.0578 - val_categorical_accuracy: 0.4672\n",
      "Epoch 35/80\n",
      "150/150 - 1s - loss: 0.3001 - categorical_accuracy: 0.9343 - val_loss: 5.0947 - val_categorical_accuracy: 0.4609\n"
     ]
    },
    {
     "name": "stderr",
     "output_type": "stream",
     "text": [
      "\r",
      " 67%|██████▋   | 2/3 [01:19<00:39, 39.88s/it]"
     ]
    },
    {
     "name": "stdout",
     "output_type": "stream",
     "text": [
      "0.9342968463897705 0.4815104305744171\n",
      "Epoch 1/80\n",
      "150/150 - 2s - loss: 4.8575 - categorical_accuracy: 0.1331 - val_loss: 5.3829 - val_categorical_accuracy: 0.2029\n",
      "Epoch 2/80\n",
      "150/150 - 1s - loss: 3.9793 - categorical_accuracy: 0.2951 - val_loss: 5.0392 - val_categorical_accuracy: 0.2823\n",
      "Epoch 3/80\n",
      "150/150 - 1s - loss: 3.3766 - categorical_accuracy: 0.4071 - val_loss: 4.9208 - val_categorical_accuracy: 0.2945\n",
      "Epoch 4/80\n",
      "150/150 - 1s - loss: 2.9059 - categorical_accuracy: 0.4778 - val_loss: 4.7911 - val_categorical_accuracy: 0.3451\n",
      "Epoch 5/80\n",
      "150/150 - 1s - loss: 2.5357 - categorical_accuracy: 0.5323 - val_loss: 4.6513 - val_categorical_accuracy: 0.3736\n",
      "Epoch 6/80\n",
      "150/150 - 1s - loss: 2.2274 - categorical_accuracy: 0.5909 - val_loss: 4.6102 - val_categorical_accuracy: 0.3836\n",
      "Epoch 7/80\n",
      "150/150 - 1s - loss: 2.0150 - categorical_accuracy: 0.6325 - val_loss: 4.4790 - val_categorical_accuracy: 0.4296\n",
      "Epoch 8/80\n",
      "150/150 - 1s - loss: 1.8373 - categorical_accuracy: 0.6661 - val_loss: 4.4360 - val_categorical_accuracy: 0.4281\n",
      "Epoch 9/80\n",
      "150/150 - 1s - loss: 1.6450 - categorical_accuracy: 0.7049 - val_loss: 4.3304 - val_categorical_accuracy: 0.4385\n",
      "Epoch 10/80\n",
      "150/150 - 1s - loss: 1.4669 - categorical_accuracy: 0.7499 - val_loss: 4.4729 - val_categorical_accuracy: 0.4352\n",
      "Epoch 11/80\n",
      "150/150 - 1s - loss: 1.3868 - categorical_accuracy: 0.7638 - val_loss: 4.3808 - val_categorical_accuracy: 0.4629\n",
      "Epoch 12/80\n",
      "150/150 - 1s - loss: 1.2530 - categorical_accuracy: 0.7892 - val_loss: 4.3887 - val_categorical_accuracy: 0.4552\n",
      "Epoch 13/80\n",
      "150/150 - 1s - loss: 1.1434 - categorical_accuracy: 0.8226 - val_loss: 4.3472 - val_categorical_accuracy: 0.4695\n",
      "Epoch 14/80\n",
      "150/150 - 1s - loss: 1.0252 - categorical_accuracy: 0.8468 - val_loss: 4.3368 - val_categorical_accuracy: 0.4749\n",
      "Epoch 15/80\n",
      "150/150 - 1s - loss: 0.9495 - categorical_accuracy: 0.8608 - val_loss: 4.3348 - val_categorical_accuracy: 0.4652\n",
      "Epoch 16/80\n",
      "150/150 - 1s - loss: 0.9028 - categorical_accuracy: 0.8615 - val_loss: 4.3294 - val_categorical_accuracy: 0.4721\n",
      "Epoch 17/80\n",
      "150/150 - 1s - loss: 0.8073 - categorical_accuracy: 0.8821 - val_loss: 4.3707 - val_categorical_accuracy: 0.4753\n",
      "Epoch 18/80\n",
      "150/150 - 1s - loss: 0.7691 - categorical_accuracy: 0.8851 - val_loss: 4.3516 - val_categorical_accuracy: 0.4841\n",
      "Epoch 19/80\n",
      "150/150 - 1s - loss: 0.7066 - categorical_accuracy: 0.8950 - val_loss: 4.3841 - val_categorical_accuracy: 0.4678\n",
      "Epoch 20/80\n",
      "150/150 - 1s - loss: 0.6554 - categorical_accuracy: 0.9025 - val_loss: 4.3917 - val_categorical_accuracy: 0.4701\n",
      "Epoch 21/80\n",
      "150/150 - 1s - loss: 0.5828 - categorical_accuracy: 0.9145 - val_loss: 4.4275 - val_categorical_accuracy: 0.4777\n",
      "Epoch 22/80\n",
      "150/150 - 1s - loss: 0.5809 - categorical_accuracy: 0.9086 - val_loss: 4.4067 - val_categorical_accuracy: 0.4757\n",
      "Epoch 23/80\n",
      "150/150 - 1s - loss: 0.5439 - categorical_accuracy: 0.9142 - val_loss: 4.4655 - val_categorical_accuracy: 0.4974\n",
      "Epoch 24/80\n",
      "150/150 - 1s - loss: 0.5173 - categorical_accuracy: 0.9154 - val_loss: 4.4501 - val_categorical_accuracy: 0.4913\n",
      "Epoch 25/80\n",
      "150/150 - 1s - loss: 0.4788 - categorical_accuracy: 0.9179 - val_loss: 4.4573 - val_categorical_accuracy: 0.4995\n",
      "Epoch 26/80\n",
      "150/150 - 1s - loss: 0.4642 - categorical_accuracy: 0.9180 - val_loss: 4.4833 - val_categorical_accuracy: 0.4971\n",
      "Epoch 27/80\n",
      "150/150 - 1s - loss: 0.4229 - categorical_accuracy: 0.9241 - val_loss: 4.5017 - val_categorical_accuracy: 0.5027\n",
      "Epoch 28/80\n",
      "150/150 - 1s - loss: 0.4136 - categorical_accuracy: 0.9242 - val_loss: 4.5586 - val_categorical_accuracy: 0.4879\n",
      "Epoch 29/80\n",
      "150/150 - 1s - loss: 0.4015 - categorical_accuracy: 0.9237 - val_loss: 4.5153 - val_categorical_accuracy: 0.4852\n",
      "Epoch 30/80\n",
      "150/150 - 1s - loss: 0.3745 - categorical_accuracy: 0.9259 - val_loss: 4.5481 - val_categorical_accuracy: 0.4940\n",
      "Epoch 31/80\n",
      "150/150 - 1s - loss: 0.3643 - categorical_accuracy: 0.9263 - val_loss: 4.5499 - val_categorical_accuracy: 0.4919\n",
      "Epoch 32/80\n",
      "150/150 - 1s - loss: 0.3180 - categorical_accuracy: 0.9348 - val_loss: 4.5996 - val_categorical_accuracy: 0.5060\n",
      "Epoch 33/80\n",
      "150/150 - 1s - loss: 0.3080 - categorical_accuracy: 0.9328 - val_loss: 4.5815 - val_categorical_accuracy: 0.4887\n",
      "Epoch 34/80\n",
      "150/150 - 1s - loss: 0.3079 - categorical_accuracy: 0.9331 - val_loss: 4.6513 - val_categorical_accuracy: 0.4921\n",
      "Epoch 35/80\n",
      "150/150 - 1s - loss: 0.3101 - categorical_accuracy: 0.9316 - val_loss: 4.6937 - val_categorical_accuracy: 0.5026\n",
      "Epoch 36/80\n",
      "150/150 - 1s - loss: 0.2885 - categorical_accuracy: 0.9346 - val_loss: 4.6273 - val_categorical_accuracy: 0.5056\n",
      "Epoch 37/80\n",
      "150/150 - 1s - loss: 0.2922 - categorical_accuracy: 0.9310 - val_loss: 4.7071 - val_categorical_accuracy: 0.4837\n",
      "Epoch 38/80\n",
      "150/150 - 1s - loss: 0.2772 - categorical_accuracy: 0.9320 - val_loss: 4.6227 - val_categorical_accuracy: 0.4878\n",
      "Epoch 39/80\n",
      "150/150 - 1s - loss: 0.2659 - categorical_accuracy: 0.9333 - val_loss: 4.7001 - val_categorical_accuracy: 0.4967\n",
      "Epoch 40/80\n",
      "150/150 - 1s - loss: 0.2643 - categorical_accuracy: 0.9329 - val_loss: 4.7618 - val_categorical_accuracy: 0.4828\n",
      "Epoch 41/80\n",
      "150/150 - 1s - loss: 0.2606 - categorical_accuracy: 0.9319 - val_loss: 4.7651 - val_categorical_accuracy: 0.4931\n",
      "Epoch 42/80\n",
      "150/150 - 1s - loss: 0.2330 - categorical_accuracy: 0.9373 - val_loss: 4.7622 - val_categorical_accuracy: 0.4990\n"
     ]
    },
    {
     "name": "stderr",
     "output_type": "stream",
     "text": [
      "100%|██████████| 3/3 [02:05<00:00, 41.93s/it]"
     ]
    },
    {
     "name": "stdout",
     "output_type": "stream",
     "text": [
      "0.93729168176651 0.5059896111488342\n"
     ]
    },
    {
     "name": "stderr",
     "output_type": "stream",
     "text": [
      "\n"
     ]
    },
    {
     "data": {
      "text/plain": [
       "('SCORES:', 0.9352690974871317, 0.48967015743255615)"
      ]
     },
     "execution_count": 312,
     "metadata": {},
     "output_type": "execute_result"
    },
    {
     "data": {
      "image/png": "[encoded data removed]",
      "text/plain": [
       "<Figure size 432x288 with 1 Axes>"
      ]
     },
     "metadata": {
      "needs_background": "light"
     },
     "output_type": "display_data"
    }
   ],
   "source": [
    "early_stopping_callback = tf.keras.callbacks.EarlyStopping(\n",
    "            monitor=\"val_categorical_accuracy\",\n",
    "            min_delta=0,\n",
    "            patience=10,\n",
    "            verbose=0,\n",
    "            mode=\"auto\",\n",
    "            baseline=None,\n",
    "            restore_best_weights=True,\n",
    "        )\n",
    "\n",
    "BATCH_SIZE = 256\n",
    "train_gen = data_generator(terms_vecs_train, terms_codes_train, concepts_vecs, batch_size=BATCH_SIZE)\n",
    "test_gen = data_generator(terms_vecs_test, terms_codes_test, concepts_vecs, batch_size=BATCH_SIZE)\n",
    "\n",
    "train_acc_scores, test_acc_scores = [], []\n",
    "for iteration in tqdm(range(3)):\n",
    "    model = get_model()\n",
    "    \n",
    "    history = model.fit_generator(train_gen, \n",
    "              epochs=80,\n",
    "              verbose=2,\n",
    "              steps_per_epoch=150,\n",
    "              validation_data=test_gen, validation_steps=30,\n",
    "              callbacks=[early_stopping_callback])\n",
    "\n",
    "    max_train = np.array(history.history['categorical_accuracy']).max()\n",
    "    max_val   = np.array(history.history['val_categorical_accuracy']).max()\n",
    "    train_acc_scores.append(max_train)\n",
    "    test_acc_scores.append(max_val)\n",
    "    print(max_train, max_val)\n",
    "    plt.plot(history.history['categorical_accuracy'])\n",
    "    plt.plot(history.history['val_categorical_accuracy'])\n",
    "    \n",
    "\"SCORES:\", np.array(train_acc_scores).mean(), np.array(test_acc_scores).mean()"
   ]
  },
  {
   "cell_type": "code",
   "execution_count": null,
   "metadata": {},
   "outputs": [],
   "source": []
  },
  {
   "cell_type": "code",
   "execution_count": null,
   "metadata": {},
   "outputs": [],
   "source": []
  },
  {
   "cell_type": "code",
   "execution_count": null,
   "metadata": {},
   "outputs": [],
   "source": []
  },
  {
   "cell_type": "code",
   "execution_count": null,
   "metadata": {},
   "outputs": [],
   "source": []
  },
  {
   "cell_type": "code",
   "execution_count": null,
   "metadata": {},
   "outputs": [],
   "source": []
  }
 ],
 "metadata": {
  "kernelspec": {
   "display_name": "Python 3",
   "language": "python",
   "name": "python3"
  },
  "language_info": {
   "codemirror_mode": {
    "name": "ipython",
    "version": 3
   },
   "file_extension": ".py",
   "mimetype": "text/x-python",
   "name": "python",
   "nbconvert_exporter": "python",
   "pygments_lexer": "ipython3",
   "version": "3.6.8"
  }
 },
 "nbformat": 4,
 "nbformat_minor": 4
}
