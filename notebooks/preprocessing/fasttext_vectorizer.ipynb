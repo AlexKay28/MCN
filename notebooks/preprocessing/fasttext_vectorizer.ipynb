{
 "cells": [
  {
   "cell_type": "code",
   "execution_count": 9,
   "metadata": {},
   "outputs": [
    {
     "name": "stdout",
     "output_type": "stream",
     "text": [
      "The autoreload extension is already loaded. To reload it, use:\n",
      "  %reload_ext autoreload\n"
     ]
    }
   ],
   "source": [
    "%load_ext autoreload\n",
    "%autoreload 2\n",
    "%matplotlib inline"
   ]
  },
  {
   "cell_type": "code",
   "execution_count": 10,
   "metadata": {},
   "outputs": [],
   "source": [
    "import os\n",
    "import pandas as pd\n",
    "import numpy as np\n",
    "\n",
    "import numpy as np\n",
    "from sklearn.pipeline import make_pipeline\n",
    "from sklearn.preprocessing import StandardScaler\n",
    "\n",
    "from metric_learn import NCA\n",
    "from sklearn.model_selection import cross_val_score, train_test_split\n",
    "\n",
    "from sklearn.svm import SVC\n",
    "\n",
    "from gensim.models import FastText\n",
    "from gensim.test.utils import common_texts\n",
    "from tpot import TPOTClassifier\n",
    "\n",
    "import sys\n",
    "sys.path.append(f'../../')\n",
    "\n",
    "from src.data.sentence_vectorizer import SentenceVectorizer"
   ]
  },
  {
   "cell_type": "code",
   "execution_count": 3,
   "metadata": {},
   "outputs": [],
   "source": [
    "#ft_model = FastText.load_fasttext_format('BioWordVec_PubMed_MIMICIII_d200.bin')\n",
    "#ft_model"
   ]
  },
  {
   "cell_type": "code",
   "execution_count": null,
   "metadata": {},
   "outputs": [],
   "source": [
    "model = FastText."
   ]
  },
  {
   "cell_type": "code",
   "execution_count": 8,
   "metadata": {},
   "outputs": [
    {
     "ename": "SyntaxError",
     "evalue": "invalid syntax (<ipython-input-8-ef065c8c5732>, line 7)",
     "output_type": "error",
     "traceback": [
      "\u001b[0;36m  File \u001b[0;32m\"<ipython-input-8-ef065c8c5732>\"\u001b[0;36m, line \u001b[0;32m7\u001b[0m\n\u001b[0;31m    'train_model': [],\u001b[0m\n\u001b[0m                ^\u001b[0m\n\u001b[0;31mSyntaxError\u001b[0m\u001b[0;31m:\u001b[0m invalid syntax\n"
     ]
    }
   ],
   "source": [
    "labels = pd.read_csv('../../data/interim/meddra_codes_terms_synonims.csv')\n",
    "labels = labels['CODE']\n",
    "meddra_labels = {v:k for k, v in enumerate(labels.unique())}\n",
    "\n",
    "results = {\n",
    "    'vectorizer': [],\n",
    "    'train_model': [],\n",
    "    'smm4h21': [],\n",
    "    'smm4h17': [],\n",
    "    'psytar': [],\n",
    "    'cadec': [],\n",
    "}\n",
    "\n",
    "SIZE = 100\n",
    "\n",
    "for vectorizer_name in sv.get_availables_vectorizers():\n",
    "    print(f\"vectorizer: {vectorizer_name}\")\n",
    "    results['vectorizer'].append(vectorizer_name)\n",
    "    path = '../../data/interim/'\n",
    "    for name_train in os.listdir(path):\n",
    "\n",
    "        if name_train not in ['smm4h17', 'smm4h21', 'psytar', 'cadec']:\n",
    "            continue\n",
    "        print(f\"work with {name_train}\")\n",
    "        results['train_model'].append(name_train)\n",
    "\n",
    "        folder = os.path.join(path, name_train)\n",
    "        corpus_train = folder + '/train.csv'\n",
    "        corpus_test = folder + '/test.csv'\n",
    "        train, test = pd.read_csv(corpus_train), pd.read_csv(corpus_test) \n",
    "        sv = SentenceVectorizer()\n",
    "        train, test = sv.vectorizer(train, test, vectorizer_name=vectorizer_name) \n",
    "\n",
    "    #     print('orig', cadec_train.shape, cadec_test.shape)\n",
    "    #     print('vectorized', train.shape, test.shape)\n",
    "\n",
    "        X_train, y_train = train['term_vec'], train['code']\n",
    "        X_test, y_test = test['term_vec'], test['code']\n",
    "\n",
    "        X_train = pd.DataFrame([pd.Series(x) for x in X_train])\n",
    "        X_test = pd.DataFrame([pd.Series(x) for x in X_test])\n",
    "\n",
    "        y_train = y_train.apply(lambda x: int(meddra_labels[x]))\n",
    "        y_test = y_test.apply(lambda x: int(meddra_labels[x]))\n",
    "\n",
    "    #     print('model input:', X_train.shape, y_train.shape, X_test.shape, y_test.shape)\n",
    "\n",
    "        #clf = make_pipeline(NCA(), SVC(gamma='scale'))\n",
    "        clf = SVC(gamma='scale')\n",
    "        clf.fit(X_train, y_train)\n",
    "\n",
    "        for name_test in os.listdir(path):\n",
    "            if name_test not in ['smm4h17', 'smm4h21', 'psytar', 'cadec']:\n",
    "                continue\n",
    "            folder = os.path.join(path, name_test)\n",
    "            corpus_train = folder + '/train.csv'\n",
    "            corpus_test = folder + '/test.csv'\n",
    "            train, test = pd.read_csv(corpus_train), pd.read_csv(corpus_test) \n",
    "            sv = SentenceVectorizer()\n",
    "            train, test = sv.vectorize_sent_ft(train, test, \n",
    "                                               feat_col='term', \n",
    "                                               text_columns = ['term', 'text', 'SNMS'],\n",
    "                                               size=SIZE) \n",
    "            X_test, y_test = test['term_vec'], test['code']\n",
    "            X_test = pd.DataFrame([pd.Series(x) for x in X_test])\n",
    "            y_test = y_test.apply(lambda x: int(meddra_labels[x]))\n",
    "\n",
    "            score = clf.score(X_test, y_test)\n",
    "            print(f'test with {name_test} score:', score)\n",
    "            results[name_test].append(score)\n",
    "        print()\n",
    "    \n",
    "results = pd.DataFrame(results)\n",
    "results"
   ]
  },
  {
   "cell_type": "code",
   "execution_count": 4,
   "metadata": {},
   "outputs": [
    {
     "data": {
      "text/html": [
       "<div>\n",
       "<style scoped>\n",
       "    .dataframe tbody tr th:only-of-type {\n",
       "        vertical-align: middle;\n",
       "    }\n",
       "\n",
       "    .dataframe tbody tr th {\n",
       "        vertical-align: top;\n",
       "    }\n",
       "\n",
       "    .dataframe thead th {\n",
       "        text-align: right;\n",
       "    }\n",
       "</style>\n",
       "<table border=\"1\" class=\"dataframe\">\n",
       "  <thead>\n",
       "    <tr style=\"text-align: right;\">\n",
       "      <th></th>\n",
       "      <th>train_model</th>\n",
       "      <th>smm4h21</th>\n",
       "      <th>smm4h17</th>\n",
       "      <th>psytar</th>\n",
       "      <th>cadec</th>\n",
       "    </tr>\n",
       "  </thead>\n",
       "  <tbody>\n",
       "    <tr>\n",
       "      <th>0</th>\n",
       "      <td>smm4h21</td>\n",
       "      <td>0.355685</td>\n",
       "      <td>0.144458</td>\n",
       "      <td>0.114035</td>\n",
       "      <td>0.137344</td>\n",
       "    </tr>\n",
       "    <tr>\n",
       "      <th>1</th>\n",
       "      <td>smm4h17</td>\n",
       "      <td>0.186589</td>\n",
       "      <td>0.777911</td>\n",
       "      <td>0.290727</td>\n",
       "      <td>0.257662</td>\n",
       "    </tr>\n",
       "    <tr>\n",
       "      <th>2</th>\n",
       "      <td>psytar</td>\n",
       "      <td>0.134111</td>\n",
       "      <td>0.286114</td>\n",
       "      <td>0.598997</td>\n",
       "      <td>0.203178</td>\n",
       "    </tr>\n",
       "    <tr>\n",
       "      <th>3</th>\n",
       "      <td>cadec</td>\n",
       "      <td>0.137026</td>\n",
       "      <td>0.146058</td>\n",
       "      <td>0.186717</td>\n",
       "      <td>0.598184</td>\n",
       "    </tr>\n",
       "  </tbody>\n",
       "</table>\n",
       "</div>"
      ],
      "text/plain": [
       "  train_model   smm4h21   smm4h17    psytar     cadec\n",
       "0     smm4h21  0.355685  0.144458  0.114035  0.137344\n",
       "1     smm4h17  0.186589  0.777911  0.290727  0.257662\n",
       "2      psytar  0.134111  0.286114  0.598997  0.203178\n",
       "3       cadec  0.137026  0.146058  0.186717  0.598184"
      ]
     },
     "execution_count": 4,
     "metadata": {},
     "output_type": "execute_result"
    }
   ],
   "source": [
    "results # size 50"
   ]
  },
  {
   "cell_type": "code",
   "execution_count": null,
   "metadata": {},
   "outputs": [],
   "source": []
  },
  {
   "cell_type": "code",
   "execution_count": null,
   "metadata": {},
   "outputs": [],
   "source": []
  },
  {
   "cell_type": "code",
   "execution_count": 17,
   "metadata": {},
   "outputs": [
    {
     "data": {
      "application/vnd.jupyter.widget-view+json": {
       "model_id": "",
       "version_major": 2,
       "version_minor": 0
      },
      "text/plain": [
       "Optimization Progress:   0%|          | 0/150 [00:00<?, ?pipeline/s]"
      ]
     },
     "metadata": {},
     "output_type": "display_data"
    },
    {
     "name": "stdout",
     "output_type": "stream",
     "text": [
      "\n",
      "Generation 1 - Current best internal CV score: 0.5222418453598638\n",
      "\n",
      "Generation 2 - Current best internal CV score: 0.5222418453598638\n",
      "\n",
      "Best pipeline: RandomForestClassifier(input_matrix, bootstrap=False, criterion=gini, max_features=0.05, min_samples_leaf=1, min_samples_split=7, n_estimators=100)\n"
     ]
    },
    {
     "data": {
      "text/plain": [
       "0.5225563909774437"
      ]
     },
     "execution_count": 17,
     "metadata": {},
     "output_type": "execute_result"
    }
   ],
   "source": [
    "generations = 2\n",
    "population_size = 50\n",
    "max_eval_time_mins = 2\n",
    "n_jobs = 10\n",
    "max_iter = 10\n",
    "\n",
    "tpot = TPOTClassifier(generations=generations, \n",
    "                      population_size=population_size,\n",
    "                      verbosity=2, \n",
    "                      random_state=42, \n",
    "                      max_eval_time_mins=max_eval_time_mins, \n",
    "                      n_jobs=n_jobs)\n",
    "\n",
    "tpot.fit(X_train, y_train)\n",
    "score = tpot.score(X_test, y_test)\n",
    "score"
   ]
  },
  {
   "cell_type": "code",
   "execution_count": null,
   "metadata": {},
   "outputs": [],
   "source": []
  }
 ],
 "metadata": {
  "kernelspec": {
   "display_name": "Python 3",
   "language": "python",
   "name": "python3"
  },
  "language_info": {
   "codemirror_mode": {
    "name": "ipython",
    "version": 3
   },
   "file_extension": ".py",
   "mimetype": "text/x-python",
   "name": "python",
   "nbconvert_exporter": "python",
   "pygments_lexer": "ipython3",
   "version": "3.6.8"
  }
 },
 "nbformat": 4,
 "nbformat_minor": 4
}
