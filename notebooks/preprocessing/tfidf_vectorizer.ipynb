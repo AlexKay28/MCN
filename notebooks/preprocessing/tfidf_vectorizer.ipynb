{
 "cells": [
  {
   "cell_type": "code",
   "execution_count": 1,
   "metadata": {},
   "outputs": [],
   "source": [
    "%load_ext autoreload\n",
    "%autoreload 2\n",
    "%matplotlib inline"
   ]
  },
  {
   "cell_type": "code",
   "execution_count": 2,
   "metadata": {},
   "outputs": [],
   "source": [
    "import pickle\n",
    "import pandas as pd\n",
    "import numpy as np\n",
    "from copy import copy\n",
    "import tensorflow as tf\n",
    "from sklearn.model_selection import train_test_split\n",
    "\n",
    "import pymedtermino\n",
    "import seaborn as sns\n",
    "\n",
    "from metric_learn import NCA\n",
    "from sklearn.model_selection import cross_val_score\n",
    "from sklearn.pipeline import make_pipeline\n",
    "from sklearn.neighbors import KNeighborsClassifier\n",
    "\n",
    "from tpot import TPOTClassifier"
   ]
  },
  {
   "cell_type": "code",
   "execution_count": 3,
   "metadata": {},
   "outputs": [],
   "source": [
    "import numpy as np\n",
    "import pandas as pd\n",
    "\n",
    "from sklearn.feature_extraction.text import TfidfVectorizer\n",
    "\n",
    "import sys\n",
    "sys.path.append(f'../../')\n",
    "\n",
    "from src.data.sentence_vectorizer import SentenceVectorizer"
   ]
  },
  {
   "cell_type": "code",
   "execution_count": 4,
   "metadata": {},
   "outputs": [
    {
     "data": {
      "text/plain": [
       "((3520, 8), (881, 8))"
      ]
     },
     "execution_count": 4,
     "metadata": {},
     "output_type": "execute_result"
    }
   ],
   "source": [
    "cadec_train = pd.read_csv('../../data/interim/cadec/train.csv')\n",
    "cadec_test = pd.read_csv('../../data/interim/cadec/test.csv')\n",
    "cadec_train.shape, cadec_test.shape"
   ]
  },
  {
   "cell_type": "code",
   "execution_count": 5,
   "metadata": {},
   "outputs": [],
   "source": [
    "sentvec = SentenceVectorizer()\n",
    "train, test = sentvec.vectorize_sent_tfidf(cadec_train, cadec_test, feat_col='term', \n",
    "                                           text_columns = ['term', 'text', 'SNMS']) #'sent', 'text', 'STR', 'SNMS'"
   ]
  },
  {
   "cell_type": "code",
   "execution_count": 6,
   "metadata": {},
   "outputs": [
    {
     "data": {
      "text/html": [
       "<div>\n",
       "<style scoped>\n",
       "    .dataframe tbody tr th:only-of-type {\n",
       "        vertical-align: middle;\n",
       "    }\n",
       "\n",
       "    .dataframe tbody tr th {\n",
       "        vertical-align: top;\n",
       "    }\n",
       "\n",
       "    .dataframe thead th {\n",
       "        text-align: right;\n",
       "    }\n",
       "</style>\n",
       "<table border=\"1\" class=\"dataframe\">\n",
       "  <thead>\n",
       "    <tr style=\"text-align: right;\">\n",
       "      <th></th>\n",
       "      <th>term</th>\n",
       "      <th>start</th>\n",
       "      <th>end</th>\n",
       "      <th>sent</th>\n",
       "      <th>text</th>\n",
       "      <th>code</th>\n",
       "      <th>STR</th>\n",
       "      <th>SNMS</th>\n",
       "      <th>term_vec</th>\n",
       "    </tr>\n",
       "  </thead>\n",
       "  <tbody>\n",
       "    <tr>\n",
       "      <th>0</th>\n",
       "      <td>Sight loss</td>\n",
       "      <td>173</td>\n",
       "      <td>183</td>\n",
       "      <td>Have a 5 month supply but getting off quick!.</td>\n",
       "      <td>slurring in speech, lower back pain, bloated, ...</td>\n",
       "      <td>10047571</td>\n",
       "      <td>Visual impairment</td>\n",
       "      <td>['Visual impairment', 'Visual impairment', 'Vi...</td>\n",
       "      <td>[0.0, 0.0, 0.0, 0.0, 0.0, 0.0, 0.0, 0.0, 0.0, ...</td>\n",
       "    </tr>\n",
       "    <tr>\n",
       "      <th>1</th>\n",
       "      <td>gas pains in abdomen</td>\n",
       "      <td>47</td>\n",
       "      <td>54</td>\n",
       "      <td>It lowered my LDL (not enough) but also lowere...</td>\n",
       "      <td>Terrific cramps in legs and awful gas pains in...</td>\n",
       "      <td>10016767</td>\n",
       "      <td>Flatulence, eructation, and gas pain</td>\n",
       "      <td>['Flatulence, eructation and gas pain', '[D]Fl...</td>\n",
       "      <td>[0.0, 0.0, 0.0, 0.0, 0.0, 0.0, 0.8079093530333...</td>\n",
       "    </tr>\n",
       "    <tr>\n",
       "      <th>2</th>\n",
       "      <td>knees hurt</td>\n",
       "      <td>692</td>\n",
       "      <td>696</td>\n",
       "      <td>Doctor is PISSED-----I'M THRILLED !!!.</td>\n",
       "      <td>Over the course of the past year I've experien...</td>\n",
       "      <td>10023477</td>\n",
       "      <td>Knee pain</td>\n",
       "      <td>['Knee pain', 'Knee pain', 'Knee pain', 'Knee ...</td>\n",
       "      <td>[0.0, 0.0, 0.0, 0.0, 0.0, 0.0, 0.0, 0.0, 0.0, ...</td>\n",
       "    </tr>\n",
       "    <tr>\n",
       "      <th>3</th>\n",
       "      <td>EXTREME nausea</td>\n",
       "      <td>497</td>\n",
       "      <td>511</td>\n",
       "      <td>vomitting - I have to fight to not throw up I ...</td>\n",
       "      <td>vomitting - I have to fight to not throw up I ...</td>\n",
       "      <td>10028813</td>\n",
       "      <td>Nausea</td>\n",
       "      <td>['Nausea', 'Nausea', 'Nausea', 'Nausea', 'Naus...</td>\n",
       "      <td>[0.0, 0.0, 0.0, 0.0, 0.0, 0.0, 0.0, 0.0, 0.0, ...</td>\n",
       "    </tr>\n",
       "    <tr>\n",
       "      <th>4</th>\n",
       "      <td>frequently unable to think clearly</td>\n",
       "      <td>110</td>\n",
       "      <td>144</td>\n",
       "      <td>So far my blood tests have been normal, but no...</td>\n",
       "      <td>After three months on Lipitor, I started to fe...</td>\n",
       "      <td>10012805</td>\n",
       "      <td>Difficulty thinking</td>\n",
       "      <td>[]</td>\n",
       "      <td>[0.0, 0.0, 0.0, 0.0, 0.0, 0.0, 0.0, 0.0, 0.0, ...</td>\n",
       "    </tr>\n",
       "    <tr>\n",
       "      <th>...</th>\n",
       "      <td>...</td>\n",
       "      <td>...</td>\n",
       "      <td>...</td>\n",
       "      <td>...</td>\n",
       "      <td>...</td>\n",
       "      <td>...</td>\n",
       "      <td>...</td>\n",
       "      <td>...</td>\n",
       "      <td>...</td>\n",
       "    </tr>\n",
       "    <tr>\n",
       "      <th>3515</th>\n",
       "      <td>joint stiffness</td>\n",
       "      <td>21</td>\n",
       "      <td>36</td>\n",
       "      <td>I didn't realize this was the cause until I re...</td>\n",
       "      <td>Headaches,body aches,joint stiffness,bloating,...</td>\n",
       "      <td>10023230</td>\n",
       "      <td>Joint stiffness</td>\n",
       "      <td>['Joint stiffness', 'Joint stiffness NOS', 'Jo...</td>\n",
       "      <td>[0.0, 0.0, 0.0, 0.0, 0.0, 0.0, 0.0, 0.0, 0.0, ...</td>\n",
       "    </tr>\n",
       "    <tr>\n",
       "      <th>3516</th>\n",
       "      <td>gas</td>\n",
       "      <td>1244</td>\n",
       "      <td>1247</td>\n",
       "      <td>He took Tums to alliviate stomach upsets and a...</td>\n",
       "      <td>I used to take Provachol (sp?)but I found it c...</td>\n",
       "      <td>10016766</td>\n",
       "      <td>Flatulence</td>\n",
       "      <td>['Flatulence', 'Flatulence', 'Flatulence', 'Fl...</td>\n",
       "      <td>[0.0, 0.0, 0.0, 0.0, 0.0, 0.0, 0.0, 0.0, 0.0, ...</td>\n",
       "    </tr>\n",
       "    <tr>\n",
       "      <th>3517</th>\n",
       "      <td>stomach pain</td>\n",
       "      <td>424</td>\n",
       "      <td>436</td>\n",
       "      <td>Now I have to see my doctor again to see if I ...</td>\n",
       "      <td>For the first 8 days of ever taking it, the on...</td>\n",
       "      <td>10042076</td>\n",
       "      <td>Stomach ache</td>\n",
       "      <td>['Stomach ache', 'Stomach ache', 'Belly ache',...</td>\n",
       "      <td>[0.0, 0.0, 0.0, 0.0, 0.0, 0.0, 0.0, 0.0, 0.0, ...</td>\n",
       "    </tr>\n",
       "    <tr>\n",
       "      <th>3518</th>\n",
       "      <td>Severe elbow pain</td>\n",
       "      <td>31</td>\n",
       "      <td>35</td>\n",
       "      <td>Severe elbow, arm and shoulder pain.</td>\n",
       "      <td>Severe elbow, arm and shoulder pain.&lt;SENT&gt;It's...</td>\n",
       "      <td>10033371</td>\n",
       "      <td>Pain</td>\n",
       "      <td>['Pain', 'Pain', 'Pain', 'Pain', 'Pain', 'Pain...</td>\n",
       "      <td>[0.0, 0.0, 0.0, 0.0, 0.0, 0.0, 0.0, 0.0, 0.0, ...</td>\n",
       "    </tr>\n",
       "    <tr>\n",
       "      <th>3519</th>\n",
       "      <td>leg muscle pain</td>\n",
       "      <td>547</td>\n",
       "      <td>562</td>\n",
       "      <td>There has been some increase in jo.</td>\n",
       "      <td>After taking lipitor for 1 week, my resting pu...</td>\n",
       "      <td>10028411</td>\n",
       "      <td>Myalgia</td>\n",
       "      <td>['Myalgia', 'Myalgia NOS', 'Aching muscles', '...</td>\n",
       "      <td>[0.0, 0.0, 0.0, 0.0, 0.0, 0.0, 0.0, 0.0, 0.0, ...</td>\n",
       "    </tr>\n",
       "  </tbody>\n",
       "</table>\n",
       "<p>3520 rows × 9 columns</p>\n",
       "</div>"
      ],
      "text/plain": [
       "                                    term  start   end  \\\n",
       "0                             Sight loss    173   183   \n",
       "1                   gas pains in abdomen     47    54   \n",
       "2                             knees hurt    692   696   \n",
       "3                         EXTREME nausea    497   511   \n",
       "4     frequently unable to think clearly    110   144   \n",
       "...                                  ...    ...   ...   \n",
       "3515                     joint stiffness     21    36   \n",
       "3516                                 gas   1244  1247   \n",
       "3517                        stomach pain    424   436   \n",
       "3518                   Severe elbow pain     31    35   \n",
       "3519                     leg muscle pain    547   562   \n",
       "\n",
       "                                                   sent  \\\n",
       "0         Have a 5 month supply but getting off quick!.   \n",
       "1     It lowered my LDL (not enough) but also lowere...   \n",
       "2                Doctor is PISSED-----I'M THRILLED !!!.   \n",
       "3     vomitting - I have to fight to not throw up I ...   \n",
       "4     So far my blood tests have been normal, but no...   \n",
       "...                                                 ...   \n",
       "3515  I didn't realize this was the cause until I re...   \n",
       "3516  He took Tums to alliviate stomach upsets and a...   \n",
       "3517  Now I have to see my doctor again to see if I ...   \n",
       "3518               Severe elbow, arm and shoulder pain.   \n",
       "3519                There has been some increase in jo.   \n",
       "\n",
       "                                                   text      code  \\\n",
       "0     slurring in speech, lower back pain, bloated, ...  10047571   \n",
       "1     Terrific cramps in legs and awful gas pains in...  10016767   \n",
       "2     Over the course of the past year I've experien...  10023477   \n",
       "3     vomitting - I have to fight to not throw up I ...  10028813   \n",
       "4     After three months on Lipitor, I started to fe...  10012805   \n",
       "...                                                 ...       ...   \n",
       "3515  Headaches,body aches,joint stiffness,bloating,...  10023230   \n",
       "3516  I used to take Provachol (sp?)but I found it c...  10016766   \n",
       "3517  For the first 8 days of ever taking it, the on...  10042076   \n",
       "3518  Severe elbow, arm and shoulder pain.<SENT>It's...  10033371   \n",
       "3519  After taking lipitor for 1 week, my resting pu...  10028411   \n",
       "\n",
       "                                       STR  \\\n",
       "0                        Visual impairment   \n",
       "1     Flatulence, eructation, and gas pain   \n",
       "2                                Knee pain   \n",
       "3                                   Nausea   \n",
       "4                      Difficulty thinking   \n",
       "...                                    ...   \n",
       "3515                       Joint stiffness   \n",
       "3516                            Flatulence   \n",
       "3517                          Stomach ache   \n",
       "3518                                  Pain   \n",
       "3519                               Myalgia   \n",
       "\n",
       "                                                   SNMS  \\\n",
       "0     ['Visual impairment', 'Visual impairment', 'Vi...   \n",
       "1     ['Flatulence, eructation and gas pain', '[D]Fl...   \n",
       "2     ['Knee pain', 'Knee pain', 'Knee pain', 'Knee ...   \n",
       "3     ['Nausea', 'Nausea', 'Nausea', 'Nausea', 'Naus...   \n",
       "4                                                    []   \n",
       "...                                                 ...   \n",
       "3515  ['Joint stiffness', 'Joint stiffness NOS', 'Jo...   \n",
       "3516  ['Flatulence', 'Flatulence', 'Flatulence', 'Fl...   \n",
       "3517  ['Stomach ache', 'Stomach ache', 'Belly ache',...   \n",
       "3518  ['Pain', 'Pain', 'Pain', 'Pain', 'Pain', 'Pain...   \n",
       "3519  ['Myalgia', 'Myalgia NOS', 'Aching muscles', '...   \n",
       "\n",
       "                                               term_vec  \n",
       "0     [0.0, 0.0, 0.0, 0.0, 0.0, 0.0, 0.0, 0.0, 0.0, ...  \n",
       "1     [0.0, 0.0, 0.0, 0.0, 0.0, 0.0, 0.8079093530333...  \n",
       "2     [0.0, 0.0, 0.0, 0.0, 0.0, 0.0, 0.0, 0.0, 0.0, ...  \n",
       "3     [0.0, 0.0, 0.0, 0.0, 0.0, 0.0, 0.0, 0.0, 0.0, ...  \n",
       "4     [0.0, 0.0, 0.0, 0.0, 0.0, 0.0, 0.0, 0.0, 0.0, ...  \n",
       "...                                                 ...  \n",
       "3515  [0.0, 0.0, 0.0, 0.0, 0.0, 0.0, 0.0, 0.0, 0.0, ...  \n",
       "3516  [0.0, 0.0, 0.0, 0.0, 0.0, 0.0, 0.0, 0.0, 0.0, ...  \n",
       "3517  [0.0, 0.0, 0.0, 0.0, 0.0, 0.0, 0.0, 0.0, 0.0, ...  \n",
       "3518  [0.0, 0.0, 0.0, 0.0, 0.0, 0.0, 0.0, 0.0, 0.0, ...  \n",
       "3519  [0.0, 0.0, 0.0, 0.0, 0.0, 0.0, 0.0, 0.0, 0.0, ...  \n",
       "\n",
       "[3520 rows x 9 columns]"
      ]
     },
     "execution_count": 6,
     "metadata": {},
     "output_type": "execute_result"
    }
   ],
   "source": [
    "train"
   ]
  },
  {
   "cell_type": "code",
   "execution_count": 7,
   "metadata": {},
   "outputs": [],
   "source": [
    "X_train, y_train = train['term_vec'], train['code']\n",
    "X_test, y_test = test['term_vec'], test['code']\n",
    "\n",
    "X_train = pd.DataFrame([pd.Series(x) for x in X_train])\n",
    "X_test = pd.DataFrame([pd.Series(x) for x in X_test])"
   ]
  },
  {
   "cell_type": "code",
   "execution_count": 8,
   "metadata": {},
   "outputs": [
    {
     "data": {
      "text/plain": [
       "(4401,)"
      ]
     },
     "execution_count": 8,
     "metadata": {},
     "output_type": "execute_result"
    }
   ],
   "source": [
    "labels = pd.concat([y_train, y_test])\n",
    "labels.shape"
   ]
  },
  {
   "cell_type": "code",
   "execution_count": 9,
   "metadata": {},
   "outputs": [],
   "source": [
    "meddra_labels = {v:k for k, v in enumerate(labels.unique())}\n",
    "y_train = y_train.apply(lambda x: int(meddra_labels[x]))\n",
    "y_test = y_test.apply(lambda x: int(meddra_labels[x]))"
   ]
  },
  {
   "cell_type": "code",
   "execution_count": 10,
   "metadata": {},
   "outputs": [
    {
     "data": {
      "text/plain": [
       "((3520, 400), (3520,), (881, 400), (881,))"
      ]
     },
     "execution_count": 10,
     "metadata": {},
     "output_type": "execute_result"
    }
   ],
   "source": [
    "X_train.shape, y_train.shape, X_test.shape, y_test.shape"
   ]
  },
  {
   "cell_type": "code",
   "execution_count": 113,
   "metadata": {},
   "outputs": [
    {
     "data": {
      "application/vnd.jupyter.widget-view+json": {
       "model_id": "",
       "version_major": 2,
       "version_minor": 0
      },
      "text/plain": [
       "Optimization Progress:   0%|          | 0/150 [00:00<?, ?pipeline/s]"
      ]
     },
     "metadata": {},
     "output_type": "display_data"
    },
    {
     "name": "stdout",
     "output_type": "stream",
     "text": [
      "\n",
      "Generation 1 - Current best internal CV score: 0.4315340909090909\n",
      "\n",
      "Generation 2 - Current best internal CV score: 0.4326704545454545\n",
      "\n",
      "Best pipeline: LinearSVC(input_matrix, C=5.0, dual=False, loss=squared_hinge, penalty=l2, tol=1e-05)\n"
     ]
    },
    {
     "ename": "NameError",
     "evalue": "name 'logging' is not defined",
     "output_type": "error",
     "traceback": [
      "\u001b[0;31m---------------------------------------------------------------------------\u001b[0m",
      "\u001b[0;31mNameError\u001b[0m                                 Traceback (most recent call last)",
      "\u001b[0;32m<ipython-input-113-bb0fad52ed83>\u001b[0m in \u001b[0;36m<module>\u001b[0;34m\u001b[0m\n\u001b[1;32m     14\u001b[0m \u001b[0mtpot\u001b[0m\u001b[0;34m.\u001b[0m\u001b[0mfit\u001b[0m\u001b[0;34m(\u001b[0m\u001b[0mX_train\u001b[0m\u001b[0;34m,\u001b[0m \u001b[0my_train\u001b[0m\u001b[0;34m)\u001b[0m\u001b[0;34m\u001b[0m\u001b[0;34m\u001b[0m\u001b[0m\n\u001b[1;32m     15\u001b[0m \u001b[0mscore\u001b[0m \u001b[0;34m=\u001b[0m \u001b[0mtpot\u001b[0m\u001b[0;34m.\u001b[0m\u001b[0mscore\u001b[0m\u001b[0;34m(\u001b[0m\u001b[0mX_test\u001b[0m\u001b[0;34m,\u001b[0m \u001b[0my_test\u001b[0m\u001b[0;34m)\u001b[0m\u001b[0;34m\u001b[0m\u001b[0;34m\u001b[0m\u001b[0m\n\u001b[0;32m---> 16\u001b[0;31m \u001b[0mlogging\u001b[0m\u001b[0;34m.\u001b[0m\u001b[0mdebug\u001b[0m\u001b[0;34m(\u001b[0m\u001b[0;34mf'PURE MEDDRA: {score}'\u001b[0m\u001b[0;34m)\u001b[0m\u001b[0;34m\u001b[0m\u001b[0;34m\u001b[0m\u001b[0m\n\u001b[0m",
      "\u001b[0;31mNameError\u001b[0m: name 'logging' is not defined"
     ]
    }
   ],
   "source": [
    "generations = 2\n",
    "population_size = 50\n",
    "max_eval_time_mins = 2\n",
    "n_jobs = 10\n",
    "max_iter = 10\n",
    "\n",
    "tpot = TPOTClassifier(generations=generations, \n",
    "                      population_size=population_size,\n",
    "                      verbosity=2, \n",
    "                      random_state=42, \n",
    "                      max_eval_time_mins=max_eval_time_mins, \n",
    "                      n_jobs=n_jobs)\n",
    "\n",
    "tpot.fit(X_train, y_train)\n",
    "score = tpot.score(X_test, y_test)\n",
    "logging.debug(f'PURE MEDDRA: {score}')"
   ]
  },
  {
   "cell_type": "code",
   "execution_count": 114,
   "metadata": {},
   "outputs": [
    {
     "data": {
      "text/plain": [
       "0.4245175936435868"
      ]
     },
     "execution_count": 114,
     "metadata": {},
     "output_type": "execute_result"
    }
   ],
   "source": [
    "score"
   ]
  },
  {
   "cell_type": "code",
   "execution_count": 115,
   "metadata": {},
   "outputs": [
    {
     "data": {
      "text/plain": [
       "2"
      ]
     },
     "execution_count": 115,
     "metadata": {},
     "output_type": "execute_result"
    }
   ],
   "source": [
    "1+1"
   ]
  },
  {
   "cell_type": "code",
   "execution_count": 12,
   "metadata": {},
   "outputs": [
    {
     "data": {
      "text/plain": [
       "SVC(gamma='auto')"
      ]
     },
     "execution_count": 12,
     "metadata": {},
     "output_type": "execute_result"
    }
   ],
   "source": []
  },
  {
   "cell_type": "code",
   "execution_count": 14,
   "metadata": {},
   "outputs": [
    {
     "data": {
      "text/plain": [
       "1.0"
      ]
     },
     "execution_count": 14,
     "metadata": {},
     "output_type": "execute_result"
    }
   ],
   "source": [
    "clf.score(X, y)"
   ]
  },
  {
   "cell_type": "code",
   "execution_count": null,
   "metadata": {},
   "outputs": [],
   "source": []
  }
 ],
 "metadata": {
  "kernelspec": {
   "display_name": "Python 3",
   "language": "python",
   "name": "python3"
  },
  "language_info": {
   "codemirror_mode": {
    "name": "ipython",
    "version": 3
   },
   "file_extension": ".py",
   "mimetype": "text/x-python",
   "name": "python",
   "nbconvert_exporter": "python",
   "pygments_lexer": "ipython3",
   "version": "3.6.8"
  }
 },
 "nbformat": 4,
 "nbformat_minor": 4
}
