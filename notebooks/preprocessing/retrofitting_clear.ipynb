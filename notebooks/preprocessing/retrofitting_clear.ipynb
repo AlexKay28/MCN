{
 "cells": [
  {
   "cell_type": "code",
   "execution_count": 1,
   "metadata": {},
   "outputs": [],
   "source": [
    "%load_ext autoreload\n",
    "%autoreload 2\n",
    "%matplotlib inline"
   ]
  },
  {
   "cell_type": "code",
   "execution_count": 2,
   "metadata": {},
   "outputs": [],
   "source": [
    "import sys\n",
    "import numpy as np\n",
    "sys.path.append(f'../../')"
   ]
  },
  {
   "cell_type": "code",
   "execution_count": 3,
   "metadata": {},
   "outputs": [
    {
     "name": "stderr",
     "output_type": "stream",
     "text": [
      "[nltk_data] Downloading package stopwords to\n",
      "[nltk_data]     /home/kaigorodov/nltk_data...\n",
      "[nltk_data]   Package stopwords is already up-to-date!\n",
      "[nltk_data] Downloading package punkt to /home/kaigorodov/nltk_data...\n",
      "[nltk_data]   Package punkt is already up-to-date!\n"
     ]
    }
   ],
   "source": [
    "import pandas as pd\n",
    "from gensim.models import FastText\n",
    "from src.data.sentence_vectorizer import SentenceVectorizer\n",
    "from src.features.retrofitting import retrofitting, vectorize_sent, retrofit_row\n"
   ]
  },
  {
   "cell_type": "code",
   "execution_count": 4,
   "metadata": {},
   "outputs": [
    {
     "name": "stderr",
     "output_type": "stream",
     "text": [
      "/home/kaigorodov/.local/lib/python3.6/site-packages/ipykernel_launcher.py:1: DeprecationWarning: Call to deprecated `load_fasttext_format` (use load_facebook_vectors (to use pretrained embeddings) or load_facebook_model (to continue training with the loaded full model, more RAM) instead).\n",
      "  \"\"\"Entry point for launching an IPython kernel.\n"
     ]
    },
    {
     "data": {
      "text/plain": [
       "<gensim.models.fasttext.FastText at 0x7f4e110bb898>"
      ]
     },
     "execution_count": 4,
     "metadata": {},
     "output_type": "execute_result"
    }
   ],
   "source": [
    "model = FastText.load_fasttext_format('../../data/external/embeddings/cc.en.300.bin')\n",
    "model"
   ]
  },
  {
   "cell_type": "code",
   "execution_count": 5,
   "metadata": {},
   "outputs": [],
   "source": [
    "import tensorflow as tf"
   ]
  },
  {
   "cell_type": "markdown",
   "metadata": {},
   "source": [
    "# Create train and test sets for NET"
   ]
  },
  {
   "cell_type": "code",
   "execution_count": 6,
   "metadata": {},
   "outputs": [],
   "source": [
    "from copy import copy\n",
    "from src.purpose_models.close__synonims_model import *"
   ]
  },
  {
   "cell_type": "code",
   "execution_count": 7,
   "metadata": {},
   "outputs": [
    {
     "data": {
      "text/plain": [
       "484"
      ]
     },
     "execution_count": 7,
     "metadata": {},
     "output_type": "execute_result"
    }
   ],
   "source": [
    "terms_train = pd.read_csv('../../data/interim/smm4h21/train.csv')\n",
    "terms_test = pd.read_csv('../../data/interim/smm4h21/test.csv')\n",
    "\n",
    "#concepts = pd.read_csv('../../data/interim/used_codes.csv')[['code', 'STR', 'SNMS']]\n",
    "concepts = pd.read_csv('../../data/interim/used_codes_big.csv')[['code', 'STR', 'SNMS']]\n",
    "\n",
    "codes_t = set(list(set(terms_train['code'].tolist() + terms_test['code'].tolist())))\n",
    "len(codes_t)"
   ]
  },
  {
   "cell_type": "code",
   "execution_count": 9,
   "metadata": {},
   "outputs": [],
   "source": [
    "#set_ = terms_vecs_train, terms_codes_train, terms_vecs_test,  terms_codes_test, concepts_vecs \n",
    "terms_vecs_train, terms_codes_train, terms_vecs_test,  terms_codes_test, concepts_vecs, codes = prepare_data(model, concepts, terms_train, terms_test)\n",
    "n_concepts = len(codes)\n",
    "assert terms_vecs_train.shape[1]==concepts_vecs.shape[1]\n",
    "embedding_size = terms_vecs_train.shape[1]\n",
    "train_gen, test_gen = get_data_gens(terms_vecs_train,\n",
    "                  terms_codes_train,\n",
    "                  terms_vecs_test,\n",
    "                  terms_codes_test,\n",
    "                  concepts_vecs, batch_size=256)"
   ]
  },
  {
   "cell_type": "code",
   "execution_count": 10,
   "metadata": {
    "scrolled": false
   },
   "outputs": [
    {
     "name": "stderr",
     "output_type": "stream",
     "text": [
      "/home/kaigorodov/.local/lib/python3.6/site-packages/tensorflow/python/keras/engine/training.py:1844: UserWarning: `Model.fit_generator` is deprecated and will be removed in a future version. Please use `Model.fit`, which supports generators.\n",
      "  warnings.warn('`Model.fit_generator` is deprecated and '\n"
     ]
    },
    {
     "name": "stdout",
     "output_type": "stream",
     "text": [
      "Epoch 1/80\n",
      "150/150 - 2s - loss: 4.8102 - categorical_accuracy: 0.1363 - val_loss: 5.9098 - val_categorical_accuracy: 0.2055\n",
      "Epoch 2/80\n",
      "150/150 - 1s - loss: 3.9776 - categorical_accuracy: 0.2887 - val_loss: 5.5345 - val_categorical_accuracy: 0.2625\n",
      "Epoch 3/80\n",
      "150/150 - 1s - loss: 3.3776 - categorical_accuracy: 0.3978 - val_loss: 5.4252 - val_categorical_accuracy: 0.3066\n",
      "Epoch 4/80\n",
      "150/150 - 1s - loss: 2.9545 - categorical_accuracy: 0.4729 - val_loss: 5.2030 - val_categorical_accuracy: 0.3536\n",
      "Epoch 5/80\n",
      "150/150 - 1s - loss: 2.6000 - categorical_accuracy: 0.5307 - val_loss: 5.1037 - val_categorical_accuracy: 0.3911\n",
      "Epoch 6/80\n",
      "150/150 - 1s - loss: 2.3129 - categorical_accuracy: 0.5770 - val_loss: 5.0286 - val_categorical_accuracy: 0.4103\n",
      "Epoch 7/80\n",
      "150/150 - 1s - loss: 2.1039 - categorical_accuracy: 0.6152 - val_loss: 5.0473 - val_categorical_accuracy: 0.3996\n",
      "Epoch 8/80\n",
      "150/150 - 1s - loss: 1.8437 - categorical_accuracy: 0.6675 - val_loss: 5.0102 - val_categorical_accuracy: 0.4389\n",
      "Epoch 9/80\n",
      "150/150 - 1s - loss: 1.6583 - categorical_accuracy: 0.7043 - val_loss: 4.9948 - val_categorical_accuracy: 0.4436\n",
      "Epoch 10/80\n",
      "150/150 - 1s - loss: 1.5303 - categorical_accuracy: 0.7321 - val_loss: 4.9517 - val_categorical_accuracy: 0.4368\n",
      "Epoch 11/80\n",
      "150/150 - 1s - loss: 1.4006 - categorical_accuracy: 0.7611 - val_loss: 4.9153 - val_categorical_accuracy: 0.4482\n",
      "Epoch 12/80\n",
      "150/150 - 1s - loss: 1.2476 - categorical_accuracy: 0.7970 - val_loss: 4.9225 - val_categorical_accuracy: 0.4539\n",
      "Epoch 13/80\n",
      "150/150 - 1s - loss: 1.1161 - categorical_accuracy: 0.8232 - val_loss: 4.9935 - val_categorical_accuracy: 0.4617\n",
      "Epoch 14/80\n",
      "150/150 - 1s - loss: 1.0481 - categorical_accuracy: 0.8415 - val_loss: 4.9524 - val_categorical_accuracy: 0.4697\n",
      "Epoch 15/80\n",
      "150/150 - 1s - loss: 1.0036 - categorical_accuracy: 0.8449 - val_loss: 4.9258 - val_categorical_accuracy: 0.4581\n",
      "Epoch 16/80\n",
      "150/150 - 1s - loss: 0.8992 - categorical_accuracy: 0.8690 - val_loss: 4.9678 - val_categorical_accuracy: 0.4596\n",
      "Epoch 17/80\n",
      "150/150 - 1s - loss: 0.8244 - categorical_accuracy: 0.8786 - val_loss: 5.0423 - val_categorical_accuracy: 0.4866\n",
      "Epoch 18/80\n",
      "150/150 - 1s - loss: 0.7708 - categorical_accuracy: 0.8866 - val_loss: 5.0258 - val_categorical_accuracy: 0.4686\n",
      "Epoch 19/80\n",
      "150/150 - 1s - loss: 0.7028 - categorical_accuracy: 0.8990 - val_loss: 5.0780 - val_categorical_accuracy: 0.4699\n",
      "Epoch 20/80\n",
      "150/150 - 1s - loss: 0.6415 - categorical_accuracy: 0.9067 - val_loss: 5.0204 - val_categorical_accuracy: 0.4891\n",
      "Epoch 21/80\n",
      "150/150 - 1s - loss: 0.6406 - categorical_accuracy: 0.9044 - val_loss: 5.0517 - val_categorical_accuracy: 0.4945\n",
      "Epoch 22/80\n",
      "150/150 - 1s - loss: 0.5693 - categorical_accuracy: 0.9123 - val_loss: 5.0859 - val_categorical_accuracy: 0.4815\n",
      "Epoch 23/80\n",
      "150/150 - 1s - loss: 0.5330 - categorical_accuracy: 0.9195 - val_loss: 5.0862 - val_categorical_accuracy: 0.4617\n",
      "Epoch 24/80\n",
      "150/150 - 1s - loss: 0.5260 - categorical_accuracy: 0.9168 - val_loss: 5.1470 - val_categorical_accuracy: 0.4805\n",
      "Epoch 25/80\n",
      "150/150 - 1s - loss: 0.4804 - categorical_accuracy: 0.9220 - val_loss: 5.2241 - val_categorical_accuracy: 0.4641\n",
      "Epoch 26/80\n",
      "150/150 - 1s - loss: 0.4852 - categorical_accuracy: 0.9162 - val_loss: 5.1685 - val_categorical_accuracy: 0.4764\n",
      "Epoch 27/80\n",
      "150/150 - 1s - loss: 0.4374 - categorical_accuracy: 0.9233 - val_loss: 5.2024 - val_categorical_accuracy: 0.4767\n",
      "Epoch 28/80\n",
      "150/150 - 1s - loss: 0.4113 - categorical_accuracy: 0.9274 - val_loss: 5.2395 - val_categorical_accuracy: 0.4723\n",
      "Epoch 29/80\n",
      "150/150 - 1s - loss: 0.3792 - categorical_accuracy: 0.9315 - val_loss: 5.2174 - val_categorical_accuracy: 0.4743\n",
      "Epoch 30/80\n",
      "150/150 - 1s - loss: 0.3734 - categorical_accuracy: 0.9307 - val_loss: 5.2321 - val_categorical_accuracy: 0.4772\n",
      "Epoch 31/80\n",
      "150/150 - 1s - loss: 0.3575 - categorical_accuracy: 0.9317 - val_loss: 5.2850 - val_categorical_accuracy: 0.4766\n"
     ]
    },
    {
     "data": {
      "text/plain": [
       "(0.9317448139190674, 0.4945312440395355)"
      ]
     },
     "execution_count": 10,
     "metadata": {},
     "output_type": "execute_result"
    }
   ],
   "source": [
    "n_iterations = 2\n",
    "fit_synonimer(train_gen, test_gen, n_concepts, embedding_size)"
   ]
  },
  {
   "cell_type": "code",
   "execution_count": null,
   "metadata": {},
   "outputs": [],
   "source": []
  },
  {
   "cell_type": "code",
   "execution_count": null,
   "metadata": {},
   "outputs": [],
   "source": []
  }
 ],
 "metadata": {
  "kernelspec": {
   "display_name": "Python 3",
   "language": "python",
   "name": "python3"
  },
  "language_info": {
   "codemirror_mode": {
    "name": "ipython",
    "version": 3
   },
   "file_extension": ".py",
   "mimetype": "text/x-python",
   "name": "python",
   "nbconvert_exporter": "python",
   "pygments_lexer": "ipython3",
   "version": "3.6.8"
  }
 },
 "nbformat": 4,
 "nbformat_minor": 4
}
