{
 "cells": [
  {
   "cell_type": "code",
   "execution_count": 1,
   "metadata": {},
   "outputs": [],
   "source": [
    "%load_ext autoreload\n",
    "%autoreload 2\n",
    "%matplotlib inline"
   ]
  },
  {
   "cell_type": "code",
   "execution_count": 2,
   "metadata": {},
   "outputs": [],
   "source": [
    "import sys\n",
    "import numpy as np\n",
    "sys.path.append(f'../../')"
   ]
  },
  {
   "cell_type": "code",
   "execution_count": 3,
   "metadata": {},
   "outputs": [
    {
     "name": "stderr",
     "output_type": "stream",
     "text": [
      "[nltk_data] Downloading package stopwords to\n",
      "[nltk_data]     /home/kaigorodov/nltk_data...\n",
      "[nltk_data]   Package stopwords is already up-to-date!\n",
      "[nltk_data] Downloading package punkt to /home/kaigorodov/nltk_data...\n",
      "[nltk_data]   Package punkt is already up-to-date!\n"
     ]
    }
   ],
   "source": [
    "import pandas as pd\n",
    "from gensim.models import FastText\n",
    "from src.features.retrofitting import *\n",
    "from src.data.sentence_vectorizer import SentenceVectorizer"
   ]
  },
  {
   "cell_type": "code",
   "execution_count": 4,
   "metadata": {},
   "outputs": [
    {
     "name": "stderr",
     "output_type": "stream",
     "text": [
      "/home/kaigorodov/.local/lib/python3.6/site-packages/ipykernel_launcher.py:1: DeprecationWarning: Call to deprecated `load_fasttext_format` (use load_facebook_vectors (to use pretrained embeddings) or load_facebook_model (to continue training with the loaded full model, more RAM) instead).\n",
      "  \"\"\"Entry point for launching an IPython kernel.\n"
     ]
    },
    {
     "data": {
      "text/plain": [
       "<gensim.models.fasttext.FastText at 0x7fd4e59754a8>"
      ]
     },
     "execution_count": 4,
     "metadata": {},
     "output_type": "execute_result"
    }
   ],
   "source": [
    "ft_model = FastText.load_fasttext_format('../../data/external/embeddings/cc.en.300.bin')\n",
    "ft_model"
   ]
  },
  {
   "cell_type": "code",
   "execution_count": 5,
   "metadata": {},
   "outputs": [],
   "source": [
    "from copy import deepcopy\n",
    "\n",
    "def vectorize_sent(sent):\n",
    "    return np.array([ft_model.wv[w] for w in sent.split()]).mean(axis=0)\n",
    "\n",
    "def retrofitting(word_vec, lexicons_vecs, iters=1):\n",
    "    if len(lexicons_vecs) == 0:\n",
    "        return word_vec\n",
    "    new_word_vec = deepcopy(word_vec)\n",
    "    for iteration in range(iters):\n",
    "        new_word_vec *= len(lexicons_vecs)\n",
    "        for lexicons_vec in lexicons_vecs:\n",
    "            new_word_vec += lexicons_vec\n",
    "        new_word_vec /= 2 * len(lexicons_vecs)\n",
    "    return new_word_vec\n",
    "\n",
    "def retrofit_row(row):\n",
    "    concept = row['STR']\n",
    "    synonims = set(eval(row['SNMS']))\n",
    "    concept_vec = vectorize_sent(concept)\n",
    "    lexicons_vecs = [vectorize_sent(syn) for syn in synonims]\n",
    "    concept_vec = retrofitting(concept_vec, lexicons_vecs)\n",
    "    return concept_vec"
   ]
  },
  {
   "cell_type": "code",
   "execution_count": 6,
   "metadata": {},
   "outputs": [],
   "source": [
    "import tensorflow as tf"
   ]
  },
  {
   "cell_type": "markdown",
   "metadata": {},
   "source": [
    "# Create train and test sets for NET"
   ]
  },
  {
   "cell_type": "code",
   "execution_count": 7,
   "metadata": {},
   "outputs": [],
   "source": [
    "from copy import copy"
   ]
  },
  {
   "cell_type": "code",
   "execution_count": 34,
   "metadata": {},
   "outputs": [],
   "source": [
    "terms_train = pd.read_csv('../../data/interim/smm4h17/train.csv')\n",
    "terms_test = pd.read_csv('../../data/interim/smm4h17/test.csv')"
   ]
  },
  {
   "cell_type": "code",
   "execution_count": 35,
   "metadata": {},
   "outputs": [
    {
     "data": {
      "text/plain": [
       "507"
      ]
     },
     "execution_count": 35,
     "metadata": {},
     "output_type": "execute_result"
    }
   ],
   "source": [
    "codes = set(list(set(terms_train['code'].tolist() + terms_test['code'].tolist())))\n",
    "len(codes)"
   ]
  },
  {
   "cell_type": "code",
   "execution_count": 36,
   "metadata": {},
   "outputs": [],
   "source": [
    "\n",
    "\n",
    "terms_vecs_train = terms_train.apply(lambda row: vectorize_sent(row['term']), axis=1)\n",
    "terms_vecs_train = pd.DataFrame(terms_vecs_train.values.tolist()).dropna().values\n",
    "\n",
    "terms_vecs_test = terms_test.apply(lambda row: vectorize_sent(row['term']), axis=1)\n",
    "terms_vecs_test = pd.DataFrame(terms_vecs_test.values.tolist()).dropna().values"
   ]
  },
  {
   "cell_type": "code",
   "execution_count": 37,
   "metadata": {},
   "outputs": [
    {
     "data": {
      "text/plain": [
       "(472,)"
      ]
     },
     "execution_count": 37,
     "metadata": {},
     "output_type": "execute_result"
    }
   ],
   "source": [
    "#concepts = pd.read_csv('../../data/interim/used_codes.csv')[['code', 'STR', 'SNMS']]\n",
    "concepts = pd.read_csv('../../data/interim/used_codes_big.csv')[['code', 'STR', 'SNMS']]\n",
    "\n",
    "# только те которые есть\n",
    "#concepts = concepts[concepts['code'].isin(codes)].reset_index(drop=True).reset_index().set_index('code')\n",
    "\n",
    "# все доступные\n",
    "#concepts = concepts.reset_index(drop=True).reset_index().set_index('code')\n",
    "\n",
    "# все из трейна\n",
    "concepts = concepts[concepts['code'].isin(terms_train['code'])].reset_index(drop=True).reset_index().set_index('code')\n",
    "\n",
    "codes = concepts['index'].to_numpy()\n",
    "concepts_vecs = concepts.apply(lambda row: retrofit_row(row), axis=1)\n",
    "concepts_vecs = pd.DataFrame(concepts_vecs.values.tolist()).dropna().values\n",
    "codes.shape"
   ]
  },
  {
   "cell_type": "code",
   "execution_count": 38,
   "metadata": {},
   "outputs": [],
   "source": [
    "# concepts_selected = concepts[concepts.index.isin(terms_train['code'])]\n",
    "\n",
    "\n",
    "# concepts_to_select = concepts[~concepts.index.isin(terms_train['code'])]\n",
    "# concepts_to_select_vecs = concepts_to_select.apply(lambda row: retrofit_row(row), axis=1)\n",
    "# concepts_to_select_vecs = pd.DataFrame(concepts_to_select_vecs.values.tolist()).dropna().values\n",
    "\n",
    "# from src.features.novelty_detector import NoveltyDetector\n",
    "# nd = NoveltyDetector(n_neighbors=1, contamination=0.5) \n",
    "\n",
    "# nd.fit(terms_vecs_train)\n",
    "# X_novelties, X_not_novelties, novpred = nd.select_novelties(concepts_to_select_vecs)\n",
    "# np.unique(novpred, return_counts=True)\n",
    "\n",
    "# concepts_vecs = concepts_vecs[novpred]\n",
    "# codes = codes[novpred]\n",
    "\n",
    "\n",
    "# concepts_to_select = concepts_to_select[[True if i ==1 else False for i in novpred]]\n",
    "# concepts = pd.concat([concepts_selected, concepts_to_select])\n",
    "# concepts = concepts.reset_index().drop(columns=['index']).reset_index().set_index('code')\n",
    "\n",
    "# codes = concepts['index'].to_numpy()\n",
    "# concepts_vecs = concepts.apply(lambda row: retrofit_row(row), axis=1)\n",
    "# concepts_vecs = pd.DataFrame(concepts_vecs.values.tolist()).dropna().values"
   ]
  },
  {
   "cell_type": "code",
   "execution_count": null,
   "metadata": {},
   "outputs": [],
   "source": []
  },
  {
   "cell_type": "code",
   "execution_count": null,
   "metadata": {},
   "outputs": [],
   "source": []
  },
  {
   "cell_type": "code",
   "execution_count": 39,
   "metadata": {},
   "outputs": [],
   "source": [
    "terms_codes_train = terms_train['code'].apply(lambda code: concepts.loc[code]['index'])"
   ]
  },
  {
   "cell_type": "code",
   "execution_count": 40,
   "metadata": {},
   "outputs": [
    {
     "data": {
      "text/plain": [
       "(471, 472)"
      ]
     },
     "execution_count": 40,
     "metadata": {},
     "output_type": "execute_result"
    }
   ],
   "source": [
    "terms_codes_test = terms_test['code'].apply(\n",
    "    lambda code: concepts.loc[code]['index'] if code in concepts.index else len(codes)) #OOV CODE\n",
    "terms_codes_train.max(), terms_codes_test.max()"
   ]
  },
  {
   "cell_type": "code",
   "execution_count": 41,
   "metadata": {},
   "outputs": [],
   "source": [
    "terms_codes_train = tf.keras.utils.to_categorical(\n",
    "    terms_codes_train, num_classes=len(codes)+1, dtype='float32'\n",
    ")\n",
    "terms_codes_test = tf.keras.utils.to_categorical(\n",
    "    terms_codes_test, num_classes=len(codes)+1, dtype='float32'\n",
    ")"
   ]
  },
  {
   "cell_type": "code",
   "execution_count": 42,
   "metadata": {},
   "outputs": [],
   "source": [
    "def data_generator(terms_vecs, terms_codes, concepts_vecs, batch_size=50):\n",
    "    while 1:\n",
    "\n",
    "        concepts_vecs_choosed = []\n",
    "        \n",
    "        index_to_choose = np.random.choice(terms_vecs.shape[0]-batch_size)\n",
    "        concepts_vecs_choosed.append(concepts_vecs)\n",
    "            \n",
    "        terms_vecs_choosed = terms_vecs[index_to_choose:index_to_choose+batch_size]\n",
    "        terms_codes_choosed = terms_codes[index_to_choose:index_to_choose+batch_size]\n",
    "        concepts_vecs_choosed = np.array(concepts_vecs_choosed, dtype='float32')\n",
    "        \n",
    "        train = [terms_vecs_choosed, concepts_vecs_choosed]\n",
    "        test = [terms_codes_choosed]\n",
    "        yield train, test\n"
   ]
  },
  {
   "cell_type": "code",
   "execution_count": 43,
   "metadata": {},
   "outputs": [],
   "source": [
    "def cosine_mul_fun(inputs):\n",
    "    a, b = inputs[0], inputs[1]\n",
    "    normalize_a = tf.nn.l2_normalize(a,1)        \n",
    "    normalize_b = tf.nn.l2_normalize(b,1)\n",
    "    distance = 1 - tf.matmul([normalize_a], normalize_b, transpose_b=True)\n",
    "    return distance[0]"
   ]
  },
  {
   "cell_type": "code",
   "execution_count": 44,
   "metadata": {},
   "outputs": [
    {
     "name": "stdout",
     "output_type": "stream",
     "text": [
      "Model: \"model_8\"\n",
      "__________________________________________________________________________________________________\n",
      "Layer (type)                    Output Shape         Param #     Connected to                     \n",
      "==================================================================================================\n",
      "term (InputLayer)               [(None, 300)]        0                                            \n",
      "__________________________________________________________________________________________________\n",
      "dense_24 (Dense)                (None, 512)          154112      term[0][0]                       \n",
      "__________________________________________________________________________________________________\n",
      "dense_25 (Dense)                (None, 300)          153900      dense_24[0][0]                   \n",
      "__________________________________________________________________________________________________\n",
      "flatten_8 (Flatten)             (None, 300)          0           dense_25[0][0]                   \n",
      "__________________________________________________________________________________________________\n",
      "concepts (InputLayer)           [(None, 472, 300)]   0                                            \n",
      "__________________________________________________________________________________________________\n",
      "lambda_8 (Lambda)               (None, 472)          0           flatten_8[0][0]                  \n",
      "                                                                 concepts[0][0]                   \n",
      "__________________________________________________________________________________________________\n",
      "re_lu_8 (ReLU)                  (None, 472)          0           lambda_8[0][0]                   \n",
      "__________________________________________________________________________________________________\n",
      "dense_26 (Dense)                (None, 473)          223729      re_lu_8[0][0]                    \n",
      "==================================================================================================\n",
      "Total params: 531,741\n",
      "Trainable params: 531,741\n",
      "Non-trainable params: 0\n",
      "__________________________________________________________________________________________________\n"
     ]
    }
   ],
   "source": [
    "from sklearn.metrics import accuracy_score\n",
    "from tqdm import tqdm\n",
    "import matplotlib.pyplot as plt\n",
    "\n",
    "n_concepts = len(codes)\n",
    "embedding_size = 300\n",
    "\n",
    "def get_model():\n",
    "    inputs1 =    tf.keras.layers.Input(shape=(embedding_size), name='term')\n",
    "    dn =         tf.keras.layers.Dense(512)(inputs1)\n",
    "    dn =         tf.keras.layers.Dense(embedding_size)(dn)\n",
    "    term_hat =   tf.keras.layers.Flatten()(dn)\n",
    "    inputs2 =    tf.keras.layers.Input(shape=(n_concepts, embedding_size), name='concepts')\n",
    "    cosine_mul = tf.keras.layers.Lambda(cosine_mul_fun)([term_hat, inputs2])\n",
    "    activation = tf.keras.layers.ReLU()(cosine_mul)\n",
    "    output =     tf.keras.layers.Dense(n_concepts+1, activation='softmax')(activation)\n",
    "\n",
    "    model = tf.keras.Model(inputs=[inputs1, inputs2], outputs=[output])\n",
    "    model.compile(\n",
    "        optimizer=tf.keras.optimizers.Adam(lr=0.001), \n",
    "        loss=\"categorical_crossentropy\",\n",
    "        metrics=[tf.keras.metrics.CategoricalAccuracy()],\n",
    "    )\n",
    "    return model\n",
    "\n",
    "model = get_model()\n",
    "model.summary()"
   ]
  },
  {
   "cell_type": "code",
   "execution_count": 45,
   "metadata": {
    "scrolled": false
   },
   "outputs": [
    {
     "name": "stderr",
     "output_type": "stream",
     "text": [
      "\r",
      "  0%|          | 0/3 [00:00<?, ?it/s]"
     ]
    },
    {
     "name": "stdout",
     "output_type": "stream",
     "text": [
      "Epoch 1/80\n"
     ]
    },
    {
     "name": "stderr",
     "output_type": "stream",
     "text": [
      "/home/kaigorodov/.local/lib/python3.6/site-packages/tensorflow/python/keras/engine/training.py:1844: UserWarning: `Model.fit_generator` is deprecated and will be removed in a future version. Please use `Model.fit`, which supports generators.\n",
      "  warnings.warn('`Model.fit_generator` is deprecated and '\n"
     ]
    },
    {
     "name": "stdout",
     "output_type": "stream",
     "text": [
      "150/150 - 2s - loss: 3.9804 - categorical_accuracy: 0.2219 - val_loss: 3.2820 - val_categorical_accuracy: 0.4499\n",
      "Epoch 2/80\n",
      "150/150 - 1s - loss: 3.3611 - categorical_accuracy: 0.4097 - val_loss: 2.8375 - val_categorical_accuracy: 0.5499\n",
      "Epoch 3/80\n",
      "150/150 - 1s - loss: 2.6975 - categorical_accuracy: 0.5413 - val_loss: 2.3432 - val_categorical_accuracy: 0.6005\n",
      "Epoch 4/80\n",
      "150/150 - 1s - loss: 2.4618 - categorical_accuracy: 0.5749 - val_loss: 2.1466 - val_categorical_accuracy: 0.6451\n",
      "Epoch 5/80\n",
      "150/150 - 1s - loss: 2.2293 - categorical_accuracy: 0.6118 - val_loss: 2.0085 - val_categorical_accuracy: 0.6686\n",
      "Epoch 6/80\n",
      "150/150 - 1s - loss: 2.0016 - categorical_accuracy: 0.6511 - val_loss: 1.7790 - val_categorical_accuracy: 0.7044\n",
      "Epoch 7/80\n",
      "150/150 - 1s - loss: 1.8278 - categorical_accuracy: 0.6794 - val_loss: 1.7175 - val_categorical_accuracy: 0.7113\n",
      "Epoch 8/80\n",
      "150/150 - 1s - loss: 1.6139 - categorical_accuracy: 0.7173 - val_loss: 1.6350 - val_categorical_accuracy: 0.7298\n",
      "Epoch 9/80\n",
      "150/150 - 1s - loss: 1.5118 - categorical_accuracy: 0.7348 - val_loss: 1.5249 - val_categorical_accuracy: 0.7523\n",
      "Epoch 10/80\n",
      "150/150 - 1s - loss: 1.4791 - categorical_accuracy: 0.7426 - val_loss: 1.4820 - val_categorical_accuracy: 0.7570\n",
      "Epoch 11/80\n",
      "150/150 - 1s - loss: 1.3360 - categorical_accuracy: 0.7659 - val_loss: 1.4218 - val_categorical_accuracy: 0.7762\n",
      "Epoch 12/80\n",
      "150/150 - 1s - loss: 1.2521 - categorical_accuracy: 0.7787 - val_loss: 1.3470 - val_categorical_accuracy: 0.7871\n",
      "Epoch 13/80\n",
      "150/150 - 1s - loss: 1.2009 - categorical_accuracy: 0.7858 - val_loss: 1.3227 - val_categorical_accuracy: 0.7818\n",
      "Epoch 14/80\n",
      "150/150 - 1s - loss: 1.1582 - categorical_accuracy: 0.7913 - val_loss: 1.2912 - val_categorical_accuracy: 0.7854\n",
      "Epoch 15/80\n",
      "150/150 - 1s - loss: 1.0984 - categorical_accuracy: 0.7992 - val_loss: 1.2264 - val_categorical_accuracy: 0.8022\n",
      "Epoch 16/80\n",
      "150/150 - 1s - loss: 1.0489 - categorical_accuracy: 0.8063 - val_loss: 1.2690 - val_categorical_accuracy: 0.8100\n",
      "Epoch 17/80\n",
      "150/150 - 1s - loss: 0.9871 - categorical_accuracy: 0.8139 - val_loss: 1.2157 - val_categorical_accuracy: 0.7919\n",
      "Epoch 18/80\n",
      "150/150 - 1s - loss: 0.9498 - categorical_accuracy: 0.8184 - val_loss: 1.1751 - val_categorical_accuracy: 0.8137\n",
      "Epoch 19/80\n",
      "150/150 - 1s - loss: 0.9244 - categorical_accuracy: 0.8244 - val_loss: 1.1838 - val_categorical_accuracy: 0.8169\n",
      "Epoch 20/80\n",
      "150/150 - 1s - loss: 0.9015 - categorical_accuracy: 0.8280 - val_loss: 1.1230 - val_categorical_accuracy: 0.8197\n",
      "Epoch 21/80\n",
      "150/150 - 1s - loss: 0.8256 - categorical_accuracy: 0.8403 - val_loss: 1.1655 - val_categorical_accuracy: 0.8174\n",
      "Epoch 22/80\n",
      "150/150 - 1s - loss: 0.8053 - categorical_accuracy: 0.8448 - val_loss: 1.1226 - val_categorical_accuracy: 0.8191\n",
      "Epoch 23/80\n",
      "150/150 - 1s - loss: 0.7968 - categorical_accuracy: 0.8453 - val_loss: 1.1988 - val_categorical_accuracy: 0.8096\n",
      "Epoch 24/80\n",
      "150/150 - 1s - loss: 0.7652 - categorical_accuracy: 0.8506 - val_loss: 1.0748 - val_categorical_accuracy: 0.8314\n",
      "Epoch 25/80\n",
      "150/150 - 1s - loss: 0.7326 - categorical_accuracy: 0.8559 - val_loss: 1.0706 - val_categorical_accuracy: 0.8276\n",
      "Epoch 26/80\n",
      "150/150 - 1s - loss: 0.6983 - categorical_accuracy: 0.8636 - val_loss: 1.1154 - val_categorical_accuracy: 0.8327\n",
      "Epoch 27/80\n",
      "150/150 - 1s - loss: 0.6907 - categorical_accuracy: 0.8634 - val_loss: 1.0499 - val_categorical_accuracy: 0.8307\n",
      "Epoch 28/80\n",
      "150/150 - 1s - loss: 0.6529 - categorical_accuracy: 0.8694 - val_loss: 1.0381 - val_categorical_accuracy: 0.8333\n",
      "Epoch 29/80\n",
      "150/150 - 1s - loss: 0.6718 - categorical_accuracy: 0.8648 - val_loss: 1.0291 - val_categorical_accuracy: 0.8262\n",
      "Epoch 30/80\n",
      "150/150 - 1s - loss: 0.6096 - categorical_accuracy: 0.8777 - val_loss: 1.0558 - val_categorical_accuracy: 0.8352\n",
      "Epoch 31/80\n",
      "150/150 - 1s - loss: 0.6180 - categorical_accuracy: 0.8740 - val_loss: 1.0257 - val_categorical_accuracy: 0.8315\n",
      "Epoch 32/80\n",
      "150/150 - 1s - loss: 0.5935 - categorical_accuracy: 0.8783 - val_loss: 1.0704 - val_categorical_accuracy: 0.8335\n",
      "Epoch 33/80\n",
      "150/150 - 1s - loss: 0.5533 - categorical_accuracy: 0.8871 - val_loss: 1.0408 - val_categorical_accuracy: 0.8400\n",
      "Epoch 34/80\n",
      "150/150 - 1s - loss: 0.5488 - categorical_accuracy: 0.8878 - val_loss: 1.0123 - val_categorical_accuracy: 0.8294\n",
      "Epoch 35/80\n",
      "150/150 - 1s - loss: 0.5300 - categorical_accuracy: 0.8937 - val_loss: 1.0259 - val_categorical_accuracy: 0.8348\n",
      "Epoch 36/80\n",
      "150/150 - 1s - loss: 0.5248 - categorical_accuracy: 0.8940 - val_loss: 1.0143 - val_categorical_accuracy: 0.8396\n",
      "Epoch 37/80\n",
      "150/150 - 1s - loss: 0.5072 - categorical_accuracy: 0.8977 - val_loss: 0.9967 - val_categorical_accuracy: 0.8301\n",
      "Epoch 38/80\n",
      "150/150 - 1s - loss: 0.4863 - categorical_accuracy: 0.9014 - val_loss: 1.0310 - val_categorical_accuracy: 0.8392\n",
      "Epoch 39/80\n",
      "150/150 - 1s - loss: 0.4857 - categorical_accuracy: 0.8989 - val_loss: 1.0176 - val_categorical_accuracy: 0.8341\n",
      "Epoch 40/80\n",
      "150/150 - 1s - loss: 0.4656 - categorical_accuracy: 0.9049 - val_loss: 0.9699 - val_categorical_accuracy: 0.8395\n",
      "Epoch 41/80\n",
      "150/150 - 1s - loss: 0.4431 - categorical_accuracy: 0.9088 - val_loss: 0.9801 - val_categorical_accuracy: 0.8436\n",
      "Epoch 42/80\n",
      "150/150 - 1s - loss: 0.4405 - categorical_accuracy: 0.9120 - val_loss: 0.9764 - val_categorical_accuracy: 0.8439\n",
      "Epoch 43/80\n",
      "150/150 - 1s - loss: 0.4494 - categorical_accuracy: 0.9086 - val_loss: 0.9814 - val_categorical_accuracy: 0.8434\n",
      "Epoch 44/80\n",
      "150/150 - 1s - loss: 0.4182 - categorical_accuracy: 0.9138 - val_loss: 0.9702 - val_categorical_accuracy: 0.8439\n",
      "Epoch 45/80\n",
      "150/150 - 1s - loss: 0.3930 - categorical_accuracy: 0.9212 - val_loss: 0.9550 - val_categorical_accuracy: 0.8482\n",
      "Epoch 46/80\n",
      "150/150 - 1s - loss: 0.4010 - categorical_accuracy: 0.9189 - val_loss: 1.0158 - val_categorical_accuracy: 0.8427\n",
      "Epoch 47/80\n",
      "150/150 - 1s - loss: 0.3902 - categorical_accuracy: 0.9221 - val_loss: 1.0146 - val_categorical_accuracy: 0.8323\n",
      "Epoch 48/80\n",
      "150/150 - 1s - loss: 0.3835 - categorical_accuracy: 0.9212 - val_loss: 1.0001 - val_categorical_accuracy: 0.8434\n",
      "Epoch 49/80\n",
      "150/150 - 1s - loss: 0.3555 - categorical_accuracy: 0.9267 - val_loss: 0.9561 - val_categorical_accuracy: 0.8457\n",
      "Epoch 50/80\n",
      "150/150 - 1s - loss: 0.3467 - categorical_accuracy: 0.9306 - val_loss: 1.0123 - val_categorical_accuracy: 0.8411\n",
      "Epoch 51/80\n",
      "150/150 - 1s - loss: 0.3568 - categorical_accuracy: 0.9279 - val_loss: 1.0050 - val_categorical_accuracy: 0.8427\n",
      "Epoch 52/80\n",
      "150/150 - 1s - loss: 0.3449 - categorical_accuracy: 0.9302 - val_loss: 0.9855 - val_categorical_accuracy: 0.8513\n",
      "Epoch 53/80\n",
      "150/150 - 1s - loss: 0.3342 - categorical_accuracy: 0.9352 - val_loss: 1.0069 - val_categorical_accuracy: 0.8417\n",
      "Epoch 54/80\n",
      "150/150 - 1s - loss: 0.3226 - categorical_accuracy: 0.9364 - val_loss: 1.0005 - val_categorical_accuracy: 0.8378\n",
      "Epoch 55/80\n",
      "150/150 - 1s - loss: 0.3117 - categorical_accuracy: 0.9379 - val_loss: 1.0457 - val_categorical_accuracy: 0.8391\n",
      "Epoch 56/80\n",
      "150/150 - 1s - loss: 0.3078 - categorical_accuracy: 0.9392 - val_loss: 1.0127 - val_categorical_accuracy: 0.8382\n",
      "Epoch 57/80\n",
      "150/150 - 1s - loss: 0.2958 - categorical_accuracy: 0.9418 - val_loss: 1.0172 - val_categorical_accuracy: 0.8427\n",
      "Epoch 58/80\n",
      "150/150 - 1s - loss: 0.3020 - categorical_accuracy: 0.9378 - val_loss: 0.9892 - val_categorical_accuracy: 0.8421\n",
      "Epoch 59/80\n",
      "150/150 - 1s - loss: 0.2815 - categorical_accuracy: 0.9445 - val_loss: 1.0024 - val_categorical_accuracy: 0.8400\n",
      "Epoch 60/80\n",
      "150/150 - 1s - loss: 0.2775 - categorical_accuracy: 0.9458 - val_loss: 0.9905 - val_categorical_accuracy: 0.8445\n",
      "Epoch 61/80\n",
      "150/150 - 1s - loss: 0.2775 - categorical_accuracy: 0.9436 - val_loss: 1.0115 - val_categorical_accuracy: 0.8479\n",
      "Epoch 62/80\n",
      "150/150 - 1s - loss: 0.2586 - categorical_accuracy: 0.9482 - val_loss: 1.0302 - val_categorical_accuracy: 0.8417\n"
     ]
    },
    {
     "name": "stderr",
     "output_type": "stream",
     "text": [
      "\r",
      " 33%|███▎      | 1/3 [01:07<02:15, 67.62s/it]"
     ]
    },
    {
     "name": "stdout",
     "output_type": "stream",
     "text": [
      "0.948229193687439 0.8513020873069763\n",
      "Epoch 1/80\n",
      "150/150 - 2s - loss: 4.0605 - categorical_accuracy: 0.2155 - val_loss: 3.3612 - val_categorical_accuracy: 0.3868\n",
      "Epoch 2/80\n",
      "150/150 - 1s - loss: 3.2149 - categorical_accuracy: 0.4285 - val_loss: 2.8752 - val_categorical_accuracy: 0.4951\n",
      "Epoch 3/80\n",
      "150/150 - 1s - loss: 2.8462 - categorical_accuracy: 0.5206 - val_loss: 2.4843 - val_categorical_accuracy: 0.6284\n",
      "Epoch 4/80\n",
      "150/150 - 1s - loss: 2.4359 - categorical_accuracy: 0.5801 - val_loss: 2.1347 - val_categorical_accuracy: 0.6659\n",
      "Epoch 5/80\n",
      "150/150 - 1s - loss: 2.2123 - categorical_accuracy: 0.6156 - val_loss: 1.9870 - val_categorical_accuracy: 0.6753\n",
      "Epoch 6/80\n",
      "150/150 - 1s - loss: 2.0035 - categorical_accuracy: 0.6524 - val_loss: 1.8700 - val_categorical_accuracy: 0.6780\n",
      "Epoch 7/80\n",
      "150/150 - 1s - loss: 1.8506 - categorical_accuracy: 0.6793 - val_loss: 1.8079 - val_categorical_accuracy: 0.7020\n",
      "Epoch 8/80\n",
      "150/150 - 1s - loss: 1.7133 - categorical_accuracy: 0.7075 - val_loss: 1.6799 - val_categorical_accuracy: 0.7289\n",
      "Epoch 9/80\n",
      "150/150 - 1s - loss: 1.5893 - categorical_accuracy: 0.7259 - val_loss: 1.5036 - val_categorical_accuracy: 0.7503\n",
      "Epoch 10/80\n",
      "150/150 - 1s - loss: 1.4350 - categorical_accuracy: 0.7508 - val_loss: 1.4931 - val_categorical_accuracy: 0.7661\n",
      "Epoch 11/80\n",
      "150/150 - 1s - loss: 1.3740 - categorical_accuracy: 0.7540 - val_loss: 1.4807 - val_categorical_accuracy: 0.7570\n",
      "Epoch 12/80\n",
      "150/150 - 1s - loss: 1.2877 - categorical_accuracy: 0.7717 - val_loss: 1.3975 - val_categorical_accuracy: 0.7910\n",
      "Epoch 13/80\n",
      "150/150 - 1s - loss: 1.2016 - categorical_accuracy: 0.7860 - val_loss: 1.3347 - val_categorical_accuracy: 0.7845\n",
      "Epoch 14/80\n",
      "150/150 - 1s - loss: 1.1821 - categorical_accuracy: 0.7827 - val_loss: 1.3013 - val_categorical_accuracy: 0.7910\n",
      "Epoch 15/80\n",
      "150/150 - 1s - loss: 1.1274 - categorical_accuracy: 0.7946 - val_loss: 1.3331 - val_categorical_accuracy: 0.7833\n",
      "Epoch 16/80\n",
      "150/150 - 1s - loss: 1.0348 - categorical_accuracy: 0.8071 - val_loss: 1.2673 - val_categorical_accuracy: 0.7982\n",
      "Epoch 17/80\n",
      "150/150 - 1s - loss: 1.0395 - categorical_accuracy: 0.8062 - val_loss: 1.2213 - val_categorical_accuracy: 0.7928\n",
      "Epoch 18/80\n",
      "150/150 - 1s - loss: 0.9477 - categorical_accuracy: 0.8210 - val_loss: 1.2006 - val_categorical_accuracy: 0.8005\n",
      "Epoch 19/80\n",
      "150/150 - 1s - loss: 0.9409 - categorical_accuracy: 0.8202 - val_loss: 1.2072 - val_categorical_accuracy: 0.7949\n",
      "Epoch 20/80\n",
      "150/150 - 1s - loss: 0.9229 - categorical_accuracy: 0.8238 - val_loss: 1.2083 - val_categorical_accuracy: 0.8056\n",
      "Epoch 21/80\n",
      "150/150 - 1s - loss: 0.8567 - categorical_accuracy: 0.8360 - val_loss: 1.1727 - val_categorical_accuracy: 0.8111\n",
      "Epoch 22/80\n",
      "150/150 - 1s - loss: 0.7853 - categorical_accuracy: 0.8498 - val_loss: 1.1092 - val_categorical_accuracy: 0.8243\n",
      "Epoch 23/80\n",
      "150/150 - 1s - loss: 0.7924 - categorical_accuracy: 0.8467 - val_loss: 1.1648 - val_categorical_accuracy: 0.8220\n",
      "Epoch 24/80\n",
      "150/150 - 1s - loss: 0.7494 - categorical_accuracy: 0.8541 - val_loss: 1.1667 - val_categorical_accuracy: 0.8257\n",
      "Epoch 25/80\n",
      "150/150 - 1s - loss: 0.6981 - categorical_accuracy: 0.8635 - val_loss: 1.1246 - val_categorical_accuracy: 0.8220\n",
      "Epoch 26/80\n",
      "150/150 - 1s - loss: 0.7124 - categorical_accuracy: 0.8587 - val_loss: 1.1043 - val_categorical_accuracy: 0.8301\n",
      "Epoch 27/80\n",
      "150/150 - 1s - loss: 0.6546 - categorical_accuracy: 0.8702 - val_loss: 1.1375 - val_categorical_accuracy: 0.8275\n",
      "Epoch 28/80\n",
      "150/150 - 1s - loss: 0.6420 - categorical_accuracy: 0.8742 - val_loss: 1.0950 - val_categorical_accuracy: 0.8214\n",
      "Epoch 29/80\n",
      "150/150 - 1s - loss: 0.6309 - categorical_accuracy: 0.8736 - val_loss: 1.0859 - val_categorical_accuracy: 0.8253\n",
      "Epoch 30/80\n",
      "150/150 - 1s - loss: 0.6142 - categorical_accuracy: 0.8776 - val_loss: 1.1335 - val_categorical_accuracy: 0.8234\n",
      "Epoch 31/80\n",
      "150/150 - 1s - loss: 0.5778 - categorical_accuracy: 0.8825 - val_loss: 1.0431 - val_categorical_accuracy: 0.8367\n",
      "Epoch 32/80\n",
      "150/150 - 1s - loss: 0.5675 - categorical_accuracy: 0.8859 - val_loss: 1.1176 - val_categorical_accuracy: 0.8223\n",
      "Epoch 33/80\n",
      "150/150 - 1s - loss: 0.5358 - categorical_accuracy: 0.8917 - val_loss: 1.0375 - val_categorical_accuracy: 0.8277\n",
      "Epoch 34/80\n",
      "150/150 - 1s - loss: 0.5520 - categorical_accuracy: 0.8881 - val_loss: 1.0687 - val_categorical_accuracy: 0.8344\n",
      "Epoch 35/80\n",
      "150/150 - 1s - loss: 0.5161 - categorical_accuracy: 0.8954 - val_loss: 1.0565 - val_categorical_accuracy: 0.8354\n",
      "Epoch 36/80\n",
      "150/150 - 1s - loss: 0.5268 - categorical_accuracy: 0.8947 - val_loss: 1.0822 - val_categorical_accuracy: 0.8285\n",
      "Epoch 37/80\n",
      "150/150 - 1s - loss: 0.5073 - categorical_accuracy: 0.8969 - val_loss: 1.0349 - val_categorical_accuracy: 0.8385\n",
      "Epoch 38/80\n",
      "150/150 - 1s - loss: 0.4787 - categorical_accuracy: 0.9052 - val_loss: 1.0135 - val_categorical_accuracy: 0.8415\n",
      "Epoch 39/80\n",
      "150/150 - 1s - loss: 0.4751 - categorical_accuracy: 0.9048 - val_loss: 1.0319 - val_categorical_accuracy: 0.8341\n",
      "Epoch 40/80\n",
      "150/150 - 1s - loss: 0.4723 - categorical_accuracy: 0.9050 - val_loss: 1.0532 - val_categorical_accuracy: 0.8408\n",
      "Epoch 41/80\n",
      "150/150 - 1s - loss: 0.4378 - categorical_accuracy: 0.9132 - val_loss: 1.0466 - val_categorical_accuracy: 0.8411\n",
      "Epoch 42/80\n",
      "150/150 - 1s - loss: 0.4235 - categorical_accuracy: 0.9149 - val_loss: 1.0358 - val_categorical_accuracy: 0.8447\n",
      "Epoch 43/80\n",
      "150/150 - 1s - loss: 0.4386 - categorical_accuracy: 0.9134 - val_loss: 1.0601 - val_categorical_accuracy: 0.8333\n",
      "Epoch 44/80\n",
      "150/150 - 1s - loss: 0.4041 - categorical_accuracy: 0.9213 - val_loss: 0.9860 - val_categorical_accuracy: 0.8396\n",
      "Epoch 45/80\n",
      "150/150 - 1s - loss: 0.4072 - categorical_accuracy: 0.9193 - val_loss: 1.0362 - val_categorical_accuracy: 0.8375\n",
      "Epoch 46/80\n",
      "150/150 - 1s - loss: 0.4030 - categorical_accuracy: 0.9200 - val_loss: 1.0224 - val_categorical_accuracy: 0.8389\n",
      "Epoch 47/80\n",
      "150/150 - 1s - loss: 0.3712 - categorical_accuracy: 0.9250 - val_loss: 1.0286 - val_categorical_accuracy: 0.8415\n",
      "Epoch 48/80\n",
      "150/150 - 1s - loss: 0.3640 - categorical_accuracy: 0.9284 - val_loss: 1.0076 - val_categorical_accuracy: 0.8375\n",
      "Epoch 49/80\n",
      "150/150 - 1s - loss: 0.3824 - categorical_accuracy: 0.9232 - val_loss: 1.0469 - val_categorical_accuracy: 0.8413\n",
      "Epoch 50/80\n",
      "150/150 - 1s - loss: 0.3527 - categorical_accuracy: 0.9310 - val_loss: 1.0112 - val_categorical_accuracy: 0.8432\n",
      "Epoch 51/80\n",
      "150/150 - 1s - loss: 0.3572 - categorical_accuracy: 0.9281 - val_loss: 1.0442 - val_categorical_accuracy: 0.8353\n",
      "Epoch 52/80\n",
      "150/150 - 1s - loss: 0.3460 - categorical_accuracy: 0.9304 - val_loss: 0.9734 - val_categorical_accuracy: 0.8480\n",
      "Epoch 53/80\n",
      "150/150 - 1s - loss: 0.3277 - categorical_accuracy: 0.9358 - val_loss: 1.0792 - val_categorical_accuracy: 0.8478\n",
      "Epoch 54/80\n",
      "150/150 - 1s - loss: 0.3168 - categorical_accuracy: 0.9398 - val_loss: 1.0217 - val_categorical_accuracy: 0.8464\n",
      "Epoch 55/80\n",
      "150/150 - 1s - loss: 0.3247 - categorical_accuracy: 0.9352 - val_loss: 0.9872 - val_categorical_accuracy: 0.8431\n",
      "Epoch 56/80\n",
      "150/150 - 1s - loss: 0.2872 - categorical_accuracy: 0.9441 - val_loss: 1.0270 - val_categorical_accuracy: 0.8401\n",
      "Epoch 57/80\n",
      "150/150 - 1s - loss: 0.3086 - categorical_accuracy: 0.9389 - val_loss: 1.0605 - val_categorical_accuracy: 0.8389\n",
      "Epoch 58/80\n",
      "150/150 - 1s - loss: 0.3143 - categorical_accuracy: 0.9388 - val_loss: 1.0574 - val_categorical_accuracy: 0.8411\n",
      "Epoch 59/80\n",
      "150/150 - 1s - loss: 0.2737 - categorical_accuracy: 0.9471 - val_loss: 1.0066 - val_categorical_accuracy: 0.8484\n",
      "Epoch 60/80\n",
      "150/150 - 1s - loss: 0.2854 - categorical_accuracy: 0.9439 - val_loss: 1.0213 - val_categorical_accuracy: 0.8419\n",
      "Epoch 61/80\n",
      "150/150 - 1s - loss: 0.2702 - categorical_accuracy: 0.9478 - val_loss: 1.1006 - val_categorical_accuracy: 0.8458\n",
      "Epoch 62/80\n",
      "150/150 - 1s - loss: 0.2712 - categorical_accuracy: 0.9482 - val_loss: 1.0307 - val_categorical_accuracy: 0.8411\n",
      "Epoch 63/80\n",
      "150/150 - 1s - loss: 0.2695 - categorical_accuracy: 0.9492 - val_loss: 1.0591 - val_categorical_accuracy: 0.8384\n",
      "Epoch 64/80\n",
      "150/150 - 2s - loss: 0.2588 - categorical_accuracy: 0.9505 - val_loss: 1.0373 - val_categorical_accuracy: 0.8471\n",
      "Epoch 65/80\n",
      "150/150 - 1s - loss: 0.2500 - categorical_accuracy: 0.9523 - val_loss: 0.9942 - val_categorical_accuracy: 0.8490\n",
      "Epoch 66/80\n",
      "150/150 - 1s - loss: 0.2322 - categorical_accuracy: 0.9551 - val_loss: 0.9914 - val_categorical_accuracy: 0.8413\n"
     ]
    },
    {
     "name": "stdout",
     "output_type": "stream",
     "text": [
      "Epoch 67/80\n",
      "150/150 - 1s - loss: 0.2389 - categorical_accuracy: 0.9529 - val_loss: 1.0516 - val_categorical_accuracy: 0.8465\n",
      "Epoch 68/80\n",
      "150/150 - 1s - loss: 0.2279 - categorical_accuracy: 0.9559 - val_loss: 1.0229 - val_categorical_accuracy: 0.8456\n",
      "Epoch 69/80\n",
      "150/150 - 1s - loss: 0.2350 - categorical_accuracy: 0.9540 - val_loss: 1.0438 - val_categorical_accuracy: 0.8331\n",
      "Epoch 70/80\n",
      "150/150 - 1s - loss: 0.2209 - categorical_accuracy: 0.9567 - val_loss: 0.9862 - val_categorical_accuracy: 0.8504\n",
      "Epoch 71/80\n",
      "150/150 - 1s - loss: 0.2119 - categorical_accuracy: 0.9605 - val_loss: 1.0375 - val_categorical_accuracy: 0.8438\n",
      "Epoch 72/80\n",
      "150/150 - 1s - loss: 0.2170 - categorical_accuracy: 0.9576 - val_loss: 0.9925 - val_categorical_accuracy: 0.8586\n",
      "Epoch 73/80\n",
      "150/150 - 1s - loss: 0.2146 - categorical_accuracy: 0.9584 - val_loss: 1.0183 - val_categorical_accuracy: 0.8530\n",
      "Epoch 74/80\n",
      "150/150 - 1s - loss: 0.1907 - categorical_accuracy: 0.9648 - val_loss: 1.0687 - val_categorical_accuracy: 0.8464\n",
      "Epoch 75/80\n",
      "150/150 - 1s - loss: 0.2028 - categorical_accuracy: 0.9632 - val_loss: 1.0206 - val_categorical_accuracy: 0.8445\n",
      "Epoch 76/80\n",
      "150/150 - 1s - loss: 0.1959 - categorical_accuracy: 0.9642 - val_loss: 1.0080 - val_categorical_accuracy: 0.8483\n",
      "Epoch 77/80\n",
      "150/150 - 1s - loss: 0.1993 - categorical_accuracy: 0.9629 - val_loss: 1.0393 - val_categorical_accuracy: 0.8454\n",
      "Epoch 78/80\n",
      "150/150 - 1s - loss: 0.1927 - categorical_accuracy: 0.9637 - val_loss: 1.0609 - val_categorical_accuracy: 0.8452\n",
      "Epoch 79/80\n",
      "150/150 - 1s - loss: 0.1874 - categorical_accuracy: 0.9642 - val_loss: 1.0216 - val_categorical_accuracy: 0.8466\n",
      "Epoch 80/80\n",
      "150/150 - 1s - loss: 0.1861 - categorical_accuracy: 0.9653 - val_loss: 1.0974 - val_categorical_accuracy: 0.8421\n"
     ]
    },
    {
     "name": "stderr",
     "output_type": "stream",
     "text": [
      "\r",
      " 67%|██████▋   | 2/3 [02:35<01:19, 79.80s/it]"
     ]
    },
    {
     "name": "stdout",
     "output_type": "stream",
     "text": [
      "0.9653124809265137 0.858593761920929\n",
      "Epoch 1/80\n",
      "150/150 - 2s - loss: 4.0258 - categorical_accuracy: 0.2321 - val_loss: 3.2572 - val_categorical_accuracy: 0.4064\n",
      "Epoch 2/80\n",
      "150/150 - 1s - loss: 3.2456 - categorical_accuracy: 0.4327 - val_loss: 2.7412 - val_categorical_accuracy: 0.5348\n",
      "Epoch 3/80\n",
      "150/150 - 1s - loss: 2.7816 - categorical_accuracy: 0.5278 - val_loss: 2.4358 - val_categorical_accuracy: 0.5996\n",
      "Epoch 4/80\n",
      "150/150 - 1s - loss: 2.4597 - categorical_accuracy: 0.5700 - val_loss: 2.1432 - val_categorical_accuracy: 0.6346\n",
      "Epoch 5/80\n",
      "150/150 - 1s - loss: 2.1798 - categorical_accuracy: 0.6166 - val_loss: 1.9399 - val_categorical_accuracy: 0.6664\n",
      "Epoch 6/80\n",
      "150/150 - 1s - loss: 1.9727 - categorical_accuracy: 0.6527 - val_loss: 1.7573 - val_categorical_accuracy: 0.7033\n",
      "Epoch 7/80\n",
      "150/150 - 1s - loss: 1.7947 - categorical_accuracy: 0.6802 - val_loss: 1.7030 - val_categorical_accuracy: 0.7164\n",
      "Epoch 8/80\n",
      "150/150 - 1s - loss: 1.6012 - categorical_accuracy: 0.7167 - val_loss: 1.6253 - val_categorical_accuracy: 0.7243\n",
      "Epoch 9/80\n",
      "150/150 - 1s - loss: 1.5155 - categorical_accuracy: 0.7337 - val_loss: 1.5540 - val_categorical_accuracy: 0.7521\n",
      "Epoch 10/80\n",
      "150/150 - 1s - loss: 1.4683 - categorical_accuracy: 0.7439 - val_loss: 1.5065 - val_categorical_accuracy: 0.7595\n",
      "Epoch 11/80\n",
      "150/150 - 1s - loss: 1.3741 - categorical_accuracy: 0.7547 - val_loss: 1.3704 - val_categorical_accuracy: 0.7794\n",
      "Epoch 12/80\n",
      "150/150 - 1s - loss: 1.2883 - categorical_accuracy: 0.7661 - val_loss: 1.4059 - val_categorical_accuracy: 0.7637\n",
      "Epoch 13/80\n",
      "150/150 - 1s - loss: 1.2182 - categorical_accuracy: 0.7785 - val_loss: 1.3260 - val_categorical_accuracy: 0.7888\n",
      "Epoch 14/80\n",
      "150/150 - 1s - loss: 1.1441 - categorical_accuracy: 0.7936 - val_loss: 1.3342 - val_categorical_accuracy: 0.7937\n",
      "Epoch 15/80\n",
      "150/150 - 1s - loss: 1.1134 - categorical_accuracy: 0.7953 - val_loss: 1.2695 - val_categorical_accuracy: 0.7889\n",
      "Epoch 16/80\n",
      "150/150 - 1s - loss: 1.0579 - categorical_accuracy: 0.8029 - val_loss: 1.2587 - val_categorical_accuracy: 0.7993\n",
      "Epoch 17/80\n",
      "150/150 - 1s - loss: 1.0119 - categorical_accuracy: 0.8114 - val_loss: 1.2432 - val_categorical_accuracy: 0.7956\n",
      "Epoch 18/80\n",
      "150/150 - 1s - loss: 0.9497 - categorical_accuracy: 0.8220 - val_loss: 1.1502 - val_categorical_accuracy: 0.8056\n",
      "Epoch 19/80\n",
      "150/150 - 1s - loss: 0.9158 - categorical_accuracy: 0.8279 - val_loss: 1.1934 - val_categorical_accuracy: 0.8152\n",
      "Epoch 20/80\n",
      "150/150 - 1s - loss: 0.9039 - categorical_accuracy: 0.8306 - val_loss: 1.2130 - val_categorical_accuracy: 0.8056\n",
      "Epoch 21/80\n",
      "150/150 - 1s - loss: 0.8232 - categorical_accuracy: 0.8420 - val_loss: 1.1956 - val_categorical_accuracy: 0.8017\n",
      "Epoch 22/80\n",
      "150/150 - 1s - loss: 0.7974 - categorical_accuracy: 0.8467 - val_loss: 1.1052 - val_categorical_accuracy: 0.8177\n",
      "Epoch 23/80\n",
      "150/150 - 1s - loss: 0.7584 - categorical_accuracy: 0.8527 - val_loss: 1.1414 - val_categorical_accuracy: 0.8219\n",
      "Epoch 24/80\n",
      "150/150 - 1s - loss: 0.7325 - categorical_accuracy: 0.8560 - val_loss: 1.1111 - val_categorical_accuracy: 0.8112\n",
      "Epoch 25/80\n",
      "150/150 - 1s - loss: 0.7284 - categorical_accuracy: 0.8560 - val_loss: 1.0589 - val_categorical_accuracy: 0.8221\n",
      "Epoch 26/80\n",
      "150/150 - 1s - loss: 0.6806 - categorical_accuracy: 0.8649 - val_loss: 1.1118 - val_categorical_accuracy: 0.8128\n",
      "Epoch 27/80\n",
      "150/150 - 1s - loss: 0.6512 - categorical_accuracy: 0.8702 - val_loss: 1.0785 - val_categorical_accuracy: 0.8219\n",
      "Epoch 28/80\n",
      "150/150 - 1s - loss: 0.6514 - categorical_accuracy: 0.8704 - val_loss: 1.1007 - val_categorical_accuracy: 0.8178\n",
      "Epoch 29/80\n",
      "150/150 - 1s - loss: 0.6159 - categorical_accuracy: 0.8768 - val_loss: 1.0105 - val_categorical_accuracy: 0.8355\n",
      "Epoch 30/80\n",
      "150/150 - 1s - loss: 0.6382 - categorical_accuracy: 0.8744 - val_loss: 1.0702 - val_categorical_accuracy: 0.8217\n",
      "Epoch 31/80\n",
      "150/150 - 1s - loss: 0.5793 - categorical_accuracy: 0.8836 - val_loss: 1.0379 - val_categorical_accuracy: 0.8323\n",
      "Epoch 32/80\n",
      "150/150 - 1s - loss: 0.5699 - categorical_accuracy: 0.8858 - val_loss: 1.0888 - val_categorical_accuracy: 0.8208\n",
      "Epoch 33/80\n",
      "150/150 - 1s - loss: 0.5606 - categorical_accuracy: 0.8882 - val_loss: 1.1046 - val_categorical_accuracy: 0.8276\n",
      "Epoch 34/80\n",
      "150/150 - 1s - loss: 0.5393 - categorical_accuracy: 0.8903 - val_loss: 1.0120 - val_categorical_accuracy: 0.8337\n",
      "Epoch 35/80\n",
      "150/150 - 1s - loss: 0.5304 - categorical_accuracy: 0.8908 - val_loss: 1.0236 - val_categorical_accuracy: 0.8380\n",
      "Epoch 36/80\n",
      "150/150 - 1s - loss: 0.4853 - categorical_accuracy: 0.9020 - val_loss: 1.0043 - val_categorical_accuracy: 0.8298\n",
      "Epoch 37/80\n",
      "150/150 - 1s - loss: 0.4821 - categorical_accuracy: 0.9021 - val_loss: 1.0424 - val_categorical_accuracy: 0.8292\n",
      "Epoch 38/80\n",
      "150/150 - 1s - loss: 0.4945 - categorical_accuracy: 0.9005 - val_loss: 1.0379 - val_categorical_accuracy: 0.8353\n",
      "Epoch 39/80\n",
      "150/150 - 1s - loss: 0.4627 - categorical_accuracy: 0.9069 - val_loss: 1.0617 - val_categorical_accuracy: 0.8329\n",
      "Epoch 40/80\n",
      "150/150 - 1s - loss: 0.4537 - categorical_accuracy: 0.9078 - val_loss: 1.0041 - val_categorical_accuracy: 0.8380\n",
      "Epoch 41/80\n",
      "150/150 - 1s - loss: 0.4640 - categorical_accuracy: 0.9053 - val_loss: 1.0186 - val_categorical_accuracy: 0.8349\n",
      "Epoch 42/80\n",
      "150/150 - 1s - loss: 0.4260 - categorical_accuracy: 0.9142 - val_loss: 1.0169 - val_categorical_accuracy: 0.8384\n",
      "Epoch 43/80\n",
      "150/150 - 1s - loss: 0.4233 - categorical_accuracy: 0.9124 - val_loss: 1.0153 - val_categorical_accuracy: 0.8396\n",
      "Epoch 44/80\n",
      "150/150 - 1s - loss: 0.4067 - categorical_accuracy: 0.9190 - val_loss: 1.0747 - val_categorical_accuracy: 0.8382\n",
      "Epoch 45/80\n",
      "150/150 - 1s - loss: 0.3830 - categorical_accuracy: 0.9229 - val_loss: 1.0106 - val_categorical_accuracy: 0.8414\n",
      "Epoch 46/80\n",
      "150/150 - 1s - loss: 0.3911 - categorical_accuracy: 0.9225 - val_loss: 1.0115 - val_categorical_accuracy: 0.8435\n",
      "Epoch 47/80\n",
      "150/150 - 1s - loss: 0.3665 - categorical_accuracy: 0.9285 - val_loss: 1.0457 - val_categorical_accuracy: 0.8311\n",
      "Epoch 48/80\n",
      "150/150 - 1s - loss: 0.3537 - categorical_accuracy: 0.9314 - val_loss: 1.0297 - val_categorical_accuracy: 0.8406\n",
      "Epoch 49/80\n",
      "150/150 - 1s - loss: 0.3407 - categorical_accuracy: 0.9312 - val_loss: 0.9833 - val_categorical_accuracy: 0.8460\n",
      "Epoch 50/80\n",
      "150/150 - 1s - loss: 0.3410 - categorical_accuracy: 0.9322 - val_loss: 0.9830 - val_categorical_accuracy: 0.8392\n",
      "Epoch 51/80\n",
      "150/150 - 1s - loss: 0.3316 - categorical_accuracy: 0.9343 - val_loss: 1.0262 - val_categorical_accuracy: 0.8393\n",
      "Epoch 52/80\n",
      "150/150 - 1s - loss: 0.3266 - categorical_accuracy: 0.9343 - val_loss: 1.0584 - val_categorical_accuracy: 0.8275\n",
      "Epoch 53/80\n",
      "150/150 - 1s - loss: 0.3321 - categorical_accuracy: 0.9349 - val_loss: 1.0315 - val_categorical_accuracy: 0.8428\n",
      "Epoch 54/80\n",
      "150/150 - 1s - loss: 0.3312 - categorical_accuracy: 0.9326 - val_loss: 1.0344 - val_categorical_accuracy: 0.8353\n",
      "Epoch 55/80\n",
      "150/150 - 1s - loss: 0.3126 - categorical_accuracy: 0.9373 - val_loss: 1.0136 - val_categorical_accuracy: 0.8423\n",
      "Epoch 56/80\n",
      "150/150 - 1s - loss: 0.3016 - categorical_accuracy: 0.9399 - val_loss: 1.0468 - val_categorical_accuracy: 0.8380\n",
      "Epoch 57/80\n",
      "150/150 - 1s - loss: 0.2897 - categorical_accuracy: 0.9438 - val_loss: 1.0366 - val_categorical_accuracy: 0.8458\n",
      "Epoch 58/80\n",
      "150/150 - 1s - loss: 0.2832 - categorical_accuracy: 0.9441 - val_loss: 1.0402 - val_categorical_accuracy: 0.8474\n",
      "Epoch 59/80\n",
      "150/150 - 1s - loss: 0.2891 - categorical_accuracy: 0.9418 - val_loss: 1.0260 - val_categorical_accuracy: 0.8380\n",
      "Epoch 60/80\n",
      "150/150 - 1s - loss: 0.2822 - categorical_accuracy: 0.9431 - val_loss: 0.9910 - val_categorical_accuracy: 0.8507\n",
      "Epoch 61/80\n",
      "150/150 - 1s - loss: 0.2609 - categorical_accuracy: 0.9498 - val_loss: 1.0383 - val_categorical_accuracy: 0.8314\n",
      "Epoch 62/80\n",
      "150/150 - 1s - loss: 0.2717 - categorical_accuracy: 0.9470 - val_loss: 0.9782 - val_categorical_accuracy: 0.8454\n",
      "Epoch 63/80\n",
      "150/150 - 1s - loss: 0.2440 - categorical_accuracy: 0.9534 - val_loss: 1.0451 - val_categorical_accuracy: 0.8454\n",
      "Epoch 64/80\n",
      "150/150 - 1s - loss: 0.2309 - categorical_accuracy: 0.9559 - val_loss: 0.9887 - val_categorical_accuracy: 0.8414\n",
      "Epoch 65/80\n",
      "150/150 - 1s - loss: 0.2479 - categorical_accuracy: 0.9512 - val_loss: 1.0490 - val_categorical_accuracy: 0.8389\n",
      "Epoch 66/80\n",
      "150/150 - 1s - loss: 0.2373 - categorical_accuracy: 0.9543 - val_loss: 1.0297 - val_categorical_accuracy: 0.8401\n"
     ]
    },
    {
     "name": "stdout",
     "output_type": "stream",
     "text": [
      "Epoch 67/80\n",
      "150/150 - 1s - loss: 0.2325 - categorical_accuracy: 0.9546 - val_loss: 1.0383 - val_categorical_accuracy: 0.8424\n",
      "Epoch 68/80\n",
      "150/150 - 1s - loss: 0.2249 - categorical_accuracy: 0.9577 - val_loss: 0.9957 - val_categorical_accuracy: 0.8392\n",
      "Epoch 69/80\n",
      "150/150 - 1s - loss: 0.2196 - categorical_accuracy: 0.9593 - val_loss: 1.0160 - val_categorical_accuracy: 0.8424\n",
      "Epoch 70/80\n",
      "150/150 - 1s - loss: 0.2169 - categorical_accuracy: 0.9585 - val_loss: 1.0485 - val_categorical_accuracy: 0.8336\n"
     ]
    },
    {
     "name": "stderr",
     "output_type": "stream",
     "text": [
      "100%|██████████| 3/3 [03:51<00:00, 77.29s/it]"
     ]
    },
    {
     "name": "stdout",
     "output_type": "stream",
     "text": [
      "0.9593489766120911 0.8506510257720947\n"
     ]
    },
    {
     "name": "stderr",
     "output_type": "stream",
     "text": [
      "\n"
     ]
    },
    {
     "data": {
      "text/plain": [
       "('SCORES:', 0.9576302170753479, 0.853515625)"
      ]
     },
     "execution_count": 45,
     "metadata": {},
     "output_type": "execute_result"
    },
    {
     "data": {
      "image/png": "[encoded data removed]",
      "text/plain": [
       "<Figure size 432x288 with 1 Axes>"
      ]
     },
     "metadata": {
      "needs_background": "light"
     },
     "output_type": "display_data"
    }
   ],
   "source": [
    "early_stopping_callback = tf.keras.callbacks.EarlyStopping(\n",
    "            monitor=\"val_categorical_accuracy\",\n",
    "            min_delta=0,\n",
    "            patience=10,\n",
    "            verbose=0,\n",
    "            mode=\"auto\",\n",
    "            baseline=None,\n",
    "            restore_best_weights=True,\n",
    "        )\n",
    "\n",
    "BATCH_SIZE = 256\n",
    "train_gen = data_generator(terms_vecs_train, terms_codes_train, concepts_vecs, batch_size=BATCH_SIZE)\n",
    "test_gen = data_generator(terms_vecs_test, terms_codes_test, concepts_vecs, batch_size=BATCH_SIZE)\n",
    "\n",
    "train_acc_scores, test_acc_scores = [], []\n",
    "for iteration in tqdm(range(3)):\n",
    "    model = get_model()\n",
    "    \n",
    "    history = model.fit_generator(train_gen, \n",
    "              epochs=80,\n",
    "              verbose=2,\n",
    "              steps_per_epoch=150,\n",
    "              validation_data=test_gen, validation_steps=30,\n",
    "              callbacks=[early_stopping_callback])\n",
    "\n",
    "    max_train = np.array(history.history['categorical_accuracy']).max()\n",
    "    max_val   = np.array(history.history['val_categorical_accuracy']).max()\n",
    "    train_acc_scores.append(max_train)\n",
    "    test_acc_scores.append(max_val)\n",
    "    print(max_train, max_val)\n",
    "    plt.plot(history.history['categorical_accuracy'])\n",
    "    plt.plot(history.history['val_categorical_accuracy'])\n",
    "    \n",
    "\"SCORES:\", np.array(train_acc_scores).mean(), np.array(test_acc_scores).mean()"
   ]
  },
  {
   "cell_type": "code",
   "execution_count": null,
   "metadata": {},
   "outputs": [],
   "source": []
  },
  {
   "cell_type": "code",
   "execution_count": null,
   "metadata": {},
   "outputs": [],
   "source": []
  },
  {
   "cell_type": "code",
   "execution_count": null,
   "metadata": {},
   "outputs": [],
   "source": []
  },
  {
   "cell_type": "code",
   "execution_count": null,
   "metadata": {},
   "outputs": [],
   "source": []
  },
  {
   "cell_type": "code",
   "execution_count": null,
   "metadata": {},
   "outputs": [],
   "source": []
  }
 ],
 "metadata": {
  "kernelspec": {
   "display_name": "Python 3",
   "language": "python",
   "name": "python3"
  },
  "language_info": {
   "codemirror_mode": {
    "name": "ipython",
    "version": 3
   },
   "file_extension": ".py",
   "mimetype": "text/x-python",
   "name": "python",
   "nbconvert_exporter": "python",
   "pygments_lexer": "ipython3",
   "version": "3.6.8"
  }
 },
 "nbformat": 4,
 "nbformat_minor": 4
}
