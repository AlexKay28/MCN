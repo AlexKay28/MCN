{
 "cells": [
  {
   "cell_type": "code",
   "execution_count": 1,
   "metadata": {},
   "outputs": [],
   "source": [
    "import numpy as np\n",
    "import pandas as pd\n",
    "import seaborn as sns\n",
    "import matplotlib.pyplot as plt\n",
    "\n",
    "from matplotlib_venn import venn2\n"
   ]
  },
  {
   "cell_type": "code",
   "execution_count": 2,
   "metadata": {},
   "outputs": [],
   "source": [
    "pd.set_option('display.max_rows', 20)\n",
    "pd.set_option('display.max_columns', 20)\n",
    "pd.set_option('display.width', 5000)"
   ]
  },
  {
   "cell_type": "markdown",
   "metadata": {},
   "source": [
    "# SMM4H21"
   ]
  },
  {
   "cell_type": "code",
   "execution_count": 71,
   "metadata": {
    "scrolled": true
   },
   "outputs": [
    {
     "data": {
      "text/html": [
       "<div>\n",
       "<style scoped>\n",
       "    .dataframe tbody tr th:only-of-type {\n",
       "        vertical-align: middle;\n",
       "    }\n",
       "\n",
       "    .dataframe tbody tr th {\n",
       "        vertical-align: top;\n",
       "    }\n",
       "\n",
       "    .dataframe thead th {\n",
       "        text-align: right;\n",
       "    }\n",
       "</style>\n",
       "<table border=\"1\" class=\"dataframe\">\n",
       "  <thead>\n",
       "    <tr style=\"text-align: right;\">\n",
       "      <th></th>\n",
       "      <th>term</th>\n",
       "      <th>start</th>\n",
       "      <th>end</th>\n",
       "      <th>text</th>\n",
       "      <th>code</th>\n",
       "    </tr>\n",
       "  </thead>\n",
       "  <tbody>\n",
       "    <tr>\n",
       "      <th>0</th>\n",
       "      <td>feel kinda terrible</td>\n",
       "      <td>49</td>\n",
       "      <td>68</td>\n",
       "      <td>i better go to bed.. effexor withdrawal makes ...</td>\n",
       "      <td>10016370</td>\n",
       "    </tr>\n",
       "    <tr>\n",
       "      <th>1</th>\n",
       "      <td>put much weight on</td>\n",
       "      <td>64</td>\n",
       "      <td>82</td>\n",
       "      <td>@rayvenmental yeah the first time i was on ola...</td>\n",
       "      <td>10047896</td>\n",
       "    </tr>\n",
       "    <tr>\n",
       "      <th>2</th>\n",
       "      <td>feeling like absolute shit</td>\n",
       "      <td>42</td>\n",
       "      <td>68</td>\n",
       "      <td>forgetting to take meds then having a day feel...</td>\n",
       "      <td>10016370</td>\n",
       "    </tr>\n",
       "    <tr>\n",
       "      <th>3</th>\n",
       "      <td>depressed</td>\n",
       "      <td>136</td>\n",
       "      <td>145</td>\n",
       "      <td>but still dr. maria jasinskas was right &amp;amp; ...</td>\n",
       "      <td>10012378</td>\n",
       "    </tr>\n",
       "    <tr>\n",
       "      <th>4</th>\n",
       "      <td>Swollen feet</td>\n",
       "      <td>116</td>\n",
       "      <td>128</td>\n",
       "      <td>day has been a right off. missed opticians&amp;amp...</td>\n",
       "      <td>10042693</td>\n",
       "    </tr>\n",
       "    <tr>\n",
       "      <th>...</th>\n",
       "      <td>...</td>\n",
       "      <td>...</td>\n",
       "      <td>...</td>\n",
       "      <td>...</td>\n",
       "      <td>...</td>\n",
       "    </tr>\n",
       "    <tr>\n",
       "      <th>1364</th>\n",
       "      <td>limping</td>\n",
       "      <td>102</td>\n",
       "      <td>110</td>\n",
       "      <td>09.26 day 12 rivaroxaban diary:  headache, rig...</td>\n",
       "      <td>10058726</td>\n",
       "    </tr>\n",
       "    <tr>\n",
       "      <th>1365</th>\n",
       "      <td>back pain</td>\n",
       "      <td>79</td>\n",
       "      <td>88</td>\n",
       "      <td>09.26 day 12 rivaroxaban diary:  headache, rig...</td>\n",
       "      <td>10003988</td>\n",
       "    </tr>\n",
       "    <tr>\n",
       "      <th>1366</th>\n",
       "      <td>fatigue</td>\n",
       "      <td>60</td>\n",
       "      <td>67</td>\n",
       "      <td>@uclaibd i never had bleeding or vomiting just...</td>\n",
       "      <td>10016256</td>\n",
       "    </tr>\n",
       "    <tr>\n",
       "      <th>1367</th>\n",
       "      <td>anger</td>\n",
       "      <td>49</td>\n",
       "      <td>54</td>\n",
       "      <td>vyvanse is really taking its toll now #headach...</td>\n",
       "      <td>10002368</td>\n",
       "    </tr>\n",
       "    <tr>\n",
       "      <th>1368</th>\n",
       "      <td>tremors</td>\n",
       "      <td>96</td>\n",
       "      <td>103</td>\n",
       "      <td>@upasbook Great read as always. I was on Cymba...</td>\n",
       "      <td>10044565</td>\n",
       "    </tr>\n",
       "  </tbody>\n",
       "</table>\n",
       "<p>1369 rows × 5 columns</p>\n",
       "</div>"
      ],
      "text/plain": [
       "                            term  start  end                                               text      code\n",
       "0            feel kinda terrible     49   68  i better go to bed.. effexor withdrawal makes ...  10016370\n",
       "1             put much weight on     64   82  @rayvenmental yeah the first time i was on ola...  10047896\n",
       "2     feeling like absolute shit     42   68  forgetting to take meds then having a day feel...  10016370\n",
       "3                      depressed    136  145  but still dr. maria jasinskas was right &amp; ...  10012378\n",
       "4                   Swollen feet    116  128  day has been a right off. missed opticians&amp...  10042693\n",
       "...                          ...    ...  ...                                                ...       ...\n",
       "1364                    limping     102  110  09.26 day 12 rivaroxaban diary:  headache, rig...  10058726\n",
       "1365                   back pain     79   88  09.26 day 12 rivaroxaban diary:  headache, rig...  10003988\n",
       "1366                     fatigue     60   67  @uclaibd i never had bleeding or vomiting just...  10016256\n",
       "1367                       anger     49   54  vyvanse is really taking its toll now #headach...  10002368\n",
       "1368                     tremors     96  103  @upasbook Great read as always. I was on Cymba...  10044565\n",
       "\n",
       "[1369 rows x 5 columns]"
      ]
     },
     "execution_count": 71,
     "metadata": {},
     "output_type": "execute_result"
    }
   ],
   "source": [
    "smm4h21_train = pd.read_csv('../../data/interim/smm4h21/train.csv')\n",
    "smm4h21_test = pd.read_csv('../../data/interim/smm4h21/test.csv')\n",
    "smm4h21_train"
   ]
  },
  {
   "cell_type": "code",
   "execution_count": 72,
   "metadata": {
    "scrolled": false
   },
   "outputs": [
    {
     "data": {
      "text/html": [
       "<div>\n",
       "<style scoped>\n",
       "    .dataframe tbody tr th:only-of-type {\n",
       "        vertical-align: middle;\n",
       "    }\n",
       "\n",
       "    .dataframe tbody tr th {\n",
       "        vertical-align: top;\n",
       "    }\n",
       "\n",
       "    .dataframe thead th {\n",
       "        text-align: right;\n",
       "    }\n",
       "</style>\n",
       "<table border=\"1\" class=\"dataframe\">\n",
       "  <thead>\n",
       "    <tr style=\"text-align: right;\">\n",
       "      <th></th>\n",
       "      <th>term</th>\n",
       "      <th>start</th>\n",
       "      <th>end</th>\n",
       "      <th>text</th>\n",
       "      <th>code</th>\n",
       "    </tr>\n",
       "  </thead>\n",
       "  <tbody>\n",
       "    <tr>\n",
       "      <th>0</th>\n",
       "      <td>tired</td>\n",
       "      <td>8</td>\n",
       "      <td>13</td>\n",
       "      <td>i am so tired right now. like i feel like i us...</td>\n",
       "      <td>10043890</td>\n",
       "    </tr>\n",
       "    <tr>\n",
       "      <th>1</th>\n",
       "      <td>gained over 20 lbs</td>\n",
       "      <td>68</td>\n",
       "      <td>86</td>\n",
       "      <td>@reneeliedig hi idk who you are but i just wan...</td>\n",
       "      <td>10047986</td>\n",
       "    </tr>\n",
       "    <tr>\n",
       "      <th>2</th>\n",
       "      <td>addict</td>\n",
       "      <td>42</td>\n",
       "      <td>48</td>\n",
       "      <td>@_kassidymariee maybe it's just a vyvanse addi...</td>\n",
       "      <td>10012336</td>\n",
       "    </tr>\n",
       "    <tr>\n",
       "      <th>3</th>\n",
       "      <td>Desperation</td>\n",
       "      <td>124</td>\n",
       "      <td>135</td>\n",
       "      <td>#schizophrenia #seroquel #sideeffects uncontro...</td>\n",
       "      <td>10016344</td>\n",
       "    </tr>\n",
       "    <tr>\n",
       "      <th>4</th>\n",
       "      <td>common for apartments to be haunted</td>\n",
       "      <td>79</td>\n",
       "      <td>114</td>\n",
       "      <td>the toilet just flushed itself.  my apartment ...</td>\n",
       "      <td>10022989</td>\n",
       "    </tr>\n",
       "    <tr>\n",
       "      <th>...</th>\n",
       "      <td>...</td>\n",
       "      <td>...</td>\n",
       "      <td>...</td>\n",
       "      <td>...</td>\n",
       "      <td>...</td>\n",
       "    </tr>\n",
       "    <tr>\n",
       "      <th>338</th>\n",
       "      <td>zombie</td>\n",
       "      <td>103</td>\n",
       "      <td>109</td>\n",
       "      <td>seriously if you are getting off cymbalta tape...</td>\n",
       "      <td>10016384</td>\n",
       "    </tr>\n",
       "    <tr>\n",
       "      <th>339</th>\n",
       "      <td>withdrawals</td>\n",
       "      <td>9</td>\n",
       "      <td>20</td>\n",
       "      <td>cymbalta withdrawals. need to get script. head...</td>\n",
       "      <td>10073281</td>\n",
       "    </tr>\n",
       "    <tr>\n",
       "      <th>340</th>\n",
       "      <td>back, hip, and leg aches</td>\n",
       "      <td>72</td>\n",
       "      <td>96</td>\n",
       "      <td>04.46 day 23 rivaroxaban diary. Much better th...</td>\n",
       "      <td>10003978</td>\n",
       "    </tr>\n",
       "    <tr>\n",
       "      <th>341</th>\n",
       "      <td>eyes worse</td>\n",
       "      <td>49</td>\n",
       "      <td>59</td>\n",
       "      <td>@joanne__howe enbrel is a miracle but it made ...</td>\n",
       "      <td>10047516</td>\n",
       "    </tr>\n",
       "    <tr>\n",
       "      <th>342</th>\n",
       "      <td>RLS</td>\n",
       "      <td>74</td>\n",
       "      <td>77</td>\n",
       "      <td>although taking it now would run counter to my...</td>\n",
       "      <td>10038741</td>\n",
       "    </tr>\n",
       "  </tbody>\n",
       "</table>\n",
       "<p>343 rows × 5 columns</p>\n",
       "</div>"
      ],
      "text/plain": [
       "                                    term  start  end                                               text      code\n",
       "0                                  tired      8   13  i am so tired right now. like i feel like i us...  10043890\n",
       "1                     gained over 20 lbs     68   86  @reneeliedig hi idk who you are but i just wan...  10047986\n",
       "2                                 addict     42   48  @_kassidymariee maybe it's just a vyvanse addi...  10012336\n",
       "3                            Desperation    124  135  #schizophrenia #seroquel #sideeffects uncontro...  10016344\n",
       "4    common for apartments to be haunted     79  114  the toilet just flushed itself.  my apartment ...  10022989\n",
       "..                                   ...    ...  ...                                                ...       ...\n",
       "338                               zombie    103  109  seriously if you are getting off cymbalta tape...  10016384\n",
       "339                          withdrawals      9   20  cymbalta withdrawals. need to get script. head...  10073281\n",
       "340             back, hip, and leg aches     72   96  04.46 day 23 rivaroxaban diary. Much better th...  10003978\n",
       "341                           eyes worse     49   59  @joanne__howe enbrel is a miracle but it made ...  10047516\n",
       "342                                  RLS     74   77  although taking it now would run counter to my...  10038741\n",
       "\n",
       "[343 rows x 5 columns]"
      ]
     },
     "execution_count": 72,
     "metadata": {},
     "output_type": "execute_result"
    }
   ],
   "source": [
    "smm4h21_test"
   ]
  },
  {
   "cell_type": "code",
   "execution_count": 73,
   "metadata": {},
   "outputs": [],
   "source": [
    "smm4h21_train = smm4h21_train.dropna(axis=1)\n",
    "smm4h21_train['code'] = smm4h21_train['code'].astype(\"int64\")\n",
    "smm4h21_train['span_len'] = smm4h21_train.apply(lambda x: x['end']-x['start'], axis=1)\n",
    "\n",
    "smm4h21_test = smm4h21_test.dropna(axis=1)\n",
    "smm4h21_test['code'] = smm4h21_test['code'].astype(\"int64\")\n",
    "smm4h21_test['span_len'] = smm4h21_test.apply(lambda x: x['end']-x['start'], axis=1)"
   ]
  },
  {
   "cell_type": "code",
   "execution_count": 74,
   "metadata": {
    "scrolled": true
   },
   "outputs": [
    {
     "name": "stdout",
     "output_type": "stream",
     "text": [
      "<class 'pandas.core.frame.DataFrame'>\n",
      "RangeIndex: 1369 entries, 0 to 1368\n",
      "Data columns (total 6 columns):\n",
      " #   Column    Non-Null Count  Dtype \n",
      "---  ------    --------------  ----- \n",
      " 0   term      1369 non-null   object\n",
      " 1   start     1369 non-null   int64 \n",
      " 2   end       1369 non-null   int64 \n",
      " 3   text      1369 non-null   object\n",
      " 4   code      1369 non-null   int64 \n",
      " 5   span_len  1369 non-null   int64 \n",
      "dtypes: int64(4), object(2)\n",
      "memory usage: 64.3+ KB\n"
     ]
    }
   ],
   "source": [
    "smm4h21_train.info()"
   ]
  },
  {
   "cell_type": "code",
   "execution_count": 75,
   "metadata": {
    "scrolled": false
   },
   "outputs": [
    {
     "name": "stdout",
     "output_type": "stream",
     "text": [
      "<class 'pandas.core.frame.DataFrame'>\n",
      "RangeIndex: 343 entries, 0 to 342\n",
      "Data columns (total 6 columns):\n",
      " #   Column    Non-Null Count  Dtype \n",
      "---  ------    --------------  ----- \n",
      " 0   term      343 non-null    object\n",
      " 1   start     343 non-null    int64 \n",
      " 2   end       343 non-null    int64 \n",
      " 3   text      343 non-null    object\n",
      " 4   code      343 non-null    int64 \n",
      " 5   span_len  343 non-null    int64 \n",
      "dtypes: int64(4), object(2)\n",
      "memory usage: 16.2+ KB\n"
     ]
    }
   ],
   "source": [
    "smm4h21_test.info()"
   ]
  },
  {
   "cell_type": "code",
   "execution_count": 76,
   "metadata": {
    "scrolled": false
   },
   "outputs": [
    {
     "data": {
      "text/plain": [
       "<AxesSubplot:xlabel='code', ylabel='Count'>"
      ]
     },
     "execution_count": 76,
     "metadata": {},
     "output_type": "execute_result"
    },
    {
     "data": {
      "image/png": "[encoded data removed]",
      "text/plain": [
       "<Figure size 1080x432 with 1 Axes>"
      ]
     },
     "metadata": {
      "needs_background": "light"
     },
     "output_type": "display_data"
    }
   ],
   "source": [
    "bins = 200\n",
    "\n",
    "plt.figure(figsize=(15, 6))\n",
    "sns.histplot(data=smm4h21_train['code'], bins=bins, color='red')\n",
    "sns.histplot(data=smm4h21_test['code'], bins=bins, color='blue')"
   ]
  },
  {
   "cell_type": "code",
   "execution_count": 77,
   "metadata": {
    "scrolled": true
   },
   "outputs": [
    {
     "data": {
      "image/png": "[encoded data removed]",
      "text/plain": [
       "<Figure size 432x288 with 1 Axes>"
      ]
     },
     "metadata": {},
     "output_type": "display_data"
    }
   ],
   "source": [
    "train_labels = set(smm4h21_train['code'].unique())\n",
    "test_labels = set(smm4h21_test['code'].unique())\n",
    "\n",
    "venn2([train_labels, test_labels], ('TRAIN', 'TEST'))\n",
    "plt.show()"
   ]
  },
  {
   "cell_type": "code",
   "execution_count": 78,
   "metadata": {
    "scrolled": true
   },
   "outputs": [
    {
     "data": {
      "text/html": [
       "<div>\n",
       "<style scoped>\n",
       "    .dataframe tbody tr th:only-of-type {\n",
       "        vertical-align: middle;\n",
       "    }\n",
       "\n",
       "    .dataframe tbody tr th {\n",
       "        vertical-align: top;\n",
       "    }\n",
       "\n",
       "    .dataframe thead th {\n",
       "        text-align: right;\n",
       "    }\n",
       "</style>\n",
       "<table border=\"1\" class=\"dataframe\">\n",
       "  <thead>\n",
       "    <tr style=\"text-align: right;\">\n",
       "      <th></th>\n",
       "      <th>term</th>\n",
       "      <th>start</th>\n",
       "      <th>end</th>\n",
       "      <th>text</th>\n",
       "      <th>code</th>\n",
       "      <th>span_len</th>\n",
       "    </tr>\n",
       "  </thead>\n",
       "  <tbody>\n",
       "    <tr>\n",
       "      <th>count</th>\n",
       "      <td>1369</td>\n",
       "      <td>1369.000000</td>\n",
       "      <td>1369.000000</td>\n",
       "      <td>1369</td>\n",
       "      <td>1369.0</td>\n",
       "      <td>1369.000000</td>\n",
       "    </tr>\n",
       "    <tr>\n",
       "      <th>unique</th>\n",
       "      <td>940</td>\n",
       "      <td>NaN</td>\n",
       "      <td>NaN</td>\n",
       "      <td>1040</td>\n",
       "      <td>424.0</td>\n",
       "      <td>NaN</td>\n",
       "    </tr>\n",
       "    <tr>\n",
       "      <th>top</th>\n",
       "      <td>withdrawal</td>\n",
       "      <td>NaN</td>\n",
       "      <td>NaN</td>\n",
       "      <td>09.26 day 12 rivaroxaban diary:  headache, rig...</td>\n",
       "      <td>10073281.0</td>\n",
       "      <td>NaN</td>\n",
       "    </tr>\n",
       "    <tr>\n",
       "      <th>freq</th>\n",
       "      <td>29</td>\n",
       "      <td>NaN</td>\n",
       "      <td>NaN</td>\n",
       "      <td>8</td>\n",
       "      <td>42.0</td>\n",
       "      <td>NaN</td>\n",
       "    </tr>\n",
       "    <tr>\n",
       "      <th>mean</th>\n",
       "      <td>NaN</td>\n",
       "      <td>59.242513</td>\n",
       "      <td>70.949598</td>\n",
       "      <td>NaN</td>\n",
       "      <td>NaN</td>\n",
       "      <td>11.707085</td>\n",
       "    </tr>\n",
       "    <tr>\n",
       "      <th>std</th>\n",
       "      <td>NaN</td>\n",
       "      <td>32.915068</td>\n",
       "      <td>33.319202</td>\n",
       "      <td>NaN</td>\n",
       "      <td>NaN</td>\n",
       "      <td>7.414106</td>\n",
       "    </tr>\n",
       "    <tr>\n",
       "      <th>min</th>\n",
       "      <td>NaN</td>\n",
       "      <td>0.000000</td>\n",
       "      <td>5.000000</td>\n",
       "      <td>NaN</td>\n",
       "      <td>NaN</td>\n",
       "      <td>2.000000</td>\n",
       "    </tr>\n",
       "    <tr>\n",
       "      <th>25%</th>\n",
       "      <td>NaN</td>\n",
       "      <td>33.000000</td>\n",
       "      <td>45.000000</td>\n",
       "      <td>NaN</td>\n",
       "      <td>NaN</td>\n",
       "      <td>7.000000</td>\n",
       "    </tr>\n",
       "    <tr>\n",
       "      <th>50%</th>\n",
       "      <td>NaN</td>\n",
       "      <td>57.000000</td>\n",
       "      <td>68.000000</td>\n",
       "      <td>NaN</td>\n",
       "      <td>NaN</td>\n",
       "      <td>10.000000</td>\n",
       "    </tr>\n",
       "    <tr>\n",
       "      <th>75%</th>\n",
       "      <td>NaN</td>\n",
       "      <td>84.000000</td>\n",
       "      <td>96.000000</td>\n",
       "      <td>NaN</td>\n",
       "      <td>NaN</td>\n",
       "      <td>14.000000</td>\n",
       "    </tr>\n",
       "    <tr>\n",
       "      <th>max</th>\n",
       "      <td>NaN</td>\n",
       "      <td>139.000000</td>\n",
       "      <td>148.000000</td>\n",
       "      <td>NaN</td>\n",
       "      <td>NaN</td>\n",
       "      <td>105.000000</td>\n",
       "    </tr>\n",
       "  </tbody>\n",
       "</table>\n",
       "</div>"
      ],
      "text/plain": [
       "              term        start          end                                               text        code     span_len\n",
       "count         1369  1369.000000  1369.000000                                               1369      1369.0  1369.000000\n",
       "unique         940          NaN          NaN                                               1040       424.0          NaN\n",
       "top     withdrawal          NaN          NaN  09.26 day 12 rivaroxaban diary:  headache, rig...  10073281.0          NaN\n",
       "freq            29          NaN          NaN                                                  8        42.0          NaN\n",
       "mean           NaN    59.242513    70.949598                                                NaN         NaN    11.707085\n",
       "std            NaN    32.915068    33.319202                                                NaN         NaN     7.414106\n",
       "min            NaN     0.000000     5.000000                                                NaN         NaN     2.000000\n",
       "25%            NaN    33.000000    45.000000                                                NaN         NaN     7.000000\n",
       "50%            NaN    57.000000    68.000000                                                NaN         NaN    10.000000\n",
       "75%            NaN    84.000000    96.000000                                                NaN         NaN    14.000000\n",
       "max            NaN   139.000000   148.000000                                                NaN         NaN   105.000000"
      ]
     },
     "execution_count": 78,
     "metadata": {},
     "output_type": "execute_result"
    }
   ],
   "source": [
    "smm4h21_train['code'] = smm4h21_train['code'].astype(\"category\")\n",
    "smm4h21_train.describe(include='all')"
   ]
  },
  {
   "cell_type": "code",
   "execution_count": 11,
   "metadata": {
    "scrolled": true
   },
   "outputs": [
    {
     "data": {
      "text/html": [
       "<div>\n",
       "<style scoped>\n",
       "    .dataframe tbody tr th:only-of-type {\n",
       "        vertical-align: middle;\n",
       "    }\n",
       "\n",
       "    .dataframe tbody tr th {\n",
       "        vertical-align: top;\n",
       "    }\n",
       "\n",
       "    .dataframe thead th {\n",
       "        text-align: right;\n",
       "    }\n",
       "</style>\n",
       "<table border=\"1\" class=\"dataframe\">\n",
       "  <thead>\n",
       "    <tr style=\"text-align: right;\">\n",
       "      <th></th>\n",
       "      <th>term</th>\n",
       "      <th>start</th>\n",
       "      <th>end</th>\n",
       "      <th>text</th>\n",
       "      <th>code</th>\n",
       "      <th>span_len</th>\n",
       "    </tr>\n",
       "  </thead>\n",
       "  <tbody>\n",
       "    <tr>\n",
       "      <th>count</th>\n",
       "      <td>343</td>\n",
       "      <td>343.000000</td>\n",
       "      <td>343.000000</td>\n",
       "      <td>343</td>\n",
       "      <td>3.430000e+02</td>\n",
       "      <td>343.000000</td>\n",
       "    </tr>\n",
       "    <tr>\n",
       "      <th>unique</th>\n",
       "      <td>282</td>\n",
       "      <td>NaN</td>\n",
       "      <td>NaN</td>\n",
       "      <td>317</td>\n",
       "      <td>NaN</td>\n",
       "      <td>NaN</td>\n",
       "    </tr>\n",
       "    <tr>\n",
       "      <th>top</th>\n",
       "      <td>withdrawal</td>\n",
       "      <td>NaN</td>\n",
       "      <td>NaN</td>\n",
       "      <td>a comprehensive and accurate list of trazodone...</td>\n",
       "      <td>NaN</td>\n",
       "      <td>NaN</td>\n",
       "    </tr>\n",
       "    <tr>\n",
       "      <th>freq</th>\n",
       "      <td>10</td>\n",
       "      <td>NaN</td>\n",
       "      <td>NaN</td>\n",
       "      <td>3</td>\n",
       "      <td>NaN</td>\n",
       "      <td>NaN</td>\n",
       "    </tr>\n",
       "    <tr>\n",
       "      <th>mean</th>\n",
       "      <td>NaN</td>\n",
       "      <td>60.897959</td>\n",
       "      <td>73.064140</td>\n",
       "      <td>NaN</td>\n",
       "      <td>1.003066e+07</td>\n",
       "      <td>12.166181</td>\n",
       "    </tr>\n",
       "    <tr>\n",
       "      <th>std</th>\n",
       "      <td>NaN</td>\n",
       "      <td>34.930484</td>\n",
       "      <td>35.205188</td>\n",
       "      <td>NaN</td>\n",
       "      <td>1.842962e+04</td>\n",
       "      <td>8.092941</td>\n",
       "    </tr>\n",
       "    <tr>\n",
       "      <th>min</th>\n",
       "      <td>NaN</td>\n",
       "      <td>0.000000</td>\n",
       "      <td>9.000000</td>\n",
       "      <td>NaN</td>\n",
       "      <td>1.000008e+07</td>\n",
       "      <td>3.000000</td>\n",
       "    </tr>\n",
       "    <tr>\n",
       "      <th>25%</th>\n",
       "      <td>NaN</td>\n",
       "      <td>33.000000</td>\n",
       "      <td>45.000000</td>\n",
       "      <td>NaN</td>\n",
       "      <td>1.001634e+07</td>\n",
       "      <td>6.500000</td>\n",
       "    </tr>\n",
       "    <tr>\n",
       "      <th>50%</th>\n",
       "      <td>NaN</td>\n",
       "      <td>56.000000</td>\n",
       "      <td>68.000000</td>\n",
       "      <td>NaN</td>\n",
       "      <td>1.002881e+07</td>\n",
       "      <td>10.000000</td>\n",
       "    </tr>\n",
       "    <tr>\n",
       "      <th>75%</th>\n",
       "      <td>NaN</td>\n",
       "      <td>87.500000</td>\n",
       "      <td>99.500000</td>\n",
       "      <td>NaN</td>\n",
       "      <td>1.004319e+07</td>\n",
       "      <td>15.000000</td>\n",
       "    </tr>\n",
       "    <tr>\n",
       "      <th>max</th>\n",
       "      <td>NaN</td>\n",
       "      <td>136.000000</td>\n",
       "      <td>145.000000</td>\n",
       "      <td>NaN</td>\n",
       "      <td>1.007469e+07</td>\n",
       "      <td>48.000000</td>\n",
       "    </tr>\n",
       "  </tbody>\n",
       "</table>\n",
       "</div>"
      ],
      "text/plain": [
       "              term       start         end                                               text          code    span_len\n",
       "count          343  343.000000  343.000000                                                343  3.430000e+02  343.000000\n",
       "unique         282         NaN         NaN                                                317           NaN         NaN\n",
       "top     withdrawal         NaN         NaN  a comprehensive and accurate list of trazodone...           NaN         NaN\n",
       "freq            10         NaN         NaN                                                  3           NaN         NaN\n",
       "mean           NaN   60.897959   73.064140                                                NaN  1.003066e+07   12.166181\n",
       "std            NaN   34.930484   35.205188                                                NaN  1.842962e+04    8.092941\n",
       "min            NaN    0.000000    9.000000                                                NaN  1.000008e+07    3.000000\n",
       "25%            NaN   33.000000   45.000000                                                NaN  1.001634e+07    6.500000\n",
       "50%            NaN   56.000000   68.000000                                                NaN  1.002881e+07   10.000000\n",
       "75%            NaN   87.500000   99.500000                                                NaN  1.004319e+07   15.000000\n",
       "max            NaN  136.000000  145.000000                                                NaN  1.007469e+07   48.000000"
      ]
     },
     "execution_count": 11,
     "metadata": {},
     "output_type": "execute_result"
    }
   ],
   "source": [
    "smm4h21_test.describe(include='all')"
   ]
  },
  {
   "cell_type": "markdown",
   "metadata": {},
   "source": [
    "# SMM4H17"
   ]
  },
  {
   "cell_type": "code",
   "execution_count": 26,
   "metadata": {},
   "outputs": [
    {
     "name": "stdout",
     "output_type": "stream",
     "text": [
      "(0, 2)\n",
      "(1, 2)\n"
     ]
    },
    {
     "data": {
      "text/html": [
       "<div>\n",
       "<style scoped>\n",
       "    .dataframe tbody tr th:only-of-type {\n",
       "        vertical-align: middle;\n",
       "    }\n",
       "\n",
       "    .dataframe tbody tr th {\n",
       "        vertical-align: top;\n",
       "    }\n",
       "\n",
       "    .dataframe thead th {\n",
       "        text-align: right;\n",
       "    }\n",
       "</style>\n",
       "<table border=\"1\" class=\"dataframe\">\n",
       "  <thead>\n",
       "    <tr style=\"text-align: right;\">\n",
       "      <th></th>\n",
       "      <th>term</th>\n",
       "      <th>code</th>\n",
       "    </tr>\n",
       "  </thead>\n",
       "  <tbody>\n",
       "    <tr>\n",
       "      <th>0</th>\n",
       "      <td>addict</td>\n",
       "      <td>10013663</td>\n",
       "    </tr>\n",
       "    <tr>\n",
       "      <th>1</th>\n",
       "      <td>allergic reaction</td>\n",
       "      <td>10020751</td>\n",
       "    </tr>\n",
       "    <tr>\n",
       "      <th>2</th>\n",
       "      <td>pre-cutting</td>\n",
       "      <td>10022524</td>\n",
       "    </tr>\n",
       "    <tr>\n",
       "      <th>3</th>\n",
       "      <td>withdrawals</td>\n",
       "      <td>10048010</td>\n",
       "    </tr>\n",
       "    <tr>\n",
       "      <th>4</th>\n",
       "      <td>delirious</td>\n",
       "      <td>10012218</td>\n",
       "    </tr>\n",
       "    <tr>\n",
       "      <th>...</th>\n",
       "      <td>...</td>\n",
       "      <td>...</td>\n",
       "    </tr>\n",
       "    <tr>\n",
       "      <th>6645</th>\n",
       "      <td>sedation</td>\n",
       "      <td>10039897</td>\n",
       "    </tr>\n",
       "    <tr>\n",
       "      <th>6646</th>\n",
       "      <td>zombie</td>\n",
       "      <td>10016322</td>\n",
       "    </tr>\n",
       "    <tr>\n",
       "      <th>6647</th>\n",
       "      <td>hallucinations</td>\n",
       "      <td>10019063</td>\n",
       "    </tr>\n",
       "    <tr>\n",
       "      <th>6648</th>\n",
       "      <td>not go to sleep</td>\n",
       "      <td>10022437</td>\n",
       "    </tr>\n",
       "    <tr>\n",
       "      <th>6649</th>\n",
       "      <td>unable to sleep</td>\n",
       "      <td>10022437</td>\n",
       "    </tr>\n",
       "  </tbody>\n",
       "</table>\n",
       "<p>6650 rows × 2 columns</p>\n",
       "</div>"
      ],
      "text/plain": [
       "                   term      code\n",
       "0                addict  10013663\n",
       "1     allergic reaction  10020751\n",
       "2           pre-cutting  10022524\n",
       "3           withdrawals  10048010\n",
       "4             delirious  10012218\n",
       "...                 ...       ...\n",
       "6645           sedation  10039897\n",
       "6646             zombie  10016322\n",
       "6647     hallucinations  10019063\n",
       "6648    not go to sleep  10022437\n",
       "6649    unable to sleep  10022437\n",
       "\n",
       "[6650 rows x 2 columns]"
      ]
     },
     "execution_count": 26,
     "metadata": {},
     "output_type": "execute_result"
    }
   ],
   "source": [
    "smm4h17_train = pd.read_csv('../../data/interim/smm4h17/train.csv')\n",
    "smm4h17_test = pd.read_csv('../../data/interim/smm4h17/test.csv')\n",
    "\n",
    "smm4h17_train['code'] = smm4h17_train['code'].apply(lambda x: int(x) if str(x).isdigit() else None)\n",
    "print(smm4h17_train[smm4h17_train['code'].isna()].shape)\n",
    "smm4h17_train = smm4h17_train[~smm4h17_train['code'].isna()]\n",
    "\n",
    "smm4h17_test['code'] = smm4h17_test['code'].apply(lambda x: int(x) if str(x).isdigit() else None)\n",
    "print(smm4h17_test[smm4h17_test['code'].isna()].shape)\n",
    "smm4h17_test = smm4h17_test[~smm4h17_test['code'].isna()]\n",
    "smm4h17_train"
   ]
  },
  {
   "cell_type": "code",
   "execution_count": 27,
   "metadata": {},
   "outputs": [
    {
     "data": {
      "text/html": [
       "<div>\n",
       "<style scoped>\n",
       "    .dataframe tbody tr th:only-of-type {\n",
       "        vertical-align: middle;\n",
       "    }\n",
       "\n",
       "    .dataframe tbody tr th {\n",
       "        vertical-align: top;\n",
       "    }\n",
       "\n",
       "    .dataframe thead th {\n",
       "        text-align: right;\n",
       "    }\n",
       "</style>\n",
       "<table border=\"1\" class=\"dataframe\">\n",
       "  <thead>\n",
       "    <tr style=\"text-align: right;\">\n",
       "      <th></th>\n",
       "      <th>term</th>\n",
       "      <th>code</th>\n",
       "    </tr>\n",
       "  </thead>\n",
       "  <tbody>\n",
       "    <tr>\n",
       "      <th>0</th>\n",
       "      <td>sleepier</td>\n",
       "      <td>10041349.0</td>\n",
       "    </tr>\n",
       "    <tr>\n",
       "      <th>1</th>\n",
       "      <td>dreamt colors</td>\n",
       "      <td>10000125.0</td>\n",
       "    </tr>\n",
       "    <tr>\n",
       "      <th>2</th>\n",
       "      <td>zombie</td>\n",
       "      <td>10016322.0</td>\n",
       "    </tr>\n",
       "    <tr>\n",
       "      <th>3</th>\n",
       "      <td>headache</td>\n",
       "      <td>10019211.0</td>\n",
       "    </tr>\n",
       "    <tr>\n",
       "      <th>4</th>\n",
       "      <td>crazy</td>\n",
       "      <td>10061920.0</td>\n",
       "    </tr>\n",
       "    <tr>\n",
       "      <th>...</th>\n",
       "      <td>...</td>\n",
       "      <td>...</td>\n",
       "    </tr>\n",
       "    <tr>\n",
       "      <th>2495</th>\n",
       "      <td>sleptwalk</td>\n",
       "      <td>10041347.0</td>\n",
       "    </tr>\n",
       "    <tr>\n",
       "      <th>2496</th>\n",
       "      <td>fatigue</td>\n",
       "      <td>10016256.0</td>\n",
       "    </tr>\n",
       "    <tr>\n",
       "      <th>2497</th>\n",
       "      <td>headache</td>\n",
       "      <td>10019211.0</td>\n",
       "    </tr>\n",
       "    <tr>\n",
       "      <th>2498</th>\n",
       "      <td>out of it</td>\n",
       "      <td>10041349.0</td>\n",
       "    </tr>\n",
       "    <tr>\n",
       "      <th>2499</th>\n",
       "      <td>no sleep</td>\n",
       "      <td>10022437.0</td>\n",
       "    </tr>\n",
       "  </tbody>\n",
       "</table>\n",
       "<p>2499 rows × 2 columns</p>\n",
       "</div>"
      ],
      "text/plain": [
       "               term        code\n",
       "0          sleepier  10041349.0\n",
       "1     dreamt colors  10000125.0\n",
       "2            zombie  10016322.0\n",
       "3          headache  10019211.0\n",
       "4             crazy  10061920.0\n",
       "...             ...         ...\n",
       "2495      sleptwalk  10041347.0\n",
       "2496        fatigue  10016256.0\n",
       "2497       headache  10019211.0\n",
       "2498      out of it  10041349.0\n",
       "2499       no sleep  10022437.0\n",
       "\n",
       "[2499 rows x 2 columns]"
      ]
     },
     "execution_count": 27,
     "metadata": {},
     "output_type": "execute_result"
    }
   ],
   "source": [
    "smm4h17_test"
   ]
  },
  {
   "cell_type": "code",
   "execution_count": 14,
   "metadata": {},
   "outputs": [
    {
     "data": {
      "text/plain": [
       "<AxesSubplot:xlabel='code', ylabel='Count'>"
      ]
     },
     "execution_count": 14,
     "metadata": {},
     "output_type": "execute_result"
    },
    {
     "data": {
      "image/png": "[encoded data removed]",
      "text/plain": [
       "<Figure size 1080x432 with 1 Axes>"
      ]
     },
     "metadata": {
      "needs_background": "light"
     },
     "output_type": "display_data"
    }
   ],
   "source": [
    "bins = 200\n",
    "\n",
    "plt.figure(figsize=(15, 6))\n",
    "sns.histplot(data=smm4h17_train['code'], bins=bins, color='red')\n",
    "sns.histplot(data=smm4h17_test['code'], bins=bins, color='blue')"
   ]
  },
  {
   "cell_type": "code",
   "execution_count": 15,
   "metadata": {},
   "outputs": [
    {
     "data": {
      "image/png": "[encoded data removed]",
      "text/plain": [
       "<Figure size 432x288 with 1 Axes>"
      ]
     },
     "metadata": {},
     "output_type": "display_data"
    }
   ],
   "source": [
    "train_labels = set(smm4h17_train['code'].unique())\n",
    "test_labels = set(smm4h17_test['code'].unique())\n",
    "\n",
    "venn2([train_labels, test_labels], ('TRAIN', 'TEST'))\n",
    "plt.show()"
   ]
  },
  {
   "cell_type": "markdown",
   "metadata": {},
   "source": [
    "# Compare SMM4h 17 and 21"
   ]
  },
  {
   "cell_type": "code",
   "execution_count": 22,
   "metadata": {},
   "outputs": [
    {
     "data": {
      "text/plain": [
       "((8019, 6), (2842, 6))"
      ]
     },
     "execution_count": 22,
     "metadata": {},
     "output_type": "execute_result"
    }
   ],
   "source": [
    "smm4h_train = pd.concat([smm4h21_train, smm4h17_train], axis=0)\n",
    "smm4h_test = pd.concat([smm4h21_test, smm4h17_test], axis=0)\n",
    "\n",
    "smm4h_train.shape, smm4h_test.shape"
   ]
  },
  {
   "cell_type": "code",
   "execution_count": 23,
   "metadata": {},
   "outputs": [
    {
     "data": {
      "text/html": [
       "<div>\n",
       "<style scoped>\n",
       "    .dataframe tbody tr th:only-of-type {\n",
       "        vertical-align: middle;\n",
       "    }\n",
       "\n",
       "    .dataframe tbody tr th {\n",
       "        vertical-align: top;\n",
       "    }\n",
       "\n",
       "    .dataframe thead th {\n",
       "        text-align: right;\n",
       "    }\n",
       "</style>\n",
       "<table border=\"1\" class=\"dataframe\">\n",
       "  <thead>\n",
       "    <tr style=\"text-align: right;\">\n",
       "      <th></th>\n",
       "      <th>term</th>\n",
       "      <th>start</th>\n",
       "      <th>end</th>\n",
       "      <th>text</th>\n",
       "      <th>code</th>\n",
       "      <th>span_len</th>\n",
       "    </tr>\n",
       "  </thead>\n",
       "  <tbody>\n",
       "    <tr>\n",
       "      <th>0</th>\n",
       "      <td>libido</td>\n",
       "      <td>50.0</td>\n",
       "      <td>56.0</td>\n",
       "      <td>gimme one reason why i shouldn't have sex driv...</td>\n",
       "      <td>10024870</td>\n",
       "      <td>6.0</td>\n",
       "    </tr>\n",
       "    <tr>\n",
       "      <th>1</th>\n",
       "      <td>CRAVINGS</td>\n",
       "      <td>29.0</td>\n",
       "      <td>37.0</td>\n",
       "      <td>fuck here comes the nicotine cravings damn you...</td>\n",
       "      <td>10056484</td>\n",
       "      <td>8.0</td>\n",
       "    </tr>\n",
       "    <tr>\n",
       "      <th>2</th>\n",
       "      <td>hurt</td>\n",
       "      <td>50.0</td>\n",
       "      <td>54.0</td>\n",
       "      <td>almost blew out my arms &amp;amp; heels @ work. th...</td>\n",
       "      <td>10033371</td>\n",
       "      <td>4.0</td>\n",
       "    </tr>\n",
       "    <tr>\n",
       "      <th>3</th>\n",
       "      <td>been in bed</td>\n",
       "      <td>42.0</td>\n",
       "      <td>53.0</td>\n",
       "      <td>@teepeewest did you get floxed too?  i've been...</td>\n",
       "      <td>10048948</td>\n",
       "      <td>11.0</td>\n",
       "    </tr>\n",
       "    <tr>\n",
       "      <th>4</th>\n",
       "      <td>no appetite</td>\n",
       "      <td>10.0</td>\n",
       "      <td>21.0</td>\n",
       "      <td>i've had no appetite since i started on prozac...</td>\n",
       "      <td>10003028</td>\n",
       "      <td>11.0</td>\n",
       "    </tr>\n",
       "    <tr>\n",
       "      <th>...</th>\n",
       "      <td>...</td>\n",
       "      <td>...</td>\n",
       "      <td>...</td>\n",
       "      <td>...</td>\n",
       "      <td>...</td>\n",
       "      <td>...</td>\n",
       "    </tr>\n",
       "    <tr>\n",
       "      <th>6645</th>\n",
       "      <td>sedation</td>\n",
       "      <td>NaN</td>\n",
       "      <td>NaN</td>\n",
       "      <td>NaN</td>\n",
       "      <td>10039897</td>\n",
       "      <td>NaN</td>\n",
       "    </tr>\n",
       "    <tr>\n",
       "      <th>6646</th>\n",
       "      <td>zombie</td>\n",
       "      <td>NaN</td>\n",
       "      <td>NaN</td>\n",
       "      <td>NaN</td>\n",
       "      <td>10016322</td>\n",
       "      <td>NaN</td>\n",
       "    </tr>\n",
       "    <tr>\n",
       "      <th>6647</th>\n",
       "      <td>hallucinations</td>\n",
       "      <td>NaN</td>\n",
       "      <td>NaN</td>\n",
       "      <td>NaN</td>\n",
       "      <td>10019063</td>\n",
       "      <td>NaN</td>\n",
       "    </tr>\n",
       "    <tr>\n",
       "      <th>6648</th>\n",
       "      <td>not go to sleep</td>\n",
       "      <td>NaN</td>\n",
       "      <td>NaN</td>\n",
       "      <td>NaN</td>\n",
       "      <td>10022437</td>\n",
       "      <td>NaN</td>\n",
       "    </tr>\n",
       "    <tr>\n",
       "      <th>6649</th>\n",
       "      <td>unable to sleep</td>\n",
       "      <td>NaN</td>\n",
       "      <td>NaN</td>\n",
       "      <td>NaN</td>\n",
       "      <td>10022437</td>\n",
       "      <td>NaN</td>\n",
       "    </tr>\n",
       "  </tbody>\n",
       "</table>\n",
       "<p>8019 rows × 6 columns</p>\n",
       "</div>"
      ],
      "text/plain": [
       "                 term  start   end                                               text      code  span_len\n",
       "0              libido   50.0  56.0  gimme one reason why i shouldn't have sex driv...  10024870       6.0\n",
       "1            CRAVINGS   29.0  37.0  fuck here comes the nicotine cravings damn you...  10056484       8.0\n",
       "2                hurt   50.0  54.0  almost blew out my arms &amp; heels @ work. th...  10033371       4.0\n",
       "3         been in bed   42.0  53.0  @teepeewest did you get floxed too?  i've been...  10048948      11.0\n",
       "4         no appetite   10.0  21.0  i've had no appetite since i started on prozac...  10003028      11.0\n",
       "...               ...    ...   ...                                                ...       ...       ...\n",
       "6645         sedation    NaN   NaN                                                NaN  10039897       NaN\n",
       "6646           zombie    NaN   NaN                                                NaN  10016322       NaN\n",
       "6647   hallucinations    NaN   NaN                                                NaN  10019063       NaN\n",
       "6648  not go to sleep    NaN   NaN                                                NaN  10022437       NaN\n",
       "6649  unable to sleep    NaN   NaN                                                NaN  10022437       NaN\n",
       "\n",
       "[8019 rows x 6 columns]"
      ]
     },
     "execution_count": 23,
     "metadata": {},
     "output_type": "execute_result"
    }
   ],
   "source": [
    "smm4h_train"
   ]
  },
  {
   "cell_type": "code",
   "execution_count": 24,
   "metadata": {},
   "outputs": [
    {
     "data": {
      "text/plain": [
       "<AxesSubplot:xlabel='code', ylabel='Count'>"
      ]
     },
     "execution_count": 24,
     "metadata": {},
     "output_type": "execute_result"
    },
    {
     "data": {
      "image/png": "[encoded data removed]",
      "text/plain": [
       "<Figure size 1080x432 with 1 Axes>"
      ]
     },
     "metadata": {
      "needs_background": "light"
     },
     "output_type": "display_data"
    }
   ],
   "source": [
    "bins = 200\n",
    "\n",
    "plt.figure(figsize=(15, 6))\n",
    "sns.histplot(data=smm4h_train['code'], bins=bins, color='red')\n",
    "sns.histplot(data=smm4h17_test['code'], bins=bins, color='blue')"
   ]
  },
  {
   "cell_type": "code",
   "execution_count": 25,
   "metadata": {},
   "outputs": [
    {
     "data": {
      "image/png": "[encoded data removed]",
      "text/plain": [
       "<Figure size 432x288 with 1 Axes>"
      ]
     },
     "metadata": {},
     "output_type": "display_data"
    }
   ],
   "source": [
    "train_labels = set(smm4h_train['code'].unique())\n",
    "test_labels = set(smm4h_test['code'].unique())\n",
    "\n",
    "venn2([train_labels, test_labels], ('TRAIN', 'TEST'))\n",
    "plt.show()"
   ]
  },
  {
   "cell_type": "code",
   "execution_count": 38,
   "metadata": {},
   "outputs": [
    {
     "data": {
      "text/html": [
       "<div>\n",
       "<style scoped>\n",
       "    .dataframe tbody tr th:only-of-type {\n",
       "        vertical-align: middle;\n",
       "    }\n",
       "\n",
       "    .dataframe tbody tr th {\n",
       "        vertical-align: top;\n",
       "    }\n",
       "\n",
       "    .dataframe thead th {\n",
       "        text-align: right;\n",
       "    }\n",
       "</style>\n",
       "<table border=\"1\" class=\"dataframe\">\n",
       "  <thead>\n",
       "    <tr style=\"text-align: right;\">\n",
       "      <th></th>\n",
       "      <th>term</th>\n",
       "      <th>start</th>\n",
       "      <th>end</th>\n",
       "      <th>text</th>\n",
       "      <th>code</th>\n",
       "      <th>span_len</th>\n",
       "    </tr>\n",
       "  </thead>\n",
       "  <tbody>\n",
       "    <tr>\n",
       "      <th>count</th>\n",
       "      <td>8019</td>\n",
       "      <td>1369.000000</td>\n",
       "      <td>1369.000000</td>\n",
       "      <td>1369</td>\n",
       "      <td>8019.0</td>\n",
       "      <td>1369.000000</td>\n",
       "    </tr>\n",
       "    <tr>\n",
       "      <th>unique</th>\n",
       "      <td>3031</td>\n",
       "      <td>NaN</td>\n",
       "      <td>NaN</td>\n",
       "      <td>1042</td>\n",
       "      <td>786.0</td>\n",
       "      <td>NaN</td>\n",
       "    </tr>\n",
       "    <tr>\n",
       "      <th>top</th>\n",
       "      <td>withdrawal</td>\n",
       "      <td>NaN</td>\n",
       "      <td>NaN</td>\n",
       "      <td>09.26 day 12 rivaroxaban diary:  headache, rig...</td>\n",
       "      <td>10022437.0</td>\n",
       "      <td>NaN</td>\n",
       "    </tr>\n",
       "    <tr>\n",
       "      <th>freq</th>\n",
       "      <td>262</td>\n",
       "      <td>NaN</td>\n",
       "      <td>NaN</td>\n",
       "      <td>7</td>\n",
       "      <td>658.0</td>\n",
       "      <td>NaN</td>\n",
       "    </tr>\n",
       "    <tr>\n",
       "      <th>mean</th>\n",
       "      <td>NaN</td>\n",
       "      <td>58.574872</td>\n",
       "      <td>70.130752</td>\n",
       "      <td>NaN</td>\n",
       "      <td>NaN</td>\n",
       "      <td>11.555880</td>\n",
       "    </tr>\n",
       "    <tr>\n",
       "      <th>std</th>\n",
       "      <td>NaN</td>\n",
       "      <td>32.933241</td>\n",
       "      <td>33.402118</td>\n",
       "      <td>NaN</td>\n",
       "      <td>NaN</td>\n",
       "      <td>7.394283</td>\n",
       "    </tr>\n",
       "    <tr>\n",
       "      <th>min</th>\n",
       "      <td>NaN</td>\n",
       "      <td>0.000000</td>\n",
       "      <td>5.000000</td>\n",
       "      <td>NaN</td>\n",
       "      <td>NaN</td>\n",
       "      <td>2.000000</td>\n",
       "    </tr>\n",
       "    <tr>\n",
       "      <th>25%</th>\n",
       "      <td>NaN</td>\n",
       "      <td>32.000000</td>\n",
       "      <td>44.000000</td>\n",
       "      <td>NaN</td>\n",
       "      <td>NaN</td>\n",
       "      <td>7.000000</td>\n",
       "    </tr>\n",
       "    <tr>\n",
       "      <th>50%</th>\n",
       "      <td>NaN</td>\n",
       "      <td>57.000000</td>\n",
       "      <td>69.000000</td>\n",
       "      <td>NaN</td>\n",
       "      <td>NaN</td>\n",
       "      <td>10.000000</td>\n",
       "    </tr>\n",
       "    <tr>\n",
       "      <th>75%</th>\n",
       "      <td>NaN</td>\n",
       "      <td>83.000000</td>\n",
       "      <td>96.000000</td>\n",
       "      <td>NaN</td>\n",
       "      <td>NaN</td>\n",
       "      <td>14.000000</td>\n",
       "    </tr>\n",
       "    <tr>\n",
       "      <th>max</th>\n",
       "      <td>NaN</td>\n",
       "      <td>139.000000</td>\n",
       "      <td>148.000000</td>\n",
       "      <td>NaN</td>\n",
       "      <td>NaN</td>\n",
       "      <td>105.000000</td>\n",
       "    </tr>\n",
       "  </tbody>\n",
       "</table>\n",
       "</div>"
      ],
      "text/plain": [
       "              term        start          end                                               text        code     span_len\n",
       "count         8019  1369.000000  1369.000000                                               1369      8019.0  1369.000000\n",
       "unique        3031          NaN          NaN                                               1042       786.0          NaN\n",
       "top     withdrawal          NaN          NaN  09.26 day 12 rivaroxaban diary:  headache, rig...  10022437.0          NaN\n",
       "freq           262          NaN          NaN                                                  7       658.0          NaN\n",
       "mean           NaN    58.574872    70.130752                                                NaN         NaN    11.555880\n",
       "std            NaN    32.933241    33.402118                                                NaN         NaN     7.394283\n",
       "min            NaN     0.000000     5.000000                                                NaN         NaN     2.000000\n",
       "25%            NaN    32.000000    44.000000                                                NaN         NaN     7.000000\n",
       "50%            NaN    57.000000    69.000000                                                NaN         NaN    10.000000\n",
       "75%            NaN    83.000000    96.000000                                                NaN         NaN    14.000000\n",
       "max            NaN   139.000000   148.000000                                                NaN         NaN   105.000000"
      ]
     },
     "execution_count": 38,
     "metadata": {},
     "output_type": "execute_result"
    }
   ],
   "source": [
    "smm4h_train['code'] = smm4h_train['code'].astype(\"category\")\n",
    "smm4h_train.describe(include='all')"
   ]
  },
  {
   "cell_type": "markdown",
   "metadata": {},
   "source": [
    "# CADEC"
   ]
  },
  {
   "cell_type": "code",
   "execution_count": 28,
   "metadata": {},
   "outputs": [],
   "source": [
    "cadec_train = pd.read_csv('../../data/interim/cadec/train.csv')\n",
    "cadec_test = pd.read_csv('../../data/interim/cadec/test.csv')"
   ]
  },
  {
   "cell_type": "code",
   "execution_count": 30,
   "metadata": {},
   "outputs": [
    {
     "data": {
      "text/plain": [
       "((3809, 5), (953, 5))"
      ]
     },
     "execution_count": 30,
     "metadata": {},
     "output_type": "execute_result"
    }
   ],
   "source": [
    "cadec_train.shape, cadec_test.shape, "
   ]
  },
  {
   "cell_type": "code",
   "execution_count": 32,
   "metadata": {},
   "outputs": [
    {
     "data": {
      "text/plain": [
       "<AxesSubplot:xlabel='code', ylabel='Count'>"
      ]
     },
     "execution_count": 32,
     "metadata": {},
     "output_type": "execute_result"
    },
    {
     "data": {
      "image/png": "[encoded data removed]",
      "text/plain": [
       "<Figure size 1080x432 with 1 Axes>"
      ]
     },
     "metadata": {
      "needs_background": "light"
     },
     "output_type": "display_data"
    }
   ],
   "source": [
    "bins = 200\n",
    "\n",
    "plt.figure(figsize=(15, 6))\n",
    "sns.histplot(data=cadec_train['code'], bins=bins, color='red')\n",
    "sns.histplot(data=cadec_test['code'], bins=bins, color='blue')"
   ]
  },
  {
   "cell_type": "code",
   "execution_count": 33,
   "metadata": {},
   "outputs": [
    {
     "data": {
      "image/png": "[encoded data removed]",
      "text/plain": [
       "<Figure size 432x288 with 1 Axes>"
      ]
     },
     "metadata": {},
     "output_type": "display_data"
    }
   ],
   "source": [
    "train_labels = set(cadec_train['code'].unique())\n",
    "test_labels = set(cadec_test['code'].unique())\n",
    "\n",
    "venn2([train_labels, test_labels], ('TRAIN', 'TEST'))\n",
    "plt.show()"
   ]
  },
  {
   "cell_type": "code",
   "execution_count": 37,
   "metadata": {},
   "outputs": [
    {
     "data": {
      "text/html": [
       "<div>\n",
       "<style scoped>\n",
       "    .dataframe tbody tr th:only-of-type {\n",
       "        vertical-align: middle;\n",
       "    }\n",
       "\n",
       "    .dataframe tbody tr th {\n",
       "        vertical-align: top;\n",
       "    }\n",
       "\n",
       "    .dataframe thead th {\n",
       "        text-align: right;\n",
       "    }\n",
       "</style>\n",
       "<table border=\"1\" class=\"dataframe\">\n",
       "  <thead>\n",
       "    <tr style=\"text-align: right;\">\n",
       "      <th></th>\n",
       "      <th>term</th>\n",
       "      <th>start</th>\n",
       "      <th>end</th>\n",
       "      <th>text</th>\n",
       "      <th>code</th>\n",
       "    </tr>\n",
       "  </thead>\n",
       "  <tbody>\n",
       "    <tr>\n",
       "      <th>count</th>\n",
       "      <td>3809</td>\n",
       "      <td>3809.000000</td>\n",
       "      <td>3809.000000</td>\n",
       "      <td>3809</td>\n",
       "      <td>3809.0</td>\n",
       "    </tr>\n",
       "    <tr>\n",
       "      <th>unique</th>\n",
       "      <td>2297</td>\n",
       "      <td>NaN</td>\n",
       "      <td>NaN</td>\n",
       "      <td>3383</td>\n",
       "      <td>537.0</td>\n",
       "    </tr>\n",
       "    <tr>\n",
       "      <th>top</th>\n",
       "      <td>pain</td>\n",
       "      <td>NaN</td>\n",
       "      <td>NaN</td>\n",
       "      <td>.</td>\n",
       "      <td>10033371.0</td>\n",
       "    </tr>\n",
       "    <tr>\n",
       "      <th>freq</th>\n",
       "      <td>120</td>\n",
       "      <td>NaN</td>\n",
       "      <td>NaN</td>\n",
       "      <td>11</td>\n",
       "      <td>325.0</td>\n",
       "    </tr>\n",
       "    <tr>\n",
       "      <th>mean</th>\n",
       "      <td>NaN</td>\n",
       "      <td>192.241796</td>\n",
       "      <td>205.431609</td>\n",
       "      <td>NaN</td>\n",
       "      <td>NaN</td>\n",
       "    </tr>\n",
       "    <tr>\n",
       "      <th>std</th>\n",
       "      <td>NaN</td>\n",
       "      <td>256.752767</td>\n",
       "      <td>256.856750</td>\n",
       "      <td>NaN</td>\n",
       "      <td>NaN</td>\n",
       "    </tr>\n",
       "    <tr>\n",
       "      <th>min</th>\n",
       "      <td>NaN</td>\n",
       "      <td>0.000000</td>\n",
       "      <td>3.000000</td>\n",
       "      <td>NaN</td>\n",
       "      <td>NaN</td>\n",
       "    </tr>\n",
       "    <tr>\n",
       "      <th>25%</th>\n",
       "      <td>NaN</td>\n",
       "      <td>32.000000</td>\n",
       "      <td>45.000000</td>\n",
       "      <td>NaN</td>\n",
       "      <td>NaN</td>\n",
       "    </tr>\n",
       "    <tr>\n",
       "      <th>50%</th>\n",
       "      <td>NaN</td>\n",
       "      <td>98.000000</td>\n",
       "      <td>110.000000</td>\n",
       "      <td>NaN</td>\n",
       "      <td>NaN</td>\n",
       "    </tr>\n",
       "    <tr>\n",
       "      <th>75%</th>\n",
       "      <td>NaN</td>\n",
       "      <td>252.000000</td>\n",
       "      <td>266.000000</td>\n",
       "      <td>NaN</td>\n",
       "      <td>NaN</td>\n",
       "    </tr>\n",
       "    <tr>\n",
       "      <th>max</th>\n",
       "      <td>NaN</td>\n",
       "      <td>3316.000000</td>\n",
       "      <td>3338.000000</td>\n",
       "      <td>NaN</td>\n",
       "      <td>NaN</td>\n",
       "    </tr>\n",
       "  </tbody>\n",
       "</table>\n",
       "</div>"
      ],
      "text/plain": [
       "        term        start          end  text        code\n",
       "count   3809  3809.000000  3809.000000  3809      3809.0\n",
       "unique  2297          NaN          NaN  3383       537.0\n",
       "top     pain          NaN          NaN     .  10033371.0\n",
       "freq     120          NaN          NaN    11       325.0\n",
       "mean     NaN   192.241796   205.431609   NaN         NaN\n",
       "std      NaN   256.752767   256.856750   NaN         NaN\n",
       "min      NaN     0.000000     3.000000   NaN         NaN\n",
       "25%      NaN    32.000000    45.000000   NaN         NaN\n",
       "50%      NaN    98.000000   110.000000   NaN         NaN\n",
       "75%      NaN   252.000000   266.000000   NaN         NaN\n",
       "max      NaN  3316.000000  3338.000000   NaN         NaN"
      ]
     },
     "execution_count": 37,
     "metadata": {},
     "output_type": "execute_result"
    }
   ],
   "source": [
    "cadec_train['code'] = cadec_train['code'].astype(\"category\")\n",
    "cadec_train.describe(include='all')"
   ]
  },
  {
   "cell_type": "markdown",
   "metadata": {},
   "source": [
    "# PsyTar"
   ]
  },
  {
   "cell_type": "code",
   "execution_count": 39,
   "metadata": {},
   "outputs": [],
   "source": [
    "psytar_train = pd.read_csv('../../data/interim/psytar/train.csv')\n",
    "psytar_test = pd.read_csv('../../data/interim/psytar/test.csv')"
   ]
  },
  {
   "cell_type": "code",
   "execution_count": 40,
   "metadata": {},
   "outputs": [
    {
     "data": {
      "text/plain": [
       "<AxesSubplot:xlabel='code', ylabel='Count'>"
      ]
     },
     "execution_count": 40,
     "metadata": {},
     "output_type": "execute_result"
    },
    {
     "data": {
      "image/png": "[encoded data removed]",
      "text/plain": [
       "<Figure size 1080x432 with 1 Axes>"
      ]
     },
     "metadata": {
      "needs_background": "light"
     },
     "output_type": "display_data"
    }
   ],
   "source": [
    "bins = 200\n",
    "\n",
    "plt.figure(figsize=(15, 6))\n",
    "sns.histplot(data=psytar_train['code'], bins=bins, color='red')\n",
    "sns.histplot(data=psytar_test['code'], bins=bins, color='blue')"
   ]
  },
  {
   "cell_type": "code",
   "execution_count": null,
   "metadata": {},
   "outputs": [],
   "source": []
  },
  {
   "cell_type": "markdown",
   "metadata": {},
   "source": [
    "# Compare TRAIN SETS"
   ]
  },
  {
   "cell_type": "code",
   "execution_count": 79,
   "metadata": {},
   "outputs": [
    {
     "data": {
      "text/plain": [
       "<AxesSubplot:xlabel='code', ylabel='Count'>"
      ]
     },
     "execution_count": 79,
     "metadata": {},
     "output_type": "execute_result"
    },
    {
     "data": {
      "image/png": "[encoded data removed]",
      "text/plain": [
       "<Figure size 1080x432 with 1 Axes>"
      ]
     },
     "metadata": {
      "needs_background": "light"
     },
     "output_type": "display_data"
    }
   ],
   "source": [
    "# smm4h17_train\n",
    "# smm4h21_train\n",
    "# cadec_train\n",
    "# psytar_train\n",
    "\n",
    "smm4h17_train = pd.read_csv('../../data/interim/smm4h17/train.csv').dropna()\n",
    "smm4h21_train = pd.read_csv('../../data/interim/smm4h21/train.csv').dropna()\n",
    "cadec_train = pd.read_csv('../../data/interim/cadec/train.csv').dropna()\n",
    "psytar_train = pd.read_csv('../../data/interim/psytar/train.csv').dropna()\n",
    "\n",
    "bins = 100\n",
    "\n",
    "plt.figure(figsize=(15, 6))\n",
    "sns.histplot(data=smm4h17_train['code'], bins=bins, color='red')\n",
    "sns.histplot(data=smm4h21_train['code'], bins=bins, color='blue')\n",
    "sns.histplot(data=cadec_train['code'], bins=bins, color='green')\n",
    "sns.histplot(data=psytar_train['code'], bins=bins, color='yellow')"
   ]
  },
  {
   "cell_type": "markdown",
   "metadata": {},
   "source": [
    "# Compare TEST SETS"
   ]
  },
  {
   "cell_type": "code",
   "execution_count": 83,
   "metadata": {},
   "outputs": [
    {
     "data": {
      "text/plain": [
       "<AxesSubplot:xlabel='code', ylabel='Count'>"
      ]
     },
     "execution_count": 83,
     "metadata": {},
     "output_type": "execute_result"
    },
    {
     "data": {
      "image/png": "[encoded data removed]",
      "text/plain": [
       "<Figure size 1080x432 with 1 Axes>"
      ]
     },
     "metadata": {
      "needs_background": "light"
     },
     "output_type": "display_data"
    }
   ],
   "source": [
    "smm4h17_test = pd.read_csv('../../data/interim/smm4h17/test.csv').dropna()\n",
    "smm4h21_test = pd.read_csv('../../data/interim/smm4h21/test.csv').dropna()\n",
    "cadec_test= pd.read_csv('../../data/interim/cadec/test.csv').dropna()\n",
    "psytar_test = pd.read_csv('../../data/interim/psytar/test.csv').dropna()\n",
    "\n",
    "bins = 100\n",
    "\n",
    "plt.figure(figsize=(15, 6))\n",
    "sns.histplot(data=smm4h17_test['code'], bins=bins, color='red')\n",
    "sns.histplot(data=smm4h21_test['code'], bins=bins, color='blue')\n",
    "sns.histplot(data=cadec_test['code'], bins=bins, color='green')\n",
    "sns.histplot(data=psytar_test['code'], bins=bins, color='yellow')"
   ]
  },
  {
   "cell_type": "code",
   "execution_count": null,
   "metadata": {},
   "outputs": [],
   "source": []
  },
  {
   "cell_type": "code",
   "execution_count": null,
   "metadata": {},
   "outputs": [],
   "source": []
  }
 ],
 "metadata": {
  "kernelspec": {
   "display_name": "Python 3",
   "language": "python",
   "name": "python3"
  },
  "language_info": {
   "codemirror_mode": {
    "name": "ipython",
    "version": 3
   },
   "file_extension": ".py",
   "mimetype": "text/x-python",
   "name": "python",
   "nbconvert_exporter": "python",
   "pygments_lexer": "ipython3",
   "version": "3.6.8"
  }
 },
 "nbformat": 4,
 "nbformat_minor": 4
}
