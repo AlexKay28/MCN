{
 "cells": [
  {
   "cell_type": "code",
   "execution_count": 1,
   "metadata": {},
   "outputs": [],
   "source": [
    "import numpy as np\n",
    "import pandas as pd\n",
    "import seaborn as sns\n",
    "import matplotlib.pyplot as plt\n",
    "\n",
    "from matplotlib_venn import venn2\n"
   ]
  },
  {
   "cell_type": "code",
   "execution_count": 2,
   "metadata": {},
   "outputs": [],
   "source": [
    "pd.set_option('display.max_rows', 20)\n",
    "pd.set_option('display.max_columns', 20)\n",
    "pd.set_option('display.width', 5000)"
   ]
  },
  {
   "cell_type": "markdown",
   "metadata": {},
   "source": [
    "# SMM4H21"
   ]
  },
  {
   "cell_type": "code",
   "execution_count": null,
   "metadata": {},
   "outputs": [],
   "source": []
  },
  {
   "cell_type": "code",
   "execution_count": 3,
   "metadata": {
    "scrolled": true
   },
   "outputs": [],
   "source": [
    "smm4h21_train = pd.read_csv('../../data/interim/smm4h21/train_pure.csv')\n",
    "smm4h21_test = pd.read_csv('../../data/interim/smm4h21/test.csv')"
   ]
  },
  {
   "cell_type": "code",
   "execution_count": 4,
   "metadata": {},
   "outputs": [
    {
     "data": {
      "text/plain": [
       "((1039, 5), (287, 5))"
      ]
     },
     "execution_count": 4,
     "metadata": {},
     "output_type": "execute_result"
    }
   ],
   "source": [
    "smm4h21_train.shape, smm4h21_test.shape"
   ]
  },
  {
   "cell_type": "code",
   "execution_count": 5,
   "metadata": {
    "scrolled": false
   },
   "outputs": [
    {
     "data": {
      "text/html": [
       "<div>\n",
       "<style scoped>\n",
       "    .dataframe tbody tr th:only-of-type {\n",
       "        vertical-align: middle;\n",
       "    }\n",
       "\n",
       "    .dataframe tbody tr th {\n",
       "        vertical-align: top;\n",
       "    }\n",
       "\n",
       "    .dataframe thead th {\n",
       "        text-align: right;\n",
       "    }\n",
       "</style>\n",
       "<table border=\"1\" class=\"dataframe\">\n",
       "  <thead>\n",
       "    <tr style=\"text-align: right;\">\n",
       "      <th></th>\n",
       "      <th>term</th>\n",
       "      <th>text</th>\n",
       "      <th>code</th>\n",
       "      <th>STR</th>\n",
       "      <th>SNMS</th>\n",
       "    </tr>\n",
       "  </thead>\n",
       "  <tbody>\n",
       "    <tr>\n",
       "      <th>0</th>\n",
       "      <td>nerves</td>\n",
       "      <td>@crohnietweets i found the humira to fix all m...</td>\n",
       "      <td>10029177</td>\n",
       "      <td>Nerve damage</td>\n",
       "      <td>['Nerve injury', 'Nerve injury', 'Nerve injury...</td>\n",
       "    </tr>\n",
       "    <tr>\n",
       "      <th>1</th>\n",
       "      <td>muscle spasms</td>\n",
       "      <td>@crohnietweets i found the humira to fix all m...</td>\n",
       "      <td>10028334</td>\n",
       "      <td>Muscle spasms</td>\n",
       "      <td>['Spasm', 'Spasm, NOS', 'Muscle spasm', 'Muscl...</td>\n",
       "    </tr>\n",
       "    <tr>\n",
       "      <th>2</th>\n",
       "      <td>gaining</td>\n",
       "      <td>@jennabear32819 have to go to a doc now to see...</td>\n",
       "      <td>10047896</td>\n",
       "      <td>Weight gain</td>\n",
       "      <td>['Weight gain', 'Weight gain', 'Increased body...</td>\n",
       "    </tr>\n",
       "    <tr>\n",
       "      <th>3</th>\n",
       "      <td>gain like 50 pounds</td>\n",
       "      <td>@jennabear32819 have to go to a doc now to see...</td>\n",
       "      <td>10047896</td>\n",
       "      <td>Weight gain</td>\n",
       "      <td>['Weight gain', 'Weight gain', 'Increased body...</td>\n",
       "    </tr>\n",
       "    <tr>\n",
       "      <th>4</th>\n",
       "      <td>frontal headache</td>\n",
       "      <td>06.30 day 14 Rivaroxaban diary. Thanks to para...</td>\n",
       "      <td>10019211</td>\n",
       "      <td>Headache</td>\n",
       "      <td>['Headache', 'Headache', 'Headache', 'Headache...</td>\n",
       "    </tr>\n",
       "    <tr>\n",
       "      <th>...</th>\n",
       "      <td>...</td>\n",
       "      <td>...</td>\n",
       "      <td>...</td>\n",
       "      <td>...</td>\n",
       "      <td>...</td>\n",
       "    </tr>\n",
       "    <tr>\n",
       "      <th>282</th>\n",
       "      <td>withdrawal</td>\n",
       "      <td>@Ta3fox Yeah, Pristiq is a different formulati...</td>\n",
       "      <td>10073281</td>\n",
       "      <td>Withdrawal symptom</td>\n",
       "      <td>['Withdrawal symptom', 'Withdrawal complaint',...</td>\n",
       "    </tr>\n",
       "    <tr>\n",
       "      <th>283</th>\n",
       "      <td>allergic</td>\n",
       "      <td>guess i'm allergic to cipro...</td>\n",
       "      <td>10001720</td>\n",
       "      <td>Allergic reaction to antibiotics</td>\n",
       "      <td>[]</td>\n",
       "    </tr>\n",
       "    <tr>\n",
       "      <th>284</th>\n",
       "      <td>holes in my head</td>\n",
       "      <td>eat my trazodone then go to bed, wake up in th...</td>\n",
       "      <td>10027374</td>\n",
       "      <td>Mental impairment</td>\n",
       "      <td>['Mental handicap', 'Mental handicap', 'Mental...</td>\n",
       "    </tr>\n",
       "    <tr>\n",
       "      <th>285</th>\n",
       "      <td>depression.</td>\n",
       "      <td>a big ol' fuck you to my doctor for not tellin...</td>\n",
       "      <td>10012378</td>\n",
       "      <td>Depression</td>\n",
       "      <td>['Depression', 'Depression, NOS', 'Depression ...</td>\n",
       "    </tr>\n",
       "    <tr>\n",
       "      <th>286</th>\n",
       "      <td>Dreamt</td>\n",
       "      <td>dreamt i was squirting acid at wood lice - i w...</td>\n",
       "      <td>10004969</td>\n",
       "      <td>Bizarre dreams</td>\n",
       "      <td>['Bizarre dreams', 'Bizarre dreams (finding)']</td>\n",
       "    </tr>\n",
       "  </tbody>\n",
       "</table>\n",
       "<p>287 rows × 5 columns</p>\n",
       "</div>"
      ],
      "text/plain": [
       "                    term                                               text      code                               STR                                               SNMS\n",
       "0                 nerves  @crohnietweets i found the humira to fix all m...  10029177                      Nerve damage  ['Nerve injury', 'Nerve injury', 'Nerve injury...\n",
       "1          muscle spasms  @crohnietweets i found the humira to fix all m...  10028334                     Muscle spasms  ['Spasm', 'Spasm, NOS', 'Muscle spasm', 'Muscl...\n",
       "2                gaining  @jennabear32819 have to go to a doc now to see...  10047896                       Weight gain  ['Weight gain', 'Weight gain', 'Increased body...\n",
       "3    gain like 50 pounds  @jennabear32819 have to go to a doc now to see...  10047896                       Weight gain  ['Weight gain', 'Weight gain', 'Increased body...\n",
       "4       frontal headache  06.30 day 14 Rivaroxaban diary. Thanks to para...  10019211                          Headache  ['Headache', 'Headache', 'Headache', 'Headache...\n",
       "..                   ...                                                ...       ...                               ...                                                ...\n",
       "282           withdrawal  @Ta3fox Yeah, Pristiq is a different formulati...  10073281                Withdrawal symptom  ['Withdrawal symptom', 'Withdrawal complaint',...\n",
       "283             allergic                     guess i'm allergic to cipro...  10001720  Allergic reaction to antibiotics                                                 []\n",
       "284     holes in my head  eat my trazodone then go to bed, wake up in th...  10027374                 Mental impairment  ['Mental handicap', 'Mental handicap', 'Mental...\n",
       "285          depression.  a big ol' fuck you to my doctor for not tellin...  10012378                        Depression  ['Depression', 'Depression, NOS', 'Depression ...\n",
       "286               Dreamt  dreamt i was squirting acid at wood lice - i w...  10004969                    Bizarre dreams     ['Bizarre dreams', 'Bizarre dreams (finding)']\n",
       "\n",
       "[287 rows x 5 columns]"
      ]
     },
     "execution_count": 5,
     "metadata": {},
     "output_type": "execute_result"
    }
   ],
   "source": [
    "smm4h21_test"
   ]
  },
  {
   "cell_type": "code",
   "execution_count": 6,
   "metadata": {},
   "outputs": [
    {
     "data": {
      "text/plain": [
       "(2457, 545)"
      ]
     },
     "execution_count": 6,
     "metadata": {},
     "output_type": "execute_result"
    }
   ],
   "source": [
    "smm4h21_train['term'].apply(lambda x: len(x.split())).sum(), \\\n",
    "smm4h21_test['term'].apply(lambda x: len(x.split())).sum(), \\"
   ]
  },
  {
   "cell_type": "code",
   "execution_count": 7,
   "metadata": {},
   "outputs": [],
   "source": [
    "smm4h21_train = smm4h21_train.dropna(axis=1)\n",
    "smm4h21_train['code'] = smm4h21_train['code'].astype(\"int64\")\n",
    "\n",
    "smm4h21_test = smm4h21_test.dropna(axis=1)\n",
    "smm4h21_test['code'] = smm4h21_test['code'].astype(\"int64\")\n"
   ]
  },
  {
   "cell_type": "code",
   "execution_count": 8,
   "metadata": {
    "scrolled": true
   },
   "outputs": [
    {
     "name": "stdout",
     "output_type": "stream",
     "text": [
      "<class 'pandas.core.frame.DataFrame'>\n",
      "RangeIndex: 1039 entries, 0 to 1038\n",
      "Data columns (total 5 columns):\n",
      " #   Column  Non-Null Count  Dtype \n",
      "---  ------  --------------  ----- \n",
      " 0   term    1039 non-null   object\n",
      " 1   text    1039 non-null   object\n",
      " 2   code    1039 non-null   int64 \n",
      " 3   STR     1039 non-null   object\n",
      " 4   SNMS    1039 non-null   object\n",
      "dtypes: int64(1), object(4)\n",
      "memory usage: 40.7+ KB\n"
     ]
    }
   ],
   "source": [
    "smm4h21_train.info()"
   ]
  },
  {
   "cell_type": "code",
   "execution_count": 9,
   "metadata": {
    "scrolled": false
   },
   "outputs": [
    {
     "name": "stdout",
     "output_type": "stream",
     "text": [
      "<class 'pandas.core.frame.DataFrame'>\n",
      "RangeIndex: 287 entries, 0 to 286\n",
      "Data columns (total 5 columns):\n",
      " #   Column  Non-Null Count  Dtype \n",
      "---  ------  --------------  ----- \n",
      " 0   term    287 non-null    object\n",
      " 1   text    287 non-null    object\n",
      " 2   code    287 non-null    int64 \n",
      " 3   STR     287 non-null    object\n",
      " 4   SNMS    287 non-null    object\n",
      "dtypes: int64(1), object(4)\n",
      "memory usage: 11.3+ KB\n"
     ]
    }
   ],
   "source": [
    "smm4h21_test.info()"
   ]
  },
  {
   "cell_type": "code",
   "execution_count": 10,
   "metadata": {
    "scrolled": true
   },
   "outputs": [
    {
     "data": {
      "image/png": "[encoded data removed]",
      "text/plain": [
       "<Figure size 432x288 with 1 Axes>"
      ]
     },
     "metadata": {},
     "output_type": "display_data"
    }
   ],
   "source": [
    "train_labels = set(smm4h21_train['code'].unique())\n",
    "test_labels = set(smm4h21_test['code'].unique())\n",
    "\n",
    "venn2([train_labels, test_labels], ('TRAIN', 'TEST'))\n",
    "plt.show()"
   ]
  },
  {
   "cell_type": "code",
   "execution_count": 11,
   "metadata": {
    "scrolled": true
   },
   "outputs": [
    {
     "data": {
      "text/html": [
       "<div>\n",
       "<style scoped>\n",
       "    .dataframe tbody tr th:only-of-type {\n",
       "        vertical-align: middle;\n",
       "    }\n",
       "\n",
       "    .dataframe tbody tr th {\n",
       "        vertical-align: top;\n",
       "    }\n",
       "\n",
       "    .dataframe thead th {\n",
       "        text-align: right;\n",
       "    }\n",
       "</style>\n",
       "<table border=\"1\" class=\"dataframe\">\n",
       "  <thead>\n",
       "    <tr style=\"text-align: right;\">\n",
       "      <th></th>\n",
       "      <th>term</th>\n",
       "      <th>text</th>\n",
       "      <th>code</th>\n",
       "      <th>STR</th>\n",
       "      <th>SNMS</th>\n",
       "    </tr>\n",
       "  </thead>\n",
       "  <tbody>\n",
       "    <tr>\n",
       "      <th>count</th>\n",
       "      <td>1039</td>\n",
       "      <td>1039</td>\n",
       "      <td>1039</td>\n",
       "      <td>1039</td>\n",
       "      <td>1039</td>\n",
       "    </tr>\n",
       "    <tr>\n",
       "      <th>unique</th>\n",
       "      <td>973</td>\n",
       "      <td>830</td>\n",
       "      <td>443</td>\n",
       "      <td>443</td>\n",
       "      <td>290</td>\n",
       "    </tr>\n",
       "    <tr>\n",
       "      <th>top</th>\n",
       "      <td>sleep</td>\n",
       "      <td>RT @ellus_cooper: @UCLAibd even w/ Humira: ab ...</td>\n",
       "      <td>10016370</td>\n",
       "      <td>Feeling unwell</td>\n",
       "      <td>[]</td>\n",
       "    </tr>\n",
       "    <tr>\n",
       "      <th>freq</th>\n",
       "      <td>6</td>\n",
       "      <td>6</td>\n",
       "      <td>32</td>\n",
       "      <td>32</td>\n",
       "      <td>211</td>\n",
       "    </tr>\n",
       "  </tbody>\n",
       "</table>\n",
       "</div>"
      ],
      "text/plain": [
       "         term                                               text      code             STR  SNMS\n",
       "count    1039                                               1039      1039            1039  1039\n",
       "unique    973                                                830       443             443   290\n",
       "top     sleep  RT @ellus_cooper: @UCLAibd even w/ Humira: ab ...  10016370  Feeling unwell    []\n",
       "freq        6                                                  6        32              32   211"
      ]
     },
     "execution_count": 11,
     "metadata": {},
     "output_type": "execute_result"
    }
   ],
   "source": [
    "smm4h21_train['code'] = smm4h21_train['code'].astype(\"category\")\n",
    "smm4h21_train.describe(include='all')"
   ]
  },
  {
   "cell_type": "code",
   "execution_count": 12,
   "metadata": {
    "scrolled": true
   },
   "outputs": [
    {
     "data": {
      "text/html": [
       "<div>\n",
       "<style scoped>\n",
       "    .dataframe tbody tr th:only-of-type {\n",
       "        vertical-align: middle;\n",
       "    }\n",
       "\n",
       "    .dataframe tbody tr th {\n",
       "        vertical-align: top;\n",
       "    }\n",
       "\n",
       "    .dataframe thead th {\n",
       "        text-align: right;\n",
       "    }\n",
       "</style>\n",
       "<table border=\"1\" class=\"dataframe\">\n",
       "  <thead>\n",
       "    <tr style=\"text-align: right;\">\n",
       "      <th></th>\n",
       "      <th>term</th>\n",
       "      <th>text</th>\n",
       "      <th>code</th>\n",
       "      <th>STR</th>\n",
       "      <th>SNMS</th>\n",
       "    </tr>\n",
       "  </thead>\n",
       "  <tbody>\n",
       "    <tr>\n",
       "      <th>count</th>\n",
       "      <td>287</td>\n",
       "      <td>287</td>\n",
       "      <td>287</td>\n",
       "      <td>287</td>\n",
       "      <td>287</td>\n",
       "    </tr>\n",
       "    <tr>\n",
       "      <th>unique</th>\n",
       "      <td>244</td>\n",
       "      <td>257</td>\n",
       "      <td>171</td>\n",
       "      <td>171</td>\n",
       "      <td>120</td>\n",
       "    </tr>\n",
       "    <tr>\n",
       "      <th>top</th>\n",
       "      <td>sick</td>\n",
       "      <td>cant cope coming off #venlafaxine feel like iv...</td>\n",
       "      <td>10047896</td>\n",
       "      <td>Weight gain</td>\n",
       "      <td>[]</td>\n",
       "    </tr>\n",
       "    <tr>\n",
       "      <th>freq</th>\n",
       "      <td>8</td>\n",
       "      <td>5</td>\n",
       "      <td>11</td>\n",
       "      <td>11</td>\n",
       "      <td>59</td>\n",
       "    </tr>\n",
       "  </tbody>\n",
       "</table>\n",
       "</div>"
      ],
      "text/plain": [
       "        term                                               text      code          STR SNMS\n",
       "count    287                                                287       287          287  287\n",
       "unique   244                                                257       171          171  120\n",
       "top     sick  cant cope coming off #venlafaxine feel like iv...  10047896  Weight gain   []\n",
       "freq       8                                                  5        11           11   59"
      ]
     },
     "execution_count": 12,
     "metadata": {},
     "output_type": "execute_result"
    }
   ],
   "source": [
    "smm4h21_test['code'] = smm4h21_test['code'].astype(\"category\")\n",
    "smm4h21_test.describe(include='all')"
   ]
  },
  {
   "cell_type": "code",
   "execution_count": 13,
   "metadata": {},
   "outputs": [
    {
     "name": "stderr",
     "output_type": "stream",
     "text": [
      "/home/kaigorodov/.local/lib/python3.6/site-packages/ipykernel_launcher.py:5: SettingWithCopyWarning: \n",
      "A value is trying to be set on a copy of a slice from a DataFrame.\n",
      "Try using .loc[row_indexer,col_indexer] = value instead\n",
      "\n",
      "See the caveats in the documentation: https://pandas.pydata.org/pandas-docs/stable/user_guide/indexing.html#returning-a-view-versus-a-copy\n",
      "  \"\"\"\n"
     ]
    },
    {
     "data": {
      "text/plain": [
       "(8.0, (2573,), (1077,))"
      ]
     },
     "execution_count": 13,
     "metadata": {},
     "output_type": "execute_result"
    }
   ],
   "source": [
    "train, test = smm4h21_train, smm4h21_test\n",
    "dataset = pd.concat([train, test])\n",
    "\n",
    "median_synonims = dataset[['code', 'SNMS']]\n",
    "median_synonims['SNMS'] = median_synonims['SNMS'].apply(lambda x: len(eval(x)))\n",
    "median_synonims_num = median_synonims.groupby('code').agg('mean').median()\n",
    "\n",
    "median_synonims_num['SNMS'], \\\n",
    "train['SNMS'].apply(lambda x: eval(x)).explode('SNMS').unique().shape, \\\n",
    "test['SNMS'].apply(lambda x: eval(x)).explode('SNMS').unique().shape"
   ]
  },
  {
   "cell_type": "markdown",
   "metadata": {},
   "source": [
    "### SMM4H17"
   ]
  },
  {
   "cell_type": "code",
   "execution_count": 14,
   "metadata": {},
   "outputs": [
    {
     "name": "stdout",
     "output_type": "stream",
     "text": [
      "(0, 4)\n",
      "(0, 4)\n"
     ]
    },
    {
     "data": {
      "text/html": [
       "<div>\n",
       "<style scoped>\n",
       "    .dataframe tbody tr th:only-of-type {\n",
       "        vertical-align: middle;\n",
       "    }\n",
       "\n",
       "    .dataframe tbody tr th {\n",
       "        vertical-align: top;\n",
       "    }\n",
       "\n",
       "    .dataframe thead th {\n",
       "        text-align: right;\n",
       "    }\n",
       "</style>\n",
       "<table border=\"1\" class=\"dataframe\">\n",
       "  <thead>\n",
       "    <tr style=\"text-align: right;\">\n",
       "      <th></th>\n",
       "      <th>term</th>\n",
       "      <th>code</th>\n",
       "      <th>STR</th>\n",
       "      <th>SNMS</th>\n",
       "    </tr>\n",
       "  </thead>\n",
       "  <tbody>\n",
       "    <tr>\n",
       "      <th>0</th>\n",
       "      <td>addict</td>\n",
       "      <td>10013663</td>\n",
       "      <td>Drug dependence</td>\n",
       "      <td>['Drug dependence', 'Drug dependence', 'Drug d...</td>\n",
       "    </tr>\n",
       "    <tr>\n",
       "      <th>1</th>\n",
       "      <td>reaction allergic</td>\n",
       "      <td>10020751</td>\n",
       "      <td>Hypersensitivity</td>\n",
       "      <td>['Hypersensitivity', 'Hypersensitivity', 'Hype...</td>\n",
       "    </tr>\n",
       "    <tr>\n",
       "      <th>2</th>\n",
       "      <td>pre-cutting</td>\n",
       "      <td>10022524</td>\n",
       "      <td>Intentional self-injury</td>\n",
       "      <td>[]</td>\n",
       "    </tr>\n",
       "    <tr>\n",
       "      <th>3</th>\n",
       "      <td>withdrawals</td>\n",
       "      <td>10048010</td>\n",
       "      <td>Withdrawal syndrome</td>\n",
       "      <td>[]</td>\n",
       "    </tr>\n",
       "    <tr>\n",
       "      <th>4</th>\n",
       "      <td>delirious</td>\n",
       "      <td>10012218</td>\n",
       "      <td>Delirium</td>\n",
       "      <td>['Delirium', 'Delirium', 'Delirium', 'Delirium...</td>\n",
       "    </tr>\n",
       "    <tr>\n",
       "      <th>...</th>\n",
       "      <td>...</td>\n",
       "      <td>...</td>\n",
       "      <td>...</td>\n",
       "      <td>...</td>\n",
       "    </tr>\n",
       "    <tr>\n",
       "      <th>2769</th>\n",
       "      <td>dreams night movie your in eventful</td>\n",
       "      <td>10000125</td>\n",
       "      <td>Abnormal dreams</td>\n",
       "      <td>['Dream disorder', 'Abnormal dreams', 'Abnorma...</td>\n",
       "    </tr>\n",
       "    <tr>\n",
       "      <th>2770</th>\n",
       "      <td>lot me a cry made</td>\n",
       "      <td>10011469</td>\n",
       "      <td>Crying</td>\n",
       "      <td>['Crying', 'Crying', 'Crying', 'Crying', 'Cryi...</td>\n",
       "    </tr>\n",
       "    <tr>\n",
       "      <th>2771</th>\n",
       "      <td>from sleep 3hrs of only</td>\n",
       "      <td>10022437</td>\n",
       "      <td>Insomnia</td>\n",
       "      <td>['Sleeplessness', 'Sleeplessness', 'Sleeplessn...</td>\n",
       "    </tr>\n",
       "    <tr>\n",
       "      <th>2772</th>\n",
       "      <td>like sleeping feel</td>\n",
       "      <td>10041349</td>\n",
       "      <td>Somnolence</td>\n",
       "      <td>['Somnolence', 'Somnolence', 'Somnolence', 'So...</td>\n",
       "    </tr>\n",
       "    <tr>\n",
       "      <th>2773</th>\n",
       "      <td>sedation</td>\n",
       "      <td>10039897</td>\n",
       "      <td>Sedation</td>\n",
       "      <td>['Sedated state', 'Sedated', 'Under sedation',...</td>\n",
       "    </tr>\n",
       "  </tbody>\n",
       "</table>\n",
       "<p>2774 rows × 4 columns</p>\n",
       "</div>"
      ],
      "text/plain": [
       "                                     term      code                      STR                                               SNMS\n",
       "0                                  addict  10013663          Drug dependence  ['Drug dependence', 'Drug dependence', 'Drug d...\n",
       "1                       reaction allergic  10020751         Hypersensitivity  ['Hypersensitivity', 'Hypersensitivity', 'Hype...\n",
       "2                             pre-cutting  10022524  Intentional self-injury                                                 []\n",
       "3                             withdrawals  10048010      Withdrawal syndrome                                                 []\n",
       "4                               delirious  10012218                 Delirium  ['Delirium', 'Delirium', 'Delirium', 'Delirium...\n",
       "...                                   ...       ...                      ...                                                ...\n",
       "2769  dreams night movie your in eventful  10000125          Abnormal dreams  ['Dream disorder', 'Abnormal dreams', 'Abnorma...\n",
       "2770                    lot me a cry made  10011469                   Crying  ['Crying', 'Crying', 'Crying', 'Crying', 'Cryi...\n",
       "2771              from sleep 3hrs of only  10022437                 Insomnia  ['Sleeplessness', 'Sleeplessness', 'Sleeplessn...\n",
       "2772                   like sleeping feel  10041349               Somnolence  ['Somnolence', 'Somnolence', 'Somnolence', 'So...\n",
       "2773                             sedation  10039897                 Sedation  ['Sedated state', 'Sedated', 'Under sedation',...\n",
       "\n",
       "[2774 rows x 4 columns]"
      ]
     },
     "execution_count": 14,
     "metadata": {},
     "output_type": "execute_result"
    }
   ],
   "source": [
    "smm4h17_train = pd.read_csv('../../data/interim/smm4h17/train_pure.csv')\n",
    "smm4h17_test = pd.read_csv('../../data/interim/smm4h17/test.csv')\n",
    "\n",
    "smm4h17_train['code'] = smm4h17_train['code'].apply(lambda x: int(x) if str(x).isdigit() else None)\n",
    "print(smm4h17_train[smm4h17_train['code'].isna()].shape)\n",
    "smm4h17_train = smm4h17_train[~smm4h17_train['code'].isna()]\n",
    "\n",
    "smm4h17_test['code'] = smm4h17_test['code'].apply(lambda x: int(x) if str(x).isdigit() else None)\n",
    "print(smm4h17_test[smm4h17_test['code'].isna()].shape)\n",
    "smm4h17_test = smm4h17_test[~smm4h17_test['code'].isna()]\n",
    "smm4h17_train"
   ]
  },
  {
   "cell_type": "code",
   "execution_count": 15,
   "metadata": {},
   "outputs": [
    {
     "data": {
      "text/plain": [
       "((2774, 4), (2499, 4))"
      ]
     },
     "execution_count": 15,
     "metadata": {},
     "output_type": "execute_result"
    }
   ],
   "source": [
    "smm4h17_train.shape, smm4h17_test.shape"
   ]
  },
  {
   "cell_type": "code",
   "execution_count": 16,
   "metadata": {},
   "outputs": [
    {
     "data": {
      "text/html": [
       "<div>\n",
       "<style scoped>\n",
       "    .dataframe tbody tr th:only-of-type {\n",
       "        vertical-align: middle;\n",
       "    }\n",
       "\n",
       "    .dataframe tbody tr th {\n",
       "        vertical-align: top;\n",
       "    }\n",
       "\n",
       "    .dataframe thead th {\n",
       "        text-align: right;\n",
       "    }\n",
       "</style>\n",
       "<table border=\"1\" class=\"dataframe\">\n",
       "  <thead>\n",
       "    <tr style=\"text-align: right;\">\n",
       "      <th></th>\n",
       "      <th>term</th>\n",
       "      <th>code</th>\n",
       "      <th>STR</th>\n",
       "      <th>SNMS</th>\n",
       "    </tr>\n",
       "  </thead>\n",
       "  <tbody>\n",
       "    <tr>\n",
       "      <th>0</th>\n",
       "      <td>sleepier</td>\n",
       "      <td>10041349</td>\n",
       "      <td>Somnolence</td>\n",
       "      <td>['Somnolence', 'Somnolence', 'Somnolence', 'So...</td>\n",
       "    </tr>\n",
       "    <tr>\n",
       "      <th>1</th>\n",
       "      <td>dreamt colors</td>\n",
       "      <td>10000125</td>\n",
       "      <td>Abnormal dreams</td>\n",
       "      <td>['Dream disorder', 'Abnormal dreams', 'Abnorma...</td>\n",
       "    </tr>\n",
       "    <tr>\n",
       "      <th>2</th>\n",
       "      <td>zombie</td>\n",
       "      <td>10016322</td>\n",
       "      <td>Feeling abnormal</td>\n",
       "      <td>['Feeling abnormal', 'Abnormal feeling', 'Abno...</td>\n",
       "    </tr>\n",
       "    <tr>\n",
       "      <th>3</th>\n",
       "      <td>headache</td>\n",
       "      <td>10019211</td>\n",
       "      <td>Headache</td>\n",
       "      <td>['Headache', 'Headache', 'Headache', 'Headache...</td>\n",
       "    </tr>\n",
       "    <tr>\n",
       "      <th>4</th>\n",
       "      <td>crazy</td>\n",
       "      <td>10061920</td>\n",
       "      <td>Psychotic disorder</td>\n",
       "      <td>['Psychotic disorder, NOS', 'Psychotic disorde...</td>\n",
       "    </tr>\n",
       "    <tr>\n",
       "      <th>...</th>\n",
       "      <td>...</td>\n",
       "      <td>...</td>\n",
       "      <td>...</td>\n",
       "      <td>...</td>\n",
       "    </tr>\n",
       "    <tr>\n",
       "      <th>2494</th>\n",
       "      <td>sleptwalk</td>\n",
       "      <td>10041347</td>\n",
       "      <td>Somnambulism</td>\n",
       "      <td>['Somnambulism', 'Somnambulism', 'Somnambulism...</td>\n",
       "    </tr>\n",
       "    <tr>\n",
       "      <th>2495</th>\n",
       "      <td>fatigue</td>\n",
       "      <td>10016256</td>\n",
       "      <td>Fatigue</td>\n",
       "      <td>['Fatigue', 'Fatigue', 'Fatigue', 'Tiredness',...</td>\n",
       "    </tr>\n",
       "    <tr>\n",
       "      <th>2496</th>\n",
       "      <td>headache</td>\n",
       "      <td>10019211</td>\n",
       "      <td>Headache</td>\n",
       "      <td>['Headache', 'Headache', 'Headache', 'Headache...</td>\n",
       "    </tr>\n",
       "    <tr>\n",
       "      <th>2497</th>\n",
       "      <td>out of it</td>\n",
       "      <td>10041349</td>\n",
       "      <td>Somnolence</td>\n",
       "      <td>['Somnolence', 'Somnolence', 'Somnolence', 'So...</td>\n",
       "    </tr>\n",
       "    <tr>\n",
       "      <th>2498</th>\n",
       "      <td>no sleep</td>\n",
       "      <td>10022437</td>\n",
       "      <td>Insomnia</td>\n",
       "      <td>['Sleeplessness', 'Sleeplessness', 'Sleeplessn...</td>\n",
       "    </tr>\n",
       "  </tbody>\n",
       "</table>\n",
       "<p>2499 rows × 4 columns</p>\n",
       "</div>"
      ],
      "text/plain": [
       "               term      code                 STR                                               SNMS\n",
       "0          sleepier  10041349          Somnolence  ['Somnolence', 'Somnolence', 'Somnolence', 'So...\n",
       "1     dreamt colors  10000125     Abnormal dreams  ['Dream disorder', 'Abnormal dreams', 'Abnorma...\n",
       "2            zombie  10016322    Feeling abnormal  ['Feeling abnormal', 'Abnormal feeling', 'Abno...\n",
       "3          headache  10019211            Headache  ['Headache', 'Headache', 'Headache', 'Headache...\n",
       "4             crazy  10061920  Psychotic disorder  ['Psychotic disorder, NOS', 'Psychotic disorde...\n",
       "...             ...       ...                 ...                                                ...\n",
       "2494      sleptwalk  10041347        Somnambulism  ['Somnambulism', 'Somnambulism', 'Somnambulism...\n",
       "2495        fatigue  10016256             Fatigue  ['Fatigue', 'Fatigue', 'Fatigue', 'Tiredness',...\n",
       "2496       headache  10019211            Headache  ['Headache', 'Headache', 'Headache', 'Headache...\n",
       "2497      out of it  10041349          Somnolence  ['Somnolence', 'Somnolence', 'Somnolence', 'So...\n",
       "2498       no sleep  10022437            Insomnia  ['Sleeplessness', 'Sleeplessness', 'Sleeplessn...\n",
       "\n",
       "[2499 rows x 4 columns]"
      ]
     },
     "execution_count": 16,
     "metadata": {},
     "output_type": "execute_result"
    }
   ],
   "source": [
    "smm4h17_test"
   ]
  },
  {
   "cell_type": "code",
   "execution_count": 17,
   "metadata": {},
   "outputs": [
    {
     "data": {
      "text/plain": [
       "(8360, 5319)"
      ]
     },
     "execution_count": 17,
     "metadata": {},
     "output_type": "execute_result"
    }
   ],
   "source": [
    "smm4h17_train['term'].apply(lambda x: len(x.split())).sum(), \\\n",
    "smm4h17_test['term'].apply(lambda x: len(x.split())).sum(), \\\n",
    "# (smm4h17_train['start'] - smm4h17_train['end']).mean(), \\\n",
    "# (smm4h17_train['start'] - smm4h17_train['end']).min(), \\\n",
    "# (smm4h17_train['start'] - smm4h17_train['end']).max()"
   ]
  },
  {
   "cell_type": "code",
   "execution_count": 18,
   "metadata": {},
   "outputs": [
    {
     "data": {
      "image/png": "[encoded data removed]",
      "text/plain": [
       "<Figure size 432x288 with 1 Axes>"
      ]
     },
     "metadata": {},
     "output_type": "display_data"
    }
   ],
   "source": [
    "train_labels = set(smm4h17_train['code'].unique())\n",
    "test_labels = set(smm4h17_test['code'].unique())\n",
    "\n",
    "venn2([train_labels, test_labels], ('TRAIN', 'TEST'))\n",
    "plt.show()"
   ]
  },
  {
   "cell_type": "code",
   "execution_count": 19,
   "metadata": {},
   "outputs": [
    {
     "data": {
      "text/html": [
       "<div>\n",
       "<style scoped>\n",
       "    .dataframe tbody tr th:only-of-type {\n",
       "        vertical-align: middle;\n",
       "    }\n",
       "\n",
       "    .dataframe tbody tr th {\n",
       "        vertical-align: top;\n",
       "    }\n",
       "\n",
       "    .dataframe thead th {\n",
       "        text-align: right;\n",
       "    }\n",
       "</style>\n",
       "<table border=\"1\" class=\"dataframe\">\n",
       "  <thead>\n",
       "    <tr style=\"text-align: right;\">\n",
       "      <th></th>\n",
       "      <th>term</th>\n",
       "      <th>code</th>\n",
       "      <th>STR</th>\n",
       "      <th>SNMS</th>\n",
       "    </tr>\n",
       "  </thead>\n",
       "  <tbody>\n",
       "    <tr>\n",
       "      <th>count</th>\n",
       "      <td>2774</td>\n",
       "      <td>1039</td>\n",
       "      <td>2774</td>\n",
       "      <td>2774</td>\n",
       "    </tr>\n",
       "    <tr>\n",
       "      <th>unique</th>\n",
       "      <td>2764</td>\n",
       "      <td>443</td>\n",
       "      <td>472</td>\n",
       "      <td>418</td>\n",
       "    </tr>\n",
       "    <tr>\n",
       "      <th>top</th>\n",
       "      <td>throat</td>\n",
       "      <td>10016370</td>\n",
       "      <td>Insomnia</td>\n",
       "      <td>['Sleeplessness', 'Sleeplessness', 'Sleeplessn...</td>\n",
       "    </tr>\n",
       "    <tr>\n",
       "      <th>freq</th>\n",
       "      <td>2</td>\n",
       "      <td>32</td>\n",
       "      <td>339</td>\n",
       "      <td>339</td>\n",
       "    </tr>\n",
       "  </tbody>\n",
       "</table>\n",
       "</div>"
      ],
      "text/plain": [
       "          term      code       STR                                               SNMS\n",
       "count     2774      1039      2774                                               2774\n",
       "unique    2764       443       472                                                418\n",
       "top     throat  10016370  Insomnia  ['Sleeplessness', 'Sleeplessness', 'Sleeplessn...\n",
       "freq         2        32       339                                                339"
      ]
     },
     "execution_count": 19,
     "metadata": {},
     "output_type": "execute_result"
    }
   ],
   "source": [
    "smm4h17_train['code'] = smm4h21_train['code'].astype(\"category\")\n",
    "smm4h17_train.describe(include='all')"
   ]
  },
  {
   "cell_type": "code",
   "execution_count": 20,
   "metadata": {},
   "outputs": [
    {
     "data": {
      "text/html": [
       "<div>\n",
       "<style scoped>\n",
       "    .dataframe tbody tr th:only-of-type {\n",
       "        vertical-align: middle;\n",
       "    }\n",
       "\n",
       "    .dataframe tbody tr th {\n",
       "        vertical-align: top;\n",
       "    }\n",
       "\n",
       "    .dataframe thead th {\n",
       "        text-align: right;\n",
       "    }\n",
       "</style>\n",
       "<table border=\"1\" class=\"dataframe\">\n",
       "  <thead>\n",
       "    <tr style=\"text-align: right;\">\n",
       "      <th></th>\n",
       "      <th>term</th>\n",
       "      <th>code</th>\n",
       "      <th>STR</th>\n",
       "      <th>SNMS</th>\n",
       "    </tr>\n",
       "  </thead>\n",
       "  <tbody>\n",
       "    <tr>\n",
       "      <th>count</th>\n",
       "      <td>2499</td>\n",
       "      <td>2499</td>\n",
       "      <td>2499</td>\n",
       "      <td>2499</td>\n",
       "    </tr>\n",
       "    <tr>\n",
       "      <th>unique</th>\n",
       "      <td>1194</td>\n",
       "      <td>253</td>\n",
       "      <td>253</td>\n",
       "      <td>228</td>\n",
       "    </tr>\n",
       "    <tr>\n",
       "      <th>top</th>\n",
       "      <td>withdrawal</td>\n",
       "      <td>10022437</td>\n",
       "      <td>Insomnia</td>\n",
       "      <td>['Sleeplessness', 'Sleeplessness', 'Sleeplessn...</td>\n",
       "    </tr>\n",
       "    <tr>\n",
       "      <th>freq</th>\n",
       "      <td>113</td>\n",
       "      <td>330</td>\n",
       "      <td>330</td>\n",
       "      <td>330</td>\n",
       "    </tr>\n",
       "  </tbody>\n",
       "</table>\n",
       "</div>"
      ],
      "text/plain": [
       "              term      code       STR                                               SNMS\n",
       "count         2499      2499      2499                                               2499\n",
       "unique        1194       253       253                                                228\n",
       "top     withdrawal  10022437  Insomnia  ['Sleeplessness', 'Sleeplessness', 'Sleeplessn...\n",
       "freq           113       330       330                                                330"
      ]
     },
     "execution_count": 20,
     "metadata": {},
     "output_type": "execute_result"
    }
   ],
   "source": [
    "smm4h17_test['code'] = smm4h17_test['code'].astype(\"category\")\n",
    "smm4h17_test.describe(include='all')"
   ]
  },
  {
   "cell_type": "code",
   "execution_count": 21,
   "metadata": {},
   "outputs": [
    {
     "name": "stderr",
     "output_type": "stream",
     "text": [
      "/home/kaigorodov/.local/lib/python3.6/site-packages/ipykernel_launcher.py:5: SettingWithCopyWarning: \n",
      "A value is trying to be set on a copy of a slice from a DataFrame.\n",
      "Try using .loc[row_indexer,col_indexer] = value instead\n",
      "\n",
      "See the caveats in the documentation: https://pandas.pydata.org/pandas-docs/stable/user_guide/indexing.html#returning-a-view-versus-a-copy\n",
      "  \"\"\"\n"
     ]
    },
    {
     "data": {
      "text/plain": [
       "(13.0, (3900,), (2244,))"
      ]
     },
     "execution_count": 21,
     "metadata": {},
     "output_type": "execute_result"
    }
   ],
   "source": [
    "train, test = smm4h17_train, smm4h17_test\n",
    "dataset = pd.concat([train, test])\n",
    "\n",
    "median_synonims = dataset[['code', 'SNMS']]\n",
    "median_synonims['SNMS'] = median_synonims['SNMS'].apply(lambda x: len(eval(x)))\n",
    "median_synonims_num = median_synonims.groupby('code').agg('mean').median()\n",
    "\n",
    "median_synonims_num['SNMS'], \\\n",
    "train['SNMS'].apply(lambda x: eval(x)).explode('SNMS').unique().shape, \\\n",
    "test['SNMS'].apply(lambda x: eval(x)).explode('SNMS').unique().shape"
   ]
  },
  {
   "cell_type": "markdown",
   "metadata": {},
   "source": [
    "# Compare SMM4h 17 and 21"
   ]
  },
  {
   "cell_type": "code",
   "execution_count": 22,
   "metadata": {},
   "outputs": [
    {
     "data": {
      "text/plain": [
       "((3813, 5), (2786, 5))"
      ]
     },
     "execution_count": 22,
     "metadata": {},
     "output_type": "execute_result"
    }
   ],
   "source": [
    "smm4h_train = pd.concat([smm4h21_train, smm4h17_train], axis=0)\n",
    "smm4h_test = pd.concat([smm4h21_test, smm4h17_test], axis=0)\n",
    "\n",
    "smm4h_train.shape, smm4h_test.shape"
   ]
  },
  {
   "cell_type": "code",
   "execution_count": 23,
   "metadata": {},
   "outputs": [
    {
     "data": {
      "text/html": [
       "<div>\n",
       "<style scoped>\n",
       "    .dataframe tbody tr th:only-of-type {\n",
       "        vertical-align: middle;\n",
       "    }\n",
       "\n",
       "    .dataframe tbody tr th {\n",
       "        vertical-align: top;\n",
       "    }\n",
       "\n",
       "    .dataframe thead th {\n",
       "        text-align: right;\n",
       "    }\n",
       "</style>\n",
       "<table border=\"1\" class=\"dataframe\">\n",
       "  <thead>\n",
       "    <tr style=\"text-align: right;\">\n",
       "      <th></th>\n",
       "      <th>term</th>\n",
       "      <th>text</th>\n",
       "      <th>code</th>\n",
       "      <th>STR</th>\n",
       "      <th>SNMS</th>\n",
       "    </tr>\n",
       "  </thead>\n",
       "  <tbody>\n",
       "    <tr>\n",
       "      <th>0</th>\n",
       "      <td>neck pain in</td>\n",
       "      <td>05.00 day 17 Rivaroxaban diary. Woken up by pa...</td>\n",
       "      <td>10028836</td>\n",
       "      <td>Neck pain</td>\n",
       "      <td>['Neck pain', 'Neck pain NOS', 'Cervicalgia', ...</td>\n",
       "    </tr>\n",
       "    <tr>\n",
       "      <th>1</th>\n",
       "      <td>to go sleep can't back</td>\n",
       "      <td>@_chanabeth_ @laceykaybee i didn't stay long. ...</td>\n",
       "      <td>10011001</td>\n",
       "      <td>Corneal desquamation</td>\n",
       "      <td>[]</td>\n",
       "    </tr>\n",
       "    <tr>\n",
       "      <th>2</th>\n",
       "      <td>nosleep</td>\n",
       "      <td>i guess this is what i get for doubling my vyv...</td>\n",
       "      <td>10041001</td>\n",
       "      <td>Sleep loss</td>\n",
       "      <td>[]</td>\n",
       "    </tr>\n",
       "    <tr>\n",
       "      <th>3</th>\n",
       "      <td>me out knocks</td>\n",
       "      <td>evening dose of lithium and olanzapine really ...</td>\n",
       "      <td>10041014</td>\n",
       "      <td>Sleepiness</td>\n",
       "      <td>['Drowsiness', 'Drowsiness', 'Sleepiness', 'Sl...</td>\n",
       "    </tr>\n",
       "    <tr>\n",
       "      <th>4</th>\n",
       "      <td>hungry</td>\n",
       "      <td>@dopamine_diva q makes me hungry. olanzapine m...</td>\n",
       "      <td>10020466</td>\n",
       "      <td>Hunger</td>\n",
       "      <td>['Hunger', 'Hunger, NOS', 'Feeding drive', 'Fo...</td>\n",
       "    </tr>\n",
       "    <tr>\n",
       "      <th>...</th>\n",
       "      <td>...</td>\n",
       "      <td>...</td>\n",
       "      <td>...</td>\n",
       "      <td>...</td>\n",
       "      <td>...</td>\n",
       "    </tr>\n",
       "    <tr>\n",
       "      <th>2769</th>\n",
       "      <td>dreams night movie your in eventful</td>\n",
       "      <td>NaN</td>\n",
       "      <td>NaN</td>\n",
       "      <td>Abnormal dreams</td>\n",
       "      <td>['Dream disorder', 'Abnormal dreams', 'Abnorma...</td>\n",
       "    </tr>\n",
       "    <tr>\n",
       "      <th>2770</th>\n",
       "      <td>lot me a cry made</td>\n",
       "      <td>NaN</td>\n",
       "      <td>NaN</td>\n",
       "      <td>Crying</td>\n",
       "      <td>['Crying', 'Crying', 'Crying', 'Crying', 'Cryi...</td>\n",
       "    </tr>\n",
       "    <tr>\n",
       "      <th>2771</th>\n",
       "      <td>from sleep 3hrs of only</td>\n",
       "      <td>NaN</td>\n",
       "      <td>NaN</td>\n",
       "      <td>Insomnia</td>\n",
       "      <td>['Sleeplessness', 'Sleeplessness', 'Sleeplessn...</td>\n",
       "    </tr>\n",
       "    <tr>\n",
       "      <th>2772</th>\n",
       "      <td>like sleeping feel</td>\n",
       "      <td>NaN</td>\n",
       "      <td>NaN</td>\n",
       "      <td>Somnolence</td>\n",
       "      <td>['Somnolence', 'Somnolence', 'Somnolence', 'So...</td>\n",
       "    </tr>\n",
       "    <tr>\n",
       "      <th>2773</th>\n",
       "      <td>sedation</td>\n",
       "      <td>NaN</td>\n",
       "      <td>NaN</td>\n",
       "      <td>Sedation</td>\n",
       "      <td>['Sedated state', 'Sedated', 'Under sedation',...</td>\n",
       "    </tr>\n",
       "  </tbody>\n",
       "</table>\n",
       "<p>3813 rows × 5 columns</p>\n",
       "</div>"
      ],
      "text/plain": [
       "                                     term                                               text      code                   STR                                               SNMS\n",
       "0                            neck pain in  05.00 day 17 Rivaroxaban diary. Woken up by pa...  10028836             Neck pain  ['Neck pain', 'Neck pain NOS', 'Cervicalgia', ...\n",
       "1                  to go sleep can't back  @_chanabeth_ @laceykaybee i didn't stay long. ...  10011001  Corneal desquamation                                                 []\n",
       "2                                 nosleep  i guess this is what i get for doubling my vyv...  10041001            Sleep loss                                                 []\n",
       "3                           me out knocks  evening dose of lithium and olanzapine really ...  10041014            Sleepiness  ['Drowsiness', 'Drowsiness', 'Sleepiness', 'Sl...\n",
       "4                                  hungry  @dopamine_diva q makes me hungry. olanzapine m...  10020466                Hunger  ['Hunger', 'Hunger, NOS', 'Feeding drive', 'Fo...\n",
       "...                                   ...                                                ...       ...                   ...                                                ...\n",
       "2769  dreams night movie your in eventful                                                NaN       NaN       Abnormal dreams  ['Dream disorder', 'Abnormal dreams', 'Abnorma...\n",
       "2770                    lot me a cry made                                                NaN       NaN                Crying  ['Crying', 'Crying', 'Crying', 'Crying', 'Cryi...\n",
       "2771              from sleep 3hrs of only                                                NaN       NaN              Insomnia  ['Sleeplessness', 'Sleeplessness', 'Sleeplessn...\n",
       "2772                   like sleeping feel                                                NaN       NaN            Somnolence  ['Somnolence', 'Somnolence', 'Somnolence', 'So...\n",
       "2773                             sedation                                                NaN       NaN              Sedation  ['Sedated state', 'Sedated', 'Under sedation',...\n",
       "\n",
       "[3813 rows x 5 columns]"
      ]
     },
     "execution_count": 23,
     "metadata": {},
     "output_type": "execute_result"
    }
   ],
   "source": [
    "smm4h_train"
   ]
  },
  {
   "cell_type": "code",
   "execution_count": null,
   "metadata": {},
   "outputs": [],
   "source": []
  },
  {
   "cell_type": "code",
   "execution_count": 24,
   "metadata": {},
   "outputs": [
    {
     "data": {
      "image/png": "[encoded data removed]",
      "text/plain": [
       "<Figure size 432x288 with 1 Axes>"
      ]
     },
     "metadata": {},
     "output_type": "display_data"
    }
   ],
   "source": [
    "train_labels = set(smm4h_train['code'].unique())\n",
    "test_labels = set(smm4h_test['code'].unique())\n",
    "\n",
    "venn2([train_labels, test_labels], ('TRAIN', 'TEST'))\n",
    "plt.show()"
   ]
  },
  {
   "cell_type": "code",
   "execution_count": 25,
   "metadata": {},
   "outputs": [
    {
     "data": {
      "text/html": [
       "<div>\n",
       "<style scoped>\n",
       "    .dataframe tbody tr th:only-of-type {\n",
       "        vertical-align: middle;\n",
       "    }\n",
       "\n",
       "    .dataframe tbody tr th {\n",
       "        vertical-align: top;\n",
       "    }\n",
       "\n",
       "    .dataframe thead th {\n",
       "        text-align: right;\n",
       "    }\n",
       "</style>\n",
       "<table border=\"1\" class=\"dataframe\">\n",
       "  <thead>\n",
       "    <tr style=\"text-align: right;\">\n",
       "      <th></th>\n",
       "      <th>term</th>\n",
       "      <th>text</th>\n",
       "      <th>code</th>\n",
       "      <th>STR</th>\n",
       "      <th>SNMS</th>\n",
       "    </tr>\n",
       "  </thead>\n",
       "  <tbody>\n",
       "    <tr>\n",
       "      <th>count</th>\n",
       "      <td>3813</td>\n",
       "      <td>1039</td>\n",
       "      <td>2078</td>\n",
       "      <td>3813</td>\n",
       "      <td>3813</td>\n",
       "    </tr>\n",
       "    <tr>\n",
       "      <th>unique</th>\n",
       "      <td>3025</td>\n",
       "      <td>830</td>\n",
       "      <td>443</td>\n",
       "      <td>799</td>\n",
       "      <td>539</td>\n",
       "    </tr>\n",
       "    <tr>\n",
       "      <th>top</th>\n",
       "      <td>sleep</td>\n",
       "      <td>RT @ellus_cooper: @UCLAibd even w/ Humira: ab ...</td>\n",
       "      <td>10016370</td>\n",
       "      <td>Insomnia</td>\n",
       "      <td>[]</td>\n",
       "    </tr>\n",
       "    <tr>\n",
       "      <th>freq</th>\n",
       "      <td>7</td>\n",
       "      <td>6</td>\n",
       "      <td>64</td>\n",
       "      <td>351</td>\n",
       "      <td>394</td>\n",
       "    </tr>\n",
       "  </tbody>\n",
       "</table>\n",
       "</div>"
      ],
      "text/plain": [
       "         term                                               text      code       STR  SNMS\n",
       "count    3813                                               1039      2078      3813  3813\n",
       "unique   3025                                                830       443       799   539\n",
       "top     sleep  RT @ellus_cooper: @UCLAibd even w/ Humira: ab ...  10016370  Insomnia    []\n",
       "freq        7                                                  6        64       351   394"
      ]
     },
     "execution_count": 25,
     "metadata": {},
     "output_type": "execute_result"
    }
   ],
   "source": [
    "smm4h_train['code'] = smm4h_train['code'].astype(\"category\")\n",
    "smm4h_train.describe(include='all')"
   ]
  },
  {
   "cell_type": "markdown",
   "metadata": {},
   "source": [
    "# CADEC"
   ]
  },
  {
   "cell_type": "code",
   "execution_count": 26,
   "metadata": {},
   "outputs": [
    {
     "data": {
      "text/html": [
       "<div>\n",
       "<style scoped>\n",
       "    .dataframe tbody tr th:only-of-type {\n",
       "        vertical-align: middle;\n",
       "    }\n",
       "\n",
       "    .dataframe tbody tr th {\n",
       "        vertical-align: top;\n",
       "    }\n",
       "\n",
       "    .dataframe thead th {\n",
       "        text-align: right;\n",
       "    }\n",
       "</style>\n",
       "<table border=\"1\" class=\"dataframe\">\n",
       "  <thead>\n",
       "    <tr style=\"text-align: right;\">\n",
       "      <th></th>\n",
       "      <th>term</th>\n",
       "      <th>sent</th>\n",
       "      <th>text</th>\n",
       "      <th>code</th>\n",
       "      <th>STR</th>\n",
       "      <th>SNMS</th>\n",
       "    </tr>\n",
       "  </thead>\n",
       "  <tbody>\n",
       "    <tr>\n",
       "      <th>0</th>\n",
       "      <td>neuropathy toe</td>\n",
       "      <td>2 years with no problems, then toe neuropathy ...</td>\n",
       "      <td>2 years with no problems, then toe neuropathy ...</td>\n",
       "      <td>10034610</td>\n",
       "      <td>Peripheral neuropathy NOS</td>\n",
       "      <td>['Peripheral nerve disease', 'Peripheral neuro...</td>\n",
       "    </tr>\n",
       "    <tr>\n",
       "      <th>1</th>\n",
       "      <td>in legs pain severe</td>\n",
       "      <td>I have started physical therapy, massage thera...</td>\n",
       "      <td>After 1 year on Lipitor, I experienced severe ...</td>\n",
       "      <td>10033371</td>\n",
       "      <td>Pain</td>\n",
       "      <td>['Pain', 'Pain', 'Pain', 'Pain', 'Pain', 'Pain...</td>\n",
       "    </tr>\n",
       "    <tr>\n",
       "      <th>2</th>\n",
       "      <td>muscle left in elbow pain</td>\n",
       "      <td>Muscle pain in left elbow, pain in feet.</td>\n",
       "      <td>Muscle pain in left elbow, pain in feet.&lt;SENT&gt;...</td>\n",
       "      <td>10033424</td>\n",
       "      <td>Pain in elbow</td>\n",
       "      <td>['Pain in elbow', 'Elbow pain', 'Pain in elbow...</td>\n",
       "    </tr>\n",
       "    <tr>\n",
       "      <th>3</th>\n",
       "      <td>shoulders pain in extreme</td>\n",
       "      <td>VERY SCAREY DRUG.</td>\n",
       "      <td>EXTREME PAIN IN NECK AND SHOULDERS FOR THREE W...</td>\n",
       "      <td>10033371</td>\n",
       "      <td>Pain</td>\n",
       "      <td>['Pain', 'Pain', 'Pain', 'Pain', 'Pain', 'Pain...</td>\n",
       "    </tr>\n",
       "    <tr>\n",
       "      <th>4</th>\n",
       "      <td>nausea severe</td>\n",
       "      <td>severe nausea dizziness terrible stomach pain.</td>\n",
       "      <td>severe nausea dizziness terrible stomach pain.</td>\n",
       "      <td>10028813</td>\n",
       "      <td>Nausea</td>\n",
       "      <td>['Nausea', 'Nausea', 'Nausea', 'Nausea', 'Naus...</td>\n",
       "    </tr>\n",
       "    <tr>\n",
       "      <th>...</th>\n",
       "      <td>...</td>\n",
       "      <td>...</td>\n",
       "      <td>...</td>\n",
       "      <td>...</td>\n",
       "      <td>...</td>\n",
       "      <td>...</td>\n",
       "    </tr>\n",
       "    <tr>\n",
       "      <th>1986</th>\n",
       "      <td>in legs burning</td>\n",
       "      <td>The side effects are very distracting.</td>\n",
       "      <td>Mostly Tingling/burning in arms and legs and b...</td>\n",
       "      <td>10033386</td>\n",
       "      <td>Pain burning</td>\n",
       "      <td>['Burning pain', 'Burning pain', 'Burning pain...</td>\n",
       "    </tr>\n",
       "    <tr>\n",
       "      <th>1987</th>\n",
       "      <td>muscle general soreness</td>\n",
       "      <td>I take several meds for rheumatoid arthritis a...</td>\n",
       "      <td>fluids pooling in my lower extremeties - espec...</td>\n",
       "      <td>10016766</td>\n",
       "      <td>Flatulence</td>\n",
       "      <td>['Flatulence', 'Flatulence', 'Flatulence', 'Fl...</td>\n",
       "    </tr>\n",
       "    <tr>\n",
       "      <th>1988</th>\n",
       "      <td>inflamation painful joints of</td>\n",
       "      <td>I significanlty lowered my chol by using 10mg ...</td>\n",
       "      <td>serious hands &amp; feet cramping, weakness, painf...</td>\n",
       "      <td>10003239</td>\n",
       "      <td>Arthralgia</td>\n",
       "      <td>['Arthralgia', 'Arthralgia', 'Arthralgia', 'Ar...</td>\n",
       "    </tr>\n",
       "    <tr>\n",
       "      <th>1989</th>\n",
       "      <td>ankle pain in</td>\n",
       "      <td>was a big lipitor fan before started on studie...</td>\n",
       "      <td>initially noticed twitching in thighs thought ...</td>\n",
       "      <td>10033379</td>\n",
       "      <td>Pain ankle</td>\n",
       "      <td>['Ankle pain', 'Ankle pain', 'Arthralgia of an...</td>\n",
       "    </tr>\n",
       "    <tr>\n",
       "      <th>1990</th>\n",
       "      <td>elevated liver test blood mildly</td>\n",
       "      <td>My Liver blood test are also mildly elevated.</td>\n",
       "      <td>Stopped because of HIGH CPK.&lt;SENT&gt;My Liver blo...</td>\n",
       "      <td>10048556</td>\n",
       "      <td>Liver function tests raised</td>\n",
       "      <td>['Liver function test increased', 'Liver funct...</td>\n",
       "    </tr>\n",
       "  </tbody>\n",
       "</table>\n",
       "<p>1991 rows × 6 columns</p>\n",
       "</div>"
      ],
      "text/plain": [
       "                                  term                                               sent                                               text      code                          STR                                               SNMS\n",
       "0                       neuropathy toe  2 years with no problems, then toe neuropathy ...  2 years with no problems, then toe neuropathy ...  10034610    Peripheral neuropathy NOS  ['Peripheral nerve disease', 'Peripheral neuro...\n",
       "1                  in legs pain severe  I have started physical therapy, massage thera...  After 1 year on Lipitor, I experienced severe ...  10033371                         Pain  ['Pain', 'Pain', 'Pain', 'Pain', 'Pain', 'Pain...\n",
       "2            muscle left in elbow pain           Muscle pain in left elbow, pain in feet.  Muscle pain in left elbow, pain in feet.<SENT>...  10033424                Pain in elbow  ['Pain in elbow', 'Elbow pain', 'Pain in elbow...\n",
       "3            shoulders pain in extreme                                  VERY SCAREY DRUG.  EXTREME PAIN IN NECK AND SHOULDERS FOR THREE W...  10033371                         Pain  ['Pain', 'Pain', 'Pain', 'Pain', 'Pain', 'Pain...\n",
       "4                        nausea severe     severe nausea dizziness terrible stomach pain.     severe nausea dizziness terrible stomach pain.  10028813                       Nausea  ['Nausea', 'Nausea', 'Nausea', 'Nausea', 'Naus...\n",
       "...                                ...                                                ...                                                ...       ...                          ...                                                ...\n",
       "1986                   in legs burning             The side effects are very distracting.  Mostly Tingling/burning in arms and legs and b...  10033386                 Pain burning  ['Burning pain', 'Burning pain', 'Burning pain...\n",
       "1987           muscle general soreness  I take several meds for rheumatoid arthritis a...  fluids pooling in my lower extremeties - espec...  10016766                   Flatulence  ['Flatulence', 'Flatulence', 'Flatulence', 'Fl...\n",
       "1988     inflamation painful joints of  I significanlty lowered my chol by using 10mg ...  serious hands & feet cramping, weakness, painf...  10003239                   Arthralgia  ['Arthralgia', 'Arthralgia', 'Arthralgia', 'Ar...\n",
       "1989                     ankle pain in  was a big lipitor fan before started on studie...  initially noticed twitching in thighs thought ...  10033379                   Pain ankle  ['Ankle pain', 'Ankle pain', 'Arthralgia of an...\n",
       "1990  elevated liver test blood mildly      My Liver blood test are also mildly elevated.  Stopped because of HIGH CPK.<SENT>My Liver blo...  10048556  Liver function tests raised  ['Liver function test increased', 'Liver funct...\n",
       "\n",
       "[1991 rows x 6 columns]"
      ]
     },
     "execution_count": 26,
     "metadata": {},
     "output_type": "execute_result"
    }
   ],
   "source": [
    "cadec_train = pd.read_csv('../../data/interim/cadec/train_pure.csv')\n",
    "cadec_test = pd.read_csv('../../data/interim/cadec/test.csv')\n",
    "cadec_train"
   ]
  },
  {
   "cell_type": "code",
   "execution_count": 27,
   "metadata": {},
   "outputs": [
    {
     "data": {
      "text/plain": [
       "((1991, 6), (881, 6))"
      ]
     },
     "execution_count": 27,
     "metadata": {},
     "output_type": "execute_result"
    }
   ],
   "source": [
    "cadec_train.shape, cadec_test.shape, "
   ]
  },
  {
   "cell_type": "code",
   "execution_count": 28,
   "metadata": {},
   "outputs": [
    {
     "data": {
      "text/plain": [
       "(6451, 2242)"
      ]
     },
     "execution_count": 28,
     "metadata": {},
     "output_type": "execute_result"
    }
   ],
   "source": [
    "cadec_train['term'].apply(lambda x: len(x.split())).sum(), \\\n",
    "cadec_test['term'].apply(lambda x: len(x.split())).sum(), \\"
   ]
  },
  {
   "cell_type": "code",
   "execution_count": 29,
   "metadata": {},
   "outputs": [
    {
     "data": {
      "image/png": "[encoded data removed]",
      "text/plain": [
       "<Figure size 432x288 with 1 Axes>"
      ]
     },
     "metadata": {},
     "output_type": "display_data"
    }
   ],
   "source": [
    "train_labels = set(cadec_train['code'].unique())\n",
    "test_labels = set(cadec_test['code'].unique())\n",
    "\n",
    "venn2([train_labels, test_labels], ('TRAIN', 'TEST'))\n",
    "plt.show()"
   ]
  },
  {
   "cell_type": "code",
   "execution_count": 30,
   "metadata": {},
   "outputs": [
    {
     "data": {
      "text/html": [
       "<div>\n",
       "<style scoped>\n",
       "    .dataframe tbody tr th:only-of-type {\n",
       "        vertical-align: middle;\n",
       "    }\n",
       "\n",
       "    .dataframe tbody tr th {\n",
       "        vertical-align: top;\n",
       "    }\n",
       "\n",
       "    .dataframe thead th {\n",
       "        text-align: right;\n",
       "    }\n",
       "</style>\n",
       "<table border=\"1\" class=\"dataframe\">\n",
       "  <thead>\n",
       "    <tr style=\"text-align: right;\">\n",
       "      <th></th>\n",
       "      <th>term</th>\n",
       "      <th>sent</th>\n",
       "      <th>text</th>\n",
       "      <th>code</th>\n",
       "      <th>STR</th>\n",
       "      <th>SNMS</th>\n",
       "    </tr>\n",
       "  </thead>\n",
       "  <tbody>\n",
       "    <tr>\n",
       "      <th>count</th>\n",
       "      <td>1991</td>\n",
       "      <td>1991</td>\n",
       "      <td>1991</td>\n",
       "      <td>1991</td>\n",
       "      <td>1991</td>\n",
       "      <td>1991</td>\n",
       "    </tr>\n",
       "    <tr>\n",
       "      <th>unique</th>\n",
       "      <td>1977</td>\n",
       "      <td>1982</td>\n",
       "      <td>846</td>\n",
       "      <td>509</td>\n",
       "      <td>509</td>\n",
       "      <td>419</td>\n",
       "    </tr>\n",
       "    <tr>\n",
       "      <th>top</th>\n",
       "      <td>tendonitis</td>\n",
       "      <td>.</td>\n",
       "      <td>I had been taking Lipitor 10mg for 2 years.&lt;SE...</td>\n",
       "      <td>10033371</td>\n",
       "      <td>Pain</td>\n",
       "      <td>['Pain', 'Pain', 'Pain', 'Pain', 'Pain', 'Pain...</td>\n",
       "    </tr>\n",
       "    <tr>\n",
       "      <th>freq</th>\n",
       "      <td>2</td>\n",
       "      <td>6</td>\n",
       "      <td>14</td>\n",
       "      <td>144</td>\n",
       "      <td>144</td>\n",
       "      <td>144</td>\n",
       "    </tr>\n",
       "  </tbody>\n",
       "</table>\n",
       "</div>"
      ],
      "text/plain": [
       "              term  sent                                               text      code   STR                                               SNMS\n",
       "count         1991  1991                                               1991      1991  1991                                               1991\n",
       "unique        1977  1982                                                846       509   509                                                419\n",
       "top     tendonitis     .  I had been taking Lipitor 10mg for 2 years.<SE...  10033371  Pain  ['Pain', 'Pain', 'Pain', 'Pain', 'Pain', 'Pain...\n",
       "freq             2     6                                                 14       144   144                                                144"
      ]
     },
     "execution_count": 30,
     "metadata": {},
     "output_type": "execute_result"
    }
   ],
   "source": [
    "cadec_train['code'] = cadec_train['code'].astype(\"category\")\n",
    "cadec_train.describe(include='all')"
   ]
  },
  {
   "cell_type": "code",
   "execution_count": 31,
   "metadata": {},
   "outputs": [
    {
     "data": {
      "text/html": [
       "<div>\n",
       "<style scoped>\n",
       "    .dataframe tbody tr th:only-of-type {\n",
       "        vertical-align: middle;\n",
       "    }\n",
       "\n",
       "    .dataframe tbody tr th {\n",
       "        vertical-align: top;\n",
       "    }\n",
       "\n",
       "    .dataframe thead th {\n",
       "        text-align: right;\n",
       "    }\n",
       "</style>\n",
       "<table border=\"1\" class=\"dataframe\">\n",
       "  <thead>\n",
       "    <tr style=\"text-align: right;\">\n",
       "      <th></th>\n",
       "      <th>term</th>\n",
       "      <th>sent</th>\n",
       "      <th>text</th>\n",
       "      <th>code</th>\n",
       "      <th>STR</th>\n",
       "      <th>SNMS</th>\n",
       "    </tr>\n",
       "  </thead>\n",
       "  <tbody>\n",
       "    <tr>\n",
       "      <th>count</th>\n",
       "      <td>881</td>\n",
       "      <td>881</td>\n",
       "      <td>881</td>\n",
       "      <td>881</td>\n",
       "      <td>881</td>\n",
       "      <td>881</td>\n",
       "    </tr>\n",
       "    <tr>\n",
       "      <th>unique</th>\n",
       "      <td>658</td>\n",
       "      <td>874</td>\n",
       "      <td>576</td>\n",
       "      <td>274</td>\n",
       "      <td>274</td>\n",
       "      <td>234</td>\n",
       "    </tr>\n",
       "    <tr>\n",
       "      <th>top</th>\n",
       "      <td>pain</td>\n",
       "      <td>.</td>\n",
       "      <td>I had been taking Lipitor 10mg for 2 years.&lt;SE...</td>\n",
       "      <td>10033371</td>\n",
       "      <td>Pain</td>\n",
       "      <td>['Pain', 'Pain', 'Pain', 'Pain', 'Pain', 'Pain...</td>\n",
       "    </tr>\n",
       "    <tr>\n",
       "      <th>freq</th>\n",
       "      <td>25</td>\n",
       "      <td>4</td>\n",
       "      <td>8</td>\n",
       "      <td>70</td>\n",
       "      <td>70</td>\n",
       "      <td>70</td>\n",
       "    </tr>\n",
       "  </tbody>\n",
       "</table>\n",
       "</div>"
      ],
      "text/plain": [
       "        term sent                                               text      code   STR                                               SNMS\n",
       "count    881  881                                                881       881   881                                                881\n",
       "unique   658  874                                                576       274   274                                                234\n",
       "top     pain    .  I had been taking Lipitor 10mg for 2 years.<SE...  10033371  Pain  ['Pain', 'Pain', 'Pain', 'Pain', 'Pain', 'Pain...\n",
       "freq      25    4                                                  8        70    70                                                 70"
      ]
     },
     "execution_count": 31,
     "metadata": {},
     "output_type": "execute_result"
    }
   ],
   "source": [
    "cadec_test['code'] = cadec_test['code'].astype(\"category\")\n",
    "cadec_test.describe(include='all')"
   ]
  },
  {
   "cell_type": "code",
   "execution_count": 32,
   "metadata": {},
   "outputs": [
    {
     "name": "stderr",
     "output_type": "stream",
     "text": [
      "/home/kaigorodov/.local/lib/python3.6/site-packages/ipykernel_launcher.py:5: SettingWithCopyWarning: \n",
      "A value is trying to be set on a copy of a slice from a DataFrame.\n",
      "Try using .loc[row_indexer,col_indexer] = value instead\n",
      "\n",
      "See the caveats in the documentation: https://pandas.pydata.org/pandas-docs/stable/user_guide/indexing.html#returning-a-view-versus-a-copy\n",
      "  \"\"\"\n"
     ]
    },
    {
     "data": {
      "text/plain": [
       "(10.0, (3596,), (2204,))"
      ]
     },
     "execution_count": 32,
     "metadata": {},
     "output_type": "execute_result"
    }
   ],
   "source": [
    "train, test = cadec_train, cadec_test\n",
    "dataset = pd.concat([train, test])\n",
    "\n",
    "median_synonims = dataset[['code', 'SNMS']]\n",
    "median_synonims['SNMS'] = median_synonims['SNMS'].apply(lambda x: len(eval(x)))\n",
    "median_synonims_num = median_synonims.groupby('code').agg('mean').median()\n",
    "\n",
    "median_synonims_num['SNMS'], \\\n",
    "train['SNMS'].apply(lambda x: eval(x)).explode('SNMS').unique().shape, \\\n",
    "test['SNMS'].apply(lambda x: eval(x)).explode('SNMS').unique().shape"
   ]
  },
  {
   "cell_type": "markdown",
   "metadata": {},
   "source": [
    "# PsyTar"
   ]
  },
  {
   "cell_type": "code",
   "execution_count": 33,
   "metadata": {},
   "outputs": [
    {
     "data": {
      "text/html": [
       "<div>\n",
       "<style scoped>\n",
       "    .dataframe tbody tr th:only-of-type {\n",
       "        vertical-align: middle;\n",
       "    }\n",
       "\n",
       "    .dataframe tbody tr th {\n",
       "        vertical-align: top;\n",
       "    }\n",
       "\n",
       "    .dataframe thead th {\n",
       "        text-align: right;\n",
       "    }\n",
       "</style>\n",
       "<table border=\"1\" class=\"dataframe\">\n",
       "  <thead>\n",
       "    <tr style=\"text-align: right;\">\n",
       "      <th></th>\n",
       "      <th>term</th>\n",
       "      <th>text</th>\n",
       "      <th>code</th>\n",
       "      <th>STR</th>\n",
       "      <th>SNMS</th>\n",
       "    </tr>\n",
       "  </thead>\n",
       "  <tbody>\n",
       "    <tr>\n",
       "      <th>0</th>\n",
       "      <td>irritability</td>\n",
       "      <td>Irritability.&lt;SENT&gt;This is a great drug with m...</td>\n",
       "      <td>10022998.0</td>\n",
       "      <td>Irritability</td>\n",
       "      <td>['Irritable mood', 'Fussiness', 'Irritability'...</td>\n",
       "    </tr>\n",
       "    <tr>\n",
       "      <th>1</th>\n",
       "      <td>sex decrease drive in</td>\n",
       "      <td>No noticeable side effects until dosage was in...</td>\n",
       "      <td>10024419.0</td>\n",
       "      <td>Libido decreased</td>\n",
       "      <td>['Decreased libido', 'Low libido', 'Reduced li...</td>\n",
       "    </tr>\n",
       "    <tr>\n",
       "      <th>2</th>\n",
       "      <td>light-headed feeling</td>\n",
       "      <td>Nausea, a light-headed feeling, and dizziness ...</td>\n",
       "      <td>10024490.0</td>\n",
       "      <td>Light-headed</td>\n",
       "      <td>['Lightheadedness', 'Lightheadedness', 'Feels ...</td>\n",
       "    </tr>\n",
       "    <tr>\n",
       "      <th>3</th>\n",
       "      <td>hurt the stomach all time</td>\n",
       "      <td>Increased anxiety, SERIOUS constipation (for w...</td>\n",
       "      <td>10042112.0</td>\n",
       "      <td>Stomach pain</td>\n",
       "      <td>['Stomach ache', 'Stomach ache', 'Belly ache',...</td>\n",
       "    </tr>\n",
       "    <tr>\n",
       "      <th>4</th>\n",
       "      <td>fatigue</td>\n",
       "      <td>Brain zaps, excessive yawning, fatigue, increa...</td>\n",
       "      <td>10016256.0</td>\n",
       "      <td>Fatigue</td>\n",
       "      <td>['Fatigue', 'Fatigue', 'Fatigue', 'Tiredness',...</td>\n",
       "    </tr>\n",
       "    <tr>\n",
       "      <th>...</th>\n",
       "      <td>...</td>\n",
       "      <td>...</td>\n",
       "      <td>...</td>\n",
       "      <td>...</td>\n",
       "      <td>...</td>\n",
       "    </tr>\n",
       "    <tr>\n",
       "      <th>2024</th>\n",
       "      <td>to enjoy b/c the too glass it wine champagne o...</td>\n",
       "      <td>Moderate to severe dry mouth and dry eyes, occ...</td>\n",
       "      <td>10001598.0</td>\n",
       "      <td>Alcohol intolerance</td>\n",
       "      <td>['Alcohol intolerance', 'Alcohol intolerance (...</td>\n",
       "    </tr>\n",
       "    <tr>\n",
       "      <th>2025</th>\n",
       "      <td>horrible migraines</td>\n",
       "      <td>HOrrible migraines but i have had migraines si...</td>\n",
       "      <td>10027599.0</td>\n",
       "      <td>Migraine</td>\n",
       "      <td>['Migraine (disorder)', 'Migraine (disorder)',...</td>\n",
       "    </tr>\n",
       "    <tr>\n",
       "      <th>2026</th>\n",
       "      <td>to was worse starting get anxiety</td>\n",
       "      <td>Insomnia, dizzy, anxiety, dry mouth, muscle ac...</td>\n",
       "      <td>10002855.0</td>\n",
       "      <td>Anxiety</td>\n",
       "      <td>['Anxiety', 'Anxiety', 'Anxiety reaction', 'An...</td>\n",
       "    </tr>\n",
       "    <tr>\n",
       "      <th>2027</th>\n",
       "      <td>anything to eat days unable the for significant 3</td>\n",
       "      <td>Nausea, Blurred Vision, 3 to 5 hours sleep, Su...</td>\n",
       "      <td>10003025.0</td>\n",
       "      <td>Appetite impaired</td>\n",
       "      <td>['Loss of appetite (finding)', 'Anorexia', 'An...</td>\n",
       "    </tr>\n",
       "    <tr>\n",
       "      <th>2028</th>\n",
       "      <td>week the first during flashes hot</td>\n",
       "      <td>During the first week I experienced hot flashe...</td>\n",
       "      <td>10060800.0</td>\n",
       "      <td>Hot flush</td>\n",
       "      <td>['Hot flushes', 'Hot flushes', 'Hot flushes', ...</td>\n",
       "    </tr>\n",
       "  </tbody>\n",
       "</table>\n",
       "<p>2029 rows × 5 columns</p>\n",
       "</div>"
      ],
      "text/plain": [
       "                                                   term                                               text        code                  STR                                               SNMS\n",
       "0                                          irritability  Irritability.<SENT>This is a great drug with m...  10022998.0         Irritability  ['Irritable mood', 'Fussiness', 'Irritability'...\n",
       "1                                 sex decrease drive in  No noticeable side effects until dosage was in...  10024419.0     Libido decreased  ['Decreased libido', 'Low libido', 'Reduced li...\n",
       "2                                  light-headed feeling  Nausea, a light-headed feeling, and dizziness ...  10024490.0         Light-headed  ['Lightheadedness', 'Lightheadedness', 'Feels ...\n",
       "3                             hurt the stomach all time  Increased anxiety, SERIOUS constipation (for w...  10042112.0         Stomach pain  ['Stomach ache', 'Stomach ache', 'Belly ache',...\n",
       "4                                               fatigue  Brain zaps, excessive yawning, fatigue, increa...  10016256.0              Fatigue  ['Fatigue', 'Fatigue', 'Fatigue', 'Tiredness',...\n",
       "...                                                 ...                                                ...         ...                  ...                                                ...\n",
       "2024  to enjoy b/c the too glass it wine champagne o...  Moderate to severe dry mouth and dry eyes, occ...  10001598.0  Alcohol intolerance  ['Alcohol intolerance', 'Alcohol intolerance (...\n",
       "2025                                 horrible migraines  HOrrible migraines but i have had migraines si...  10027599.0             Migraine  ['Migraine (disorder)', 'Migraine (disorder)',...\n",
       "2026                  to was worse starting get anxiety  Insomnia, dizzy, anxiety, dry mouth, muscle ac...  10002855.0              Anxiety  ['Anxiety', 'Anxiety', 'Anxiety reaction', 'An...\n",
       "2027  anything to eat days unable the for significant 3  Nausea, Blurred Vision, 3 to 5 hours sleep, Su...  10003025.0    Appetite impaired  ['Loss of appetite (finding)', 'Anorexia', 'An...\n",
       "2028                  week the first during flashes hot  During the first week I experienced hot flashe...  10060800.0            Hot flush  ['Hot flushes', 'Hot flushes', 'Hot flushes', ...\n",
       "\n",
       "[2029 rows x 5 columns]"
      ]
     },
     "execution_count": 33,
     "metadata": {},
     "output_type": "execute_result"
    }
   ],
   "source": [
    "psytar_train = pd.read_csv('../../data/interim/psytar/train_pure.csv')\n",
    "psytar_test = pd.read_csv('../../data/interim/psytar/test.csv')\n",
    "psytar_train"
   ]
  },
  {
   "cell_type": "code",
   "execution_count": 34,
   "metadata": {},
   "outputs": [
    {
     "data": {
      "text/plain": [
       "((2029, 5), (798, 5))"
      ]
     },
     "execution_count": 34,
     "metadata": {},
     "output_type": "execute_result"
    }
   ],
   "source": [
    "psytar_train.shape, psytar_test.shape"
   ]
  },
  {
   "cell_type": "code",
   "execution_count": 35,
   "metadata": {},
   "outputs": [
    {
     "data": {
      "text/plain": [
       "(7130, 2218)"
      ]
     },
     "execution_count": 35,
     "metadata": {},
     "output_type": "execute_result"
    }
   ],
   "source": [
    "psytar_train['term'].apply(lambda x: len(x.split())).sum(), \\\n",
    "psytar_test['term'].apply(lambda x: len(x.split())).sum(), \\"
   ]
  },
  {
   "cell_type": "code",
   "execution_count": 36,
   "metadata": {},
   "outputs": [
    {
     "data": {
      "image/png": "[encoded data removed]",
      "text/plain": [
       "<Figure size 432x288 with 1 Axes>"
      ]
     },
     "metadata": {},
     "output_type": "display_data"
    }
   ],
   "source": [
    "train_labels = set(psytar_train['code'].unique())\n",
    "test_labels = set(psytar_test['code'].unique())\n",
    "\n",
    "venn2([train_labels, test_labels], ('TRAIN', 'TEST'))\n",
    "plt.show()"
   ]
  },
  {
   "cell_type": "code",
   "execution_count": 37,
   "metadata": {},
   "outputs": [
    {
     "data": {
      "text/html": [
       "<div>\n",
       "<style scoped>\n",
       "    .dataframe tbody tr th:only-of-type {\n",
       "        vertical-align: middle;\n",
       "    }\n",
       "\n",
       "    .dataframe tbody tr th {\n",
       "        vertical-align: top;\n",
       "    }\n",
       "\n",
       "    .dataframe thead th {\n",
       "        text-align: right;\n",
       "    }\n",
       "</style>\n",
       "<table border=\"1\" class=\"dataframe\">\n",
       "  <thead>\n",
       "    <tr style=\"text-align: right;\">\n",
       "      <th></th>\n",
       "      <th>term</th>\n",
       "      <th>text</th>\n",
       "      <th>code</th>\n",
       "      <th>STR</th>\n",
       "      <th>SNMS</th>\n",
       "    </tr>\n",
       "  </thead>\n",
       "  <tbody>\n",
       "    <tr>\n",
       "      <th>count</th>\n",
       "      <td>2029</td>\n",
       "      <td>2029</td>\n",
       "      <td>2029.0</td>\n",
       "      <td>2029</td>\n",
       "      <td>2029</td>\n",
       "    </tr>\n",
       "    <tr>\n",
       "      <th>unique</th>\n",
       "      <td>2024</td>\n",
       "      <td>687</td>\n",
       "      <td>406.0</td>\n",
       "      <td>406</td>\n",
       "      <td>358</td>\n",
       "    </tr>\n",
       "    <tr>\n",
       "      <th>top</th>\n",
       "      <td>numbness emotional</td>\n",
       "      <td>sweating,dizziness, severe dry mouth (coughing...</td>\n",
       "      <td>10028813.0</td>\n",
       "      <td>Nausea</td>\n",
       "      <td>[]</td>\n",
       "    </tr>\n",
       "    <tr>\n",
       "      <th>freq</th>\n",
       "      <td>2</td>\n",
       "      <td>21</td>\n",
       "      <td>65.0</td>\n",
       "      <td>65</td>\n",
       "      <td>179</td>\n",
       "    </tr>\n",
       "  </tbody>\n",
       "</table>\n",
       "</div>"
      ],
      "text/plain": [
       "                      term                                               text        code     STR  SNMS\n",
       "count                 2029                                               2029      2029.0    2029  2029\n",
       "unique                2024                                                687       406.0     406   358\n",
       "top     numbness emotional  sweating,dizziness, severe dry mouth (coughing...  10028813.0  Nausea    []\n",
       "freq                     2                                                 21        65.0      65   179"
      ]
     },
     "execution_count": 37,
     "metadata": {},
     "output_type": "execute_result"
    }
   ],
   "source": [
    "psytar_train['code'] = psytar_train['code'].astype(\"category\")\n",
    "psytar_train.describe(include='all')"
   ]
  },
  {
   "cell_type": "code",
   "execution_count": 38,
   "metadata": {},
   "outputs": [
    {
     "data": {
      "text/html": [
       "<div>\n",
       "<style scoped>\n",
       "    .dataframe tbody tr th:only-of-type {\n",
       "        vertical-align: middle;\n",
       "    }\n",
       "\n",
       "    .dataframe tbody tr th {\n",
       "        vertical-align: top;\n",
       "    }\n",
       "\n",
       "    .dataframe thead th {\n",
       "        text-align: right;\n",
       "    }\n",
       "</style>\n",
       "<table border=\"1\" class=\"dataframe\">\n",
       "  <thead>\n",
       "    <tr style=\"text-align: right;\">\n",
       "      <th></th>\n",
       "      <th>term</th>\n",
       "      <th>text</th>\n",
       "      <th>code</th>\n",
       "      <th>STR</th>\n",
       "      <th>SNMS</th>\n",
       "    </tr>\n",
       "  </thead>\n",
       "  <tbody>\n",
       "    <tr>\n",
       "      <th>count</th>\n",
       "      <td>798</td>\n",
       "      <td>798</td>\n",
       "      <td>798.0</td>\n",
       "      <td>798</td>\n",
       "      <td>798</td>\n",
       "    </tr>\n",
       "    <tr>\n",
       "      <th>unique</th>\n",
       "      <td>587</td>\n",
       "      <td>455</td>\n",
       "      <td>209.0</td>\n",
       "      <td>209</td>\n",
       "      <td>182</td>\n",
       "    </tr>\n",
       "    <tr>\n",
       "      <th>top</th>\n",
       "      <td>weight gain</td>\n",
       "      <td>achiness, tiredness, restlessness, blurry visi...</td>\n",
       "      <td>10022437.0</td>\n",
       "      <td>Insomnia</td>\n",
       "      <td>[]</td>\n",
       "    </tr>\n",
       "    <tr>\n",
       "      <th>freq</th>\n",
       "      <td>22</td>\n",
       "      <td>6</td>\n",
       "      <td>41.0</td>\n",
       "      <td>41</td>\n",
       "      <td>55</td>\n",
       "    </tr>\n",
       "  </tbody>\n",
       "</table>\n",
       "</div>"
      ],
      "text/plain": [
       "               term                                               text        code       STR SNMS\n",
       "count           798                                                798       798.0       798  798\n",
       "unique          587                                                455       209.0       209  182\n",
       "top     weight gain  achiness, tiredness, restlessness, blurry visi...  10022437.0  Insomnia   []\n",
       "freq             22                                                  6        41.0        41   55"
      ]
     },
     "execution_count": 38,
     "metadata": {},
     "output_type": "execute_result"
    }
   ],
   "source": [
    "psytar_test['code'] = psytar_test['code'].astype(\"category\")\n",
    "psytar_test.describe(include='all')"
   ]
  },
  {
   "cell_type": "code",
   "execution_count": 39,
   "metadata": {},
   "outputs": [
    {
     "name": "stderr",
     "output_type": "stream",
     "text": [
      "/home/kaigorodov/.local/lib/python3.6/site-packages/ipykernel_launcher.py:5: SettingWithCopyWarning: \n",
      "A value is trying to be set on a copy of a slice from a DataFrame.\n",
      "Try using .loc[row_indexer,col_indexer] = value instead\n",
      "\n",
      "See the caveats in the documentation: https://pandas.pydata.org/pandas-docs/stable/user_guide/indexing.html#returning-a-view-versus-a-copy\n",
      "  \"\"\"\n"
     ]
    },
    {
     "data": {
      "text/plain": [
       "(8.0, (3078,), (1701,))"
      ]
     },
     "execution_count": 39,
     "metadata": {},
     "output_type": "execute_result"
    }
   ],
   "source": [
    "train, test = psytar_train, psytar_test\n",
    "dataset = pd.concat([train, test])\n",
    "\n",
    "median_synonims = dataset[['code', 'SNMS']]\n",
    "median_synonims['SNMS'] = median_synonims['SNMS'].apply(lambda x: len(eval(x)))\n",
    "median_synonims_num = median_synonims.groupby('code').agg('mean').median()\n",
    "\n",
    "median_synonims_num['SNMS'], \\\n",
    "train['SNMS'].apply(lambda x: eval(x)).explode('SNMS').unique().shape, \\\n",
    "test['SNMS'].apply(lambda x: eval(x)).explode('SNMS').unique().shape"
   ]
  },
  {
   "cell_type": "markdown",
   "metadata": {},
   "source": [
    "# Compare TRAIN SETS"
   ]
  },
  {
   "cell_type": "code",
   "execution_count": 40,
   "metadata": {},
   "outputs": [
    {
     "data": {
      "text/plain": [
       "<AxesSubplot:xlabel='code', ylabel='Count'>"
      ]
     },
     "execution_count": 40,
     "metadata": {},
     "output_type": "execute_result"
    },
    {
     "data": {
      "image/png": "[encoded data removed]",
      "text/plain": [
       "<Figure size 1080x432 with 1 Axes>"
      ]
     },
     "metadata": {
      "needs_background": "light"
     },
     "output_type": "display_data"
    }
   ],
   "source": [
    "# smm4h17_train\n",
    "# smm4h21_train\n",
    "# cadec_train\n",
    "# psytar_train\n",
    "\n",
    "smm4h17_train = pd.read_csv('../../data/interim/smm4h17/train_pure.csv').dropna()\n",
    "smm4h21_train = pd.read_csv('../../data/interim/smm4h21/train_pure.csv').dropna()\n",
    "cadec_train = pd.read_csv('../../data/interim/cadec/train_pure.csv').dropna()\n",
    "psytar_train = pd.read_csv('../../data/interim/psytar/train_pure.csv').dropna()\n",
    "\n",
    "bins = 100\n",
    "\n",
    "plt.figure(figsize=(15, 6))\n",
    "sns.histplot(data=smm4h17_train['code'], bins=bins, color='red')\n",
    "sns.histplot(data=smm4h21_train['code'], bins=bins, color='blue')\n",
    "sns.histplot(data=cadec_train['code'], bins=bins, color='green')\n",
    "sns.histplot(data=psytar_train['code'], bins=bins, color='yellow')"
   ]
  },
  {
   "cell_type": "markdown",
   "metadata": {},
   "source": [
    "# Compare TEST SETS"
   ]
  },
  {
   "cell_type": "code",
   "execution_count": 41,
   "metadata": {},
   "outputs": [
    {
     "data": {
      "text/plain": [
       "<AxesSubplot:xlabel='code', ylabel='Count'>"
      ]
     },
     "execution_count": 41,
     "metadata": {},
     "output_type": "execute_result"
    },
    {
     "data": {
      "image/png": "[encoded data removed]",
      "text/plain": [
       "<Figure size 1080x432 with 1 Axes>"
      ]
     },
     "metadata": {
      "needs_background": "light"
     },
     "output_type": "display_data"
    }
   ],
   "source": [
    "train_labels = set(psytar_train['code'].unique())\n",
    "test_labels = set(psytar_test['code'].unique())\n",
    "\n",
    "venn2([train_labels, test_labels], ('TRAIN', 'TEST'))\n",
    "plt.show()\n",
    "\n",
    "bins = 100\n",
    "\n",
    "plt.figure(figsize=(15, 6))\n",
    "sns.histplot(data=smm4h17_test['code'], bins=bins, color='red')\n",
    "sns.histplot(data=smm4h21_test['code'], bins=bins, color='blue')\n",
    "sns.histplot(data=cadec_test['code'], bins=bins, color='green')\n",
    "sns.histplot(data=psytar_test['code'], bins=bins, color='yellow')"
   ]
  },
  {
   "cell_type": "code",
   "execution_count": null,
   "metadata": {},
   "outputs": [],
   "source": []
  },
  {
   "cell_type": "markdown",
   "metadata": {},
   "source": [
    "# COMBINED"
   ]
  },
  {
   "cell_type": "code",
   "execution_count": 42,
   "metadata": {},
   "outputs": [
    {
     "name": "stdout",
     "output_type": "stream",
     "text": [
      "/home/kaigorodov/myprojects/MedConcNorm/notebooks/work_with_raw_data\r\n"
     ]
    }
   ],
   "source": [
    "! pwd"
   ]
  },
  {
   "cell_type": "code",
   "execution_count": 44,
   "metadata": {},
   "outputs": [],
   "source": [
    "smm4h17_train = pd.read_csv('../../data/interim/smm4h17/train_pure.csv').dropna()\n",
    "smm4h21_train = pd.read_csv('../../data/interim/smm4h21/train_pure.csv').dropna()\n",
    "cadec_train = pd.read_csv('../../data/interim/cadec/train_pure.csv').dropna()\n",
    "psytar_train = pd.read_csv('../../data/interim/psytar/train_pure.csv').dropna()\n",
    "\n",
    "smm4h17_test = pd.read_csv('../../data/interim/smm4h17/test.csv').dropna()\n",
    "smm4h21_test = pd.read_csv('../../data/interim/smm4h21/test.csv').dropna()\n",
    "cadec_test= pd.read_csv('../../data/interim/cadec/test.csv').dropna()\n",
    "psytar_test = pd.read_csv('../../data/interim/psytar/test.csv').dropna()\n",
    "\n",
    "\n",
    "train = pd.concat([\n",
    "    smm4h17_train, smm4h21_train, cadec_train, psytar_train\n",
    "])\n",
    "test = pd.concat([\n",
    "    smm4h17_test, smm4h21_test, cadec_test, psytar_test\n",
    "])"
   ]
  },
  {
   "cell_type": "code",
   "execution_count": 45,
   "metadata": {},
   "outputs": [
    {
     "data": {
      "image/png": "[encoded data removed]",
      "text/plain": [
       "<Figure size 432x288 with 1 Axes>"
      ]
     },
     "metadata": {},
     "output_type": "display_data"
    }
   ],
   "source": [
    "train_labels = set(train['code'].unique())\n",
    "test_labels = set(test['code'].unique())\n",
    "\n",
    "venn2([train_labels, test_labels], ('TRAIN', 'TEST'))\n",
    "plt.show()"
   ]
  },
  {
   "cell_type": "code",
   "execution_count": 56,
   "metadata": {},
   "outputs": [
    {
     "data": {
      "text/plain": [
       "<supervenn._plots.SupervennPlot at 0x7f620f186dd8>"
      ]
     },
     "execution_count": 56,
     "metadata": {},
     "output_type": "execute_result"
    },
    {
     "data": {
      "image/png": "[encoded data removed]",
      "text/plain": [
       "<Figure size 1800x288 with 1 Axes>"
      ]
     },
     "metadata": {
      "needs_background": "light"
     },
     "output_type": "display_data"
    }
   ],
   "source": [
    "from supervenn import supervenn\n",
    "import matplotlib.pyplot as plt\n",
    "sets = [set(smm4h17_train['code'].unique()), set(smm4h21_train['code'].unique()), set(cadec_train['code'].unique()), set(psytar_train['code'].unique())]\n",
    "\n",
    "plt.figure(figsize=(25, 4))\n",
    "supervenn(sets,('smm4h17', 'smm4h21', 'cadec', 'psytar'), side_plots=False)"
   ]
  },
  {
   "cell_type": "code",
   "execution_count": 62,
   "metadata": {
    "scrolled": true
   },
   "outputs": [
    {
     "data": {
      "text/plain": [
       "<supervenn._plots.SupervennPlot at 0x7f6203728c18>"
      ]
     },
     "execution_count": 62,
     "metadata": {},
     "output_type": "execute_result"
    },
    {
     "data": {
      "image/png": "[encoded data removed]",
      "text/plain": [
       "<Figure size 1800x720 with 5 Axes>"
      ]
     },
     "metadata": {
      "needs_background": "light"
     },
     "output_type": "display_data"
    }
   ],
   "source": [
    "from supervenn import supervenn\n",
    "import matplotlib.pyplot as plt\n",
    "sets_train = [set(smm4h17_train['code'].unique()), \n",
    "        set(smm4h21_train['code'].unique()), \n",
    "        set(cadec_train['code'].unique()), \n",
    "        set(psytar_train['code'].unique())]\n",
    "sets_test = [set(smm4h17_test['code'].unique()), \n",
    "        set(smm4h21_test['code'].unique()), \n",
    "        set(cadec_test['code'].unique()), \n",
    "        set(psytar_test['code'].unique())]\n",
    "sets = sets_train + sets_test\n",
    "\n",
    "names = (\n",
    "    'smm4h17_train', 'smm4h21_train', 'cadec_train', 'psytar_train',\n",
    "    'smm4h17_test', 'smm4h21_test', 'cadec_test', 'psytar_test'\n",
    ")\n",
    "\n",
    "plt.figure(figsize=(25, 10))\n",
    "supervenn(sets, \n",
    "          names, \n",
    "          widths_minmax_ratio=0.1,\n",
    "          sets_ordering='minimize gaps', \n",
    "          rotate_col_annotations=True, \n",
    "          col_annotations_area_height=1.2)"
   ]
  },
  {
   "cell_type": "code",
   "execution_count": 90,
   "metadata": {},
   "outputs": [
    {
     "data": {
      "text/plain": [
       "<supervenn._plots.SupervennPlot at 0x7f61fbb42a58>"
      ]
     },
     "execution_count": 90,
     "metadata": {},
     "output_type": "execute_result"
    },
    {
     "data": {
      "image/png": "[encoded data removed]",
      "text/plain": [
       "<Figure size 1800x432 with 5 Axes>"
      ]
     },
     "metadata": {
      "needs_background": "light"
     },
     "output_type": "display_data"
    }
   ],
   "source": [
    "\n",
    "sets_train = set(pd.concat([smm4h17_train, smm4h21_train, cadec_train, psytar_train])['code'].unique()) \n",
    "\n",
    "sets_test = [set(smm4h17_test['code'].unique()), \n",
    "        set(smm4h21_test['code'].unique()), \n",
    "        set(cadec_test['code'].unique()), \n",
    "        set(psytar_test['code'].unique())]\n",
    "sets = [sets_train] + sets_test\n",
    "\n",
    "names = [\n",
    "    'train_combined', 'test_smm4h17', 'test_smm4h21', 'test_cadec', 'test_psytar'\n",
    "]\n",
    "\n",
    "plt.figure(figsize=(25, 6))\n",
    "supervenn(sets, \n",
    "          names, \n",
    "          widths_minmax_ratio=0.1,\n",
    "          sets_ordering='minimize gaps', \n",
    "          rotate_col_annotations=True, \n",
    "          col_annotations_area_height=1.2)"
   ]
  },
  {
   "cell_type": "code",
   "execution_count": 84,
   "metadata": {},
   "outputs": [
    {
     "data": {
      "text/plain": [
       "<supervenn._plots.SupervennPlot at 0x7f6202a43630>"
      ]
     },
     "execution_count": 84,
     "metadata": {},
     "output_type": "execute_result"
    },
    {
     "data": {
      "image/png": "[encoded data removed]",
      "text/plain": [
       "<Figure size 1800x720 with 5 Axes>"
      ]
     },
     "metadata": {
      "needs_background": "light"
     },
     "output_type": "display_data"
    }
   ],
   "source": [
    "\n",
    "sets_train = set(pd.concat([smm4h17_train, smm4h21_train, cadec_train, psytar_train])['code'].unique()) \n",
    "\n",
    "sets_test = [set(smm4h17_test['code'].unique()), \n",
    "        set(smm4h21_test['code'].unique()), \n",
    "        set(cadec_test['code'].unique()), \n",
    "        set(psytar_test['code'].unique())]\n",
    "sets = [test - sets_train for test in sets_test]\n",
    "\n",
    "names = (\n",
    "    'smm4h17_test', 'smm4h21_test', 'cadec_test', 'psytar_test'\n",
    ")\n",
    "\n",
    "plt.figure(figsize=(25, 10))\n",
    "supervenn(sets, \n",
    "          names, \n",
    "          widths_minmax_ratio=0.1,\n",
    "          sets_ordering='minimize gaps', \n",
    "          rotate_col_annotations=True, \n",
    "          col_annotations_area_height=1.2)"
   ]
  },
  {
   "cell_type": "code",
   "execution_count": 83,
   "metadata": {},
   "outputs": [
    {
     "data": {
      "text/plain": [
       "{1}"
      ]
     },
     "execution_count": 83,
     "metadata": {},
     "output_type": "execute_result"
    }
   ],
   "source": [
    "{1, 2} - {2, 3}"
   ]
  },
  {
   "cell_type": "code",
   "execution_count": null,
   "metadata": {},
   "outputs": [],
   "source": []
  },
  {
   "cell_type": "code",
   "execution_count": null,
   "metadata": {},
   "outputs": [],
   "source": []
  },
  {
   "cell_type": "code",
   "execution_count": null,
   "metadata": {},
   "outputs": [],
   "source": []
  }
 ],
 "metadata": {
  "kernelspec": {
   "display_name": "Python 3",
   "language": "python",
   "name": "python3"
  },
  "language_info": {
   "codemirror_mode": {
    "name": "ipython",
    "version": 3
   },
   "file_extension": ".py",
   "mimetype": "text/x-python",
   "name": "python",
   "nbconvert_exporter": "python",
   "pygments_lexer": "ipython3",
   "version": "3.6.8"
  }
 },
 "nbformat": 4,
 "nbformat_minor": 4
}
