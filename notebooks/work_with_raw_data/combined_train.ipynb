{
 "cells": [
  {
   "cell_type": "code",
   "execution_count": 1,
   "metadata": {},
   "outputs": [],
   "source": [
    "import pandas as pd"
   ]
  },
  {
   "cell_type": "code",
   "execution_count": 3,
   "metadata": {},
   "outputs": [],
   "source": [
    "cadec = pd.read_csv('../../data/interim/cadec/train.csv')\n",
    "psytar = pd.read_csv('../../data/interim/psytar/train.csv')\n",
    "smm4h17 = pd.read_csv('../../data/interim/smm4h17/train.csv')\n",
    "smm4h21 = pd.read_csv('../../data/interim/smm4h21/train.csv')\n"
   ]
  },
  {
   "cell_type": "code",
   "execution_count": 5,
   "metadata": {},
   "outputs": [],
   "source": [
    "pd.concat([\n",
    "    cadec, psytar, smm4h17, smm4h21\n",
    "]).to_csv('../../data/interim/combined/train.csv')"
   ]
  },
  {
   "cell_type": "code",
   "execution_count": 2,
   "metadata": {},
   "outputs": [
    {
     "name": "stderr",
     "output_type": "stream",
     "text": [
      "/usr/local/lib/python3.6/site-packages/IPython/core/interactiveshell.py:3072: DtypeWarning: Columns (3,5,6) have mixed types.Specify dtype option on import or set low_memory=False.\n",
      "  interactivity=interactivity, compiler=compiler, result=result)\n"
     ]
    }
   ],
   "source": [
    "cadec = pd.read_csv('../../data/interim/cadec/train_ex.csv')\n",
    "psytar = pd.read_csv('../../data/interim/psytar/train_ex.csv')\n",
    "smm4h17 = pd.read_csv('../../data/interim/smm4h17/train_ex.csv')\n",
    "smm4h21 = pd.read_csv('../../data/interim/smm4h21/train_ex.csv')"
   ]
  },
  {
   "cell_type": "code",
   "execution_count": 3,
   "metadata": {},
   "outputs": [],
   "source": [
    "pd.concat([\n",
    "    cadec, psytar, smm4h17, smm4h21\n",
    "]).to_csv('../../data/interim/combined/train_ex.csv')"
   ]
  },
  {
   "cell_type": "code",
   "execution_count": null,
   "metadata": {},
   "outputs": [],
   "source": []
  }
 ],
 "metadata": {
  "kernelspec": {
   "display_name": "Python 3",
   "language": "python",
   "name": "python3"
  },
  "language_info": {
   "codemirror_mode": {
    "name": "ipython",
    "version": 3
   },
   "file_extension": ".py",
   "mimetype": "text/x-python",
   "name": "python",
   "nbconvert_exporter": "python",
   "pygments_lexer": "ipython3",
   "version": "3.6.8"
  }
 },
 "nbformat": 4,
 "nbformat_minor": 4
}
