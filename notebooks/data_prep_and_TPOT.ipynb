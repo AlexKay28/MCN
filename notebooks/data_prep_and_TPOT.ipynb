{
 "cells": [
  {
   "cell_type": "code",
   "execution_count": 34,
   "metadata": {},
   "outputs": [],
   "source": [
    "import pandas as pd\n",
    "import numpy as np\n",
    "from copy import copy\n",
    "import tensorflow as tf\n",
    "from sklearn.model_selection import train_test_split\n",
    "\n",
    "from metric_learn import NCA\n",
    "from sklearn.model_selection import cross_val_score\n",
    "from sklearn.pipeline import make_pipeline\n",
    "from sklearn.neighbors import KNeighborsClassifier\n",
    "\n",
    "from tpot import TPOTClassifier\n",
    "\n",
    "import warnings\n",
    "warnings.filterwarnings(\"ignore\")"
   ]
  },
  {
   "cell_type": "code",
   "execution_count": 35,
   "metadata": {},
   "outputs": [],
   "source": [
    "import pymedtermino"
   ]
  },
  {
   "cell_type": "code",
   "execution_count": 36,
   "metadata": {},
   "outputs": [],
   "source": [
    "df = pd.read_csv('../data/interim/meddra_data.csv')"
   ]
  },
  {
   "cell_type": "code",
   "execution_count": 37,
   "metadata": {},
   "outputs": [],
   "source": [
    "df_huge = pd.read_csv('../data/interim/terms_and_codes.csv')\n",
    "df_huge = df_huge[['term', 'code']].rename(columns={'term': 'text', 'code': 'meddra'})\n",
    "df_huge['meddra'] = df_huge['meddra'].apply(lambda x: int(x) if x.isdigit() else None)\n",
    "df_huge = df_huge[df_huge['meddra'].isin(df['meddra'])]"
   ]
  },
  {
   "cell_type": "code",
   "execution_count": 38,
   "metadata": {},
   "outputs": [],
   "source": [
    "df.to_csv('../data/interim/simple_data.csv', index=False)\n",
    "df_huge.to_csv('../data/interim/rich_data.csv', index=False)"
   ]
  },
  {
   "cell_type": "markdown",
   "metadata": {},
   "source": [
    "# Pure meddra"
   ]
  },
  {
   "cell_type": "code",
   "execution_count": 39,
   "metadata": {},
   "outputs": [
    {
     "data": {
      "text/plain": [
       "((2153, 7), (2153,), (539, 7), (539,))"
      ]
     },
     "execution_count": 39,
     "metadata": {},
     "output_type": "execute_result"
    }
   ],
   "source": [
    "df = pd.read_csv('../data/interim/meddra_data.csv')\n",
    "meddra_labels = {v:k for k, v in enumerate(df['meddra'].unique())}\n",
    "df['meddra_label'] = df['meddra'].apply(lambda x: int(meddra_labels[x]))\n",
    "train, test = train_test_split(df, test_size=0.20)\n",
    "\n",
    "tokenizer = tf.keras.preprocessing.text.Tokenizer(num_words=5000, oov_token=\"<OOV>\")\n",
    "tokenizer.fit_on_texts(train['text'])\n",
    "\n",
    "train['text_tokenized'] = tf.keras.preprocessing.sequence.pad_sequences(tokenizer.texts_to_sequences(train['text']), maxlen=7).tolist()\n",
    "test['text_tokenized'] = tf.keras.preprocessing.sequence.pad_sequences(tokenizer.texts_to_sequences(test['text']), maxlen=7).tolist()\n",
    "train['counts'] = train['meddra_label'].apply(lambda x: train[train['meddra_label']==x].shape[0])\n",
    "#train = train[train['counts']>50]\n",
    "\n",
    "X_train = np.array(train['text_tokenized'].to_list())\n",
    "y_train = np.array(train['meddra_label'].to_list())\n",
    "\n",
    "X_test = np.array(test['text_tokenized'].to_list())\n",
    "y_test = np.array(test['meddra_label'].to_list())\n",
    "\n",
    "X_train.shape, y_train.shape, X_test.shape, y_test.shape"
   ]
  },
  {
   "cell_type": "code",
   "execution_count": null,
   "metadata": {},
   "outputs": [],
   "source": [
    "tpot = TPOTClassifier(generations=2, verbosity=2, random_state=42, max_eval_time_mins=2)\n",
    "\n",
    "tpot.fit(X_train, y_train)\n",
    "tpot.score(X_test, y_test)"
   ]
  },
  {
   "cell_type": "markdown",
   "metadata": {},
   "source": [
    "# Pure data with NCA (metric learning)"
   ]
  },
  {
   "cell_type": "code",
   "execution_count": null,
   "metadata": {},
   "outputs": [],
   "source": [
    "tpot = TPOTClassifier(generations=2, verbosity=2, random_state=42, max_eval_time_mins=2)\n",
    "clf = make_pipeline(NCA(max_iter=100), tpot)\n",
    "\n",
    "clf.fit(X_train, y_train)\n",
    "clf.score(X_test, y_test)"
   ]
  },
  {
   "cell_type": "markdown",
   "metadata": {},
   "source": [
    "# Pure vectorized data\n",
    "\n"
   ]
  },
  {
   "cell_type": "code",
   "execution_count": 40,
   "metadata": {},
   "outputs": [
    {
     "data": {
      "text/plain": [
       "((2153, 768), (2153,), (539, 768), (539,))"
      ]
     },
     "execution_count": 40,
     "metadata": {},
     "output_type": "execute_result"
    }
   ],
   "source": [
    "df = pd.read_csv('../data/interim/meddra_data_simple_vec.csv')\n",
    "meddra_labels = {v:k for k, v in enumerate(df['meddra'].unique())}\n",
    "df['meddra_label'] = df['meddra'].apply(lambda x: int(meddra_labels[x]))\n",
    "df = df.drop(columns=['text', 'meddra'])\n",
    "train, test = train_test_split(df, test_size=0.20)\n",
    "\n",
    "\n",
    "X_train = np.array(train[[col for col in df.columns if col != 'meddra_label']])\n",
    "y_train = np.array(train['meddra_label'].to_list())\n",
    "\n",
    "X_test = np.array(test[[col for col in df.columns if col != 'meddra_label']])\n",
    "y_test = np.array(test['meddra_label'].to_list())\n",
    "\n",
    "X_train.shape, y_train.shape, X_test.shape, y_test.shape"
   ]
  },
  {
   "cell_type": "code",
   "execution_count": null,
   "metadata": {},
   "outputs": [],
   "source": [
    "tpot = TPOTClassifier(generations=2, verbosity=2, random_state=42, max_eval_time_mins=2)\n",
    "\n",
    "tpot.fit(X_train, y_train)\n",
    "tpot.score(X_test, y_test)"
   ]
  },
  {
   "cell_type": "markdown",
   "metadata": {},
   "source": [
    "# Pure vec data with NCA"
   ]
  },
  {
   "cell_type": "code",
   "execution_count": null,
   "metadata": {},
   "outputs": [],
   "source": [
    "tpot = TPOTClassifier(generations=2, verbosity=2, random_state=42, max_eval_time_mins=2)\n",
    "clf = make_pipeline(NCA(max_iter=100), tpot)\n",
    "\n",
    "clf.fit(X_train, y_train)\n",
    "clf.score(X_test, y_test)"
   ]
  },
  {
   "cell_type": "markdown",
   "metadata": {},
   "source": [
    "# Enriched train"
   ]
  },
  {
   "cell_type": "code",
   "execution_count": 41,
   "metadata": {},
   "outputs": [
    {
     "data": {
      "text/plain": [
       "((5166, 7), (5166,), (1292, 7), (1292,))"
      ]
     },
     "execution_count": 41,
     "metadata": {},
     "output_type": "execute_result"
    }
   ],
   "source": [
    "df = pd.read_csv('../data/interim/rich_data.csv')\n",
    "meddra_labels = {v:k for k, v in enumerate(df['meddra'].unique())}\n",
    "df['meddra_label'] = df['meddra'].apply(lambda x: int(meddra_labels[x]))\n",
    "train, test = train_test_split(df, test_size=0.20)\n",
    "\n",
    "tokenizer = tf.keras.preprocessing.text.Tokenizer(num_words=5000, oov_token=\"<OOV>\")\n",
    "tokenizer.fit_on_texts(train['text'])\n",
    "\n",
    "train['text_tokenized'] = tf.keras.preprocessing.sequence.pad_sequences(tokenizer.texts_to_sequences(train['text']), maxlen=7).tolist()\n",
    "test['text_tokenized'] = tf.keras.preprocessing.sequence.pad_sequences(tokenizer.texts_to_sequences(test['text']), maxlen=7).tolist()\n",
    "train['counts'] = train['meddra_label'].apply(lambda x: train[train['meddra_label']==x].shape[0])\n",
    "#train = train[train['counts']>50]\n",
    "\n",
    "X_train = np.array(train['text_tokenized'].to_list())\n",
    "y_train = np.array(train['meddra_label'].to_list())\n",
    "\n",
    "X_test = np.array(test['text_tokenized'].to_list())\n",
    "y_test = np.array(test['meddra_label'].to_list())\n",
    "\n",
    "X_train.shape, y_train.shape, X_test.shape, y_test.shape"
   ]
  },
  {
   "cell_type": "code",
   "execution_count": null,
   "metadata": {},
   "outputs": [],
   "source": [
    "tpot = TPOTClassifier(generations=2, verbosity=2, random_state=42, max_eval_time_mins=2)\n",
    "\n",
    "tpot.fit(X_train, y_train)\n",
    "tpot.score(X_test, y_test)"
   ]
  },
  {
   "cell_type": "markdown",
   "metadata": {},
   "source": [
    "# Enrich data with NCA (metric learning)"
   ]
  },
  {
   "cell_type": "code",
   "execution_count": null,
   "metadata": {},
   "outputs": [],
   "source": [
    "tpot = TPOTClassifier(generations=2, verbosity=2, random_state=42, max_eval_time_mins=2)\n",
    "clf = make_pipeline(NCA(max_iter=100), tpot)\n",
    "\n",
    "clf.fit(X_train, y_train)\n",
    "clf.score(X_test, y_test)"
   ]
  },
  {
   "cell_type": "markdown",
   "metadata": {},
   "source": [
    "# Enrich data vec"
   ]
  },
  {
   "cell_type": "code",
   "execution_count": 43,
   "metadata": {},
   "outputs": [
    {
     "data": {
      "text/plain": [
       "((7320, 7), (7320,), (1830, 7), (1830,))"
      ]
     },
     "execution_count": 43,
     "metadata": {},
     "output_type": "execute_result"
    }
   ],
   "source": [
    "df = pd.read_csv('../data/interim/meddra_data_rich_vec.csv')\n",
    "meddra_labels = {v:k for k, v in enumerate(df['meddra'].unique())}\n",
    "df['meddra_label'] = df['meddra'].apply(lambda x: int(meddra_labels[x]))\n",
    "train, test = train_test_split(df, test_size=0.20)\n",
    "\n",
    "tokenizer = tf.keras.preprocessing.text.Tokenizer(num_words=5000, oov_token=\"<OOV>\")\n",
    "tokenizer.fit_on_texts(train['text'])\n",
    "\n",
    "train['text_tokenized'] = tf.keras.preprocessing.sequence.pad_sequences(tokenizer.texts_to_sequences(train['text']), maxlen=7).tolist()\n",
    "test['text_tokenized'] = tf.keras.preprocessing.sequence.pad_sequences(tokenizer.texts_to_sequences(test['text']), maxlen=7).tolist()\n",
    "train['counts'] = train['meddra_label'].apply(lambda x: train[train['meddra_label']==x].shape[0])\n",
    "#train = train[train['counts']>50]\n",
    "\n",
    "X_train = np.array(train['text_tokenized'].to_list())\n",
    "y_train = np.array(train['meddra_label'].to_list())\n",
    "\n",
    "X_test = np.array(test['text_tokenized'].to_list())\n",
    "y_test = np.array(test['meddra_label'].to_list())\n",
    "\n",
    "X_train.shape, y_train.shape, X_test.shape, y_test.shape"
   ]
  },
  {
   "cell_type": "code",
   "execution_count": null,
   "metadata": {},
   "outputs": [],
   "source": [
    "tpot = TPOTClassifier(generations=2, verbosity=2, random_state=42, max_eval_time_mins=2)\n",
    "\n",
    "tpot.fit(X_train, y_train)\n",
    "tpot.score(X_test, y_test)"
   ]
  },
  {
   "cell_type": "markdown",
   "metadata": {},
   "source": [
    "# Enrich data vec with NCA"
   ]
  },
  {
   "cell_type": "code",
   "execution_count": null,
   "metadata": {},
   "outputs": [],
   "source": [
    "tpot = TPOTClassifier(generations=2, verbosity=2, random_state=42, max_eval_time_mins=2)\n",
    "clf = make_pipeline(NCA(max_iter=100), tpot)\n",
    "\n",
    "clf.fit(X_train, y_train)\n",
    "clf.score(X_test, y_test)"
   ]
  },
  {
   "cell_type": "code",
   "execution_count": null,
   "metadata": {},
   "outputs": [],
   "source": []
  },
  {
   "cell_type": "code",
   "execution_count": null,
   "metadata": {},
   "outputs": [],
   "source": []
  },
  {
   "cell_type": "code",
   "execution_count": null,
   "metadata": {},
   "outputs": [],
   "source": []
  },
  {
   "cell_type": "code",
   "execution_count": null,
   "metadata": {},
   "outputs": [],
   "source": []
  }
 ],
 "metadata": {
  "kernelspec": {
   "display_name": "Python 3",
   "language": "python",
   "name": "python3"
  },
  "language_info": {
   "codemirror_mode": {
    "name": "ipython",
    "version": 3
   },
   "file_extension": ".py",
   "mimetype": "text/x-python",
   "name": "python",
   "nbconvert_exporter": "python",
   "pygments_lexer": "ipython3",
   "version": "3.7.6"
  }
 },
 "nbformat": 4,
 "nbformat_minor": 4
}
