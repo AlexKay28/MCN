{
 "cells": [
  {
   "cell_type": "code",
   "execution_count": 46,
   "metadata": {},
   "outputs": [],
   "source": [
    "import pandas as pd\n",
    "import numpy as np\n",
    "from copy import copy\n",
    "import tensorflow as tf\n",
    "from sklearn.model_selection import train_test_split\n",
    "\n",
    "from metric_learn import NCA\n",
    "from sklearn.model_selection import cross_val_score\n",
    "from sklearn.pipeline import make_pipeline\n",
    "from sklearn.neighbors import KNeighborsClassifier\n",
    "\n",
    "import warnings\n",
    "warnings.filterwarnings(\"ignore\")"
   ]
  },
  {
   "cell_type": "code",
   "execution_count": 47,
   "metadata": {},
   "outputs": [],
   "source": [
    "import pymedtermino"
   ]
  },
  {
   "cell_type": "code",
   "execution_count": 48,
   "metadata": {},
   "outputs": [
    {
     "data": {
      "text/html": [
       "<div>\n",
       "<style scoped>\n",
       "    .dataframe tbody tr th:only-of-type {\n",
       "        vertical-align: middle;\n",
       "    }\n",
       "\n",
       "    .dataframe tbody tr th {\n",
       "        vertical-align: top;\n",
       "    }\n",
       "\n",
       "    .dataframe thead th {\n",
       "        text-align: right;\n",
       "    }\n",
       "</style>\n",
       "<table border=\"1\" class=\"dataframe\">\n",
       "  <thead>\n",
       "    <tr style=\"text-align: right;\">\n",
       "      <th></th>\n",
       "      <th>text</th>\n",
       "      <th>meddra</th>\n",
       "    </tr>\n",
       "  </thead>\n",
       "  <tbody>\n",
       "    <tr>\n",
       "      <th>0</th>\n",
       "      <td>can't go out in the sun</td>\n",
       "      <td>10034972</td>\n",
       "    </tr>\n",
       "    <tr>\n",
       "      <th>1</th>\n",
       "      <td>waking up after the longest dream</td>\n",
       "      <td>10041349</td>\n",
       "    </tr>\n",
       "    <tr>\n",
       "      <th>2</th>\n",
       "      <td>eventful movie night in your dreams</td>\n",
       "      <td>10000125</td>\n",
       "    </tr>\n",
       "    <tr>\n",
       "      <th>3</th>\n",
       "      <td>may NOT switch your brain off</td>\n",
       "      <td>10064805</td>\n",
       "    </tr>\n",
       "    <tr>\n",
       "      <th>4</th>\n",
       "      <td>sleep for the next 2 days</td>\n",
       "      <td>10020765</td>\n",
       "    </tr>\n",
       "    <tr>\n",
       "      <th>...</th>\n",
       "      <td>...</td>\n",
       "      <td>...</td>\n",
       "    </tr>\n",
       "    <tr>\n",
       "      <th>2687</th>\n",
       "      <td>flaring</td>\n",
       "      <td>10010264</td>\n",
       "    </tr>\n",
       "    <tr>\n",
       "      <th>2688</th>\n",
       "      <td>flares</td>\n",
       "      <td>10010264</td>\n",
       "    </tr>\n",
       "    <tr>\n",
       "      <th>2689</th>\n",
       "      <td>flare</td>\n",
       "      <td>10010264</td>\n",
       "    </tr>\n",
       "    <tr>\n",
       "      <th>2690</th>\n",
       "      <td>fistulas</td>\n",
       "      <td>10016717</td>\n",
       "    </tr>\n",
       "    <tr>\n",
       "      <th>2691</th>\n",
       "      <td>-9.5lbs</td>\n",
       "      <td>10047895</td>\n",
       "    </tr>\n",
       "  </tbody>\n",
       "</table>\n",
       "<p>2692 rows × 2 columns</p>\n",
       "</div>"
      ],
      "text/plain": [
       "                                     text    meddra\n",
       "0                 can't go out in the sun  10034972\n",
       "1       waking up after the longest dream  10041349\n",
       "2     eventful movie night in your dreams  10000125\n",
       "3           may NOT switch your brain off  10064805\n",
       "4               sleep for the next 2 days  10020765\n",
       "...                                   ...       ...\n",
       "2687                              flaring  10010264\n",
       "2688                               flares  10010264\n",
       "2689                                flare  10010264\n",
       "2690                             fistulas  10016717\n",
       "2691                              -9.5lbs  10047895\n",
       "\n",
       "[2692 rows x 2 columns]"
      ]
     },
     "execution_count": 48,
     "metadata": {},
     "output_type": "execute_result"
    }
   ],
   "source": [
    "df = pd.read_csv('../data/interim/meddra_data.csv')\n",
    "df"
   ]
  },
  {
   "cell_type": "code",
   "execution_count": 49,
   "metadata": {},
   "outputs": [
    {
     "data": {
      "text/html": [
       "<div>\n",
       "<style scoped>\n",
       "    .dataframe tbody tr th:only-of-type {\n",
       "        vertical-align: middle;\n",
       "    }\n",
       "\n",
       "    .dataframe tbody tr th {\n",
       "        vertical-align: top;\n",
       "    }\n",
       "\n",
       "    .dataframe thead th {\n",
       "        text-align: right;\n",
       "    }\n",
       "</style>\n",
       "<table border=\"1\" class=\"dataframe\">\n",
       "  <thead>\n",
       "    <tr style=\"text-align: right;\">\n",
       "      <th></th>\n",
       "      <th>text</th>\n",
       "      <th>meddra</th>\n",
       "    </tr>\n",
       "  </thead>\n",
       "  <tbody>\n",
       "    <tr>\n",
       "      <th>10</th>\n",
       "      <td>Abdominal distension</td>\n",
       "      <td>10000060.0</td>\n",
       "    </tr>\n",
       "    <tr>\n",
       "      <th>22</th>\n",
       "      <td>Abdominal pain</td>\n",
       "      <td>10000081.0</td>\n",
       "    </tr>\n",
       "    <tr>\n",
       "      <th>81</th>\n",
       "      <td>Abscess</td>\n",
       "      <td>10000269.0</td>\n",
       "    </tr>\n",
       "    <tr>\n",
       "      <th>219</th>\n",
       "      <td>Adhesion</td>\n",
       "      <td>10059837.0</td>\n",
       "    </tr>\n",
       "    <tr>\n",
       "      <th>290</th>\n",
       "      <td>Aggression</td>\n",
       "      <td>10001488.0</td>\n",
       "    </tr>\n",
       "    <tr>\n",
       "      <th>...</th>\n",
       "      <td>...</td>\n",
       "      <td>...</td>\n",
       "    </tr>\n",
       "    <tr>\n",
       "      <th>94785</th>\n",
       "      <td>extreme pain in back</td>\n",
       "      <td>10033371.0</td>\n",
       "    </tr>\n",
       "    <tr>\n",
       "      <th>94786</th>\n",
       "      <td>excruciating, unusual abdominal pain</td>\n",
       "      <td>10033371.0</td>\n",
       "    </tr>\n",
       "    <tr>\n",
       "      <th>94787</th>\n",
       "      <td>severe pain close to my the crotch area</td>\n",
       "      <td>10033371.0</td>\n",
       "    </tr>\n",
       "    <tr>\n",
       "      <th>94791</th>\n",
       "      <td>Severe leg muscle pain</td>\n",
       "      <td>10033371.0</td>\n",
       "    </tr>\n",
       "    <tr>\n",
       "      <th>94797</th>\n",
       "      <td>urinery tract infection</td>\n",
       "      <td>10046571.0</td>\n",
       "    </tr>\n",
       "  </tbody>\n",
       "</table>\n",
       "<p>6458 rows × 2 columns</p>\n",
       "</div>"
      ],
      "text/plain": [
       "                                          text      meddra\n",
       "10                        Abdominal distension  10000060.0\n",
       "22                              Abdominal pain  10000081.0\n",
       "81                                     Abscess  10000269.0\n",
       "219                                   Adhesion  10059837.0\n",
       "290                                 Aggression  10001488.0\n",
       "...                                        ...         ...\n",
       "94785                     extreme pain in back  10033371.0\n",
       "94786     excruciating, unusual abdominal pain  10033371.0\n",
       "94787  severe pain close to my the crotch area  10033371.0\n",
       "94791                   Severe leg muscle pain  10033371.0\n",
       "94797                  urinery tract infection  10046571.0\n",
       "\n",
       "[6458 rows x 2 columns]"
      ]
     },
     "execution_count": 49,
     "metadata": {},
     "output_type": "execute_result"
    }
   ],
   "source": [
    "df_huge = pd.read_csv('../data/interim/terms_and_codes.csv')\n",
    "df_huge = df_huge[['term', 'code']].rename(columns={'term': 'text', 'code': 'meddra'})\n",
    "df_huge['meddra'] = df_huge['meddra'].apply(lambda x: int(x) if x.isdigit() else None)\n",
    "df_huge = df_huge[df_huge['meddra'].isin(df['meddra'])]\n",
    "df_huge"
   ]
  },
  {
   "cell_type": "code",
   "execution_count": 50,
   "metadata": {},
   "outputs": [
    {
     "data": {
      "text/html": [
       "<div>\n",
       "<style scoped>\n",
       "    .dataframe tbody tr th:only-of-type {\n",
       "        vertical-align: middle;\n",
       "    }\n",
       "\n",
       "    .dataframe tbody tr th {\n",
       "        vertical-align: top;\n",
       "    }\n",
       "\n",
       "    .dataframe thead th {\n",
       "        text-align: right;\n",
       "    }\n",
       "</style>\n",
       "<table border=\"1\" class=\"dataframe\">\n",
       "  <thead>\n",
       "    <tr style=\"text-align: right;\">\n",
       "      <th></th>\n",
       "      <th>text</th>\n",
       "      <th>meddra</th>\n",
       "      <th>meddra_label</th>\n",
       "    </tr>\n",
       "  </thead>\n",
       "  <tbody>\n",
       "    <tr>\n",
       "      <th>0</th>\n",
       "      <td>can't go out in the sun</td>\n",
       "      <td>10034972</td>\n",
       "      <td>0</td>\n",
       "    </tr>\n",
       "    <tr>\n",
       "      <th>1</th>\n",
       "      <td>waking up after the longest dream</td>\n",
       "      <td>10041349</td>\n",
       "      <td>1</td>\n",
       "    </tr>\n",
       "    <tr>\n",
       "      <th>2</th>\n",
       "      <td>eventful movie night in your dreams</td>\n",
       "      <td>10000125</td>\n",
       "      <td>2</td>\n",
       "    </tr>\n",
       "    <tr>\n",
       "      <th>3</th>\n",
       "      <td>may NOT switch your brain off</td>\n",
       "      <td>10064805</td>\n",
       "      <td>3</td>\n",
       "    </tr>\n",
       "    <tr>\n",
       "      <th>4</th>\n",
       "      <td>sleep for the next 2 days</td>\n",
       "      <td>10020765</td>\n",
       "      <td>4</td>\n",
       "    </tr>\n",
       "    <tr>\n",
       "      <th>...</th>\n",
       "      <td>...</td>\n",
       "      <td>...</td>\n",
       "      <td>...</td>\n",
       "    </tr>\n",
       "    <tr>\n",
       "      <th>2687</th>\n",
       "      <td>flaring</td>\n",
       "      <td>10010264</td>\n",
       "      <td>307</td>\n",
       "    </tr>\n",
       "    <tr>\n",
       "      <th>2688</th>\n",
       "      <td>flares</td>\n",
       "      <td>10010264</td>\n",
       "      <td>307</td>\n",
       "    </tr>\n",
       "    <tr>\n",
       "      <th>2689</th>\n",
       "      <td>flare</td>\n",
       "      <td>10010264</td>\n",
       "      <td>307</td>\n",
       "    </tr>\n",
       "    <tr>\n",
       "      <th>2690</th>\n",
       "      <td>fistulas</td>\n",
       "      <td>10016717</td>\n",
       "      <td>470</td>\n",
       "    </tr>\n",
       "    <tr>\n",
       "      <th>2691</th>\n",
       "      <td>-9.5lbs</td>\n",
       "      <td>10047895</td>\n",
       "      <td>42</td>\n",
       "    </tr>\n",
       "  </tbody>\n",
       "</table>\n",
       "<p>2692 rows × 3 columns</p>\n",
       "</div>"
      ],
      "text/plain": [
       "                                     text    meddra  meddra_label\n",
       "0                 can't go out in the sun  10034972             0\n",
       "1       waking up after the longest dream  10041349             1\n",
       "2     eventful movie night in your dreams  10000125             2\n",
       "3           may NOT switch your brain off  10064805             3\n",
       "4               sleep for the next 2 days  10020765             4\n",
       "...                                   ...       ...           ...\n",
       "2687                              flaring  10010264           307\n",
       "2688                               flares  10010264           307\n",
       "2689                                flare  10010264           307\n",
       "2690                             fistulas  10016717           470\n",
       "2691                              -9.5lbs  10047895            42\n",
       "\n",
       "[2692 rows x 3 columns]"
      ]
     },
     "execution_count": 50,
     "metadata": {},
     "output_type": "execute_result"
    }
   ],
   "source": [
    "meddra_labels = {v:k for k, v in enumerate(df['meddra'].unique())}\n",
    "df['meddra_label'] = df['meddra'].apply(lambda x: int(meddra_labels[x]))\n",
    "\n",
    "df = pd.concat([df]*1, axis=0)\n",
    "df"
   ]
  },
  {
   "cell_type": "code",
   "execution_count": 51,
   "metadata": {},
   "outputs": [
    {
     "data": {
      "text/plain": [
       "((2153, 3), (539, 3))"
      ]
     },
     "execution_count": 51,
     "metadata": {},
     "output_type": "execute_result"
    }
   ],
   "source": [
    "train, test = train_test_split(df, test_size=0.20)\n",
    "train.shape, test.shape"
   ]
  },
  {
   "cell_type": "markdown",
   "metadata": {},
   "source": [
    "# Pure meddra"
   ]
  },
  {
   "cell_type": "code",
   "execution_count": 52,
   "metadata": {},
   "outputs": [],
   "source": [
    "tokenizer = tf.keras.preprocessing.text.Tokenizer(num_words=5000, oov_token=\"<OOV>\")\n",
    "tokenizer.fit_on_texts(train['text'])\n",
    "\n",
    "train['text_tokenized'] = tf.keras.preprocessing.sequence.pad_sequences(tokenizer.texts_to_sequences(train['text']), maxlen=7).tolist()\n",
    "test['text_tokenized'] = tf.keras.preprocessing.sequence.pad_sequences(tokenizer.texts_to_sequences(test['text']), maxlen=7).tolist()"
   ]
  },
  {
   "cell_type": "code",
   "execution_count": 53,
   "metadata": {},
   "outputs": [
    {
     "data": {
      "text/html": [
       "<div>\n",
       "<style scoped>\n",
       "    .dataframe tbody tr th:only-of-type {\n",
       "        vertical-align: middle;\n",
       "    }\n",
       "\n",
       "    .dataframe tbody tr th {\n",
       "        vertical-align: top;\n",
       "    }\n",
       "\n",
       "    .dataframe thead th {\n",
       "        text-align: right;\n",
       "    }\n",
       "</style>\n",
       "<table border=\"1\" class=\"dataframe\">\n",
       "  <thead>\n",
       "    <tr style=\"text-align: right;\">\n",
       "      <th></th>\n",
       "      <th>text</th>\n",
       "      <th>meddra</th>\n",
       "      <th>meddra_label</th>\n",
       "      <th>text_tokenized</th>\n",
       "      <th>counts</th>\n",
       "    </tr>\n",
       "  </thead>\n",
       "  <tbody>\n",
       "    <tr>\n",
       "      <th>1989</th>\n",
       "      <td>intense dreams</td>\n",
       "      <td>10000125</td>\n",
       "      <td>2</td>\n",
       "      <td>[0, 0, 0, 0, 0, 235, 16]</td>\n",
       "      <td>59</td>\n",
       "    </tr>\n",
       "    <tr>\n",
       "      <th>634</th>\n",
       "      <td>didnt really sleep last</td>\n",
       "      <td>10022437</td>\n",
       "      <td>5</td>\n",
       "      <td>[0, 0, 0, 410, 83, 2, 194]</td>\n",
       "      <td>256</td>\n",
       "    </tr>\n",
       "    <tr>\n",
       "      <th>977</th>\n",
       "      <td>contribute the sleep</td>\n",
       "      <td>10041349</td>\n",
       "      <td>1</td>\n",
       "      <td>[0, 0, 0, 0, 671, 13, 2]</td>\n",
       "      <td>71</td>\n",
       "    </tr>\n",
       "    <tr>\n",
       "      <th>857</th>\n",
       "      <td>lose their appetites</td>\n",
       "      <td>10061428</td>\n",
       "      <td>37</td>\n",
       "      <td>[0, 0, 0, 0, 84, 411, 306]</td>\n",
       "      <td>51</td>\n",
       "    </tr>\n",
       "    <tr>\n",
       "      <th>694</th>\n",
       "      <td>ca n't fucking sleep</td>\n",
       "      <td>10022437</td>\n",
       "      <td>5</td>\n",
       "      <td>[0, 0, 0, 94, 17, 42, 2]</td>\n",
       "      <td>256</td>\n",
       "    </tr>\n",
       "    <tr>\n",
       "      <th>...</th>\n",
       "      <td>...</td>\n",
       "      <td>...</td>\n",
       "      <td>...</td>\n",
       "      <td>...</td>\n",
       "      <td>...</td>\n",
       "    </tr>\n",
       "    <tr>\n",
       "      <th>205</th>\n",
       "      <td>sleep for 12 + hours</td>\n",
       "      <td>10020765</td>\n",
       "      <td>4</td>\n",
       "      <td>[0, 0, 0, 2, 15, 74, 18]</td>\n",
       "      <td>111</td>\n",
       "    </tr>\n",
       "    <tr>\n",
       "      <th>597</th>\n",
       "      <td>knocked on my ass</td>\n",
       "      <td>10020765</td>\n",
       "      <td>4</td>\n",
       "      <td>[0, 0, 0, 178, 30, 3, 324]</td>\n",
       "      <td>111</td>\n",
       "    </tr>\n",
       "    <tr>\n",
       "      <th>1266</th>\n",
       "      <td>sleep for dayyssss</td>\n",
       "      <td>10020765</td>\n",
       "      <td>4</td>\n",
       "      <td>[0, 0, 0, 0, 2, 15, 1734]</td>\n",
       "      <td>111</td>\n",
       "    </tr>\n",
       "    <tr>\n",
       "      <th>259</th>\n",
       "      <td>dreams so sick and twisted</td>\n",
       "      <td>10000125</td>\n",
       "      <td>2</td>\n",
       "      <td>[0, 0, 16, 26, 143, 64, 1736]</td>\n",
       "      <td>59</td>\n",
       "    </tr>\n",
       "    <tr>\n",
       "      <th>1287</th>\n",
       "      <td>feel like crap</td>\n",
       "      <td>10016322</td>\n",
       "      <td>24</td>\n",
       "      <td>[0, 0, 0, 0, 9, 6, 300]</td>\n",
       "      <td>72</td>\n",
       "    </tr>\n",
       "  </tbody>\n",
       "</table>\n",
       "<p>687 rows × 5 columns</p>\n",
       "</div>"
      ],
      "text/plain": [
       "                            text    meddra  meddra_label  \\\n",
       "1989              intense dreams  10000125             2   \n",
       "634      didnt really sleep last  10022437             5   \n",
       "977         contribute the sleep  10041349             1   \n",
       "857         lose their appetites  10061428            37   \n",
       "694         ca n't fucking sleep  10022437             5   \n",
       "...                          ...       ...           ...   \n",
       "205         sleep for 12 + hours  10020765             4   \n",
       "597            knocked on my ass  10020765             4   \n",
       "1266          sleep for dayyssss  10020765             4   \n",
       "259   dreams so sick and twisted  10000125             2   \n",
       "1287              feel like crap  10016322            24   \n",
       "\n",
       "                     text_tokenized  counts  \n",
       "1989       [0, 0, 0, 0, 0, 235, 16]      59  \n",
       "634      [0, 0, 0, 410, 83, 2, 194]     256  \n",
       "977        [0, 0, 0, 0, 671, 13, 2]      71  \n",
       "857      [0, 0, 0, 0, 84, 411, 306]      51  \n",
       "694        [0, 0, 0, 94, 17, 42, 2]     256  \n",
       "...                             ...     ...  \n",
       "205        [0, 0, 0, 2, 15, 74, 18]     111  \n",
       "597      [0, 0, 0, 178, 30, 3, 324]     111  \n",
       "1266      [0, 0, 0, 0, 2, 15, 1734]     111  \n",
       "259   [0, 0, 16, 26, 143, 64, 1736]      59  \n",
       "1287        [0, 0, 0, 0, 9, 6, 300]      72  \n",
       "\n",
       "[687 rows x 5 columns]"
      ]
     },
     "execution_count": 53,
     "metadata": {},
     "output_type": "execute_result"
    }
   ],
   "source": [
    "train['counts'] = train['meddra_label'].apply(lambda x: train[train['meddra_label']==x].shape[0])\n",
    "train = train[train['counts']>50]\n",
    "train"
   ]
  },
  {
   "cell_type": "code",
   "execution_count": 54,
   "metadata": {},
   "outputs": [],
   "source": [
    "X_train = np.array(train['text_tokenized'].to_list())\n",
    "y_train = np.array(train['meddra_label'].to_list())\n",
    "\n",
    "X_test = np.array(test['text_tokenized'].to_list())\n",
    "y_test = np.array(test['meddra_label'].to_list())"
   ]
  },
  {
   "cell_type": "code",
   "execution_count": 55,
   "metadata": {},
   "outputs": [
    {
     "data": {
      "text/plain": [
       "((687, 7), (687,))"
      ]
     },
     "execution_count": 55,
     "metadata": {},
     "output_type": "execute_result"
    }
   ],
   "source": [
    "X_train.shape, y_train.shape"
   ]
  },
  {
   "cell_type": "code",
   "execution_count": 12,
   "metadata": {},
   "outputs": [
    {
     "data": {
      "application/vnd.jupyter.widget-view+json": {
       "model_id": "99c4dd2695e545798124ef36443d865d",
       "version_major": 2,
       "version_minor": 0
      },
      "text/plain": [
       "Optimization Progress:   0%|          | 0/300 [00:00<?, ?pipeline/s]"
      ]
     },
     "metadata": {},
     "output_type": "display_data"
    },
    {
     "name": "stdout",
     "output_type": "stream",
     "text": [
      "Generation 1 - Current best internal CV score: 0.617910447761194\n",
      "Generation 2 - Current best internal CV score: 0.617910447761194\n",
      "\n",
      "Best pipeline: GradientBoostingClassifier(input_matrix, learning_rate=0.1, max_depth=3, max_features=1.0, min_samples_leaf=10, min_samples_split=4, n_estimators=100, subsample=0.7500000000000001)\n"
     ]
    },
    {
     "data": {
      "text/plain": [
       "TPOTClassifier(generations=2, max_eval_time_mins=2, random_state=42,\n",
       "               verbosity=2)"
      ]
     },
     "execution_count": 12,
     "metadata": {},
     "output_type": "execute_result"
    }
   ],
   "source": [
    "from tpot import TPOTClassifier\n",
    "\n",
    "tpot = TPOTClassifier(generations=2, verbosity=2, random_state=42, max_eval_time_mins=2)\n",
    "\n",
    "tpot.fit(X_train, y_train)"
   ]
  },
  {
   "cell_type": "code",
   "execution_count": 13,
   "metadata": {},
   "outputs": [
    {
     "data": {
      "text/plain": [
       "0.19851576994434136"
      ]
     },
     "execution_count": 13,
     "metadata": {},
     "output_type": "execute_result"
    }
   ],
   "source": [
    "tpot.score(X_test, y_test)"
   ]
  },
  {
   "cell_type": "markdown",
   "metadata": {},
   "source": [
    "# Pure data with NCA (metric learning)"
   ]
  },
  {
   "cell_type": "code",
   "execution_count": 80,
   "metadata": {},
   "outputs": [
    {
     "data": {
      "application/vnd.jupyter.widget-view+json": {
       "model_id": "375c0ae8e0914878b8b7ddf0fa044e25",
       "version_major": 2,
       "version_minor": 0
      },
      "text/plain": [
       "Optimization Progress:   0%|          | 0/300 [00:00<?, ?pipeline/s]"
      ]
     },
     "metadata": {},
     "output_type": "display_data"
    },
    {
     "name": "stdout",
     "output_type": "stream",
     "text": [
      "\n",
      "\n",
      "TPOT closed during evaluation in one generation.\n",
      "WARNING: TPOT may not provide a good pipeline if TPOT is stopped/interrupted in a early generation.\n",
      "\n",
      "\n",
      "TPOT closed prematurely. Will use the current best pipeline.\n",
      "\n",
      "Best pipeline: RandomForestClassifier(PCA(input_matrix, iterated_power=8, svd_solver=randomized), bootstrap=True, criterion=entropy, max_features=0.55, min_samples_leaf=7, min_samples_split=11, n_estimators=100)\n"
     ]
    },
    {
     "data": {
      "text/plain": [
       "0.10575139146567718"
      ]
     },
     "execution_count": 80,
     "metadata": {},
     "output_type": "execute_result"
    }
   ],
   "source": [
    "clf = make_pipeline(NCA(max_iter=100), tpot)\n",
    "#cross_val_score(clf, X_train, y_train).mean()\n",
    "\n",
    "clf.fit(X_train, y_train)\n",
    "clf.score(X_test, y_test)"
   ]
  },
  {
   "cell_type": "markdown",
   "metadata": {},
   "source": [
    "# Enriched train"
   ]
  },
  {
   "cell_type": "code",
   "execution_count": 81,
   "metadata": {},
   "outputs": [
    {
     "data": {
      "text/html": [
       "<div>\n",
       "<style scoped>\n",
       "    .dataframe tbody tr th:only-of-type {\n",
       "        vertical-align: middle;\n",
       "    }\n",
       "\n",
       "    .dataframe tbody tr th {\n",
       "        vertical-align: top;\n",
       "    }\n",
       "\n",
       "    .dataframe thead th {\n",
       "        text-align: right;\n",
       "    }\n",
       "</style>\n",
       "<table border=\"1\" class=\"dataframe\">\n",
       "  <thead>\n",
       "    <tr style=\"text-align: right;\">\n",
       "      <th></th>\n",
       "      <th>counts</th>\n",
       "      <th>meddra</th>\n",
       "      <th>meddra_label</th>\n",
       "      <th>text</th>\n",
       "      <th>text_tokenized</th>\n",
       "    </tr>\n",
       "  </thead>\n",
       "  <tbody>\n",
       "    <tr>\n",
       "      <th>1989</th>\n",
       "      <td>59.0</td>\n",
       "      <td>10000125.0</td>\n",
       "      <td>2</td>\n",
       "      <td>intense dreams</td>\n",
       "      <td>[0, 0, 0, 0, 0, 235, 16]</td>\n",
       "    </tr>\n",
       "    <tr>\n",
       "      <th>634</th>\n",
       "      <td>256.0</td>\n",
       "      <td>10022437.0</td>\n",
       "      <td>5</td>\n",
       "      <td>didnt really sleep last</td>\n",
       "      <td>[0, 0, 0, 410, 83, 2, 194]</td>\n",
       "    </tr>\n",
       "    <tr>\n",
       "      <th>977</th>\n",
       "      <td>71.0</td>\n",
       "      <td>10041349.0</td>\n",
       "      <td>1</td>\n",
       "      <td>contribute the sleep</td>\n",
       "      <td>[0, 0, 0, 0, 671, 13, 2]</td>\n",
       "    </tr>\n",
       "    <tr>\n",
       "      <th>857</th>\n",
       "      <td>51.0</td>\n",
       "      <td>10061428.0</td>\n",
       "      <td>37</td>\n",
       "      <td>lose their appetites</td>\n",
       "      <td>[0, 0, 0, 0, 84, 411, 306]</td>\n",
       "    </tr>\n",
       "    <tr>\n",
       "      <th>694</th>\n",
       "      <td>256.0</td>\n",
       "      <td>10022437.0</td>\n",
       "      <td>5</td>\n",
       "      <td>ca n't fucking sleep</td>\n",
       "      <td>[0, 0, 0, 94, 17, 42, 2]</td>\n",
       "    </tr>\n",
       "    <tr>\n",
       "      <th>...</th>\n",
       "      <td>...</td>\n",
       "      <td>...</td>\n",
       "      <td>...</td>\n",
       "      <td>...</td>\n",
       "      <td>...</td>\n",
       "    </tr>\n",
       "    <tr>\n",
       "      <th>94785</th>\n",
       "      <td>NaN</td>\n",
       "      <td>10033371.0</td>\n",
       "      <td>68</td>\n",
       "      <td>extreme pain in back</td>\n",
       "      <td>NaN</td>\n",
       "    </tr>\n",
       "    <tr>\n",
       "      <th>94786</th>\n",
       "      <td>NaN</td>\n",
       "      <td>10033371.0</td>\n",
       "      <td>68</td>\n",
       "      <td>excruciating, unusual abdominal pain</td>\n",
       "      <td>NaN</td>\n",
       "    </tr>\n",
       "    <tr>\n",
       "      <th>94787</th>\n",
       "      <td>NaN</td>\n",
       "      <td>10033371.0</td>\n",
       "      <td>68</td>\n",
       "      <td>severe pain close to my the crotch area</td>\n",
       "      <td>NaN</td>\n",
       "    </tr>\n",
       "    <tr>\n",
       "      <th>94791</th>\n",
       "      <td>NaN</td>\n",
       "      <td>10033371.0</td>\n",
       "      <td>68</td>\n",
       "      <td>Severe leg muscle pain</td>\n",
       "      <td>NaN</td>\n",
       "    </tr>\n",
       "    <tr>\n",
       "      <th>94797</th>\n",
       "      <td>NaN</td>\n",
       "      <td>10046571.0</td>\n",
       "      <td>236</td>\n",
       "      <td>urinery tract infection</td>\n",
       "      <td>NaN</td>\n",
       "    </tr>\n",
       "  </tbody>\n",
       "</table>\n",
       "<p>7145 rows × 5 columns</p>\n",
       "</div>"
      ],
      "text/plain": [
       "       counts      meddra  meddra_label  \\\n",
       "1989     59.0  10000125.0             2   \n",
       "634     256.0  10022437.0             5   \n",
       "977      71.0  10041349.0             1   \n",
       "857      51.0  10061428.0            37   \n",
       "694     256.0  10022437.0             5   \n",
       "...       ...         ...           ...   \n",
       "94785     NaN  10033371.0            68   \n",
       "94786     NaN  10033371.0            68   \n",
       "94787     NaN  10033371.0            68   \n",
       "94791     NaN  10033371.0            68   \n",
       "94797     NaN  10046571.0           236   \n",
       "\n",
       "                                          text              text_tokenized  \n",
       "1989                            intense dreams    [0, 0, 0, 0, 0, 235, 16]  \n",
       "634                    didnt really sleep last  [0, 0, 0, 410, 83, 2, 194]  \n",
       "977                       contribute the sleep    [0, 0, 0, 0, 671, 13, 2]  \n",
       "857                       lose their appetites  [0, 0, 0, 0, 84, 411, 306]  \n",
       "694                       ca n't fucking sleep    [0, 0, 0, 94, 17, 42, 2]  \n",
       "...                                        ...                         ...  \n",
       "94785                     extreme pain in back                         NaN  \n",
       "94786     excruciating, unusual abdominal pain                         NaN  \n",
       "94787  severe pain close to my the crotch area                         NaN  \n",
       "94791                   Severe leg muscle pain                         NaN  \n",
       "94797                  urinery tract infection                         NaN  \n",
       "\n",
       "[7145 rows x 5 columns]"
      ]
     },
     "execution_count": 81,
     "metadata": {},
     "output_type": "execute_result"
    }
   ],
   "source": [
    "enriched = pd.concat([train, df_huge], axis=0)\n",
    "enriched['meddra_label'] = enriched['meddra'].apply(lambda x: int(meddra_labels[x]))\n",
    "enriched"
   ]
  },
  {
   "cell_type": "code",
   "execution_count": 82,
   "metadata": {},
   "outputs": [],
   "source": [
    "train = copy(enriched)\n",
    "tokenizer = tf.keras.preprocessing.text.Tokenizer(num_words=5000, oov_token=\"<OOV>\")\n",
    "tokenizer.fit_on_texts(train['text'])\n",
    "\n",
    "train['text_tokenized'] = tf.keras.preprocessing.sequence.pad_sequences(tokenizer.texts_to_sequences(train['text']), maxlen=7).tolist()\n",
    "test['text_tokenized'] = tf.keras.preprocessing.sequence.pad_sequences(tokenizer.texts_to_sequences(test['text']), maxlen=7).tolist()"
   ]
  },
  {
   "cell_type": "code",
   "execution_count": 83,
   "metadata": {},
   "outputs": [
    {
     "data": {
      "text/html": [
       "<div>\n",
       "<style scoped>\n",
       "    .dataframe tbody tr th:only-of-type {\n",
       "        vertical-align: middle;\n",
       "    }\n",
       "\n",
       "    .dataframe tbody tr th {\n",
       "        vertical-align: top;\n",
       "    }\n",
       "\n",
       "    .dataframe thead th {\n",
       "        text-align: right;\n",
       "    }\n",
       "</style>\n",
       "<table border=\"1\" class=\"dataframe\">\n",
       "  <thead>\n",
       "    <tr style=\"text-align: right;\">\n",
       "      <th></th>\n",
       "      <th>counts</th>\n",
       "      <th>meddra</th>\n",
       "      <th>meddra_label</th>\n",
       "      <th>text</th>\n",
       "      <th>text_tokenized</th>\n",
       "    </tr>\n",
       "  </thead>\n",
       "  <tbody>\n",
       "    <tr>\n",
       "      <th>1989</th>\n",
       "      <td>190</td>\n",
       "      <td>10000125.0</td>\n",
       "      <td>2</td>\n",
       "      <td>intense dreams</td>\n",
       "      <td>[0, 0, 0, 0, 0, 102, 20]</td>\n",
       "    </tr>\n",
       "    <tr>\n",
       "      <th>634</th>\n",
       "      <td>816</td>\n",
       "      <td>10022437.0</td>\n",
       "      <td>5</td>\n",
       "      <td>didnt really sleep last</td>\n",
       "      <td>[0, 0, 0, 630, 114, 2, 214]</td>\n",
       "    </tr>\n",
       "    <tr>\n",
       "      <th>977</th>\n",
       "      <td>210</td>\n",
       "      <td>10041349.0</td>\n",
       "      <td>1</td>\n",
       "      <td>contribute the sleep</td>\n",
       "      <td>[0, 0, 0, 0, 1153, 9, 2]</td>\n",
       "    </tr>\n",
       "    <tr>\n",
       "      <th>857</th>\n",
       "      <td>173</td>\n",
       "      <td>10061428.0</td>\n",
       "      <td>37</td>\n",
       "      <td>lose their appetites</td>\n",
       "      <td>[0, 0, 0, 0, 125, 553, 554]</td>\n",
       "    </tr>\n",
       "    <tr>\n",
       "      <th>694</th>\n",
       "      <td>816</td>\n",
       "      <td>10022437.0</td>\n",
       "      <td>5</td>\n",
       "      <td>ca n't fucking sleep</td>\n",
       "      <td>[0, 0, 0, 132, 17, 90, 2]</td>\n",
       "    </tr>\n",
       "    <tr>\n",
       "      <th>...</th>\n",
       "      <td>...</td>\n",
       "      <td>...</td>\n",
       "      <td>...</td>\n",
       "      <td>...</td>\n",
       "      <td>...</td>\n",
       "    </tr>\n",
       "    <tr>\n",
       "      <th>94784</th>\n",
       "      <td>251</td>\n",
       "      <td>10033371.0</td>\n",
       "      <td>68</td>\n",
       "      <td>extreme pain in legs</td>\n",
       "      <td>[0, 0, 0, 41, 7, 5, 86]</td>\n",
       "    </tr>\n",
       "    <tr>\n",
       "      <th>94785</th>\n",
       "      <td>251</td>\n",
       "      <td>10033371.0</td>\n",
       "      <td>68</td>\n",
       "      <td>extreme pain in back</td>\n",
       "      <td>[0, 0, 0, 41, 7, 5, 67]</td>\n",
       "    </tr>\n",
       "    <tr>\n",
       "      <th>94786</th>\n",
       "      <td>251</td>\n",
       "      <td>10033371.0</td>\n",
       "      <td>68</td>\n",
       "      <td>excruciating, unusual abdominal pain</td>\n",
       "      <td>[0, 0, 0, 490, 3418, 199, 7]</td>\n",
       "    </tr>\n",
       "    <tr>\n",
       "      <th>94787</th>\n",
       "      <td>251</td>\n",
       "      <td>10033371.0</td>\n",
       "      <td>68</td>\n",
       "      <td>severe pain close to my the crotch area</td>\n",
       "      <td>[7, 621, 3, 4, 9, 1611, 743]</td>\n",
       "    </tr>\n",
       "    <tr>\n",
       "      <th>94791</th>\n",
       "      <td>251</td>\n",
       "      <td>10033371.0</td>\n",
       "      <td>68</td>\n",
       "      <td>Severe leg muscle pain</td>\n",
       "      <td>[0, 0, 0, 24, 95, 18, 7]</td>\n",
       "    </tr>\n",
       "  </tbody>\n",
       "</table>\n",
       "<p>3496 rows × 5 columns</p>\n",
       "</div>"
      ],
      "text/plain": [
       "       counts      meddra  meddra_label  \\\n",
       "1989      190  10000125.0             2   \n",
       "634       816  10022437.0             5   \n",
       "977       210  10041349.0             1   \n",
       "857       173  10061428.0            37   \n",
       "694       816  10022437.0             5   \n",
       "...       ...         ...           ...   \n",
       "94784     251  10033371.0            68   \n",
       "94785     251  10033371.0            68   \n",
       "94786     251  10033371.0            68   \n",
       "94787     251  10033371.0            68   \n",
       "94791     251  10033371.0            68   \n",
       "\n",
       "                                          text                text_tokenized  \n",
       "1989                            intense dreams      [0, 0, 0, 0, 0, 102, 20]  \n",
       "634                    didnt really sleep last   [0, 0, 0, 630, 114, 2, 214]  \n",
       "977                       contribute the sleep      [0, 0, 0, 0, 1153, 9, 2]  \n",
       "857                       lose their appetites   [0, 0, 0, 0, 125, 553, 554]  \n",
       "694                       ca n't fucking sleep     [0, 0, 0, 132, 17, 90, 2]  \n",
       "...                                        ...                           ...  \n",
       "94784                     extreme pain in legs       [0, 0, 0, 41, 7, 5, 86]  \n",
       "94785                     extreme pain in back       [0, 0, 0, 41, 7, 5, 67]  \n",
       "94786     excruciating, unusual abdominal pain  [0, 0, 0, 490, 3418, 199, 7]  \n",
       "94787  severe pain close to my the crotch area  [7, 621, 3, 4, 9, 1611, 743]  \n",
       "94791                   Severe leg muscle pain      [0, 0, 0, 24, 95, 18, 7]  \n",
       "\n",
       "[3496 rows x 5 columns]"
      ]
     },
     "execution_count": 83,
     "metadata": {},
     "output_type": "execute_result"
    }
   ],
   "source": [
    "train['counts'] = train['meddra_label'].apply(lambda x: train[train['meddra_label']==x].shape[0])\n",
    "train = train[train['counts']>50]\n",
    "train"
   ]
  },
  {
   "cell_type": "code",
   "execution_count": 84,
   "metadata": {},
   "outputs": [
    {
     "data": {
      "text/plain": [
       "((3496, 7), (3496,), (539, 7), (539,))"
      ]
     },
     "execution_count": 84,
     "metadata": {},
     "output_type": "execute_result"
    }
   ],
   "source": [
    "X_train = np.array(train['text_tokenized'].to_list())\n",
    "y_train = np.array(train['meddra_label'].to_list())\n",
    "\n",
    "X_test = np.array(test['text_tokenized'].to_list())\n",
    "y_test = np.array(test['meddra_label'].to_list())\n",
    "\n",
    "X_train.shape, y_train.shape, X_test.shape, y_test.shape"
   ]
  },
  {
   "cell_type": "code",
   "execution_count": 19,
   "metadata": {},
   "outputs": [
    {
     "data": {
      "application/vnd.jupyter.widget-view+json": {
       "model_id": "0582d5c6d4a645f59b04ed8be631b68e",
       "version_major": 2,
       "version_minor": 0
      },
      "text/plain": [
       "Optimization Progress:   0%|          | 0/300 [00:00<?, ?pipeline/s]"
      ]
     },
     "metadata": {},
     "output_type": "display_data"
    },
    {
     "name": "stdout",
     "output_type": "stream",
     "text": [
      "Generation 1 - Current best internal CV score: 0.7067993880757462\n",
      "\n",
      "\n",
      "TPOT closed during evaluation in one generation.\n",
      "WARNING: TPOT may not provide a good pipeline if TPOT is stopped/interrupted in a early generation.\n",
      "\n",
      "\n",
      "TPOT closed prematurely. Will use the current best pipeline.\n",
      "\n",
      "Best pipeline: RandomForestClassifier(XGBClassifier(input_matrix, learning_rate=0.5, max_depth=4, min_child_weight=1, n_estimators=100, nthread=1, subsample=0.4), bootstrap=False, criterion=entropy, max_features=0.8, min_samples_leaf=9, min_samples_split=10, n_estimators=100)\n"
     ]
    },
    {
     "data": {
      "text/plain": [
       "TPOTClassifier(generations=2, max_eval_time_mins=2, random_state=42,\n",
       "               verbosity=2)"
      ]
     },
     "execution_count": 19,
     "metadata": {},
     "output_type": "execute_result"
    }
   ],
   "source": [
    "from tpot import TPOTClassifier\n",
    "\n",
    "tpot = TPOTClassifier(generations=2, verbosity=2, random_state=42, max_eval_time_mins=2)\n",
    "\n",
    "tpot.fit(X_train, y_train)"
   ]
  },
  {
   "cell_type": "code",
   "execution_count": 20,
   "metadata": {},
   "outputs": [
    {
     "data": {
      "text/plain": [
       "0.43413729128014844"
      ]
     },
     "execution_count": 20,
     "metadata": {},
     "output_type": "execute_result"
    }
   ],
   "source": [
    "tpot.score(X_test, y_test)"
   ]
  },
  {
   "cell_type": "markdown",
   "metadata": {},
   "source": [
    "# Enrich data with NCA (metric learning)"
   ]
  },
  {
   "cell_type": "code",
   "execution_count": 85,
   "metadata": {},
   "outputs": [
    {
     "data": {
      "application/vnd.jupyter.widget-view+json": {
       "model_id": "ec721345c0a543919cfd929492453874",
       "version_major": 2,
       "version_minor": 0
      },
      "text/plain": [
       "Optimization Progress:   0%|          | 0/300 [00:00<?, ?pipeline/s]"
      ]
     },
     "metadata": {},
     "output_type": "display_data"
    },
    {
     "name": "stdout",
     "output_type": "stream",
     "text": [
      "\n",
      "\n",
      "TPOT closed during evaluation in one generation.\n",
      "WARNING: TPOT may not provide a good pipeline if TPOT is stopped/interrupted in a early generation.\n",
      "\n",
      "\n",
      "TPOT closed prematurely. Will use the current best pipeline.\n",
      "\n",
      "Best pipeline: KNeighborsClassifier(input_matrix, n_neighbors=7, p=2, weights=distance)\n"
     ]
    },
    {
     "data": {
      "text/plain": [
       "0.4267161410018553"
      ]
     },
     "execution_count": 85,
     "metadata": {},
     "output_type": "execute_result"
    }
   ],
   "source": [
    "clf = make_pipeline(NCA(max_iter=100), tpot)\n",
    "#cross_val_score(clf, X_train, y_train).mean()\n",
    "\n",
    "clf.fit(X_train, y_train)\n",
    "clf.score(X_test, y_test)"
   ]
  },
  {
   "cell_type": "code",
   "execution_count": null,
   "metadata": {},
   "outputs": [],
   "source": []
  }
 ],
 "metadata": {
  "kernelspec": {
   "display_name": "Python 3",
   "language": "python",
   "name": "python3"
  },
  "language_info": {
   "codemirror_mode": {
    "name": "ipython",
    "version": 3
   },
   "file_extension": ".py",
   "mimetype": "text/x-python",
   "name": "python",
   "nbconvert_exporter": "python",
   "pygments_lexer": "ipython3",
   "version": "3.7.6"
  }
 },
 "nbformat": 4,
 "nbformat_minor": 4
}
