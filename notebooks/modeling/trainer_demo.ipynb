{
 "cells": [
  {
   "cell_type": "code",
   "execution_count": 1,
   "metadata": {},
   "outputs": [],
   "source": [
    "%load_ext autoreload\n",
    "%autoreload 2\n",
    "%matplotlib inline"
   ]
  },
  {
   "cell_type": "code",
   "execution_count": 2,
   "metadata": {},
   "outputs": [],
   "source": [
    "import sys\n",
    "sys.path.append(f'../../')\n",
    "import warnings\n",
    "warnings.filterwarnings('ignore')"
   ]
  },
  {
   "cell_type": "code",
   "execution_count": 3,
   "metadata": {},
   "outputs": [
    {
     "name": "stderr",
     "output_type": "stream",
     "text": [
      "[nltk_data] Downloading package stopwords to\n",
      "[nltk_data]     /home/kaigorodov/nltk_data...\n",
      "[nltk_data]   Package stopwords is already up-to-date!\n",
      "[nltk_data] Downloading package punkt to /home/kaigorodov/nltk_data...\n",
      "[nltk_data]   Package punkt is already up-to-date!\n"
     ]
    }
   ],
   "source": [
    "from src.purpose_models.trainer import Trainer"
   ]
  },
  {
   "cell_type": "code",
   "execution_count": 4,
   "metadata": {},
   "outputs": [
    {
     "data": {
      "text/plain": [
       "((150, 30), (150,))"
      ]
     },
     "execution_count": 4,
     "metadata": {},
     "output_type": "execute_result"
    }
   ],
   "source": [
    "from sklearn.datasets import make_classification\n",
    "from sklearn.model_selection import cross_val_score, train_test_split\n",
    "X, Y = make_classification(n_samples=500, n_features=30, n_informative=20,\n",
    "                           n_classes=15, n_clusters_per_class=5, random_state=0)\n",
    "\n",
    "X, X_test, Y, y_test = train_test_split(X, Y, test_size=0.7)\n",
    "X.shape, Y.shape"
   ]
  },
  {
   "cell_type": "code",
   "execution_count": 5,
   "metadata": {},
   "outputs": [],
   "source": [
    "t = Trainer()"
   ]
  },
  {
   "cell_type": "code",
   "execution_count": 6,
   "metadata": {
    "scrolled": true
   },
   "outputs": [
    {
     "name": "stdout",
     "output_type": "stream",
     "text": [
      "USE MERTRIC LEARNING\n",
      "Epoch 1/15\n",
      "WARNING:tensorflow:multiprocessing can interact badly with TensorFlow, causing nondeterministic deadlocks. For high performance data pipelines tf.data is recommended.\n",
      "20/20 [==============================] - 2s 36ms/step - loss: 0.8565\n",
      "Epoch 2/15\n",
      "20/20 [==============================] - 1s 37ms/step - loss: 0.6229\n",
      "Epoch 3/15\n",
      "20/20 [==============================] - 1s 54ms/step - loss: 0.5814\n",
      "Epoch 4/15\n",
      "20/20 [==============================] - 1s 38ms/step - loss: 0.5790\n",
      "Epoch 5/15\n",
      "20/20 [==============================] - 1s 34ms/step - loss: 0.5408\n",
      "Epoch 6/15\n",
      "20/20 [==============================] - 1s 35ms/step - loss: 0.5183\n",
      "Epoch 7/15\n",
      "20/20 [==============================] - 1s 35ms/step - loss: 0.4569\n",
      "Epoch 8/15\n",
      "20/20 [==============================] - 1s 37ms/step - loss: 0.4245\n",
      "Epoch 9/15\n",
      "20/20 [==============================] - 1s 36ms/step - loss: 0.4339\n",
      "Epoch 10/15\n",
      "20/20 [==============================] - 1s 35ms/step - loss: 0.3647\n",
      "Epoch 11/15\n",
      "20/20 [==============================] - 1s 34ms/step - loss: 0.3878\n",
      "Epoch 12/15\n",
      "20/20 [==============================] - 1s 35ms/step - loss: 0.3994\n",
      "Epoch 13/15\n",
      "20/20 [==============================] - 1s 35ms/step - loss: 0.3870\n",
      "Epoch 14/15\n",
      "20/20 [==============================] - 1s 34ms/step - loss: 0.3780\n",
      "Epoch 15/15\n",
      "20/20 [==============================] - 1s 33ms/step - loss: 0.3584\n",
      "Fitting 5 folds for each of 20 candidates, totalling 100 fits\n"
     ]
    },
    {
     "data": {
      "text/plain": [
       "0.08571428571428572"
      ]
     },
     "execution_count": 6,
     "metadata": {},
     "output_type": "execute_result"
    }
   ],
   "source": [
    "t.train_model(X, Y, mlalg=True)\n",
    "t.accuracy(X_test, y_test)"
   ]
  },
  {
   "cell_type": "code",
   "execution_count": 7,
   "metadata": {},
   "outputs": [
    {
     "name": "stdout",
     "output_type": "stream",
     "text": [
      "Fitting 5 folds for each of 20 candidates, totalling 100 fits\n"
     ]
    },
    {
     "data": {
      "text/plain": [
       "0.07142857142857142"
      ]
     },
     "execution_count": 7,
     "metadata": {},
     "output_type": "execute_result"
    }
   ],
   "source": [
    "t.train_model(X, Y, mlalg=False)\n",
    "t.accuracy(X_test, y_test)"
   ]
  },
  {
   "cell_type": "code",
   "execution_count": null,
   "metadata": {},
   "outputs": [],
   "source": []
  }
 ],
 "metadata": {
  "kernelspec": {
   "display_name": "Python 3",
   "language": "python",
   "name": "python3"
  },
  "language_info": {
   "codemirror_mode": {
    "name": "ipython",
    "version": 3
   },
   "file_extension": ".py",
   "mimetype": "text/x-python",
   "name": "python",
   "nbconvert_exporter": "python",
   "pygments_lexer": "ipython3",
   "version": "3.6.8"
  }
 },
 "nbformat": 4,
 "nbformat_minor": 4
}
