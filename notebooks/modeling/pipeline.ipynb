{
 "cells": [
  {
   "cell_type": "code",
   "execution_count": 1,
   "metadata": {},
   "outputs": [],
   "source": [
    "%load_ext autoreload\n",
    "%autoreload 2\n",
    "%matplotlib inline"
   ]
  },
  {
   "cell_type": "code",
   "execution_count": 2,
   "metadata": {},
   "outputs": [],
   "source": [
    "import os\n",
    "import pandas as pd\n",
    "import numpy as np\n",
    "\n",
    "import numpy as np\n",
    "from sklearn.pipeline import make_pipeline\n",
    "from sklearn.preprocessing import StandardScaler\n",
    "\n",
    "from metric_learn import NCA\n",
    "from sklearn.model_selection import cross_val_score, train_test_split\n",
    "\n",
    "from sklearn.svm import SVC\n",
    "\n",
    "from gensim.models import FastText\n",
    "from gensim.test.utils import common_texts\n",
    "from tpot import TPOTClassifier\n",
    "\n",
    "import sys\n",
    "sys.path.append(f'../../')\n",
    "\n",
    "from src.data.sentence_vectorizer import SentenceVectorizer"
   ]
  },
  {
   "cell_type": "code",
   "execution_count": null,
   "metadata": {
    "scrolled": true
   },
   "outputs": [
    {
     "name": "stdout",
     "output_type": "stream",
     "text": [
      "vectorizer: bert\n",
      "work with smm4h21\n"
     ]
    },
    {
     "name": "stderr",
     "output_type": "stream",
     "text": [
      "Some layers from the model checkpoint at bert-base-uncased were not used when initializing TFBertModel: ['nsp___cls', 'mlm___cls']\n",
      "- This IS expected if you are initializing TFBertModel from the checkpoint of a model trained on another task or with another architecture (e.g. initializing a BertForSequenceClassification model from a BertForPreTraining model).\n",
      "- This IS NOT expected if you are initializing TFBertModel from the checkpoint of a model that you expect to be exactly identical (initializing a BertForSequenceClassification model from a BertForSequenceClassification model).\n",
      "All the layers of TFBertModel were initialized from the model checkpoint at bert-base-uncased.\n",
      "If your task is similar to the task the model of the checkpoint was trained on, you can already use TFBertModel for predictions without further training.\n",
      "  5%|▍         | 68/1369 [00:10<03:04,  7.06it/s]"
     ]
    }
   ],
   "source": [
    "labels = pd.read_csv('../../data/interim/meddra_codes_terms_synonims.csv')\n",
    "labels = labels['CODE']\n",
    "meddra_labels = {v:k for k, v in enumerate(labels.unique())}\n",
    "\n",
    "results = {\n",
    "    'vectorizer': [],\n",
    "    'train_model': [],\n",
    "    'smm4h21': [],\n",
    "    'smm4h17': [],\n",
    "    'psytar': [],\n",
    "    'cadec': [],\n",
    "}\n",
    "\n",
    "SIZE = 100\n",
    "sv = SentenceVectorizer()\n",
    "for vectorizer_name in sv.get_availables_vectorizers():\n",
    "    print(f\"vectorizer: {vectorizer_name}\")\n",
    "    results['vectorizer'].append(vectorizer_name)\n",
    "    path = '../../data/interim/'\n",
    "    for name_train in os.listdir(path):\n",
    "\n",
    "        if name_train not in ['smm4h17', 'smm4h21', 'psytar', 'cadec']:\n",
    "            continue\n",
    "        print(f\"work with {name_train}\")\n",
    "        results['train_model'].append(name_train)\n",
    "\n",
    "        folder = os.path.join(path, name_train)\n",
    "        corpus_train = folder + '/train.csv'\n",
    "        corpus_test = folder + '/test.csv'\n",
    "        train, test = pd.read_csv(corpus_train), pd.read_csv(corpus_test)\n",
    "        \n",
    "        train, test = sv.vectorize(train, test, vectorizer_name=vectorizer_name) \n",
    "\n",
    "    #     print('orig', cadec_train.shape, cadec_test.shape)\n",
    "    #     print('vectorized', train.shape, test.shape)\n",
    "\n",
    "        X_train, y_train = train['term_vec'], train['code']\n",
    "        X_test, y_test = test['term_vec'], test['code']\n",
    "\n",
    "        X_train = pd.DataFrame([pd.Series(x) for x in X_train])\n",
    "        X_test = pd.DataFrame([pd.Series(x) for x in X_test])\n",
    "\n",
    "        y_train = y_train.apply(lambda x: int(meddra_labels[x]))\n",
    "        y_test = y_test.apply(lambda x: int(meddra_labels[x]))\n",
    "\n",
    "    #     print('model input:', X_train.shape, y_train.shape, X_test.shape, y_test.shape)\n",
    "\n",
    "        #clf = make_pipeline(NCA(), SVC(gamma='scale'))\n",
    "        clf = SVC(kernel='poly', gamma='scale')\n",
    "        clf.fit(X_train, y_train)\n",
    "\n",
    "        for name_test in os.listdir(path):\n",
    "            if name_test not in ['smm4h17', 'smm4h21', 'psytar', 'cadec']:\n",
    "                continue\n",
    "            folder = os.path.join(path, name_test)\n",
    "            corpus_train = folder + '/train.csv'\n",
    "            corpus_test = folder + '/test.csv'\n",
    "            train, test = pd.read_csv(corpus_train), pd.read_csv(corpus_test) \n",
    "            sv = SentenceVectorizer()\n",
    "            train, test = sv.vectorize(train, test, vectorizer_name=vectorizer_name) \n",
    "            X_test, y_test = test['term_vec'], test['code']\n",
    "            X_test = pd.DataFrame([pd.Series(x) for x in X_test])\n",
    "            y_test = y_test.apply(lambda x: int(meddra_labels[x]))\n",
    "\n",
    "            score = clf.score(X_test, y_test)\n",
    "            print(f'\\ttest with {name_test} score:', score)\n",
    "            results[name_test].append(score)\n",
    "        print()\n",
    "    \n",
    "results = pd.DataFrame(results)\n",
    "results"
   ]
  },
  {
   "cell_type": "code",
   "execution_count": null,
   "metadata": {},
   "outputs": [],
   "source": [
    "# generations = 2\n",
    "# population_size = 50\n",
    "# max_eval_time_mins = 2\n",
    "# n_jobs = 10\n",
    "# max_iter = 10\n",
    "\n",
    "# tpot = TPOTClassifier(generations=generations, \n",
    "#                       population_size=population_size,\n",
    "#                       verbosity=2, \n",
    "#                       random_state=42, \n",
    "#                       max_eval_time_mins=max_eval_time_mins, \n",
    "#                       n_jobs=n_jobs)\n",
    "\n",
    "# tpot.fit(X_train, y_train)\n",
    "# score = tpot.score(X_test, y_test)\n",
    "# score"
   ]
  },
  {
   "cell_type": "code",
   "execution_count": null,
   "metadata": {},
   "outputs": [],
   "source": []
  }
 ],
 "metadata": {
  "kernelspec": {
   "display_name": "Python 3",
   "language": "python",
   "name": "python3"
  },
  "language_info": {
   "codemirror_mode": {
    "name": "ipython",
    "version": 3
   },
   "file_extension": ".py",
   "mimetype": "text/x-python",
   "name": "python",
   "nbconvert_exporter": "python",
   "pygments_lexer": "ipython3",
   "version": "3.6.8"
  }
 },
 "nbformat": 4,
 "nbformat_minor": 4
}
