{
 "cells": [
  {
   "cell_type": "markdown",
   "metadata": {
    "colab_type": "text",
    "id": "afkMAjJfx2Jz"
   },
   "source": [
    "# SIAMESE NETS"
   ]
  },
  {
   "cell_type": "code",
   "execution_count": 1,
   "metadata": {},
   "outputs": [],
   "source": [
    "%load_ext autoreload\n",
    "%autoreload 2\n",
    "\n",
    "from tqdm import tqdm\n",
    "\n",
    "import warnings\n",
    "warnings.filterwarnings('ignore')\n",
    "\n",
    "import sys\n",
    "sys.path.append('../../')"
   ]
  },
  {
   "cell_type": "code",
   "execution_count": 2,
   "metadata": {},
   "outputs": [
    {
     "name": "stderr",
     "output_type": "stream",
     "text": [
      "[nltk_data] Downloading package stopwords to\n",
      "[nltk_data]     /home/kaigorodov/nltk_data...\n",
      "[nltk_data]   Package stopwords is already up-to-date!\n",
      "[nltk_data] Downloading package punkt to /home/kaigorodov/nltk_data...\n",
      "[nltk_data]   Package punkt is already up-to-date!\n"
     ]
    }
   ],
   "source": [
    "from src.data.class_balancing import class_sampler\n",
    "from src.support_models.triplet_generator import TripletGenerator\n",
    "from src.support_models.loss_functions import triplet_loss, identity_loss\n",
    "from src.support_models.base_model import base_model\n",
    "from src.support_models.siamese_model_architecture import siamese_model\n",
    "from src.support_models.siamese_metric_learner import SiameseMetricLearner"
   ]
  },
  {
   "cell_type": "code",
   "execution_count": 3,
   "metadata": {},
   "outputs": [],
   "source": [
    "import seaborn as sns; sns.set()\n",
    "import matplotlib.pyplot as plt\n",
    "import matplotlib.patheffects as PathEffects\n",
    "\n",
    "from tensorflow.keras.callbacks import EarlyStopping"
   ]
  },
  {
   "cell_type": "code",
   "execution_count": 4,
   "metadata": {},
   "outputs": [],
   "source": [
    "import pickle\n",
    "import numpy as np\n",
    "import matplotlib.pyplot as plt\n",
    "from sklearn.manifold import TSNE\n",
    "from sklearn.neighbors import KNeighborsClassifier\n",
    "from sklearn.model_selection import train_test_split\n",
    "import matplotlib.pyplot as plt"
   ]
  },
  {
   "cell_type": "code",
   "execution_count": 5,
   "metadata": {
    "colab": {
     "base_uri": "https://localhost:8080/",
     "height": 68
    },
    "colab_type": "code",
    "executionInfo": {
     "elapsed": 8353,
     "status": "ok",
     "timestamp": 1554579362372,
     "user": {
      "displayName": "Eoghan Keany",
      "photoUrl": "",
      "userId": "01744055321449573695"
     },
     "user_tz": -60
    },
    "id": "KzcVM4ZmIBuY",
    "outputId": "7d4bb705-6ab0-4983-ae62-75a3b2d8a292"
   },
   "outputs": [
    {
     "data": {
      "text/plain": [
       "((2153, 768), (539, 768), (2153,), (539,))"
      ]
     },
     "execution_count": 5,
     "metadata": {},
     "output_type": "execute_result"
    }
   ],
   "source": [
    "# with open('../data/processed/pure_data.pkl', 'rb') as data_file:\n",
    "#     df = pickle.load(data_file)\n",
    "    \n",
    "with open('../../data/processed/pure_data_vectorized.pkl', 'rb') as data_file:\n",
    "    df = pickle.load(data_file)\n",
    "    \n",
    "X_train, X_test, y_train, y_test = df\n",
    "\n",
    "# oversample = RandomOverSampler(sampling_strategy='minority')\n",
    "# for i in tqdm(range(100)):\n",
    "#     X_train, y_train = oversample.fit_resample(X_train, y_train)\n",
    "\n",
    "#X_train, y_train = class_sampler(X_train, y_train)\n",
    "\n",
    "X_train.shape, X_test.shape, y_train.shape, y_test.shape "
   ]
  },
  {
   "cell_type": "code",
   "execution_count": 6,
   "metadata": {},
   "outputs": [
    {
     "data": {
      "text/plain": [
       "array([[-0.06138874,  0.07730257,  0.11866412, ...,  0.03602187,\n",
       "         0.13808426,  0.20335081],\n",
       "       [-0.2540485 , -0.12133408,  0.13551083, ...,  0.1144911 ,\n",
       "         0.2503116 ,  0.20042512],\n",
       "       [-0.0957427 , -0.30971292,  0.03582312, ...,  0.07276029,\n",
       "         0.42173734,  0.09857774],\n",
       "       ...,\n",
       "       [-0.21105294, -0.18861827,  0.1727826 , ...,  0.11244375,\n",
       "         0.31073022,  0.13943845],\n",
       "       [-0.00807863,  0.01507305,  0.15714052, ..., -0.08479305,\n",
       "         0.23645818,  0.20983927],\n",
       "       [-0.13082795, -0.09622623,  0.13010076, ...,  0.01810479,\n",
       "         0.36225775,  0.15798448]])"
      ]
     },
     "execution_count": 6,
     "metadata": {},
     "output_type": "execute_result"
    }
   ],
   "source": [
    "X_train"
   ]
  },
  {
   "cell_type": "code",
   "execution_count": 7,
   "metadata": {},
   "outputs": [
    {
     "data": {
      "text/plain": [
       "((432,), (208,))"
      ]
     },
     "execution_count": 7,
     "metadata": {},
     "output_type": "execute_result"
    }
   ],
   "source": [
    "np.unique(y_train).shape, np.unique(y_test).shape"
   ]
  },
  {
   "cell_type": "code",
   "execution_count": 8,
   "metadata": {},
   "outputs": [
    {
     "data": {
      "text/plain": [
       "(<AxesSubplot:ylabel='Count'>, <AxesSubplot:ylabel='Count'>)"
      ]
     },
     "execution_count": 8,
     "metadata": {},
     "output_type": "execute_result"
    },
    {
     "data": {
      "image/png": "[encoded data removed]",
      "text/plain": [
       "<Figure size 1296x432 with 1 Axes>"
      ]
     },
     "metadata": {},
     "output_type": "display_data"
    }
   ],
   "source": [
    "import pandas as pd\n",
    "import seaborn as sns\n",
    "\n",
    "plt.figure(figsize=(18, 6))\n",
    "sns.histplot(pd.DataFrame({'y_train':y_train})), sns.histplot(pd.DataFrame({'y_test':y_test}))"
   ]
  },
  {
   "cell_type": "code",
   "execution_count": 11,
   "metadata": {},
   "outputs": [
    {
     "data": {
      "text/plain": [
       "((2153, 768), (2153,))"
      ]
     },
     "execution_count": 11,
     "metadata": {},
     "output_type": "execute_result"
    }
   ],
   "source": [
    "X_train.shape, y_train.shape"
   ]
  },
  {
   "cell_type": "code",
   "execution_count": 15,
   "metadata": {},
   "outputs": [
    {
     "name": "stdout",
     "output_type": "stream",
     "text": [
      "Epoch 1/100\n",
      "WARNING:tensorflow:multiprocessing can interact badly with TensorFlow, causing nondeterministic deadlocks. For high performance data pipelines tf.data is recommended.\n",
      " 67/100 [===================>..........] - ETA: 22s - loss: 0.2446"
     ]
    },
    {
     "name": "stderr",
     "output_type": "stream",
     "text": [
      "Process Keras_worker_ForkPoolWorker-21:\n",
      "Process Keras_worker_ForkPoolWorker-77:\n",
      "Process Keras_worker_ForkPoolWorker-98:\n",
      "Process Keras_worker_ForkPoolWorker-66:\n",
      "Process Keras_worker_ForkPoolWorker-69:\n",
      "Process Keras_worker_ForkPoolWorker-92:\n",
      "Process Keras_worker_ForkPoolWorker-53:\n",
      "Process Keras_worker_ForkPoolWorker-65:\n",
      "Process Keras_worker_ForkPoolWorker-39:\n",
      "Process Keras_worker_ForkPoolWorker-13:\n",
      "Process Keras_worker_ForkPoolWorker-60:\n",
      "Process Keras_worker_ForkPoolWorker-50:\n",
      "Process Keras_worker_ForkPoolWorker-85:\n",
      "Process Keras_worker_ForkPoolWorker-75:\n",
      "Process Keras_worker_ForkPoolWorker-100:\n",
      "Process Keras_worker_ForkPoolWorker-55:\n",
      "Process Keras_worker_ForkPoolWorker-89:\n",
      "Process Keras_worker_ForkPoolWorker-86:\n",
      "Process Keras_worker_ForkPoolWorker-41:\n",
      "Process Keras_worker_ForkPoolWorker-34:\n",
      "Process Keras_worker_ForkPoolWorker-51:\n",
      "Process Keras_worker_ForkPoolWorker-47:\n",
      "Process Keras_worker_ForkPoolWorker-6:\n",
      "Process Keras_worker_ForkPoolWorker-18:\n",
      "Process Keras_worker_ForkPoolWorker-56:\n",
      "Process Keras_worker_ForkPoolWorker-2:\n",
      "Process Keras_worker_ForkPoolWorker-63:\n",
      "Process Keras_worker_ForkPoolWorker-76:\n",
      "Process Keras_worker_ForkPoolWorker-49:\n",
      "Process Keras_worker_ForkPoolWorker-5:\n",
      "Process Keras_worker_ForkPoolWorker-1:\n",
      "Process Keras_worker_ForkPoolWorker-99:\n",
      "Process Keras_worker_ForkPoolWorker-48:\n",
      "Process Keras_worker_ForkPoolWorker-84:\n",
      "Process Keras_worker_ForkPoolWorker-44:\n",
      "Process Keras_worker_ForkPoolWorker-78:\n",
      "Process Keras_worker_ForkPoolWorker-14:\n",
      "Process Keras_worker_ForkPoolWorker-37:\n",
      "Process Keras_worker_ForkPoolWorker-7:\n",
      "Process Keras_worker_ForkPoolWorker-31:\n",
      "Process Keras_worker_ForkPoolWorker-74:\n",
      "Process Keras_worker_ForkPoolWorker-10:\n",
      "Process Keras_worker_ForkPoolWorker-16:\n",
      "Process Keras_worker_ForkPoolWorker-40:\n",
      "Process Keras_worker_ForkPoolWorker-11:\n",
      "Process Keras_worker_ForkPoolWorker-61:\n",
      "Process Keras_worker_ForkPoolWorker-3:\n",
      "Process Keras_worker_ForkPoolWorker-12:\n",
      "Process Keras_worker_ForkPoolWorker-97:\n",
      "Process Keras_worker_ForkPoolWorker-54:\n",
      "Process Keras_worker_ForkPoolWorker-83:\n",
      "Process Keras_worker_ForkPoolWorker-79:\n",
      "Process Keras_worker_ForkPoolWorker-9:\n",
      "Process Keras_worker_ForkPoolWorker-35:\n",
      "Process Keras_worker_ForkPoolWorker-15:\n",
      "Process Keras_worker_ForkPoolWorker-43:\n",
      "Process Keras_worker_ForkPoolWorker-45:\n",
      "Process Keras_worker_ForkPoolWorker-46:\n",
      "Process Keras_worker_ForkPoolWorker-30:\n",
      "Traceback (most recent call last):\n",
      "Traceback (most recent call last):\n",
      "Process Keras_worker_ForkPoolWorker-80:\n",
      "Process Keras_worker_ForkPoolWorker-81:\n",
      "Process Keras_worker_ForkPoolWorker-52:\n",
      "Process Keras_worker_ForkPoolWorker-87:\n",
      "Process Keras_worker_ForkPoolWorker-4:\n",
      "Process Keras_worker_ForkPoolWorker-91:\n",
      "Process Keras_worker_ForkPoolWorker-20:\n",
      "Process Keras_worker_ForkPoolWorker-32:\n",
      "Process Keras_worker_ForkPoolWorker-33:\n",
      "Process Keras_worker_ForkPoolWorker-59:\n",
      "Process Keras_worker_ForkPoolWorker-19:\n",
      "Process Keras_worker_ForkPoolWorker-42:\n",
      "Process Keras_worker_ForkPoolWorker-58:\n",
      "Process Keras_worker_ForkPoolWorker-8:\n",
      "Process Keras_worker_ForkPoolWorker-93:\n",
      "Process Keras_worker_ForkPoolWorker-72:\n",
      "Process Keras_worker_ForkPoolWorker-29:\n",
      "Process Keras_worker_ForkPoolWorker-27:\n",
      "Process Keras_worker_ForkPoolWorker-36:\n",
      "Process Keras_worker_ForkPoolWorker-64:\n",
      "Process Keras_worker_ForkPoolWorker-82:\n",
      "Process Keras_worker_ForkPoolWorker-96:\n",
      "Process Keras_worker_ForkPoolWorker-62:\n",
      "Process Keras_worker_ForkPoolWorker-71:\n",
      "Process Keras_worker_ForkPoolWorker-67:\n",
      "Process Keras_worker_ForkPoolWorker-70:\n",
      "Process Keras_worker_ForkPoolWorker-57:\n",
      "Process Keras_worker_ForkPoolWorker-94:\n",
      "Process Keras_worker_ForkPoolWorker-90:\n",
      "Process Keras_worker_ForkPoolWorker-23:\n",
      "Process Keras_worker_ForkPoolWorker-68:\n",
      "Process Keras_worker_ForkPoolWorker-95:\n",
      "Process Keras_worker_ForkPoolWorker-73:\n",
      "Process Keras_worker_ForkPoolWorker-38:\n",
      "Process Keras_worker_ForkPoolWorker-88:\n",
      "Process Keras_worker_ForkPoolWorker-26:\n",
      "Process Keras_worker_ForkPoolWorker-17:\n",
      "Process Keras_worker_ForkPoolWorker-28:\n",
      "Process Keras_worker_ForkPoolWorker-25:\n",
      "Process Keras_worker_ForkPoolWorker-22:\n",
      "Process Keras_worker_ForkPoolWorker-24:\n",
      "Traceback (most recent call last):\n",
      "Traceback (most recent call last):\n",
      "Traceback (most recent call last):\n",
      "Traceback (most recent call last):\n",
      "Traceback (most recent call last):\n",
      "Traceback (most recent call last):\n",
      "Traceback (most recent call last):\n",
      "Traceback (most recent call last):\n",
      "Traceback (most recent call last):\n",
      "Traceback (most recent call last):\n",
      "Traceback (most recent call last):\n",
      "Traceback (most recent call last):\n",
      "Traceback (most recent call last):\n",
      "Traceback (most recent call last):\n",
      "Traceback (most recent call last):\n",
      "Traceback (most recent call last):\n",
      "Traceback (most recent call last):\n",
      "Traceback (most recent call last):\n",
      "Traceback (most recent call last):\n",
      "Traceback (most recent call last):\n",
      "Traceback (most recent call last):\n",
      "Traceback (most recent call last):\n",
      "Traceback (most recent call last):\n",
      "Traceback (most recent call last):\n",
      "Traceback (most recent call last):\n",
      "Traceback (most recent call last):\n",
      "Traceback (most recent call last):\n",
      "Traceback (most recent call last):\n",
      "Traceback (most recent call last):\n",
      "Traceback (most recent call last):\n",
      "Traceback (most recent call last):\n",
      "Traceback (most recent call last):\n",
      "Traceback (most recent call last):\n",
      "Traceback (most recent call last):\n",
      "Traceback (most recent call last):\n",
      "Traceback (most recent call last):\n"
     ]
    }
   ],
   "source": [
    "learner = SiameseMetricLearner()\n",
    "history = learner.fit(X_train, y_train)"
   ]
  },
  {
   "cell_type": "code",
   "execution_count": null,
   "metadata": {
    "colab": {
     "base_uri": "https://localhost:8080/",
     "height": 382
    },
    "colab_type": "code",
    "executionInfo": {
     "elapsed": 889,
     "status": "ok",
     "timestamp": 1554498795616,
     "user": {
      "displayName": "Eoghan Keany",
      "photoUrl": "",
      "userId": "01744055321449573695"
     },
     "user_tz": -60
    },
    "id": "68lF6bUhPcD5",
    "outputId": "d1cd4f0d-23b9-4e10-cc9b-723ac203e1cc"
   },
   "outputs": [],
   "source": [
    "# summarize history for loss\n",
    "plt.plot(history.history['loss'])\n",
    "#plt.plot(history.history['val_loss'])\n",
    "plt.title('Training and Validation Losses',size = 20)\n",
    "plt.ylabel('loss')\n",
    "plt.xlabel('epoch')\n",
    "plt.legend(['train', 'test'], loc='upper right')\n",
    "plt.show()"
   ]
  },
  {
   "cell_type": "code",
   "execution_count": null,
   "metadata": {
    "colab": {},
    "colab_type": "code",
    "id": "UdebpAkhTJ62",
    "scrolled": false
   },
   "outputs": [],
   "source": [
    "X_train_trm = learner.transform(X_train)\n",
    "X_test_trm = learner.transform(X_test)\n",
    "X_train.shape, X_train_trm.shape, X_test.shape, X_test_trm.shape"
   ]
  },
  {
   "cell_type": "markdown",
   "metadata": {},
   "source": [
    "# Show changes"
   ]
  },
  {
   "cell_type": "code",
   "execution_count": null,
   "metadata": {},
   "outputs": [],
   "source": [
    "def scatter(x, labels, subtitle=None):\n",
    "    palette = np.array(sns.color_palette(\"hls\", 500))\n",
    "    f = plt.figure(figsize=(8, 8))\n",
    "    ax = plt.subplot(aspect='equal')\n",
    "    sc = ax.scatter(x[:,0], x[:,1], lw=0,alpha = 0.5, s=40, c=palette[labels.astype(np.int)])\n",
    "    plt.xlim(-25, 25)\n",
    "    plt.ylim(-25, 25)\n",
    "    ax.axis('off')\n",
    "    ax.axis('tight')"
   ]
  },
  {
   "cell_type": "code",
   "execution_count": null,
   "metadata": {},
   "outputs": [],
   "source": [
    "# TSNE to use dimensionality reduction to visulaise the resultant embeddings\n",
    "tsne = TSNE()\n",
    "train_tsne = tsne.fit_transform(X_train)\n",
    "print(train_tsne.shape, y_train.shape)\n",
    "scatter(train_tsne, y_train)"
   ]
  },
  {
   "cell_type": "code",
   "execution_count": null,
   "metadata": {
    "colab": {
     "base_uri": "https://localhost:8080/",
     "height": 483
    },
    "colab_type": "code",
    "executionInfo": {
     "elapsed": 1373,
     "status": "ok",
     "timestamp": 1554498980246,
     "user": {
      "displayName": "Eoghan Keany",
      "photoUrl": "",
      "userId": "01744055321449573695"
     },
     "user_tz": -60
    },
    "id": "ElmyqDG0o8te",
    "outputId": "abcda512-218a-4a5c-95ca-1872e80a1c48"
   },
   "outputs": [],
   "source": [
    "tsne = TSNE()\n",
    "train_tsne_embeds = tsne.fit_transform(X_train_trm)\n",
    "print(train_tsne_embeds.shape, y_train.shape)\n",
    "scatter(train_tsne_embeds, y_train)"
   ]
  },
  {
   "cell_type": "code",
   "execution_count": null,
   "metadata": {},
   "outputs": [],
   "source": [
    "tsne = TSNE()\n",
    "test_tsne = tsne.fit_transform(X_test)\n",
    "print(test_tsne.shape, y_test.shape)\n",
    "scatter(test_tsne, y_test)"
   ]
  },
  {
   "cell_type": "code",
   "execution_count": null,
   "metadata": {},
   "outputs": [],
   "source": [
    "tsne = TSNE()\n",
    "test_tsne_embeds = tsne.fit_transform(X_test_trm)\n",
    "print(test_tsne_embeds.shape, y_test.shape)\n",
    "scatter(test_tsne_embeds, y_test)"
   ]
  },
  {
   "cell_type": "code",
   "execution_count": null,
   "metadata": {},
   "outputs": [],
   "source": [
    "tsne = TSNE(n_components=3)\n",
    "train_to_classify = tsne.fit_transform(X_train_trm)\n",
    "test_to_classify = tsne.fit_transform(X_test_trm)\n",
    "\n",
    "train_to_classify.shape, test_to_classify.shape"
   ]
  },
  {
   "cell_type": "markdown",
   "metadata": {},
   "source": [
    "# Classify"
   ]
  },
  {
   "cell_type": "code",
   "execution_count": null,
   "metadata": {},
   "outputs": [],
   "source": [
    "train_acc_orig = []\n",
    "test_acc_orig = []\n",
    "train_acc_trm = []\n",
    "test_acc_trm = []\n",
    "\n",
    "for k in range(3, 10):\n",
    "    neigh = KNeighborsClassifier(n_neighbors=k)\n",
    "    \n",
    "    neigh.fit(X_train, y_train)\n",
    "    train_acc_orig.append(neigh.score(X_train, y_train))\n",
    "    test_acc_orig.append(neigh.score(X_test, y_test))\n",
    "    #print(\"ORIG:\", train_acc_orig[-1], test_acc_orig[-1])\n",
    "    \n",
    "    neigh.fit(X_train_trm, y_train)\n",
    "    train_acc_trm.append(neigh.score(X_train_trm, y_train))\n",
    "    test_acc_trm.append(neigh.score(X_test_trm, y_test))\n",
    "    #print(\"TRNS:\", train_acc_trm[-1], test_acc_trm[-1])\n",
    "    \n",
    "max(test_acc_orig), max(test_acc_trm)"
   ]
  },
  {
   "cell_type": "code",
   "execution_count": null,
   "metadata": {},
   "outputs": [],
   "source": [
    "round(max(test_acc_orig), 3)"
   ]
  },
  {
   "cell_type": "code",
   "execution_count": null,
   "metadata": {},
   "outputs": [],
   "source": [
    "plt.figure(figsize=(12, 6))\n",
    "plt.plot(train_acc_trm)\n",
    "plt.plot(test_acc_trm)\n",
    "plt.plot(train_acc_orig)\n",
    "plt.plot(test_acc_orig)\n",
    "\n",
    "plt.title('compare metric learning with orig', size = 15)\n",
    "plt.ylabel('acc')\n",
    "plt.xlabel('knn(k)')\n",
    "plt.legend(['train_trm', 'test_trm', 'train_orig', 'test_orig'], loc='upper right')\n",
    "\n",
    "plt.show()"
   ]
  },
  {
   "cell_type": "markdown",
   "metadata": {},
   "source": [
    "# Get number of epochs"
   ]
  },
  {
   "cell_type": "code",
   "execution_count": null,
   "metadata": {},
   "outputs": [],
   "source": [
    "from termcolor import colored\n",
    "\n",
    "\n",
    "learner = SiameseMetricLearner()\n",
    "\n",
    "origs, trms = [], []\n",
    "epoch_step = 50\n",
    "for iteration in range(1):\n",
    "    learner.fit(X_train, y_train, epochs=epoch_step)\n",
    "    X_train_trm = learner.transform(X_train)\n",
    "    X_test_trm = learner.transform(X_test)\n",
    "    \n",
    "    train_acc_orig = []\n",
    "    test_acc_orig = []\n",
    "    train_acc_trm = []\n",
    "    test_acc_trm = []\n",
    "\n",
    "    for k in range(1, 6):\n",
    "        neigh = KNeighborsClassifier(n_neighbors=k)\n",
    "\n",
    "        neigh.fit(X_train, y_train)\n",
    "        train_acc_orig.append(neigh.score(X_train, y_train))\n",
    "        test_acc_orig.append(neigh.score(X_test, y_test))\n",
    "\n",
    "        neigh.fit(X_train_trm, y_train)\n",
    "        train_acc_trm.append(neigh.score(X_train_trm, y_train))\n",
    "        test_acc_trm.append(neigh.score(X_test_trm, y_test))\n",
    "        \n",
    "    orig, trm = max(test_acc_orig), max(test_acc_trm)\n",
    "    origs.append(orig)\n",
    "    trms.append(trm)\n",
    "    \n",
    "    output = colored(f\"EPOCHS {iteration*epoch_step} with acc: {round(trm, 3)}/{round(orig, 3)}\", 'green')\n",
    "    print(output)\n",
    "    \n",
    "    \n",
    "plt.figure(figsize=(12, 6))\n",
    "plt.plot(origs)\n",
    "plt.plot(trms)\n",
    "\n",
    "plt.title('compare metric learning with orig', size = 15)\n",
    "plt.ylabel('acc')\n",
    "plt.xlabel('2*epochs')\n",
    "plt.legend(['orig', 'trm'], loc='upper right')\n",
    "\n",
    "plt.show()"
   ]
  },
  {
   "cell_type": "code",
   "execution_count": null,
   "metadata": {},
   "outputs": [],
   "source": []
  },
  {
   "cell_type": "code",
   "execution_count": null,
   "metadata": {},
   "outputs": [],
   "source": []
  },
  {
   "cell_type": "code",
   "execution_count": null,
   "metadata": {},
   "outputs": [],
   "source": []
  },
  {
   "cell_type": "code",
   "execution_count": null,
   "metadata": {},
   "outputs": [],
   "source": []
  },
  {
   "cell_type": "code",
   "execution_count": null,
   "metadata": {},
   "outputs": [],
   "source": []
  },
  {
   "cell_type": "code",
   "execution_count": null,
   "metadata": {},
   "outputs": [],
   "source": []
  },
  {
   "cell_type": "code",
   "execution_count": null,
   "metadata": {},
   "outputs": [],
   "source": []
  }
 ],
 "metadata": {
  "colab": {
   "collapsed_sections": [],
   "name": "MachinePart1.ipynb",
   "provenance": [],
   "version": "0.3.2"
  },
  "kernelspec": {
   "display_name": "Python 3",
   "language": "python",
   "name": "python3"
  },
  "language_info": {
   "codemirror_mode": {
    "name": "ipython",
    "version": 3
   },
   "file_extension": ".py",
   "mimetype": "text/x-python",
   "name": "python",
   "nbconvert_exporter": "python",
   "pygments_lexer": "ipython3",
   "version": "3.6.8"
  }
 },
 "nbformat": 4,
 "nbformat_minor": 4
}
