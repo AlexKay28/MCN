{
 "cells": [
  {
   "cell_type": "code",
   "execution_count": 7,
   "metadata": {},
   "outputs": [],
   "source": [
    "import numpy as np\n",
    "import pandas as pd\n",
    "\n",
    "from gensim.models import FastText\n",
    "from gensim.test.utils import common_texts\n",
    "from gensim.utils import tokenize\n",
    "\n",
    "import tensorflow as tf\n",
    "from tensorflow.keras.callbacks import EarlyStopping\n",
    "from tensorflow.keras.preprocessing import sequence"
   ]
  },
  {
   "cell_type": "markdown",
   "metadata": {},
   "source": [
    "# PREPARE DATA TO AUTOENCODER"
   ]
  },
  {
   "cell_type": "code",
   "execution_count": 8,
   "metadata": {},
   "outputs": [],
   "source": [
    "train = pd.read_csv('../../data/interim/smm4h21/train.csv')\n",
    "test = pd.read_csv('../../data/interim/smm4h21/test.csv')"
   ]
  },
  {
   "cell_type": "code",
   "execution_count": 9,
   "metadata": {},
   "outputs": [
    {
     "name": "stderr",
     "output_type": "stream",
     "text": [
      "/home/kaigorodov/.local/lib/python3.6/site-packages/ipykernel_launcher.py:8: DeprecationWarning: Call to deprecated `load_fasttext_format` (use load_facebook_vectors (to use pretrained embeddings) or load_facebook_model (to continue training with the loaded full model, more RAM) instead).\n",
      "  \n"
     ]
    }
   ],
   "source": [
    "sentences = pd.read_csv('../../data/interim/cadec/test.csv')['text'].apply(\n",
    "                lambda x: x.lower().split('<SENT>')).explode().apply(lambda x: list(tokenize(x))).to_list()\n",
    "\n",
    "max_seq_len = 10\n",
    "embed_dim = 300\n",
    "nb_words = 3000\n",
    "\n",
    "ftmodel = FastText.load_fasttext_format('../../data/external/embeddings/cc.en.300.bin')\n",
    "ftmodel.train(sentences=sentences, total_examples=len(sentences), epochs=10)"
   ]
  },
  {
   "cell_type": "code",
   "execution_count": 6,
   "metadata": {},
   "outputs": [
    {
     "data": {
      "text/html": [
       "<div>\n",
       "<style scoped>\n",
       "    .dataframe tbody tr th:only-of-type {\n",
       "        vertical-align: middle;\n",
       "    }\n",
       "\n",
       "    .dataframe tbody tr th {\n",
       "        vertical-align: top;\n",
       "    }\n",
       "\n",
       "    .dataframe thead th {\n",
       "        text-align: right;\n",
       "    }\n",
       "</style>\n",
       "<table border=\"1\" class=\"dataframe\">\n",
       "  <thead>\n",
       "    <tr style=\"text-align: right;\">\n",
       "      <th></th>\n",
       "      <th>term</th>\n",
       "      <th>STR</th>\n",
       "      <th>code</th>\n",
       "    </tr>\n",
       "  </thead>\n",
       "  <tbody>\n",
       "    <tr>\n",
       "      <th>0</th>\n",
       "      <td>allergies</td>\n",
       "      <td>Drug allergy</td>\n",
       "      <td>10013661</td>\n",
       "    </tr>\n",
       "    <tr>\n",
       "      <th>1</th>\n",
       "      <td>HURT YOUR Liver</td>\n",
       "      <td>Liver damage</td>\n",
       "      <td>10024668</td>\n",
       "    </tr>\n",
       "    <tr>\n",
       "      <th>2</th>\n",
       "      <td>AD</td>\n",
       "      <td>Attention deficit disorder</td>\n",
       "      <td>10003731</td>\n",
       "    </tr>\n",
       "    <tr>\n",
       "      <th>3</th>\n",
       "      <td>focus</td>\n",
       "      <td>Attention impaired</td>\n",
       "      <td>10003738</td>\n",
       "    </tr>\n",
       "    <tr>\n",
       "      <th>4</th>\n",
       "      <td>died</td>\n",
       "      <td>Death</td>\n",
       "      <td>10011906</td>\n",
       "    </tr>\n",
       "    <tr>\n",
       "      <th>...</th>\n",
       "      <td>...</td>\n",
       "      <td>...</td>\n",
       "      <td>...</td>\n",
       "    </tr>\n",
       "    <tr>\n",
       "      <th>1707</th>\n",
       "      <td>orgasm</td>\n",
       "      <td>Inability to orgasm</td>\n",
       "      <td>10021574</td>\n",
       "    </tr>\n",
       "    <tr>\n",
       "      <th>1708</th>\n",
       "      <td>never have another orgasm</td>\n",
       "      <td>Inability to orgasm</td>\n",
       "      <td>10021574</td>\n",
       "    </tr>\n",
       "    <tr>\n",
       "      <th>1709</th>\n",
       "      <td>coma</td>\n",
       "      <td>Somnolence</td>\n",
       "      <td>10041349</td>\n",
       "    </tr>\n",
       "    <tr>\n",
       "      <th>1710</th>\n",
       "      <td>gain so much weight</td>\n",
       "      <td>Wilms tumour</td>\n",
       "      <td>10047986</td>\n",
       "    </tr>\n",
       "    <tr>\n",
       "      <th>1711</th>\n",
       "      <td>increase my weight</td>\n",
       "      <td>Weight increase</td>\n",
       "      <td>10047898</td>\n",
       "    </tr>\n",
       "  </tbody>\n",
       "</table>\n",
       "<p>1712 rows × 3 columns</p>\n",
       "</div>"
      ],
      "text/plain": [
       "                           term                         STR      code\n",
       "0                     allergies                Drug allergy  10013661\n",
       "1               HURT YOUR Liver                Liver damage  10024668\n",
       "2                            AD  Attention deficit disorder  10003731\n",
       "3                         focus          Attention impaired  10003738\n",
       "4                          died                       Death  10011906\n",
       "...                         ...                         ...       ...\n",
       "1707                     orgasm         Inability to orgasm  10021574\n",
       "1708  never have another orgasm         Inability to orgasm  10021574\n",
       "1709                       coma                  Somnolence  10041349\n",
       "1710        gain so much weight                Wilms tumour  10047986\n",
       "1711         increase my weight             Weight increase  10047898\n",
       "\n",
       "[1712 rows x 3 columns]"
      ]
     },
     "execution_count": 6,
     "metadata": {},
     "output_type": "execute_result"
    }
   ],
   "source": [
    "train[['term', 'STR', 'code']]"
   ]
  },
  {
   "cell_type": "code",
   "execution_count": null,
   "metadata": {},
   "outputs": [],
   "source": []
  },
  {
   "cell_type": "code",
   "execution_count": null,
   "metadata": {},
   "outputs": [],
   "source": []
  },
  {
   "cell_type": "code",
   "execution_count": 9,
   "metadata": {},
   "outputs": [
    {
     "name": "stderr",
     "output_type": "stream",
     "text": [
      "/home/kaigorodov/.local/lib/python3.6/site-packages/ipykernel_launcher.py:16: DeprecationWarning: Call to deprecated `__getitem__` (Method will be removed in 4.0.0, use self.wv.__getitem__() instead).\n",
      "  app.launch_new_instance()\n"
     ]
    }
   ],
   "source": [
    "tokenizer = tf.keras.preprocessing.text.Tokenizer(\n",
    "    num_words=nb_words,\n",
    "    filters='!\"#$%&()*+,-./:;<=>?@[\\\\]^_`{|}~\\t\\n',\n",
    "    lower=True, split=' ', char_level=False\n",
    ")\n",
    "\n",
    "tokenizer.fit_on_texts(sentences)\n",
    "word_index = tokenizer.word_index\n",
    "\n",
    "nb_words = min(nb_words, len(word_index)+1)\n",
    "embedding_matrix = np.zeros((nb_words, embed_dim))\n",
    "\n",
    "for word, i in word_index.items():\n",
    "    if i >= nb_words:\n",
    "        continue\n",
    "    embedding_vector = ftmodel[word]\n",
    "    if (embedding_vector is not None) and len(embedding_vector) > 0:\n",
    "        embedding_matrix[i] = embedding_vector\n",
    "        \n",
    "word_seq_train = tokenizer.texts_to_sequences(train['term'])\n",
    "word_seq_test = tokenizer.texts_to_sequences(test['term'])\n",
    "\n",
    "X_train = sequence.pad_sequences(word_seq_train, maxlen=max_seq_len)\n",
    "X_test = sequence.pad_sequences(word_seq_test, maxlen=max_seq_len)\n",
    "\n",
    "labels = pd.read_csv('../../data/interim/meddra_codes_terms_synonims.csv')\n",
    "labels = labels['CODE']\n",
    "meddra_labels = {v:k for k, v in enumerate(labels.unique())}\n",
    "\n",
    "y_train = train['code'].apply(lambda x: meddra_labels[x]).to_numpy()\n",
    "y_test = test['code'].apply(lambda x: meddra_labels[x]).to_numpy()\n",
    "\n",
    "number_of_classes = labels.unique().shape[0]"
   ]
  },
  {
   "cell_type": "code",
   "execution_count": 12,
   "metadata": {},
   "outputs": [
    {
     "data": {
      "text/plain": [
       "(3000, 300)"
      ]
     },
     "execution_count": 12,
     "metadata": {},
     "output_type": "execute_result"
    }
   ],
   "source": [
    "embedding_matrix.shape"
   ]
  },
  {
   "cell_type": "code",
   "execution_count": 10,
   "metadata": {},
   "outputs": [],
   "source": [
    "import pickle\n",
    "\n",
    "with open('../../models/encoder/tokenizer.pickle', 'wb') as tok_bin:\n",
    "    pickle.dump(tokenizer, tok_bin, pickle.HIGHEST_PROTOCOL)\n",
    "with open('../../models/encoder/tokenizer.pickle', 'rb') as f:\n",
    "    tokenizer = pickle.load(f)"
   ]
  },
  {
   "cell_type": "code",
   "execution_count": 11,
   "metadata": {},
   "outputs": [
    {
     "data": {
      "text/plain": [
       "((3520, 10), (881, 10))"
      ]
     },
     "execution_count": 11,
     "metadata": {},
     "output_type": "execute_result"
    }
   ],
   "source": [
    "X_train.shape, X_test.shape"
   ]
  },
  {
   "cell_type": "markdown",
   "metadata": {},
   "source": [
    "# MODEL\n",
    "\n"
   ]
  },
  {
   "cell_type": "code",
   "execution_count": 13,
   "metadata": {
    "scrolled": false
   },
   "outputs": [
    {
     "name": "stdout",
     "output_type": "stream",
     "text": [
      "Model: \"model_1\"\n",
      "_________________________________________________________________\n",
      "Layer (type)                 Output Shape              Param #   \n",
      "=================================================================\n",
      "input_2 (InputLayer)         [(None, 10)]              0         \n",
      "_________________________________________________________________\n",
      "embedding_1 (Embedding)      (None, 10, 300)           900000    \n",
      "_________________________________________________________________\n",
      "bidirectional_1 (Bidirection (None, 512)               1140736   \n",
      "_________________________________________________________________\n",
      "dense_4 (Dense)              (None, 256)               131328    \n",
      "_________________________________________________________________\n",
      "dense_5 (Dense)              (None, 200)               51400     \n",
      "_________________________________________________________________\n",
      "repeat_vector_1 (RepeatVecto (None, 10, 200)           0         \n",
      "_________________________________________________________________\n",
      "lstm_3 (LSTM)                (None, 10, 256)           467968    \n",
      "_________________________________________________________________\n",
      "dense_6 (Dense)              (None, 10, 256)           65792     \n",
      "_________________________________________________________________\n",
      "time_distributed_1 (TimeDist (None, 10, 3000)          771000    \n",
      "=================================================================\n",
      "Total params: 3,528,224\n",
      "Trainable params: 2,628,224\n",
      "Non-trainable params: 900,000\n",
      "_________________________________________________________________\n"
     ]
    }
   ],
   "source": [
    "import keras\n",
    "from keras import layers, Model\n",
    "from keras.utils import to_categorical \n",
    "\n",
    "\n",
    "vocab_size = nb_words\n",
    "src_txt_length = max_seq_len\n",
    "sum_txt_length = max_seq_len\n",
    "\n",
    "# encoder input model\n",
    "inputs =   layers.Input(shape=(src_txt_length,))\n",
    "encoder1 = layers.Embedding(nb_words, embed_dim, input_length=max_seq_len, \n",
    "                        weights=[embedding_matrix],trainable=False)(inputs)\n",
    "encoder2 = layers.Bidirectional(layers.LSTM(256))(encoder1)\n",
    "encoder3 = layers.Dense(256, activation='relu')(encoder2)\n",
    "encoder4 = layers.Dense(200, activation='relu')(encoder3)\n",
    "encoder5 = layers.RepeatVector(sum_txt_length)(encoder4)\n",
    "\n",
    "# decoder output model\n",
    "decoder1 = layers.LSTM(256, return_sequences=True)(encoder5)\n",
    "decoder2 = layers.Dense(256, activation='relu')(decoder1)\n",
    "outputs =  layers.TimeDistributed(layers.Dense(vocab_size, activation='softmax'))(decoder2)\n",
    "\n",
    "# tie it together\n",
    "model = Model(inputs=inputs, outputs=outputs)\n",
    "\n",
    "\n",
    "optimizer = keras.optimizers.Adam(learning_rate=0.001)\n",
    "model.compile(loss='categorical_crossentropy', optimizer=optimizer)\n",
    "model.summary()"
   ]
  },
  {
   "cell_type": "code",
   "execution_count": 14,
   "metadata": {},
   "outputs": [
    {
     "name": "stdout",
     "output_type": "stream",
     "text": [
      "Epoch 1/500\n",
      "110/110 [==============================] - 9s 49ms/step - loss: 3.4394 - val_loss: 1.9827\n",
      "Epoch 2/500\n",
      "110/110 [==============================] - 5s 45ms/step - loss: 1.9427 - val_loss: 1.9754\n",
      "Epoch 3/500\n",
      "110/110 [==============================] - 5s 43ms/step - loss: 1.9802 - val_loss: 1.9690\n",
      "Epoch 4/500\n",
      "110/110 [==============================] - 5s 41ms/step - loss: 1.9430 - val_loss: 1.9610\n",
      "Epoch 5/500\n",
      "110/110 [==============================] - 4s 40ms/step - loss: 1.9253 - val_loss: 1.9582\n",
      "Epoch 6/500\n",
      "110/110 [==============================] - 4s 39ms/step - loss: 1.9319 - val_loss: 1.9447\n",
      "Epoch 7/500\n",
      "110/110 [==============================] - 4s 40ms/step - loss: 1.8901 - val_loss: 1.9315\n",
      "Epoch 8/500\n",
      "110/110 [==============================] - 4s 41ms/step - loss: 1.8853 - val_loss: 1.9232\n",
      "Epoch 9/500\n",
      "110/110 [==============================] - 4s 40ms/step - loss: 1.8638 - val_loss: 1.9316\n",
      "Epoch 10/500\n",
      "110/110 [==============================] - 4s 41ms/step - loss: 1.8638 - val_loss: 1.9174\n",
      "Epoch 11/500\n",
      "110/110 [==============================] - 4s 40ms/step - loss: 1.8909 - val_loss: 1.9113\n",
      "Epoch 12/500\n",
      "110/110 [==============================] - 4s 40ms/step - loss: 1.8415 - val_loss: 1.9223\n",
      "Epoch 13/500\n",
      "110/110 [==============================] - 5s 43ms/step - loss: 1.8410 - val_loss: 1.9132\n",
      "Epoch 14/500\n",
      "110/110 [==============================] - 4s 40ms/step - loss: 1.8458 - val_loss: 1.9007\n",
      "Epoch 15/500\n",
      "110/110 [==============================] - 5s 41ms/step - loss: 1.8589 - val_loss: 1.9041\n",
      "Epoch 16/500\n",
      "110/110 [==============================] - 5s 41ms/step - loss: 1.8832 - val_loss: 1.8969\n",
      "Epoch 17/500\n",
      "110/110 [==============================] - 4s 40ms/step - loss: 1.8412 - val_loss: 1.8967\n",
      "Epoch 18/500\n",
      "110/110 [==============================] - 4s 40ms/step - loss: 1.8384 - val_loss: 1.8929\n",
      "Epoch 19/500\n",
      "110/110 [==============================] - 4s 40ms/step - loss: 1.8356 - val_loss: 1.8949\n",
      "Epoch 20/500\n",
      "110/110 [==============================] - 4s 41ms/step - loss: 1.7989 - val_loss: 1.8926\n",
      "Epoch 21/500\n",
      "110/110 [==============================] - 4s 41ms/step - loss: 1.8521 - val_loss: 1.8891\n",
      "Epoch 22/500\n",
      "110/110 [==============================] - 4s 41ms/step - loss: 1.8823 - val_loss: 1.8924\n",
      "Epoch 23/500\n",
      "110/110 [==============================] - 5s 42ms/step - loss: 1.8288 - val_loss: 1.9055\n",
      "Epoch 24/500\n",
      "110/110 [==============================] - 4s 41ms/step - loss: 1.8373 - val_loss: 1.9185\n",
      "Epoch 25/500\n",
      "110/110 [==============================] - 4s 41ms/step - loss: 1.8194 - val_loss: 1.8893\n",
      "Epoch 26/500\n",
      "110/110 [==============================] - 5s 41ms/step - loss: 1.8507 - val_loss: 1.8980\n",
      "Epoch 27/500\n",
      "110/110 [==============================] - 4s 40ms/step - loss: 1.8434 - val_loss: 1.8856\n",
      "Epoch 28/500\n",
      "110/110 [==============================] - 5s 41ms/step - loss: 1.8486 - val_loss: 1.8914\n",
      "Epoch 29/500\n",
      "110/110 [==============================] - 4s 40ms/step - loss: 1.8215 - val_loss: 1.8852\n",
      "Epoch 30/500\n",
      "110/110 [==============================] - 4s 41ms/step - loss: 1.8311 - val_loss: 1.9104\n",
      "Epoch 31/500\n",
      "110/110 [==============================] - 4s 41ms/step - loss: 1.8420 - val_loss: 1.8847\n",
      "Epoch 32/500\n",
      "110/110 [==============================] - 4s 40ms/step - loss: 1.8313 - val_loss: 1.8851\n",
      "Epoch 33/500\n",
      "110/110 [==============================] - 4s 40ms/step - loss: 1.8066 - val_loss: 1.9025\n",
      "Epoch 34/500\n",
      "110/110 [==============================] - 4s 40ms/step - loss: 1.8177 - val_loss: 1.8843\n",
      "Epoch 35/500\n",
      "110/110 [==============================] - 5s 41ms/step - loss: 1.8451 - val_loss: 1.8850\n",
      "Epoch 36/500\n",
      "110/110 [==============================] - 5s 41ms/step - loss: 1.8222 - val_loss: 1.8839\n",
      "Epoch 37/500\n",
      "110/110 [==============================] - 4s 40ms/step - loss: 1.8596 - val_loss: 1.8424\n",
      "Epoch 38/500\n",
      "110/110 [==============================] - 5s 41ms/step - loss: 1.7256 - val_loss: 1.4828\n",
      "Epoch 39/500\n",
      "110/110 [==============================] - 4s 40ms/step - loss: 1.4215 - val_loss: 1.4072\n",
      "Epoch 40/500\n",
      "110/110 [==============================] - 5s 41ms/step - loss: 1.3262 - val_loss: 1.3490\n",
      "Epoch 41/500\n",
      "110/110 [==============================] - 4s 41ms/step - loss: 1.3046 - val_loss: 1.3275\n",
      "Epoch 42/500\n",
      "110/110 [==============================] - 5s 41ms/step - loss: 1.2363 - val_loss: 1.3126\n",
      "Epoch 43/500\n",
      "110/110 [==============================] - 4s 41ms/step - loss: 1.2314 - val_loss: 1.2742\n",
      "Epoch 44/500\n",
      "110/110 [==============================] - 4s 41ms/step - loss: 1.1990 - val_loss: 1.2331\n",
      "Epoch 45/500\n",
      "110/110 [==============================] - 5s 42ms/step - loss: 1.1570 - val_loss: 1.2024\n",
      "Epoch 46/500\n",
      "110/110 [==============================] - 5s 42ms/step - loss: 1.0959 - val_loss: 1.1688\n",
      "Epoch 47/500\n",
      "110/110 [==============================] - 4s 40ms/step - loss: 1.0897 - val_loss: 1.1338\n",
      "Epoch 48/500\n",
      "110/110 [==============================] - 5s 41ms/step - loss: 1.0297 - val_loss: 1.1133\n",
      "Epoch 49/500\n",
      "110/110 [==============================] - 4s 41ms/step - loss: 0.9876 - val_loss: 1.0981\n",
      "Epoch 50/500\n",
      "110/110 [==============================] - 4s 40ms/step - loss: 0.9788 - val_loss: 1.0824\n",
      "Epoch 51/500\n",
      "110/110 [==============================] - 5s 41ms/step - loss: 0.9617 - val_loss: 1.0754\n",
      "Epoch 52/500\n",
      "110/110 [==============================] - 4s 40ms/step - loss: 0.9265 - val_loss: 1.0680\n",
      "Epoch 53/500\n",
      "110/110 [==============================] - 5s 41ms/step - loss: 0.8912 - val_loss: 1.0363\n",
      "Epoch 54/500\n",
      "110/110 [==============================] - 4s 41ms/step - loss: 0.8898 - val_loss: 1.0409\n",
      "Epoch 55/500\n",
      "110/110 [==============================] - 5s 41ms/step - loss: 0.8542 - val_loss: 1.0251\n",
      "Epoch 56/500\n",
      "110/110 [==============================] - 4s 40ms/step - loss: 0.8436 - val_loss: 1.0145\n",
      "Epoch 57/500\n",
      "110/110 [==============================] - 4s 40ms/step - loss: 0.8162 - val_loss: 1.0162\n",
      "Epoch 58/500\n",
      "110/110 [==============================] - 4s 41ms/step - loss: 0.8247 - val_loss: 1.0064\n",
      "Epoch 59/500\n",
      "110/110 [==============================] - 5s 41ms/step - loss: 0.8072 - val_loss: 0.9677\n",
      "Epoch 60/500\n",
      "110/110 [==============================] - 5s 41ms/step - loss: 0.7694 - val_loss: 0.9593\n",
      "Epoch 61/500\n",
      "110/110 [==============================] - 4s 41ms/step - loss: 0.7531 - val_loss: 0.9543\n",
      "Epoch 62/500\n",
      "110/110 [==============================] - 5s 42ms/step - loss: 0.7314 - val_loss: 0.9591\n",
      "Epoch 63/500\n",
      "110/110 [==============================] - 4s 41ms/step - loss: 0.7328 - val_loss: 0.9459\n",
      "Epoch 64/500\n",
      "110/110 [==============================] - 5s 41ms/step - loss: 0.7356 - val_loss: 0.9284\n",
      "Epoch 65/500\n",
      "110/110 [==============================] - 4s 40ms/step - loss: 0.7043 - val_loss: 0.9288\n",
      "Epoch 66/500\n",
      "110/110 [==============================] - 5s 41ms/step - loss: 0.6872 - val_loss: 0.9153\n",
      "Epoch 67/500\n",
      "110/110 [==============================] - 4s 41ms/step - loss: 0.6752 - val_loss: 0.9164\n",
      "Epoch 68/500\n",
      "110/110 [==============================] - 4s 41ms/step - loss: 0.6648 - val_loss: 0.9129\n",
      "Epoch 69/500\n",
      "110/110 [==============================] - 4s 41ms/step - loss: 0.6555 - val_loss: 0.8963\n",
      "Epoch 70/500\n",
      "110/110 [==============================] - 5s 41ms/step - loss: 0.6251 - val_loss: 0.8986\n",
      "Epoch 71/500\n",
      "110/110 [==============================] - 4s 40ms/step - loss: 0.6061 - val_loss: 0.8861\n",
      "Epoch 72/500\n",
      "110/110 [==============================] - 4s 40ms/step - loss: 0.6088 - val_loss: 0.9053\n",
      "Epoch 73/500\n",
      "110/110 [==============================] - 4s 41ms/step - loss: 0.6122 - val_loss: 0.8781\n",
      "Epoch 74/500\n",
      "110/110 [==============================] - 4s 40ms/step - loss: 0.5948 - val_loss: 0.9051\n",
      "Epoch 75/500\n",
      "110/110 [==============================] - 4s 41ms/step - loss: 0.6004 - val_loss: 0.8757\n",
      "Epoch 76/500\n",
      "110/110 [==============================] - 4s 40ms/step - loss: 0.5541 - val_loss: 0.8825\n",
      "Epoch 77/500\n",
      "110/110 [==============================] - 5s 41ms/step - loss: 0.5518 - val_loss: 0.8652\n",
      "Epoch 78/500\n",
      "110/110 [==============================] - 4s 41ms/step - loss: 0.5376 - val_loss: 0.8633\n",
      "Epoch 79/500\n",
      "110/110 [==============================] - 4s 41ms/step - loss: 0.5181 - val_loss: 0.8711\n",
      "Epoch 80/500\n",
      "110/110 [==============================] - 4s 40ms/step - loss: 0.5214 - val_loss: 0.8599\n",
      "Epoch 81/500\n",
      "110/110 [==============================] - 4s 41ms/step - loss: 0.5165 - val_loss: 0.8519\n",
      "Epoch 82/500\n",
      "110/110 [==============================] - 4s 40ms/step - loss: 0.5053 - val_loss: 0.8668\n",
      "Epoch 83/500\n",
      "110/110 [==============================] - 4s 41ms/step - loss: 0.4908 - val_loss: 0.8607\n",
      "Epoch 84/500\n",
      "110/110 [==============================] - 4s 40ms/step - loss: 0.4827 - val_loss: 0.8551\n",
      "Epoch 85/500\n",
      "110/110 [==============================] - 4s 40ms/step - loss: 0.5006 - val_loss: 0.8821\n",
      "Epoch 86/500\n",
      "110/110 [==============================] - 4s 40ms/step - loss: 0.4707 - val_loss: 0.8498\n",
      "Epoch 87/500\n",
      "110/110 [==============================] - 5s 42ms/step - loss: 0.4680 - val_loss: 0.8523\n",
      "Epoch 88/500\n",
      "110/110 [==============================] - 5s 41ms/step - loss: 0.4952 - val_loss: 0.8416\n",
      "Epoch 89/500\n",
      "110/110 [==============================] - 4s 41ms/step - loss: 0.4589 - val_loss: 0.8390\n",
      "Epoch 90/500\n",
      "110/110 [==============================] - 5s 42ms/step - loss: 0.4469 - val_loss: 0.8378\n",
      "Epoch 91/500\n",
      "110/110 [==============================] - 4s 41ms/step - loss: 0.4320 - val_loss: 0.8430\n",
      "Epoch 92/500\n",
      "110/110 [==============================] - 4s 40ms/step - loss: 0.4136 - val_loss: 0.8529\n",
      "Epoch 93/500\n",
      "110/110 [==============================] - 4s 40ms/step - loss: 0.4292 - val_loss: 0.8490\n",
      "Epoch 94/500\n",
      "110/110 [==============================] - 4s 41ms/step - loss: 0.4295 - val_loss: 0.8376\n",
      "Epoch 95/500\n",
      "110/110 [==============================] - 5s 43ms/step - loss: 0.4083 - val_loss: 0.8488\n",
      "Epoch 96/500\n",
      "110/110 [==============================] - 4s 41ms/step - loss: 0.3915 - val_loss: 0.8448\n",
      "Epoch 97/500\n",
      "110/110 [==============================] - 4s 40ms/step - loss: 0.3997 - val_loss: 0.8538\n",
      "Epoch 98/500\n",
      "110/110 [==============================] - 5s 41ms/step - loss: 0.4068 - val_loss: 0.8420\n",
      "Epoch 99/500\n",
      "110/110 [==============================] - 4s 40ms/step - loss: 0.3816 - val_loss: 0.8424\n",
      "Epoch 100/500\n",
      "110/110 [==============================] - 4s 40ms/step - loss: 0.3812 - val_loss: 0.8380\n",
      "Epoch 101/500\n",
      "110/110 [==============================] - 4s 40ms/step - loss: 0.3561 - val_loss: 0.8588\n",
      "Epoch 102/500\n",
      "110/110 [==============================] - 4s 41ms/step - loss: 0.3866 - val_loss: 0.8373\n",
      "Epoch 103/500\n",
      "110/110 [==============================] - 4s 40ms/step - loss: 0.3402 - val_loss: 0.8436\n",
      "Epoch 104/500\n",
      "110/110 [==============================] - 4s 40ms/step - loss: 0.3429 - val_loss: 0.8461\n",
      "Epoch 105/500\n",
      "110/110 [==============================] - 4s 41ms/step - loss: 0.3571 - val_loss: 0.8469\n",
      "Epoch 106/500\n",
      "110/110 [==============================] - 4s 40ms/step - loss: 0.3342 - val_loss: 0.8626\n",
      "Epoch 107/500\n",
      "110/110 [==============================] - 4s 41ms/step - loss: 0.3646 - val_loss: 0.8351\n",
      "Epoch 108/500\n",
      "110/110 [==============================] - 4s 40ms/step - loss: 0.3253 - val_loss: 0.8504\n",
      "Epoch 109/500\n",
      "110/110 [==============================] - 4s 40ms/step - loss: 0.3233 - val_loss: 0.8644\n",
      "Epoch 110/500\n",
      "110/110 [==============================] - 5s 41ms/step - loss: 0.3276 - val_loss: 0.8402\n",
      "Epoch 111/500\n",
      "110/110 [==============================] - 5s 42ms/step - loss: 0.3325 - val_loss: 0.8528\n",
      "Epoch 112/500\n",
      "110/110 [==============================] - 4s 41ms/step - loss: 0.3278 - val_loss: 0.8708\n",
      "Epoch 113/500\n",
      "110/110 [==============================] - 4s 40ms/step - loss: 0.2966 - val_loss: 0.8547\n",
      "Epoch 114/500\n",
      "110/110 [==============================] - 5s 41ms/step - loss: 0.3206 - val_loss: 0.8744\n",
      "Epoch 115/500\n",
      "110/110 [==============================] - 5s 41ms/step - loss: 0.3204 - val_loss: 0.8497\n",
      "Epoch 116/500\n",
      "110/110 [==============================] - 4s 41ms/step - loss: 0.2994 - val_loss: 0.8578\n",
      "Epoch 117/500\n",
      "110/110 [==============================] - 5s 41ms/step - loss: 0.2805 - val_loss: 0.8487\n"
     ]
    }
   ],
   "source": [
    "earlystopping = keras.callbacks.EarlyStopping(\n",
    "    monitor=\"val_loss\",\n",
    "    min_delta=0,\n",
    "    patience=10,\n",
    "    verbose=0,\n",
    "    mode=\"auto\",\n",
    "    baseline=None,\n",
    "    restore_best_weights=False,\n",
    ")\n",
    "\n",
    "history = model.fit(\n",
    "    X_train, \n",
    "    to_categorical(X_train, num_classes=nb_words),\n",
    "    epochs=500,\n",
    "    validation_data=(X_test, to_categorical(X_test, num_classes=nb_words)),\n",
    "    callbacks=[earlystopping]\n",
    ")"
   ]
  },
  {
   "cell_type": "code",
   "execution_count": 15,
   "metadata": {},
   "outputs": [
    {
     "data": {
      "text/plain": [
       "<matplotlib.legend.Legend at 0x7f5bc819dcc0>"
      ]
     },
     "execution_count": 15,
     "metadata": {},
     "output_type": "execute_result"
    },
    {
     "data": {
      "image/png": "[encoded data removed]",
      "text/plain": [
       "<Figure size 432x288 with 1 Axes>"
      ]
     },
     "metadata": {
      "needs_background": "light"
     },
     "output_type": "display_data"
    }
   ],
   "source": [
    "import matplotlib.pyplot as plt\n",
    "\n",
    "plt.plot(history.history[\"loss\"], label=\"Training Loss\")\n",
    "plt.plot(history.history[\"val_loss\"], label=\"Validation Loss\")\n",
    "plt.legend()"
   ]
  },
  {
   "cell_type": "code",
   "execution_count": 30,
   "metadata": {},
   "outputs": [
    {
     "data": {
      "text/plain": [
       "(['i felt pain in my left leg'],\n",
       " array([[  0,   0,   0,   2, 104,  11,  10,   6, 105,  95]], dtype=int32))"
      ]
     },
     "execution_count": 30,
     "metadata": {},
     "output_type": "execute_result"
    }
   ],
   "source": [
    "text = ['I felt pain in my left leg']\n",
    "tokenized = tokenizer.texts_to_sequences(text)\n",
    "tokenized = sequence.pad_sequences(tokenized, maxlen=max_seq_len)\n",
    "tokenizer.sequences_to_texts(tokenized), tokenized"
   ]
  },
  {
   "cell_type": "code",
   "execution_count": 31,
   "metadata": {},
   "outputs": [
    {
     "data": {
      "text/plain": [
       "['had of the of of my legs']"
      ]
     },
     "execution_count": 31,
     "metadata": {},
     "output_type": "execute_result"
    }
   ],
   "source": [
    "import numpy as np\n",
    "predicted = [np.argmax(i) for i in model.predict(tokenized)[0]]\n",
    "tokenizer.sequences_to_texts([predicted])"
   ]
  },
  {
   "cell_type": "code",
   "execution_count": 32,
   "metadata": {},
   "outputs": [
    {
     "data": {
      "text/plain": [
       "[0, 0, 0, 20, 8, 4, 8, 8, 6, 69]"
      ]
     },
     "execution_count": 32,
     "metadata": {},
     "output_type": "execute_result"
    }
   ],
   "source": [
    "predicted"
   ]
  },
  {
   "cell_type": "markdown",
   "metadata": {},
   "source": [
    "# Get encoder"
   ]
  },
  {
   "cell_type": "code",
   "execution_count": 41,
   "metadata": {},
   "outputs": [
    {
     "name": "stdout",
     "output_type": "stream",
     "text": [
      "WARNING:tensorflow:5 out of the last 11 calls to <function Model.make_predict_function.<locals>.predict_function at 0x7f5ad03caae8> triggered tf.function retracing. Tracing is expensive and the excessive number of tracings could be due to (1) creating @tf.function repeatedly in a loop, (2) passing tensors with different shapes, (3) passing Python objects instead of tensors. For (1), please define your @tf.function outside of the loop. For (2), @tf.function has experimental_relax_shapes=True option that relaxes argument shapes that can avoid unnecessary retracing. For (3), please refer to https://www.tensorflow.org/guide/function#controlling_retracing and https://www.tensorflow.org/api_docs/python/tf/function for  more details.\n"
     ]
    },
    {
     "data": {
      "text/plain": [
       "(3, 200)"
      ]
     },
     "execution_count": 41,
     "metadata": {},
     "output_type": "execute_result"
    }
   ],
   "source": [
    "encoder = keras.Sequential(model.layers[:5])\n",
    "encoder.predict(tokenized).shape"
   ]
  },
  {
   "cell_type": "code",
   "execution_count": 42,
   "metadata": {},
   "outputs": [
    {
     "name": "stdout",
     "output_type": "stream",
     "text": [
      "Model: \"sequential_2\"\n",
      "_________________________________________________________________\n",
      "Layer (type)                 Output Shape              Param #   \n",
      "=================================================================\n",
      "embedding_1 (Embedding)      (None, 10, 300)           900000    \n",
      "_________________________________________________________________\n",
      "bidirectional_1 (Bidirection (None, 512)               1140736   \n",
      "_________________________________________________________________\n",
      "dense_4 (Dense)              (None, 256)               131328    \n",
      "_________________________________________________________________\n",
      "dense_5 (Dense)              (None, 200)               51400     \n",
      "=================================================================\n",
      "Total params: 2,223,464\n",
      "Trainable params: 1,323,464\n",
      "Non-trainable params: 900,000\n",
      "_________________________________________________________________\n"
     ]
    }
   ],
   "source": [
    "encoder.summary()"
   ]
  },
  {
   "cell_type": "code",
   "execution_count": 43,
   "metadata": {},
   "outputs": [],
   "source": [
    "encoder.save('../../models/encoder/encoder_cadec.h5')"
   ]
  },
  {
   "cell_type": "code",
   "execution_count": 44,
   "metadata": {},
   "outputs": [
    {
     "name": "stdout",
     "output_type": "stream",
     "text": [
      "WARNING:tensorflow:No training configuration found in the save file, so the model was *not* compiled. Compile it manually.\n"
     ]
    }
   ],
   "source": [
    "encoder_loaded = keras.models.load_model('../../models/encoder/encoder_cadec.h5')"
   ]
  },
  {
   "cell_type": "code",
   "execution_count": 45,
   "metadata": {},
   "outputs": [
    {
     "name": "stdout",
     "output_type": "stream",
     "text": [
      "WARNING:tensorflow:6 out of the last 12 calls to <function Model.make_predict_function.<locals>.predict_function at 0x7f5a7b01b7b8> triggered tf.function retracing. Tracing is expensive and the excessive number of tracings could be due to (1) creating @tf.function repeatedly in a loop, (2) passing tensors with different shapes, (3) passing Python objects instead of tensors. For (1), please define your @tf.function outside of the loop. For (2), @tf.function has experimental_relax_shapes=True option that relaxes argument shapes that can avoid unnecessary retracing. For (3), please refer to https://www.tensorflow.org/guide/function#controlling_retracing and https://www.tensorflow.org/api_docs/python/tf/function for  more details.\n"
     ]
    },
    {
     "data": {
      "text/plain": [
       "(3, 200)"
      ]
     },
     "execution_count": 45,
     "metadata": {},
     "output_type": "execute_result"
    }
   ],
   "source": [
    "encoder_loaded.predict(tokenized).shape"
   ]
  },
  {
   "cell_type": "code",
   "execution_count": 46,
   "metadata": {},
   "outputs": [
    {
     "data": {
      "text/html": [
       "<div>\n",
       "<style scoped>\n",
       "    .dataframe tbody tr th:only-of-type {\n",
       "        vertical-align: middle;\n",
       "    }\n",
       "\n",
       "    .dataframe tbody tr th {\n",
       "        vertical-align: top;\n",
       "    }\n",
       "\n",
       "    .dataframe thead th {\n",
       "        text-align: right;\n",
       "    }\n",
       "</style>\n",
       "<table border=\"1\" class=\"dataframe\">\n",
       "  <thead>\n",
       "    <tr style=\"text-align: right;\">\n",
       "      <th></th>\n",
       "      <th>0</th>\n",
       "    </tr>\n",
       "  </thead>\n",
       "  <tbody>\n",
       "    <tr>\n",
       "      <th>0</th>\n",
       "      <td>sick of this pain my back yeahh</td>\n",
       "    </tr>\n",
       "    <tr>\n",
       "      <th>1</th>\n",
       "      <td>this is second message</td>\n",
       "    </tr>\n",
       "    <tr>\n",
       "      <th>2</th>\n",
       "      <td>this is third message</td>\n",
       "    </tr>\n",
       "  </tbody>\n",
       "</table>\n",
       "</div>"
      ],
      "text/plain": [
       "                                 0\n",
       "0  sick of this pain my back yeahh\n",
       "1           this is second message\n",
       "2            this is third message"
      ]
     },
     "execution_count": 46,
     "metadata": {},
     "output_type": "execute_result"
    }
   ],
   "source": [
    "text = pd.DataFrame([\n",
    "    'sick of this pain my back yeahh',\n",
    "    'this is second message',\n",
    "    'this is third message'\n",
    "])\n",
    "text"
   ]
  },
  {
   "cell_type": "code",
   "execution_count": 47,
   "metadata": {},
   "outputs": [
    {
     "name": "stdout",
     "output_type": "stream",
     "text": [
      "WARNING:tensorflow:7 out of the last 13 calls to <function Model.make_predict_function.<locals>.predict_function at 0x7f5a7b01b7b8> triggered tf.function retracing. Tracing is expensive and the excessive number of tracings could be due to (1) creating @tf.function repeatedly in a loop, (2) passing tensors with different shapes, (3) passing Python objects instead of tensors. For (1), please define your @tf.function outside of the loop. For (2), @tf.function has experimental_relax_shapes=True option that relaxes argument shapes that can avoid unnecessary retracing. For (3), please refer to https://www.tensorflow.org/guide/function#controlling_retracing and https://www.tensorflow.org/api_docs/python/tf/function for  more details.\n"
     ]
    },
    {
     "data": {
      "text/html": [
       "<div>\n",
       "<style scoped>\n",
       "    .dataframe tbody tr th:only-of-type {\n",
       "        vertical-align: middle;\n",
       "    }\n",
       "\n",
       "    .dataframe tbody tr th {\n",
       "        vertical-align: top;\n",
       "    }\n",
       "\n",
       "    .dataframe thead th {\n",
       "        text-align: right;\n",
       "    }\n",
       "</style>\n",
       "<table border=\"1\" class=\"dataframe\">\n",
       "  <thead>\n",
       "    <tr style=\"text-align: right;\">\n",
       "      <th></th>\n",
       "      <th>0</th>\n",
       "      <th>vec</th>\n",
       "    </tr>\n",
       "  </thead>\n",
       "  <tbody>\n",
       "    <tr>\n",
       "      <th>0</th>\n",
       "      <td>sick of this pain my back yeahh</td>\n",
       "      <td>[0.0, 0.0, 2.0932157, 0.0, 0.0, 0.9086473, 0.3...</td>\n",
       "    </tr>\n",
       "    <tr>\n",
       "      <th>1</th>\n",
       "      <td>this is second message</td>\n",
       "      <td>[0.0, 0.0, 1.5793325, 0.0, 0.0, 0.0, 2.0198689...</td>\n",
       "    </tr>\n",
       "    <tr>\n",
       "      <th>2</th>\n",
       "      <td>this is third message</td>\n",
       "      <td>[0.0, 0.0, 1.5667237, 0.0, 0.0, 0.0, 2.2308083...</td>\n",
       "    </tr>\n",
       "  </tbody>\n",
       "</table>\n",
       "</div>"
      ],
      "text/plain": [
       "                                 0  \\\n",
       "0  sick of this pain my back yeahh   \n",
       "1           this is second message   \n",
       "2            this is third message   \n",
       "\n",
       "                                                 vec  \n",
       "0  [0.0, 0.0, 2.0932157, 0.0, 0.0, 0.9086473, 0.3...  \n",
       "1  [0.0, 0.0, 1.5793325, 0.0, 0.0, 0.0, 2.0198689...  \n",
       "2  [0.0, 0.0, 1.5667237, 0.0, 0.0, 0.0, 2.2308083...  "
      ]
     },
     "execution_count": 47,
     "metadata": {},
     "output_type": "execute_result"
    }
   ],
   "source": [
    "\n",
    "tokenized = tokenizer.texts_to_sequences(text[0])\n",
    "tokenized = sequence.pad_sequences(tokenized, maxlen=max_seq_len)\n",
    "#pd.DataFrame()\n",
    "text['vec'] = tokenizer.texts_to_sequences(text[0])\n",
    "#text['vec'] = text['vec'].apply(lambda toks: encoder_loaded.predict(toks).shape)\n",
    "text['vec'] = sequence.pad_sequences(text['vec'], maxlen=max_seq_len).tolist()\n",
    "text['vec'] = text['vec'].apply(lambda seq: encoder_loaded.predict([seq])[0])\n",
    "text"
   ]
  },
  {
   "cell_type": "code",
   "execution_count": 48,
   "metadata": {},
   "outputs": [
    {
     "data": {
      "text/plain": [
       "(200,)"
      ]
     },
     "execution_count": 48,
     "metadata": {},
     "output_type": "execute_result"
    }
   ],
   "source": [
    "text['vec'].iloc[0].shape"
   ]
  },
  {
   "cell_type": "code",
   "execution_count": null,
   "metadata": {},
   "outputs": [],
   "source": []
  },
  {
   "cell_type": "code",
   "execution_count": null,
   "metadata": {},
   "outputs": [],
   "source": []
  }
 ],
 "metadata": {
  "kernelspec": {
   "display_name": "Python 3",
   "language": "python",
   "name": "python3"
  },
  "language_info": {
   "codemirror_mode": {
    "name": "ipython",
    "version": 3
   },
   "file_extension": ".py",
   "mimetype": "text/x-python",
   "name": "python",
   "nbconvert_exporter": "python",
   "pygments_lexer": "ipython3",
   "version": "3.6.8"
  }
 },
 "nbformat": 4,
 "nbformat_minor": 4
}
