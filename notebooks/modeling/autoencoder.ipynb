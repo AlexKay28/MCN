{
 "cells": [
  {
   "cell_type": "code",
   "execution_count": 27,
   "metadata": {},
   "outputs": [],
   "source": [
    "import numpy as np\n",
    "import pandas as pd\n",
    "\n",
    "from gensim.models import FastText\n",
    "from gensim.test.utils import common_texts\n",
    "from gensim.utils import tokenize\n",
    "\n",
    "import tensorflow as tf\n",
    "from tensorflow.keras.callbacks import EarlyStopping\n",
    "from tensorflow.keras.preprocessing import sequence"
   ]
  },
  {
   "cell_type": "markdown",
   "metadata": {},
   "source": [
    "# PREPARE DATA TO AUTOENCODER"
   ]
  },
  {
   "cell_type": "code",
   "execution_count": 2,
   "metadata": {},
   "outputs": [],
   "source": [
    "train = pd.read_csv('../../data/interim/cadec/train.csv')\n",
    "test = pd.read_csv('../../data/interim/cadec/test.csv')"
   ]
  },
  {
   "cell_type": "code",
   "execution_count": 3,
   "metadata": {},
   "outputs": [],
   "source": [
    "sentences = pd.read_csv('../../data/interim/cadec/test.csv')['text'].apply(\n",
    "                lambda x: x.lower().split('<SENT>')).explode().apply(lambda x: list(tokenize(x))).to_list()\n",
    "\n",
    "max_seq_len = 10\n",
    "embed_dim = 150\n",
    "nb_words = 3000\n",
    "\n",
    "ftmodel = FastText(size=embed_dim, window=5, min_count=1)\n",
    "ftmodel.build_vocab(sentences=sentences)\n",
    "ftmodel.train(sentences=sentences, total_examples=len(sentences), epochs=10)"
   ]
  },
  {
   "cell_type": "code",
   "execution_count": 4,
   "metadata": {},
   "outputs": [
    {
     "name": "stderr",
     "output_type": "stream",
     "text": [
      "/home/kaigorodov/.local/lib/python3.6/site-packages/ipykernel_launcher.py:16: DeprecationWarning: Call to deprecated `__getitem__` (Method will be removed in 4.0.0, use self.wv.__getitem__() instead).\n",
      "  app.launch_new_instance()\n"
     ]
    }
   ],
   "source": [
    "tokenizer = tf.keras.preprocessing.text.Tokenizer(\n",
    "    num_words=nb_words,\n",
    "    filters='!\"#$%&()*+,-./:;<=>?@[\\\\]^_`{|}~\\t\\n',\n",
    "    lower=True, split=' ', char_level=False\n",
    ")\n",
    "\n",
    "tokenizer.fit_on_texts(sentences)\n",
    "word_index = tokenizer.word_index\n",
    "\n",
    "nb_words = min(nb_words, len(word_index)+1)\n",
    "embedding_matrix = np.zeros((nb_words, embed_dim))\n",
    "\n",
    "for word, i in word_index.items():\n",
    "    if i >= nb_words:\n",
    "        continue\n",
    "    embedding_vector = ftmodel[word]\n",
    "    if (embedding_vector is not None) and len(embedding_vector) > 0:\n",
    "        embedding_matrix[i] = embedding_vector\n",
    "        \n",
    "word_seq_train = tokenizer.texts_to_sequences(train['term'])\n",
    "word_seq_test = tokenizer.texts_to_sequences(test['term'])\n",
    "\n",
    "X_train = sequence.pad_sequences(word_seq_train, maxlen=max_seq_len)\n",
    "X_test = sequence.pad_sequences(word_seq_test, maxlen=max_seq_len)\n",
    "\n",
    "labels = pd.read_csv('../../data/interim/meddra_codes_terms_synonims.csv')\n",
    "labels = labels['CODE']\n",
    "meddra_labels = {v:k for k, v in enumerate(labels.unique())}\n",
    "\n",
    "y_train = train['code'].apply(lambda x: meddra_labels[x]).to_numpy()\n",
    "y_test = test['code'].apply(lambda x: meddra_labels[x]).to_numpy()\n",
    "\n",
    "number_of_classes = labels.unique().shape[0]"
   ]
  },
  {
   "cell_type": "code",
   "execution_count": 5,
   "metadata": {},
   "outputs": [
    {
     "data": {
      "text/plain": [
       "((3520, 10), (881, 10))"
      ]
     },
     "execution_count": 5,
     "metadata": {},
     "output_type": "execute_result"
    }
   ],
   "source": [
    "X_train.shape, X_test.shape"
   ]
  },
  {
   "cell_type": "markdown",
   "metadata": {},
   "source": [
    "# MODEL\n",
    "\n"
   ]
  },
  {
   "cell_type": "code",
   "execution_count": 11,
   "metadata": {
    "scrolled": false
   },
   "outputs": [
    {
     "name": "stdout",
     "output_type": "stream",
     "text": [
      "Model: \"model_1\"\n",
      "_________________________________________________________________\n",
      "Layer (type)                 Output Shape              Param #   \n",
      "=================================================================\n",
      "input_2 (InputLayer)         [(None, 10)]              0         \n",
      "_________________________________________________________________\n",
      "embedding_1 (Embedding)      (None, 10, 150)           450000    \n",
      "_________________________________________________________________\n",
      "bidirectional_1 (Bidirection (None, 512)               833536    \n",
      "_________________________________________________________________\n",
      "repeat_vector_1 (RepeatVecto (None, 10, 512)           0         \n",
      "_________________________________________________________________\n",
      "lstm_3 (LSTM)                (None, 10, 256)           787456    \n",
      "_________________________________________________________________\n",
      "time_distributed_1 (TimeDist (None, 10, 3000)          771000    \n",
      "=================================================================\n",
      "Total params: 2,841,992\n",
      "Trainable params: 2,391,992\n",
      "Non-trainable params: 450,000\n",
      "_________________________________________________________________\n"
     ]
    }
   ],
   "source": [
    "import keras\n",
    "from keras import layers, Model\n",
    "from keras.utils import to_categorical \n",
    "\n",
    "\n",
    "vocab_size = nb_words\n",
    "src_txt_length = max_seq_len\n",
    "sum_txt_length = max_seq_len\n",
    "\n",
    "# encoder input model\n",
    "inputs = layers.Input(shape=(src_txt_length,))\n",
    "encoder1 = layers.Embedding(nb_words, embed_dim, input_length=max_seq_len, \n",
    "                        weights=[embedding_matrix],trainable=False)(inputs)\n",
    "encoder2 = layers.Bidirectional(layers.LSTM(256))(encoder1)\n",
    "encoder3 = layers.RepeatVector(sum_txt_length)(encoder2)\n",
    "\n",
    "# decoder output model\n",
    "decoder1 = layers.LSTM(256, return_sequences=True)(encoder3)\n",
    "outputs = layers.TimeDistributed(layers.Dense(vocab_size, activation='softmax'))(decoder1)\n",
    "\n",
    "# tie it together\n",
    "model = Model(inputs=inputs, outputs=outputs)\n",
    "\n",
    "\n",
    "optimizer = keras.optimizers.Adam(learning_rate=0.001,)\n",
    "model.compile(loss='categorical_crossentropy', optimizer=optimizer)\n",
    "model.summary()"
   ]
  },
  {
   "cell_type": "code",
   "execution_count": 16,
   "metadata": {},
   "outputs": [
    {
     "name": "stdout",
     "output_type": "stream",
     "text": [
      "Epoch 1/30\n",
      "20/20 [==============================] - 3s 138ms/step - loss: 1.6772 - val_loss: 1.7412\n",
      "Epoch 2/30\n",
      "20/20 [==============================] - 2s 126ms/step - loss: 1.6520 - val_loss: 1.7250\n",
      "Epoch 3/30\n",
      "20/20 [==============================] - 3s 132ms/step - loss: 1.6337 - val_loss: 1.7004\n",
      "Epoch 4/30\n",
      "20/20 [==============================] - 3s 133ms/step - loss: 1.6059 - val_loss: 1.6818\n",
      "Epoch 5/30\n",
      "20/20 [==============================] - 3s 130ms/step - loss: 1.5951 - val_loss: 1.6743\n",
      "Epoch 6/30\n",
      "20/20 [==============================] - 3s 128ms/step - loss: 1.5793 - val_loss: 1.6546\n",
      "Epoch 7/30\n",
      "20/20 [==============================] - 2s 123ms/step - loss: 1.6299 - val_loss: 1.6632\n",
      "Epoch 8/30\n",
      "20/20 [==============================] - 2s 124ms/step - loss: 1.5918 - val_loss: 1.6560\n",
      "Epoch 9/30\n",
      "20/20 [==============================] - 3s 132ms/step - loss: 1.5652 - val_loss: 1.6285\n",
      "Epoch 10/30\n",
      "20/20 [==============================] - 2s 126ms/step - loss: 1.5519 - val_loss: 1.6222\n",
      "Epoch 11/30\n",
      "20/20 [==============================] - 2s 119ms/step - loss: 1.5412 - val_loss: 1.6118\n",
      "Epoch 12/30\n",
      "20/20 [==============================] - 2s 122ms/step - loss: 1.5338 - val_loss: 1.6119\n",
      "Epoch 13/30\n",
      "20/20 [==============================] - 2s 122ms/step - loss: 1.5178 - val_loss: 1.6531\n",
      "Epoch 14/30\n",
      "20/20 [==============================] - 2s 125ms/step - loss: 1.5194 - val_loss: 1.5890\n",
      "Epoch 15/30\n",
      "20/20 [==============================] - 3s 128ms/step - loss: 1.4931 - val_loss: 1.5787\n",
      "Epoch 16/30\n",
      "20/20 [==============================] - 2s 119ms/step - loss: 1.4825 - val_loss: 1.5743\n",
      "Epoch 17/30\n",
      "20/20 [==============================] - 3s 132ms/step - loss: 1.4777 - val_loss: 1.5635\n",
      "Epoch 18/30\n",
      "20/20 [==============================] - 3s 135ms/step - loss: 1.4714 - val_loss: 1.5616\n",
      "Epoch 19/30\n",
      "20/20 [==============================] - 3s 152ms/step - loss: 1.4696 - val_loss: 1.5549\n",
      "Epoch 20/30\n",
      "20/20 [==============================] - 3s 134ms/step - loss: 1.4678 - val_loss: 1.5585\n",
      "Epoch 21/30\n",
      "20/20 [==============================] - 3s 132ms/step - loss: 1.4611 - val_loss: 1.5631\n",
      "Epoch 22/30\n",
      "20/20 [==============================] - 3s 136ms/step - loss: 1.4556 - val_loss: 1.5445\n",
      "Epoch 23/30\n",
      "20/20 [==============================] - 3s 129ms/step - loss: 1.4879 - val_loss: 1.5728\n",
      "Epoch 24/30\n",
      "20/20 [==============================] - 2s 126ms/step - loss: 1.4702 - val_loss: 1.5697\n",
      "Epoch 25/30\n",
      "20/20 [==============================] - 3s 131ms/step - loss: 1.4625 - val_loss: 1.5739\n",
      "Epoch 26/30\n",
      "20/20 [==============================] - 3s 130ms/step - loss: 1.4611 - val_loss: 1.5357\n",
      "Epoch 27/30\n",
      "20/20 [==============================] - 3s 131ms/step - loss: 1.4488 - val_loss: 1.5611\n",
      "Epoch 28/30\n",
      "20/20 [==============================] - 3s 130ms/step - loss: 1.4422 - val_loss: 1.5320\n",
      "Epoch 29/30\n",
      "20/20 [==============================] - 2s 122ms/step - loss: 1.4378 - val_loss: 1.6079\n",
      "Epoch 30/30\n",
      "20/20 [==============================] - 2s 123ms/step - loss: 1.4424 - val_loss: 1.5175\n"
     ]
    }
   ],
   "source": [
    "earlystopping = keras.callbacks.EarlyStopping(\n",
    "    monitor=\"val_loss\",\n",
    "    min_delta=0,\n",
    "    patience=5,\n",
    "    verbose=0,\n",
    "    mode=\"auto\",\n",
    "    baseline=None,\n",
    "    restore_best_weights=False,\n",
    ")\n",
    "\n",
    "history = model.fit(\n",
    "    X_train, \n",
    "    to_categorical(X_train, num_classes=nb_words),\n",
    "    epochs=30,\n",
    "    steps_per_epoch=20,\n",
    "    validation_data=(X_test, to_categorical(X_test, num_classes=nb_words)),\n",
    "    callbacks=[earlystopping]\n",
    ")"
   ]
  },
  {
   "cell_type": "code",
   "execution_count": 17,
   "metadata": {},
   "outputs": [
    {
     "data": {
      "text/plain": [
       "<matplotlib.legend.Legend at 0x7f126e87dc18>"
      ]
     },
     "execution_count": 17,
     "metadata": {},
     "output_type": "execute_result"
    },
    {
     "data": {
      "image/png": "[encoded data removed]",
      "text/plain": [
       "<Figure size 432x288 with 1 Axes>"
      ]
     },
     "metadata": {
      "needs_background": "light"
     },
     "output_type": "display_data"
    }
   ],
   "source": [
    "import matplotlib.pyplot as plt\n",
    "\n",
    "plt.plot(history.history[\"loss\"], label=\"Training Loss\")\n",
    "plt.plot(history.history[\"val_loss\"], label=\"Validation Loss\")\n",
    "plt.legend()"
   ]
  },
  {
   "cell_type": "code",
   "execution_count": 18,
   "metadata": {},
   "outputs": [
    {
     "data": {
      "text/plain": [
       "(['sick of this pain my back'],\n",
       " array([[  0,   0,   0,   0, 666,   8,  16,  11,   6,  30]], dtype=int32))"
      ]
     },
     "execution_count": 18,
     "metadata": {},
     "output_type": "execute_result"
    }
   ],
   "source": [
    "text = ['sick of this pain my back']\n",
    "tokenized = tokenizer.texts_to_sequences(text)\n",
    "tokenized = sequence.pad_sequences(tokenized, maxlen=max_seq_len)\n",
    "tokenizer.sequences_to_texts(tokenized), tokenized"
   ]
  },
  {
   "cell_type": "code",
   "execution_count": 19,
   "metadata": {},
   "outputs": [
    {
     "data": {
      "text/plain": [
       "['pain pain pain pain pain']"
      ]
     },
     "execution_count": 19,
     "metadata": {},
     "output_type": "execute_result"
    }
   ],
   "source": [
    "import numpy as np\n",
    "predicted = [np.argmax(i) for i in model.predict(tokenized)[0]]\n",
    "tokenizer.sequences_to_texts([predicted])"
   ]
  },
  {
   "cell_type": "markdown",
   "metadata": {},
   "source": [
    "# Get encoder"
   ]
  },
  {
   "cell_type": "code",
   "execution_count": 26,
   "metadata": {},
   "outputs": [
    {
     "name": "stdout",
     "output_type": "stream",
     "text": [
      "WARNING:tensorflow:6 out of the last 8 calls to <function Model.make_predict_function.<locals>.predict_function at 0x7f0f9ef56d90> triggered tf.function retracing. Tracing is expensive and the excessive number of tracings could be due to (1) creating @tf.function repeatedly in a loop, (2) passing tensors with different shapes, (3) passing Python objects instead of tensors. For (1), please define your @tf.function outside of the loop. For (2), @tf.function has experimental_relax_shapes=True option that relaxes argument shapes that can avoid unnecessary retracing. For (3), please refer to https://www.tensorflow.org/guide/function#controlling_retracing and https://www.tensorflow.org/api_docs/python/tf/function for  more details.\n"
     ]
    },
    {
     "data": {
      "text/plain": [
       "(1, 10, 512)"
      ]
     },
     "execution_count": 26,
     "metadata": {},
     "output_type": "execute_result"
    }
   ],
   "source": [
    "encoder = keras.Sequential(model.layers[:4])\n",
    "encoder.predict(tokenized).shape"
   ]
  },
  {
   "cell_type": "code",
   "execution_count": 31,
   "metadata": {},
   "outputs": [],
   "source": [
    "encoder.save('../../models/encoder_cadec.h5')"
   ]
  },
  {
   "cell_type": "code",
   "execution_count": 32,
   "metadata": {},
   "outputs": [
    {
     "name": "stdout",
     "output_type": "stream",
     "text": [
      "WARNING:tensorflow:No training configuration found in the save file, so the model was *not* compiled. Compile it manually.\n"
     ]
    }
   ],
   "source": [
    "encoder_loaded = keras.models.load_model('../../models/encoder_cadec.h5')"
   ]
  },
  {
   "cell_type": "code",
   "execution_count": 33,
   "metadata": {},
   "outputs": [
    {
     "name": "stdout",
     "output_type": "stream",
     "text": [
      "WARNING:tensorflow:8 out of the last 10 calls to <function Model.make_predict_function.<locals>.predict_function at 0x7f0f9e4efc80> triggered tf.function retracing. Tracing is expensive and the excessive number of tracings could be due to (1) creating @tf.function repeatedly in a loop, (2) passing tensors with different shapes, (3) passing Python objects instead of tensors. For (1), please define your @tf.function outside of the loop. For (2), @tf.function has experimental_relax_shapes=True option that relaxes argument shapes that can avoid unnecessary retracing. For (3), please refer to https://www.tensorflow.org/guide/function#controlling_retracing and https://www.tensorflow.org/api_docs/python/tf/function for  more details.\n"
     ]
    },
    {
     "data": {
      "text/plain": [
       "(1, 10, 512)"
      ]
     },
     "execution_count": 33,
     "metadata": {},
     "output_type": "execute_result"
    }
   ],
   "source": [
    "encoder_loaded.predict(tokenized).shape"
   ]
  },
  {
   "cell_type": "code",
   "execution_count": null,
   "metadata": {},
   "outputs": [],
   "source": []
  },
  {
   "cell_type": "code",
   "execution_count": null,
   "metadata": {},
   "outputs": [],
   "source": []
  }
 ],
 "metadata": {
  "kernelspec": {
   "display_name": "Python 3",
   "language": "python",
   "name": "python3"
  },
  "language_info": {
   "codemirror_mode": {
    "name": "ipython",
    "version": 3
   },
   "file_extension": ".py",
   "mimetype": "text/x-python",
   "name": "python",
   "nbconvert_exporter": "python",
   "pygments_lexer": "ipython3",
   "version": "3.6.8"
  }
 },
 "nbformat": 4,
 "nbformat_minor": 4
}
