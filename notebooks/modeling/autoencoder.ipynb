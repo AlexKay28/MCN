{
 "cells": [
  {
   "cell_type": "code",
   "execution_count": 1,
   "metadata": {},
   "outputs": [],
   "source": [
    "import numpy as np\n",
    "import pandas as pd\n",
    "\n",
    "from gensim.models import FastText\n",
    "from gensim.test.utils import common_texts\n",
    "from gensim.utils import tokenize\n",
    "\n",
    "import tensorflow as tf\n",
    "from tensorflow.keras.callbacks import EarlyStopping\n",
    "from tensorflow.keras.preprocessing import sequence"
   ]
  },
  {
   "cell_type": "markdown",
   "metadata": {},
   "source": [
    "# PREPARE DATA TO AUTOENCODER"
   ]
  },
  {
   "cell_type": "code",
   "execution_count": 2,
   "metadata": {},
   "outputs": [],
   "source": [
    "train = pd.read_csv('../../data/interim/cadec/train.csv')\n",
    "test = pd.read_csv('../../data/interim/cadec/test.csv')"
   ]
  },
  {
   "cell_type": "code",
   "execution_count": 3,
   "metadata": {},
   "outputs": [],
   "source": [
    "sentences = pd.read_csv('../../data/interim/cadec/test.csv')['text'].apply(\n",
    "                lambda x: x.lower().split('<SENT>')).explode().apply(lambda x: list(tokenize(x))).to_list()\n",
    "\n",
    "max_seq_len = 10\n",
    "embed_dim = 150\n",
    "nb_words = 3000\n",
    "\n",
    "ftmodel = FastText(size=embed_dim, window=5, min_count=1)\n",
    "ftmodel.build_vocab(sentences=sentences)\n",
    "ftmodel.train(sentences=sentences, total_examples=len(sentences), epochs=10)"
   ]
  },
  {
   "cell_type": "code",
   "execution_count": 4,
   "metadata": {},
   "outputs": [
    {
     "name": "stderr",
     "output_type": "stream",
     "text": [
      "/home/kaigorodov/.local/lib/python3.6/site-packages/ipykernel_launcher.py:16: DeprecationWarning: Call to deprecated `__getitem__` (Method will be removed in 4.0.0, use self.wv.__getitem__() instead).\n",
      "  app.launch_new_instance()\n"
     ]
    }
   ],
   "source": [
    "tokenizer = tf.keras.preprocessing.text.Tokenizer(\n",
    "    num_words=nb_words,\n",
    "    filters='!\"#$%&()*+,-./:;<=>?@[\\\\]^_`{|}~\\t\\n',\n",
    "    lower=True, split=' ', char_level=False\n",
    ")\n",
    "\n",
    "tokenizer.fit_on_texts(sentences)\n",
    "word_index = tokenizer.word_index\n",
    "\n",
    "nb_words = min(nb_words, len(word_index)+1)\n",
    "embedding_matrix = np.zeros((nb_words, embed_dim))\n",
    "\n",
    "for word, i in word_index.items():\n",
    "    if i >= nb_words:\n",
    "        continue\n",
    "    embedding_vector = ftmodel[word]\n",
    "    if (embedding_vector is not None) and len(embedding_vector) > 0:\n",
    "        embedding_matrix[i] = embedding_vector\n",
    "        \n",
    "word_seq_train = tokenizer.texts_to_sequences(train['term'])\n",
    "word_seq_test = tokenizer.texts_to_sequences(test['term'])\n",
    "\n",
    "X_train = sequence.pad_sequences(word_seq_train, maxlen=max_seq_len)\n",
    "X_test = sequence.pad_sequences(word_seq_test, maxlen=max_seq_len)\n",
    "\n",
    "labels = pd.read_csv('../../data/interim/meddra_codes_terms_synonims.csv')\n",
    "labels = labels['CODE']\n",
    "meddra_labels = {v:k for k, v in enumerate(labels.unique())}\n",
    "\n",
    "y_train = train['code'].apply(lambda x: meddra_labels[x]).to_numpy()\n",
    "y_test = test['code'].apply(lambda x: meddra_labels[x]).to_numpy()\n",
    "\n",
    "number_of_classes = labels.unique().shape[0]"
   ]
  },
  {
   "cell_type": "code",
   "execution_count": 5,
   "metadata": {},
   "outputs": [],
   "source": [
    "import pickle\n",
    "\n",
    "with open('../../models/encoder/tokenizer.pickle', 'wb') as tok_bin:\n",
    "    pickle.dump(tokenizer, tok_bin, pickle.HIGHEST_PROTOCOL)\n",
    "with open('../../models/encoder/tokenizer.pickle', 'rb') as f:\n",
    "    tokenizer = pickle.load(f)"
   ]
  },
  {
   "cell_type": "code",
   "execution_count": 6,
   "metadata": {},
   "outputs": [
    {
     "data": {
      "text/plain": [
       "((3520, 10), (881, 10))"
      ]
     },
     "execution_count": 6,
     "metadata": {},
     "output_type": "execute_result"
    }
   ],
   "source": [
    "X_train.shape, X_test.shape"
   ]
  },
  {
   "cell_type": "markdown",
   "metadata": {},
   "source": [
    "# MODEL\n",
    "\n"
   ]
  },
  {
   "cell_type": "code",
   "execution_count": 24,
   "metadata": {
    "scrolled": false
   },
   "outputs": [
    {
     "name": "stdout",
     "output_type": "stream",
     "text": [
      "Model: \"model_3\"\n",
      "_________________________________________________________________\n",
      "Layer (type)                 Output Shape              Param #   \n",
      "=================================================================\n",
      "input_4 (InputLayer)         [(None, 10)]              0         \n",
      "_________________________________________________________________\n",
      "embedding_3 (Embedding)      (None, 10, 150)           450000    \n",
      "_________________________________________________________________\n",
      "bidirectional_3 (Bidirection (None, 512)               833536    \n",
      "_________________________________________________________________\n",
      "dense_6 (Dense)              (None, 300)               153900    \n",
      "_________________________________________________________________\n",
      "repeat_vector_3 (RepeatVecto (None, 10, 300)           0         \n",
      "_________________________________________________________________\n",
      "lstm_7 (LSTM)                (None, 10, 256)           570368    \n",
      "_________________________________________________________________\n",
      "time_distributed_3 (TimeDist (None, 10, 3000)          771000    \n",
      "=================================================================\n",
      "Total params: 2,778,804\n",
      "Trainable params: 2,328,804\n",
      "Non-trainable params: 450,000\n",
      "_________________________________________________________________\n"
     ]
    }
   ],
   "source": [
    "import keras\n",
    "from keras import layers, Model\n",
    "from keras.utils import to_categorical \n",
    "\n",
    "\n",
    "vocab_size = nb_words\n",
    "src_txt_length = max_seq_len\n",
    "sum_txt_length = max_seq_len\n",
    "\n",
    "# encoder input model\n",
    "inputs = layers.Input(shape=(src_txt_length,))\n",
    "encoder1 = layers.Embedding(nb_words, embed_dim, input_length=max_seq_len, \n",
    "                        weights=[embedding_matrix],trainable=False)(inputs)\n",
    "encoder2 = layers.Bidirectional(layers.LSTM(256))(encoder1)\n",
    "encoder3 = layers.Dense(300)(encoder2)\n",
    "encoder4 = layers.RepeatVector(sum_txt_length)(encoder3)\n",
    "\n",
    "# decoder output model\n",
    "decoder1 = layers.LSTM(256, return_sequences=True)(encoder4)\n",
    "outputs = layers.TimeDistributed(layers.Dense(vocab_size, activation='softmax'))(decoder1)\n",
    "\n",
    "# tie it together\n",
    "model = Model(inputs=inputs, outputs=outputs)\n",
    "\n",
    "\n",
    "optimizer = keras.optimizers.Adam(learning_rate=0.001)\n",
    "model.compile(loss='categorical_crossentropy', optimizer=optimizer)\n",
    "model.summary()"
   ]
  },
  {
   "cell_type": "code",
   "execution_count": 25,
   "metadata": {},
   "outputs": [
    {
     "name": "stdout",
     "output_type": "stream",
     "text": [
      "Epoch 1/500\n",
      "110/110 [==============================] - 9s 55ms/step - loss: 3.2964 - val_loss: 1.9841\n",
      "Epoch 2/500\n",
      "110/110 [==============================] - 5s 45ms/step - loss: 1.9526 - val_loss: 1.9677\n",
      "Epoch 3/500\n",
      "110/110 [==============================] - 5s 43ms/step - loss: 1.9259 - val_loss: 1.9611\n",
      "Epoch 4/500\n",
      "110/110 [==============================] - 5s 43ms/step - loss: 1.9273 - val_loss: 1.9541\n",
      "Epoch 5/500\n",
      "110/110 [==============================] - 5s 43ms/step - loss: 1.8986 - val_loss: 1.9335\n",
      "Epoch 6/500\n",
      "110/110 [==============================] - 5s 44ms/step - loss: 1.9129 - val_loss: 1.8981\n",
      "Epoch 7/500\n",
      "110/110 [==============================] - 5s 43ms/step - loss: 1.8450 - val_loss: 1.8790\n",
      "Epoch 8/500\n",
      "110/110 [==============================] - 5s 42ms/step - loss: 1.8045 - val_loss: 1.8508\n",
      "Epoch 9/500\n",
      "110/110 [==============================] - 5s 44ms/step - loss: 1.7881 - val_loss: 1.8260\n",
      "Epoch 10/500\n",
      "110/110 [==============================] - 5s 43ms/step - loss: 1.7984 - val_loss: 1.7865\n",
      "Epoch 11/500\n",
      "110/110 [==============================] - 5s 46ms/step - loss: 1.7117 - val_loss: 1.7461\n",
      "Epoch 12/500\n",
      "110/110 [==============================] - 5s 42ms/step - loss: 1.6494 - val_loss: 1.7167\n",
      "Epoch 13/500\n",
      "110/110 [==============================] - 5s 43ms/step - loss: 1.6835 - val_loss: 1.7175\n",
      "Epoch 14/500\n",
      "110/110 [==============================] - 5s 43ms/step - loss: 1.6197 - val_loss: 1.6364\n",
      "Epoch 15/500\n",
      "110/110 [==============================] - 5s 43ms/step - loss: 1.5728 - val_loss: 1.5760\n",
      "Epoch 16/500\n",
      "110/110 [==============================] - 5s 42ms/step - loss: 1.5265 - val_loss: 1.5368\n",
      "Epoch 17/500\n",
      "110/110 [==============================] - 5s 43ms/step - loss: 1.5007 - val_loss: 1.4835\n",
      "Epoch 18/500\n",
      "110/110 [==============================] - 5s 44ms/step - loss: 1.4179 - val_loss: 1.4679\n",
      "Epoch 19/500\n",
      "110/110 [==============================] - 5s 43ms/step - loss: 1.3656 - val_loss: 1.3658\n",
      "Epoch 20/500\n",
      "110/110 [==============================] - 5s 42ms/step - loss: 1.2873 - val_loss: 1.3350\n",
      "Epoch 21/500\n",
      "110/110 [==============================] - 5s 42ms/step - loss: 1.2689 - val_loss: 1.3036\n",
      "Epoch 22/500\n",
      "110/110 [==============================] - 5s 43ms/step - loss: 1.2188 - val_loss: 1.3489\n",
      "Epoch 23/500\n",
      "110/110 [==============================] - 5s 42ms/step - loss: 1.2232 - val_loss: 1.2336\n",
      "Epoch 24/500\n",
      "110/110 [==============================] - 5s 43ms/step - loss: 1.1250 - val_loss: 1.2443\n",
      "Epoch 25/500\n",
      "110/110 [==============================] - 5s 43ms/step - loss: 1.1376 - val_loss: 1.1929\n",
      "Epoch 26/500\n",
      "110/110 [==============================] - 5s 42ms/step - loss: 1.1022 - val_loss: 1.1731\n",
      "Epoch 27/500\n",
      "110/110 [==============================] - 5s 42ms/step - loss: 1.0691 - val_loss: 1.2176\n",
      "Epoch 28/500\n",
      "110/110 [==============================] - 5s 41ms/step - loss: 1.0708 - val_loss: 1.1526\n",
      "Epoch 29/500\n",
      "110/110 [==============================] - 5s 43ms/step - loss: 1.0297 - val_loss: 1.1294\n",
      "Epoch 30/500\n",
      "110/110 [==============================] - 5s 42ms/step - loss: 1.0093 - val_loss: 1.1101\n",
      "Epoch 31/500\n",
      "110/110 [==============================] - 5s 42ms/step - loss: 0.9975 - val_loss: 1.1002\n",
      "Epoch 32/500\n",
      "110/110 [==============================] - 5s 43ms/step - loss: 0.9453 - val_loss: 1.0868\n",
      "Epoch 33/500\n",
      "110/110 [==============================] - 5s 42ms/step - loss: 0.9730 - val_loss: 1.0730\n",
      "Epoch 34/500\n",
      "110/110 [==============================] - 5s 42ms/step - loss: 0.9323 - val_loss: 1.0527\n",
      "Epoch 35/500\n",
      "110/110 [==============================] - 5s 42ms/step - loss: 0.8991 - val_loss: 1.0389\n",
      "Epoch 36/500\n",
      "110/110 [==============================] - 5s 42ms/step - loss: 0.9046 - val_loss: 1.0322\n",
      "Epoch 37/500\n",
      "110/110 [==============================] - 5s 42ms/step - loss: 0.8667 - val_loss: 1.0209\n",
      "Epoch 38/500\n",
      "110/110 [==============================] - 5s 43ms/step - loss: 0.8596 - val_loss: 1.0021\n",
      "Epoch 39/500\n",
      "110/110 [==============================] - 5s 43ms/step - loss: 0.8459 - val_loss: 0.9914\n",
      "Epoch 40/500\n",
      "110/110 [==============================] - 5s 43ms/step - loss: 0.8207 - val_loss: 0.9786\n",
      "Epoch 41/500\n",
      "110/110 [==============================] - 5s 42ms/step - loss: 0.7934 - val_loss: 1.0300\n",
      "Epoch 42/500\n",
      "110/110 [==============================] - 5s 41ms/step - loss: 0.8389 - val_loss: 0.9498\n",
      "Epoch 43/500\n",
      "110/110 [==============================] - 5s 41ms/step - loss: 0.7786 - val_loss: 0.9628\n",
      "Epoch 44/500\n",
      "110/110 [==============================] - 5s 41ms/step - loss: 0.7737 - val_loss: 0.9211\n",
      "Epoch 45/500\n",
      "110/110 [==============================] - 5s 41ms/step - loss: 0.7144 - val_loss: 0.9320\n",
      "Epoch 46/500\n",
      "110/110 [==============================] - 5s 43ms/step - loss: 0.7190 - val_loss: 0.8922\n",
      "Epoch 47/500\n",
      "110/110 [==============================] - 5s 42ms/step - loss: 0.6939 - val_loss: 0.8825\n",
      "Epoch 48/500\n",
      "110/110 [==============================] - 5s 43ms/step - loss: 0.6956 - val_loss: 0.8771\n",
      "Epoch 49/500\n",
      "110/110 [==============================] - 5s 43ms/step - loss: 0.6539 - val_loss: 0.8583\n",
      "Epoch 50/500\n",
      "110/110 [==============================] - 5s 43ms/step - loss: 0.6402 - val_loss: 0.8873\n",
      "Epoch 51/500\n",
      "110/110 [==============================] - 5s 43ms/step - loss: 0.7022 - val_loss: 0.8412\n",
      "Epoch 52/500\n",
      "110/110 [==============================] - 5s 43ms/step - loss: 0.6248 - val_loss: 0.8395\n",
      "Epoch 53/500\n",
      "110/110 [==============================] - 5s 42ms/step - loss: 0.5770 - val_loss: 0.8292\n",
      "Epoch 54/500\n",
      "110/110 [==============================] - 5s 42ms/step - loss: 0.6254 - val_loss: 0.8151\n",
      "Epoch 55/500\n",
      "110/110 [==============================] - 5s 43ms/step - loss: 0.5729 - val_loss: 0.8080\n",
      "Epoch 56/500\n",
      "110/110 [==============================] - 5s 42ms/step - loss: 0.5487 - val_loss: 0.8133\n",
      "Epoch 57/500\n",
      "110/110 [==============================] - 5s 42ms/step - loss: 0.6160 - val_loss: 0.8000\n",
      "Epoch 58/500\n",
      "110/110 [==============================] - 5s 42ms/step - loss: 0.5320 - val_loss: 0.7879\n",
      "Epoch 59/500\n",
      "110/110 [==============================] - 5s 42ms/step - loss: 0.5101 - val_loss: 0.7876\n",
      "Epoch 60/500\n",
      "110/110 [==============================] - 5s 43ms/step - loss: 0.5043 - val_loss: 0.7795\n",
      "Epoch 61/500\n",
      "110/110 [==============================] - 5s 42ms/step - loss: 0.4937 - val_loss: 0.7786\n",
      "Epoch 62/500\n",
      "110/110 [==============================] - 5s 42ms/step - loss: 0.4687 - val_loss: 1.0690\n",
      "Epoch 63/500\n",
      "110/110 [==============================] - 5s 42ms/step - loss: 0.5477 - val_loss: 0.7601\n",
      "Epoch 64/500\n",
      "110/110 [==============================] - 5s 43ms/step - loss: 0.4588 - val_loss: 0.7581\n",
      "Epoch 65/500\n",
      "110/110 [==============================] - 5s 44ms/step - loss: 0.4300 - val_loss: 0.7469\n",
      "Epoch 66/500\n",
      "110/110 [==============================] - 5s 43ms/step - loss: 0.4334 - val_loss: 0.7690\n",
      "Epoch 67/500\n",
      "110/110 [==============================] - 5s 43ms/step - loss: 0.4327 - val_loss: 0.7403\n",
      "Epoch 68/500\n",
      "110/110 [==============================] - 5s 43ms/step - loss: 0.4222 - val_loss: 0.7360\n",
      "Epoch 69/500\n",
      "110/110 [==============================] - 5s 43ms/step - loss: 0.3801 - val_loss: 0.7276\n",
      "Epoch 70/500\n",
      "110/110 [==============================] - 5s 43ms/step - loss: 0.3605 - val_loss: 0.8329\n",
      "Epoch 71/500\n",
      "110/110 [==============================] - 5s 42ms/step - loss: 0.4539 - val_loss: 0.7221\n",
      "Epoch 72/500\n",
      "110/110 [==============================] - 5s 43ms/step - loss: 0.3648 - val_loss: 0.7165\n",
      "Epoch 73/500\n",
      "110/110 [==============================] - 5s 42ms/step - loss: 0.3401 - val_loss: 0.7179\n",
      "Epoch 74/500\n",
      "110/110 [==============================] - 5s 42ms/step - loss: 0.3248 - val_loss: 0.7118\n",
      "Epoch 75/500\n",
      "110/110 [==============================] - 5s 42ms/step - loss: 0.3095 - val_loss: 0.7051\n",
      "Epoch 76/500\n",
      "110/110 [==============================] - 5s 42ms/step - loss: 0.3179 - val_loss: 0.7068\n",
      "Epoch 77/500\n",
      "110/110 [==============================] - 5s 42ms/step - loss: 0.3057 - val_loss: 0.7043\n",
      "Epoch 78/500\n",
      "110/110 [==============================] - 5s 42ms/step - loss: 0.3292 - val_loss: 0.7095\n",
      "Epoch 79/500\n",
      "110/110 [==============================] - 5s 43ms/step - loss: 0.3074 - val_loss: 0.7025\n",
      "Epoch 80/500\n"
     ]
    },
    {
     "name": "stdout",
     "output_type": "stream",
     "text": [
      "110/110 [==============================] - 5s 43ms/step - loss: 0.2903 - val_loss: 0.7030\n",
      "Epoch 81/500\n",
      "110/110 [==============================] - 5s 43ms/step - loss: 0.2703 - val_loss: 0.6936\n",
      "Epoch 82/500\n",
      "110/110 [==============================] - 5s 43ms/step - loss: 0.2543 - val_loss: 0.6878\n",
      "Epoch 83/500\n",
      "110/110 [==============================] - 5s 43ms/step - loss: 0.2522 - val_loss: 0.6864\n",
      "Epoch 84/500\n",
      "110/110 [==============================] - 5s 43ms/step - loss: 0.2540 - val_loss: 0.6852\n",
      "Epoch 85/500\n",
      "110/110 [==============================] - 5s 43ms/step - loss: 0.2384 - val_loss: 0.6878\n",
      "Epoch 86/500\n",
      "110/110 [==============================] - 5s 43ms/step - loss: 0.2174 - val_loss: 0.6854\n",
      "Epoch 87/500\n",
      "110/110 [==============================] - 5s 43ms/step - loss: 0.2170 - val_loss: 0.6855\n",
      "Epoch 88/500\n",
      "110/110 [==============================] - 5s 42ms/step - loss: 0.2101 - val_loss: 0.6830\n",
      "Epoch 89/500\n",
      "110/110 [==============================] - 5s 42ms/step - loss: 0.2044 - val_loss: 1.0647\n",
      "Epoch 90/500\n",
      "110/110 [==============================] - 5s 43ms/step - loss: 0.3464 - val_loss: 0.6885\n",
      "Epoch 91/500\n",
      "110/110 [==============================] - 5s 42ms/step - loss: 0.1943 - val_loss: 0.6880\n",
      "Epoch 92/500\n",
      "110/110 [==============================] - 5s 43ms/step - loss: 0.1859 - val_loss: 0.6771\n",
      "Epoch 93/500\n",
      "110/110 [==============================] - 5s 42ms/step - loss: 0.1650 - val_loss: 0.6775\n",
      "Epoch 94/500\n",
      "110/110 [==============================] - 5s 43ms/step - loss: 0.1726 - val_loss: 0.6836\n",
      "Epoch 95/500\n",
      "110/110 [==============================] - 5s 43ms/step - loss: 0.1574 - val_loss: 0.6939\n",
      "Epoch 96/500\n",
      "110/110 [==============================] - 5s 43ms/step - loss: 0.1630 - val_loss: 0.6805\n",
      "Epoch 97/500\n",
      "110/110 [==============================] - 5s 42ms/step - loss: 0.1591 - val_loss: 0.6851\n",
      "Epoch 98/500\n",
      "110/110 [==============================] - 5s 42ms/step - loss: 0.1446 - val_loss: 0.6815\n",
      "Epoch 99/500\n",
      "110/110 [==============================] - 5s 43ms/step - loss: 0.1439 - val_loss: 0.6741\n",
      "Epoch 100/500\n",
      "110/110 [==============================] - 5s 43ms/step - loss: 0.1424 - val_loss: 0.6816\n",
      "Epoch 101/500\n",
      "110/110 [==============================] - 5s 42ms/step - loss: 0.1213 - val_loss: 0.6840\n",
      "Epoch 102/500\n",
      "110/110 [==============================] - 5s 42ms/step - loss: 0.1241 - val_loss: 0.6824\n",
      "Epoch 103/500\n",
      "110/110 [==============================] - 5s 43ms/step - loss: 0.1212 - val_loss: 0.6963\n",
      "Epoch 104/500\n",
      "110/110 [==============================] - 5s 43ms/step - loss: 0.1806 - val_loss: 0.6941\n",
      "Epoch 105/500\n",
      "110/110 [==============================] - 5s 43ms/step - loss: 0.1341 - val_loss: 0.6826\n",
      "Epoch 106/500\n",
      "110/110 [==============================] - 5s 43ms/step - loss: 0.1088 - val_loss: 0.6807\n",
      "Epoch 107/500\n",
      "110/110 [==============================] - 5s 42ms/step - loss: 0.0986 - val_loss: 0.6741\n",
      "Epoch 108/500\n",
      "110/110 [==============================] - 5s 41ms/step - loss: 0.0967 - val_loss: 0.6799\n",
      "Epoch 109/500\n",
      "110/110 [==============================] - 5s 42ms/step - loss: 0.0946 - val_loss: 0.6789\n"
     ]
    }
   ],
   "source": [
    "earlystopping = keras.callbacks.EarlyStopping(\n",
    "    monitor=\"val_loss\",\n",
    "    min_delta=0,\n",
    "    patience=10,\n",
    "    verbose=0,\n",
    "    mode=\"auto\",\n",
    "    baseline=None,\n",
    "    restore_best_weights=False,\n",
    ")\n",
    "\n",
    "history = model.fit(\n",
    "    X_train, \n",
    "    to_categorical(X_train, num_classes=nb_words),\n",
    "    epochs=500,\n",
    "    validation_data=(X_test, to_categorical(X_test, num_classes=nb_words)),\n",
    "    callbacks=[earlystopping]\n",
    ")"
   ]
  },
  {
   "cell_type": "code",
   "execution_count": 26,
   "metadata": {},
   "outputs": [
    {
     "data": {
      "text/plain": [
       "<matplotlib.legend.Legend at 0x7f8da53859e8>"
      ]
     },
     "execution_count": 26,
     "metadata": {},
     "output_type": "execute_result"
    },
    {
     "data": {
      "image/png": "[encoded data removed]",
      "text/plain": [
       "<Figure size 432x288 with 1 Axes>"
      ]
     },
     "metadata": {
      "needs_background": "light"
     },
     "output_type": "display_data"
    }
   ],
   "source": [
    "import matplotlib.pyplot as plt\n",
    "\n",
    "plt.plot(history.history[\"loss\"], label=\"Training Loss\")\n",
    "plt.plot(history.history[\"val_loss\"], label=\"Validation Loss\")\n",
    "plt.legend()"
   ]
  },
  {
   "cell_type": "code",
   "execution_count": 27,
   "metadata": {},
   "outputs": [
    {
     "data": {
      "text/plain": [
       "(['headache is the thing ever'],\n",
       " array([[  0,   0,   0,   0,   0, 279,  19,   4, 432, 252]], dtype=int32))"
      ]
     },
     "execution_count": 27,
     "metadata": {},
     "output_type": "execute_result"
    }
   ],
   "source": [
    "text = ['headache is the strangest thing ever']\n",
    "tokenized = tokenizer.texts_to_sequences(text)\n",
    "tokenized = sequence.pad_sequences(tokenized, maxlen=max_seq_len)\n",
    "tokenizer.sequences_to_texts(tokenized), tokenized"
   ]
  },
  {
   "cell_type": "code",
   "execution_count": 28,
   "metadata": {},
   "outputs": [
    {
     "name": "stdout",
     "output_type": "stream",
     "text": [
      "WARNING:tensorflow:5 out of the last 7 calls to <function Model.make_predict_function.<locals>.predict_function at 0x7f8f1834c400> triggered tf.function retracing. Tracing is expensive and the excessive number of tracings could be due to (1) creating @tf.function repeatedly in a loop, (2) passing tensors with different shapes, (3) passing Python objects instead of tensors. For (1), please define your @tf.function outside of the loop. For (2), @tf.function has experimental_relax_shapes=True option that relaxes argument shapes that can avoid unnecessary retracing. For (3), please refer to https://www.tensorflow.org/guide/function#controlling_retracing and https://www.tensorflow.org/api_docs/python/tf/function for  more details.\n"
     ]
    },
    {
     "data": {
      "text/plain": [
       "['skin is is is so']"
      ]
     },
     "execution_count": 28,
     "metadata": {},
     "output_type": "execute_result"
    }
   ],
   "source": [
    "import numpy as np\n",
    "predicted = [np.argmax(i) for i in model.predict(tokenized)[0]]\n",
    "tokenizer.sequences_to_texts([predicted])"
   ]
  },
  {
   "cell_type": "code",
   "execution_count": 29,
   "metadata": {},
   "outputs": [
    {
     "data": {
      "text/plain": [
       "[0, 0, 0, 0, 0, 281, 19, 19, 19, 30]"
      ]
     },
     "execution_count": 29,
     "metadata": {},
     "output_type": "execute_result"
    }
   ],
   "source": [
    "predicted"
   ]
  },
  {
   "cell_type": "markdown",
   "metadata": {},
   "source": [
    "# Get encoder"
   ]
  },
  {
   "cell_type": "code",
   "execution_count": 30,
   "metadata": {},
   "outputs": [
    {
     "name": "stdout",
     "output_type": "stream",
     "text": [
      "WARNING:tensorflow:6 out of the last 8 calls to <function Model.make_predict_function.<locals>.predict_function at 0x7f8f28367378> triggered tf.function retracing. Tracing is expensive and the excessive number of tracings could be due to (1) creating @tf.function repeatedly in a loop, (2) passing tensors with different shapes, (3) passing Python objects instead of tensors. For (1), please define your @tf.function outside of the loop. For (2), @tf.function has experimental_relax_shapes=True option that relaxes argument shapes that can avoid unnecessary retracing. For (3), please refer to https://www.tensorflow.org/guide/function#controlling_retracing and https://www.tensorflow.org/api_docs/python/tf/function for  more details.\n"
     ]
    },
    {
     "data": {
      "text/plain": [
       "(1, 300)"
      ]
     },
     "execution_count": 30,
     "metadata": {},
     "output_type": "execute_result"
    }
   ],
   "source": [
    "encoder = keras.Sequential(model.layers[:4])\n",
    "encoder.predict(tokenized).shape"
   ]
  },
  {
   "cell_type": "code",
   "execution_count": 31,
   "metadata": {},
   "outputs": [
    {
     "name": "stdout",
     "output_type": "stream",
     "text": [
      "Model: \"sequential_1\"\n",
      "_________________________________________________________________\n",
      "Layer (type)                 Output Shape              Param #   \n",
      "=================================================================\n",
      "embedding_3 (Embedding)      (None, 10, 150)           450000    \n",
      "_________________________________________________________________\n",
      "bidirectional_3 (Bidirection (None, 512)               833536    \n",
      "_________________________________________________________________\n",
      "dense_6 (Dense)              (None, 300)               153900    \n",
      "=================================================================\n",
      "Total params: 1,437,436\n",
      "Trainable params: 987,436\n",
      "Non-trainable params: 450,000\n",
      "_________________________________________________________________\n"
     ]
    }
   ],
   "source": [
    "encoder.summary()"
   ]
  },
  {
   "cell_type": "code",
   "execution_count": 32,
   "metadata": {},
   "outputs": [],
   "source": [
    "encoder.save('../../models/encoder/encoder_cadec.h5')"
   ]
  },
  {
   "cell_type": "code",
   "execution_count": 33,
   "metadata": {},
   "outputs": [
    {
     "name": "stdout",
     "output_type": "stream",
     "text": [
      "WARNING:tensorflow:No training configuration found in the save file, so the model was *not* compiled. Compile it manually.\n"
     ]
    }
   ],
   "source": [
    "encoder_loaded = keras.models.load_model('../../models/encoder/encoder_cadec.h5')"
   ]
  },
  {
   "cell_type": "code",
   "execution_count": 34,
   "metadata": {},
   "outputs": [
    {
     "name": "stdout",
     "output_type": "stream",
     "text": [
      "WARNING:tensorflow:7 out of the last 9 calls to <function Model.make_predict_function.<locals>.predict_function at 0x7f90d85f9840> triggered tf.function retracing. Tracing is expensive and the excessive number of tracings could be due to (1) creating @tf.function repeatedly in a loop, (2) passing tensors with different shapes, (3) passing Python objects instead of tensors. For (1), please define your @tf.function outside of the loop. For (2), @tf.function has experimental_relax_shapes=True option that relaxes argument shapes that can avoid unnecessary retracing. For (3), please refer to https://www.tensorflow.org/guide/function#controlling_retracing and https://www.tensorflow.org/api_docs/python/tf/function for  more details.\n"
     ]
    },
    {
     "data": {
      "text/plain": [
       "(1, 300)"
      ]
     },
     "execution_count": 34,
     "metadata": {},
     "output_type": "execute_result"
    }
   ],
   "source": [
    "encoder_loaded.predict(tokenized).shape"
   ]
  },
  {
   "cell_type": "code",
   "execution_count": 35,
   "metadata": {},
   "outputs": [
    {
     "data": {
      "text/html": [
       "<div>\n",
       "<style scoped>\n",
       "    .dataframe tbody tr th:only-of-type {\n",
       "        vertical-align: middle;\n",
       "    }\n",
       "\n",
       "    .dataframe tbody tr th {\n",
       "        vertical-align: top;\n",
       "    }\n",
       "\n",
       "    .dataframe thead th {\n",
       "        text-align: right;\n",
       "    }\n",
       "</style>\n",
       "<table border=\"1\" class=\"dataframe\">\n",
       "  <thead>\n",
       "    <tr style=\"text-align: right;\">\n",
       "      <th></th>\n",
       "      <th>0</th>\n",
       "    </tr>\n",
       "  </thead>\n",
       "  <tbody>\n",
       "    <tr>\n",
       "      <th>0</th>\n",
       "      <td>sick of this pain my back yeahh</td>\n",
       "    </tr>\n",
       "    <tr>\n",
       "      <th>1</th>\n",
       "      <td>this is second message</td>\n",
       "    </tr>\n",
       "    <tr>\n",
       "      <th>2</th>\n",
       "      <td>this is third message</td>\n",
       "    </tr>\n",
       "  </tbody>\n",
       "</table>\n",
       "</div>"
      ],
      "text/plain": [
       "                                 0\n",
       "0  sick of this pain my back yeahh\n",
       "1           this is second message\n",
       "2            this is third message"
      ]
     },
     "execution_count": 35,
     "metadata": {},
     "output_type": "execute_result"
    }
   ],
   "source": [
    "text = pd.DataFrame([\n",
    "    'sick of this pain my back yeahh',\n",
    "    'this is second message',\n",
    "    'this is third message'\n",
    "])\n",
    "text"
   ]
  },
  {
   "cell_type": "code",
   "execution_count": 36,
   "metadata": {},
   "outputs": [
    {
     "name": "stdout",
     "output_type": "stream",
     "text": [
      "WARNING:tensorflow:8 out of the last 10 calls to <function Model.make_predict_function.<locals>.predict_function at 0x7f90d85f9840> triggered tf.function retracing. Tracing is expensive and the excessive number of tracings could be due to (1) creating @tf.function repeatedly in a loop, (2) passing tensors with different shapes, (3) passing Python objects instead of tensors. For (1), please define your @tf.function outside of the loop. For (2), @tf.function has experimental_relax_shapes=True option that relaxes argument shapes that can avoid unnecessary retracing. For (3), please refer to https://www.tensorflow.org/guide/function#controlling_retracing and https://www.tensorflow.org/api_docs/python/tf/function for  more details.\n"
     ]
    },
    {
     "data": {
      "text/html": [
       "<div>\n",
       "<style scoped>\n",
       "    .dataframe tbody tr th:only-of-type {\n",
       "        vertical-align: middle;\n",
       "    }\n",
       "\n",
       "    .dataframe tbody tr th {\n",
       "        vertical-align: top;\n",
       "    }\n",
       "\n",
       "    .dataframe thead th {\n",
       "        text-align: right;\n",
       "    }\n",
       "</style>\n",
       "<table border=\"1\" class=\"dataframe\">\n",
       "  <thead>\n",
       "    <tr style=\"text-align: right;\">\n",
       "      <th></th>\n",
       "      <th>0</th>\n",
       "      <th>vec</th>\n",
       "    </tr>\n",
       "  </thead>\n",
       "  <tbody>\n",
       "    <tr>\n",
       "      <th>0</th>\n",
       "      <td>sick of this pain my back yeahh</td>\n",
       "      <td>[-1.1488295, -0.64001596, 1.5270362, 1.7979233...</td>\n",
       "    </tr>\n",
       "    <tr>\n",
       "      <th>1</th>\n",
       "      <td>this is second message</td>\n",
       "      <td>[-0.9107658, -0.65196747, 0.06393329, 1.374762...</td>\n",
       "    </tr>\n",
       "    <tr>\n",
       "      <th>2</th>\n",
       "      <td>this is third message</td>\n",
       "      <td>[-1.0094672, -0.7319774, 0.27311158, 1.3382845...</td>\n",
       "    </tr>\n",
       "  </tbody>\n",
       "</table>\n",
       "</div>"
      ],
      "text/plain": [
       "                                 0  \\\n",
       "0  sick of this pain my back yeahh   \n",
       "1           this is second message   \n",
       "2            this is third message   \n",
       "\n",
       "                                                 vec  \n",
       "0  [-1.1488295, -0.64001596, 1.5270362, 1.7979233...  \n",
       "1  [-0.9107658, -0.65196747, 0.06393329, 1.374762...  \n",
       "2  [-1.0094672, -0.7319774, 0.27311158, 1.3382845...  "
      ]
     },
     "execution_count": 36,
     "metadata": {},
     "output_type": "execute_result"
    }
   ],
   "source": [
    "\n",
    "tokenized = tokenizer.texts_to_sequences(text[0])\n",
    "tokenized = sequence.pad_sequences(tokenized, maxlen=max_seq_len)\n",
    "#pd.DataFrame()\n",
    "text['vec'] = tokenizer.texts_to_sequences(text[0])\n",
    "#text['vec'] = text['vec'].apply(lambda toks: encoder_loaded.predict(toks).shape)\n",
    "text['vec'] = sequence.pad_sequences(text['vec'], maxlen=max_seq_len).tolist()\n",
    "text['vec'] = text['vec'].apply(lambda seq: encoder_loaded.predict([seq])[0])\n",
    "text"
   ]
  },
  {
   "cell_type": "code",
   "execution_count": 37,
   "metadata": {},
   "outputs": [
    {
     "data": {
      "text/plain": [
       "(300,)"
      ]
     },
     "execution_count": 37,
     "metadata": {},
     "output_type": "execute_result"
    }
   ],
   "source": [
    "text['vec'].iloc[0].shape"
   ]
  },
  {
   "cell_type": "code",
   "execution_count": null,
   "metadata": {},
   "outputs": [],
   "source": []
  },
  {
   "cell_type": "code",
   "execution_count": null,
   "metadata": {},
   "outputs": [],
   "source": []
  }
 ],
 "metadata": {
  "kernelspec": {
   "display_name": "Python 3",
   "language": "python",
   "name": "python3"
  },
  "language_info": {
   "codemirror_mode": {
    "name": "ipython",
    "version": 3
   },
   "file_extension": ".py",
   "mimetype": "text/x-python",
   "name": "python",
   "nbconvert_exporter": "python",
   "pygments_lexer": "ipython3",
   "version": "3.6.8"
  }
 },
 "nbformat": 4,
 "nbformat_minor": 4
}
