{
 "cells": [
  {
   "cell_type": "code",
   "execution_count": 1,
   "metadata": {},
   "outputs": [],
   "source": [
    "import numpy as np\n",
    "import pandas as pd\n",
    "\n",
    "from gensim.models import FastText\n",
    "from gensim.test.utils import common_texts\n",
    "from gensim.utils import tokenize\n",
    "\n",
    "import tensorflow as tf\n",
    "from tensorflow.keras.callbacks import EarlyStopping\n",
    "from tensorflow.keras.preprocessing import sequence"
   ]
  },
  {
   "cell_type": "markdown",
   "metadata": {},
   "source": [
    "# PREPARE DATA TO AUTOENCODER"
   ]
  },
  {
   "cell_type": "code",
   "execution_count": 2,
   "metadata": {},
   "outputs": [],
   "source": [
    "train = pd.read_csv('../../data/interim/cadec/train.csv')\n",
    "test = pd.read_csv('../../data/interim/cadec/test.csv')"
   ]
  },
  {
   "cell_type": "code",
   "execution_count": 3,
   "metadata": {},
   "outputs": [],
   "source": [
    "sentences = pd.read_csv('../../data/interim/cadec/test.csv')['text'].apply(\n",
    "                lambda x: x.lower().split('<SENT>')).explode().apply(lambda x: list(tokenize(x))).to_list()\n",
    "\n",
    "max_seq_len = 10\n",
    "embed_dim = 150\n",
    "nb_words = 3000\n",
    "\n",
    "ftmodel = FastText(size=embed_dim, window=5, min_count=1)\n",
    "ftmodel.build_vocab(sentences=sentences)\n",
    "ftmodel.train(sentences=sentences, total_examples=len(sentences), epochs=10)"
   ]
  },
  {
   "cell_type": "code",
   "execution_count": 4,
   "metadata": {},
   "outputs": [
    {
     "name": "stderr",
     "output_type": "stream",
     "text": [
      "/home/kaigorodov/.local/lib/python3.6/site-packages/ipykernel_launcher.py:16: DeprecationWarning: Call to deprecated `__getitem__` (Method will be removed in 4.0.0, use self.wv.__getitem__() instead).\n",
      "  app.launch_new_instance()\n"
     ]
    }
   ],
   "source": [
    "tokenizer = tf.keras.preprocessing.text.Tokenizer(\n",
    "    num_words=nb_words,\n",
    "    filters='!\"#$%&()*+,-./:;<=>?@[\\\\]^_`{|}~\\t\\n',\n",
    "    lower=True, split=' ', char_level=False\n",
    ")\n",
    "\n",
    "tokenizer.fit_on_texts(sentences)\n",
    "word_index = tokenizer.word_index\n",
    "\n",
    "nb_words = min(nb_words, len(word_index)+1)\n",
    "embedding_matrix = np.zeros((nb_words, embed_dim))\n",
    "\n",
    "for word, i in word_index.items():\n",
    "    if i >= nb_words:\n",
    "        continue\n",
    "    embedding_vector = ftmodel[word]\n",
    "    if (embedding_vector is not None) and len(embedding_vector) > 0:\n",
    "        embedding_matrix[i] = embedding_vector\n",
    "        \n",
    "word_seq_train = tokenizer.texts_to_sequences(train['term'])\n",
    "word_seq_test = tokenizer.texts_to_sequences(test['term'])\n",
    "\n",
    "X_train = sequence.pad_sequences(word_seq_train, maxlen=max_seq_len)\n",
    "X_test = sequence.pad_sequences(word_seq_test, maxlen=max_seq_len)\n",
    "\n",
    "labels = pd.read_csv('../../data/interim/meddra_codes_terms_synonims.csv')\n",
    "labels = labels['CODE']\n",
    "meddra_labels = {v:k for k, v in enumerate(labels.unique())}\n",
    "\n",
    "y_train = train['code'].apply(lambda x: meddra_labels[x]).to_numpy()\n",
    "y_test = test['code'].apply(lambda x: meddra_labels[x]).to_numpy()\n",
    "\n",
    "number_of_classes = labels.unique().shape[0]"
   ]
  },
  {
   "cell_type": "code",
   "execution_count": 5,
   "metadata": {},
   "outputs": [],
   "source": [
    "import pickle\n",
    "\n",
    "with open('../../models/encoder/tokenizer.pickle', 'wb') as tok_bin:\n",
    "    pickle.dump(tokenizer, tok_bin, pickle.HIGHEST_PROTOCOL)\n",
    "with open('../../models/encoder/tokenizer.pickle', 'rb') as f:\n",
    "    tokenizer = pickle.load(f)"
   ]
  },
  {
   "cell_type": "code",
   "execution_count": 6,
   "metadata": {},
   "outputs": [
    {
     "data": {
      "text/plain": [
       "((3520, 10), (881, 10))"
      ]
     },
     "execution_count": 6,
     "metadata": {},
     "output_type": "execute_result"
    }
   ],
   "source": [
    "X_train.shape, X_test.shape"
   ]
  },
  {
   "cell_type": "markdown",
   "metadata": {},
   "source": [
    "# MODEL\n",
    "\n"
   ]
  },
  {
   "cell_type": "code",
   "execution_count": 7,
   "metadata": {
    "scrolled": false
   },
   "outputs": [
    {
     "name": "stdout",
     "output_type": "stream",
     "text": [
      "Model: \"model\"\n",
      "_________________________________________________________________\n",
      "Layer (type)                 Output Shape              Param #   \n",
      "=================================================================\n",
      "input_1 (InputLayer)         [(None, 10)]              0         \n",
      "_________________________________________________________________\n",
      "embedding (Embedding)        (None, 10, 150)           450000    \n",
      "_________________________________________________________________\n",
      "bidirectional (Bidirectional (None, 512)               833536    \n",
      "_________________________________________________________________\n",
      "dense (Dense)                (None, 128)               65664     \n",
      "_________________________________________________________________\n",
      "repeat_vector (RepeatVector) (None, 10, 128)           0         \n",
      "_________________________________________________________________\n",
      "lstm_1 (LSTM)                (None, 10, 256)           394240    \n",
      "_________________________________________________________________\n",
      "time_distributed (TimeDistri (None, 10, 3000)          771000    \n",
      "=================================================================\n",
      "Total params: 2,514,440\n",
      "Trainable params: 2,064,440\n",
      "Non-trainable params: 450,000\n",
      "_________________________________________________________________\n"
     ]
    }
   ],
   "source": [
    "import keras\n",
    "from keras import layers, Model\n",
    "from keras.utils import to_categorical \n",
    "\n",
    "\n",
    "vocab_size = nb_words\n",
    "src_txt_length = max_seq_len\n",
    "sum_txt_length = max_seq_len\n",
    "\n",
    "# encoder input model\n",
    "inputs = layers.Input(shape=(src_txt_length,))\n",
    "encoder1 = layers.Embedding(nb_words, embed_dim, input_length=max_seq_len, \n",
    "                        weights=[embedding_matrix],trainable=False)(inputs)\n",
    "encoder2 = layers.Bidirectional(layers.LSTM(256))(encoder1)\n",
    "encoder3 = layers.Dense(128)(encoder2)\n",
    "encoder4 = layers.RepeatVector(sum_txt_length)(encoder3)\n",
    "\n",
    "# decoder output model\n",
    "decoder1 = layers.LSTM(256, return_sequences=True)(encoder4)\n",
    "outputs = layers.TimeDistributed(layers.Dense(vocab_size, activation='softmax'))(decoder1)\n",
    "\n",
    "# tie it together\n",
    "model = Model(inputs=inputs, outputs=outputs)\n",
    "\n",
    "\n",
    "optimizer = keras.optimizers.Adam(learning_rate=0.002)\n",
    "model.compile(loss='categorical_crossentropy', optimizer=optimizer)\n",
    "model.summary()"
   ]
  },
  {
   "cell_type": "code",
   "execution_count": 8,
   "metadata": {},
   "outputs": [
    {
     "name": "stdout",
     "output_type": "stream",
     "text": [
      "Epoch 1/500\n",
      "110/110 [==============================] - 9s 49ms/step - loss: 3.1326 - val_loss: 2.0146\n",
      "Epoch 2/500\n",
      "110/110 [==============================] - 5s 45ms/step - loss: 1.9452 - val_loss: 1.9729\n",
      "Epoch 3/500\n",
      "110/110 [==============================] - 4s 39ms/step - loss: 1.9093 - val_loss: 1.9347\n",
      "Epoch 4/500\n",
      "110/110 [==============================] - 4s 40ms/step - loss: 1.8925 - val_loss: 1.8880\n",
      "Epoch 5/500\n",
      "110/110 [==============================] - 4s 40ms/step - loss: 1.7926 - val_loss: 1.8443\n",
      "Epoch 6/500\n",
      "110/110 [==============================] - 4s 39ms/step - loss: 1.7567 - val_loss: 1.8201\n",
      "Epoch 7/500\n",
      "110/110 [==============================] - 4s 40ms/step - loss: 1.7404 - val_loss: 1.7609\n",
      "Epoch 8/500\n",
      "110/110 [==============================] - 4s 39ms/step - loss: 1.6869 - val_loss: 1.7708\n",
      "Epoch 9/500\n",
      "110/110 [==============================] - 4s 39ms/step - loss: 1.6659 - val_loss: 1.7162\n",
      "Epoch 10/500\n",
      "110/110 [==============================] - 4s 40ms/step - loss: 1.6253 - val_loss: 1.6989\n",
      "Epoch 11/500\n",
      "110/110 [==============================] - 4s 39ms/step - loss: 1.6096 - val_loss: 1.6367\n",
      "Epoch 12/500\n",
      "110/110 [==============================] - 4s 39ms/step - loss: 1.5688 - val_loss: 1.6192\n",
      "Epoch 13/500\n",
      "110/110 [==============================] - 5s 42ms/step - loss: 1.5374 - val_loss: 1.5907\n",
      "Epoch 14/500\n",
      "110/110 [==============================] - 4s 39ms/step - loss: 1.5003 - val_loss: 1.6069\n",
      "Epoch 15/500\n",
      "110/110 [==============================] - 4s 39ms/step - loss: 1.5114 - val_loss: 1.5407\n",
      "Epoch 16/500\n",
      "110/110 [==============================] - 4s 40ms/step - loss: 1.4974 - val_loss: 1.5622\n",
      "Epoch 17/500\n",
      "110/110 [==============================] - 4s 39ms/step - loss: 1.4804 - val_loss: 1.4796\n",
      "Epoch 18/500\n",
      "110/110 [==============================] - 4s 40ms/step - loss: 1.3898 - val_loss: 1.4659\n",
      "Epoch 19/500\n",
      "110/110 [==============================] - 4s 39ms/step - loss: 1.3511 - val_loss: 1.4285\n",
      "Epoch 20/500\n",
      "110/110 [==============================] - 4s 40ms/step - loss: 1.2939 - val_loss: 1.4095\n",
      "Epoch 21/500\n",
      "110/110 [==============================] - 4s 39ms/step - loss: 1.2849 - val_loss: 1.3691\n",
      "Epoch 22/500\n",
      "110/110 [==============================] - 4s 40ms/step - loss: 1.2508 - val_loss: 1.3591\n",
      "Epoch 23/500\n",
      "110/110 [==============================] - 4s 39ms/step - loss: 1.2198 - val_loss: 1.3403\n",
      "Epoch 24/500\n",
      "110/110 [==============================] - 4s 38ms/step - loss: 1.2303 - val_loss: 1.2979\n",
      "Epoch 25/500\n",
      "110/110 [==============================] - 4s 39ms/step - loss: 1.1530 - val_loss: 1.3348\n",
      "Epoch 26/500\n",
      "110/110 [==============================] - 4s 40ms/step - loss: 1.1464 - val_loss: 1.2892\n",
      "Epoch 27/500\n",
      "110/110 [==============================] - 4s 40ms/step - loss: 1.1161 - val_loss: 1.2631\n",
      "Epoch 28/500\n",
      "110/110 [==============================] - 4s 40ms/step - loss: 1.0990 - val_loss: 1.2249\n",
      "Epoch 29/500\n",
      "110/110 [==============================] - 4s 39ms/step - loss: 1.0777 - val_loss: 1.2267\n",
      "Epoch 30/500\n",
      "110/110 [==============================] - 4s 38ms/step - loss: 1.0655 - val_loss: 1.2104\n",
      "Epoch 31/500\n",
      "110/110 [==============================] - 4s 39ms/step - loss: 1.0545 - val_loss: 1.1868\n",
      "Epoch 32/500\n",
      "110/110 [==============================] - 4s 39ms/step - loss: 1.0266 - val_loss: 1.1836\n",
      "Epoch 33/500\n",
      "110/110 [==============================] - 4s 40ms/step - loss: 0.9886 - val_loss: 1.1571\n",
      "Epoch 34/500\n",
      "110/110 [==============================] - 4s 40ms/step - loss: 1.0033 - val_loss: 1.1676\n",
      "Epoch 35/500\n",
      "110/110 [==============================] - 4s 40ms/step - loss: 1.0096 - val_loss: 1.1447\n",
      "Epoch 36/500\n",
      "110/110 [==============================] - 4s 39ms/step - loss: 0.9511 - val_loss: 1.1280\n",
      "Epoch 37/500\n",
      "110/110 [==============================] - 4s 40ms/step - loss: 1.0388 - val_loss: 1.1130\n",
      "Epoch 38/500\n",
      "110/110 [==============================] - 4s 39ms/step - loss: 0.9262 - val_loss: 1.0918\n",
      "Epoch 39/500\n",
      "110/110 [==============================] - 4s 38ms/step - loss: 0.8708 - val_loss: 1.0961\n",
      "Epoch 40/500\n",
      "110/110 [==============================] - 4s 38ms/step - loss: 0.8645 - val_loss: 1.0657\n",
      "Epoch 41/500\n",
      "110/110 [==============================] - 4s 39ms/step - loss: 0.8726 - val_loss: 1.0980\n",
      "Epoch 42/500\n",
      "110/110 [==============================] - 4s 39ms/step - loss: 0.8609 - val_loss: 1.0411\n",
      "Epoch 43/500\n",
      "110/110 [==============================] - 4s 40ms/step - loss: 0.8065 - val_loss: 1.0400\n",
      "Epoch 44/500\n",
      "110/110 [==============================] - 4s 39ms/step - loss: 0.8127 - val_loss: 1.0229\n",
      "Epoch 45/500\n",
      "110/110 [==============================] - 4s 40ms/step - loss: 0.7729 - val_loss: 1.0263\n",
      "Epoch 46/500\n",
      "110/110 [==============================] - 4s 39ms/step - loss: 0.7591 - val_loss: 1.2227\n",
      "Epoch 47/500\n",
      "110/110 [==============================] - 4s 40ms/step - loss: 0.8447 - val_loss: 0.9925\n",
      "Epoch 48/500\n",
      "110/110 [==============================] - 4s 40ms/step - loss: 0.7211 - val_loss: 1.0185\n",
      "Epoch 49/500\n",
      "110/110 [==============================] - 4s 39ms/step - loss: 0.7688 - val_loss: 0.9784\n",
      "Epoch 50/500\n",
      "110/110 [==============================] - 4s 39ms/step - loss: 0.7387 - val_loss: 0.9733\n",
      "Epoch 51/500\n",
      "110/110 [==============================] - 4s 39ms/step - loss: 0.7028 - val_loss: 0.9619\n",
      "Epoch 52/500\n",
      "110/110 [==============================] - 4s 39ms/step - loss: 0.6906 - val_loss: 0.9556\n",
      "Epoch 53/500\n",
      "110/110 [==============================] - 4s 40ms/step - loss: 0.6503 - val_loss: 0.9541\n",
      "Epoch 54/500\n",
      "110/110 [==============================] - 4s 40ms/step - loss: 0.6447 - val_loss: 0.9550\n",
      "Epoch 55/500\n",
      "110/110 [==============================] - 4s 39ms/step - loss: 0.6591 - val_loss: 0.9394\n",
      "Epoch 56/500\n",
      "110/110 [==============================] - 4s 40ms/step - loss: 0.6410 - val_loss: 0.9672\n",
      "Epoch 57/500\n",
      "110/110 [==============================] - 4s 40ms/step - loss: 0.6875 - val_loss: 0.9370\n",
      "Epoch 58/500\n",
      "110/110 [==============================] - 4s 40ms/step - loss: 0.6016 - val_loss: 0.9462\n",
      "Epoch 59/500\n",
      "110/110 [==============================] - 4s 39ms/step - loss: 0.6096 - val_loss: 1.0517\n",
      "Epoch 60/500\n",
      "110/110 [==============================] - 4s 40ms/step - loss: 0.6016 - val_loss: 0.9446\n",
      "Epoch 61/500\n",
      "110/110 [==============================] - 4s 40ms/step - loss: 0.5927 - val_loss: 0.9245\n",
      "Epoch 62/500\n",
      "110/110 [==============================] - 4s 39ms/step - loss: 0.5906 - val_loss: 0.9296\n",
      "Epoch 63/500\n",
      "110/110 [==============================] - 4s 39ms/step - loss: 0.5544 - val_loss: 0.9261\n",
      "Epoch 64/500\n",
      "110/110 [==============================] - 4s 39ms/step - loss: 0.5515 - val_loss: 0.9524\n",
      "Epoch 65/500\n",
      "110/110 [==============================] - 4s 40ms/step - loss: 0.5520 - val_loss: 0.9217\n",
      "Epoch 66/500\n",
      "110/110 [==============================] - 4s 40ms/step - loss: 0.5153 - val_loss: 0.9417\n",
      "Epoch 67/500\n",
      "110/110 [==============================] - 4s 39ms/step - loss: 0.5320 - val_loss: 0.9132\n",
      "Epoch 68/500\n",
      "110/110 [==============================] - 4s 39ms/step - loss: 0.5423 - val_loss: 0.9192\n",
      "Epoch 69/500\n",
      "110/110 [==============================] - 4s 39ms/step - loss: 0.5065 - val_loss: 0.9094\n",
      "Epoch 70/500\n",
      "110/110 [==============================] - 4s 39ms/step - loss: 0.5007 - val_loss: 0.9079\n",
      "Epoch 71/500\n",
      "110/110 [==============================] - 4s 40ms/step - loss: 0.4821 - val_loss: 0.9035\n",
      "Epoch 72/500\n",
      "110/110 [==============================] - 4s 40ms/step - loss: 0.4554 - val_loss: 0.8920\n",
      "Epoch 73/500\n",
      "110/110 [==============================] - 4s 39ms/step - loss: 0.4559 - val_loss: 0.8871\n",
      "Epoch 74/500\n",
      "110/110 [==============================] - 4s 39ms/step - loss: 0.4518 - val_loss: 1.0063\n",
      "Epoch 75/500\n",
      "110/110 [==============================] - 4s 40ms/step - loss: 0.5560 - val_loss: 0.9125\n",
      "Epoch 76/500\n",
      "110/110 [==============================] - 4s 40ms/step - loss: 0.4287 - val_loss: 0.8796\n",
      "Epoch 77/500\n",
      "110/110 [==============================] - 4s 39ms/step - loss: 0.4270 - val_loss: 0.8893\n",
      "Epoch 78/500\n",
      "110/110 [==============================] - 4s 40ms/step - loss: 0.4175 - val_loss: 0.8860\n",
      "Epoch 79/500\n",
      "110/110 [==============================] - 4s 39ms/step - loss: 0.4068 - val_loss: 0.8834\n",
      "Epoch 80/500\n"
     ]
    },
    {
     "name": "stdout",
     "output_type": "stream",
     "text": [
      "110/110 [==============================] - 4s 40ms/step - loss: 0.4000 - val_loss: 0.8784\n",
      "Epoch 81/500\n",
      "110/110 [==============================] - 5s 41ms/step - loss: 0.3858 - val_loss: 0.9198\n",
      "Epoch 82/500\n",
      "110/110 [==============================] - 4s 40ms/step - loss: 0.3998 - val_loss: 0.8869\n",
      "Epoch 83/500\n",
      "110/110 [==============================] - 4s 40ms/step - loss: 0.3566 - val_loss: 0.8776\n",
      "Epoch 84/500\n",
      "110/110 [==============================] - 4s 40ms/step - loss: 0.3731 - val_loss: 0.8827\n",
      "Epoch 85/500\n",
      "110/110 [==============================] - 4s 39ms/step - loss: 0.3723 - val_loss: 0.8769\n",
      "Epoch 86/500\n",
      "110/110 [==============================] - 4s 39ms/step - loss: 0.3452 - val_loss: 0.8718\n",
      "Epoch 87/500\n",
      "110/110 [==============================] - 4s 38ms/step - loss: 0.3649 - val_loss: 0.8918\n",
      "Epoch 88/500\n",
      "110/110 [==============================] - 4s 39ms/step - loss: 0.3434 - val_loss: 0.8772\n",
      "Epoch 89/500\n",
      "110/110 [==============================] - 4s 39ms/step - loss: 0.3414 - val_loss: 0.8763\n",
      "Epoch 90/500\n",
      "110/110 [==============================] - 4s 39ms/step - loss: 0.3304 - val_loss: 0.9241\n",
      "Epoch 91/500\n",
      "110/110 [==============================] - 4s 38ms/step - loss: 0.3744 - val_loss: 0.8993\n"
     ]
    }
   ],
   "source": [
    "earlystopping = keras.callbacks.EarlyStopping(\n",
    "    monitor=\"val_loss\",\n",
    "    min_delta=0,\n",
    "    patience=5,\n",
    "    verbose=0,\n",
    "    mode=\"auto\",\n",
    "    baseline=None,\n",
    "    restore_best_weights=False,\n",
    ")\n",
    "\n",
    "history = model.fit(\n",
    "    X_train, \n",
    "    to_categorical(X_train, num_classes=nb_words),\n",
    "    epochs=500,\n",
    "    validation_data=(X_test, to_categorical(X_test, num_classes=nb_words)),\n",
    "    callbacks=[earlystopping]\n",
    ")"
   ]
  },
  {
   "cell_type": "code",
   "execution_count": 9,
   "metadata": {},
   "outputs": [
    {
     "data": {
      "text/plain": [
       "<matplotlib.legend.Legend at 0x7fd1242dcef0>"
      ]
     },
     "execution_count": 9,
     "metadata": {},
     "output_type": "execute_result"
    },
    {
     "data": {
      "image/png": "[encoded data removed]",
      "text/plain": [
       "<Figure size 432x288 with 1 Axes>"
      ]
     },
     "metadata": {
      "needs_background": "light"
     },
     "output_type": "display_data"
    }
   ],
   "source": [
    "import matplotlib.pyplot as plt\n",
    "\n",
    "plt.plot(history.history[\"loss\"], label=\"Training Loss\")\n",
    "plt.plot(history.history[\"val_loss\"], label=\"Validation Loss\")\n",
    "plt.legend()"
   ]
  },
  {
   "cell_type": "code",
   "execution_count": 10,
   "metadata": {},
   "outputs": [
    {
     "data": {
      "text/plain": [
       "(['headache is the thing ever'],\n",
       " array([[  0,   0,   0,   0,   0, 363,  24,   4, 438, 268]], dtype=int32))"
      ]
     },
     "execution_count": 10,
     "metadata": {},
     "output_type": "execute_result"
    }
   ],
   "source": [
    "text = ['headache is the strangest thing ever']\n",
    "tokenized = tokenizer.texts_to_sequences(text)\n",
    "tokenized = sequence.pad_sequences(tokenized, maxlen=max_seq_len)\n",
    "tokenizer.sequences_to_texts(tokenized), tokenized"
   ]
  },
  {
   "cell_type": "code",
   "execution_count": 11,
   "metadata": {},
   "outputs": [
    {
     "data": {
      "text/plain": [
       "['rotton all to to to']"
      ]
     },
     "execution_count": 11,
     "metadata": {},
     "output_type": "execute_result"
    }
   ],
   "source": [
    "import numpy as np\n",
    "predicted = [np.argmax(i) for i in model.predict(tokenized)[0]]\n",
    "tokenizer.sequences_to_texts([predicted])"
   ]
  },
  {
   "cell_type": "code",
   "execution_count": 12,
   "metadata": {},
   "outputs": [
    {
     "data": {
      "text/plain": [
       "[0, 0, 0, 0, 0, 2253, 29, 5, 5, 5]"
      ]
     },
     "execution_count": 12,
     "metadata": {},
     "output_type": "execute_result"
    }
   ],
   "source": [
    "predicted"
   ]
  },
  {
   "cell_type": "markdown",
   "metadata": {},
   "source": [
    "# Get encoder"
   ]
  },
  {
   "cell_type": "code",
   "execution_count": 13,
   "metadata": {},
   "outputs": [
    {
     "data": {
      "text/plain": [
       "(1, 128)"
      ]
     },
     "execution_count": 13,
     "metadata": {},
     "output_type": "execute_result"
    }
   ],
   "source": [
    "encoder = keras.Sequential(model.layers[:4])\n",
    "encoder.predict(tokenized).shape"
   ]
  },
  {
   "cell_type": "code",
   "execution_count": 14,
   "metadata": {},
   "outputs": [
    {
     "name": "stdout",
     "output_type": "stream",
     "text": [
      "Model: \"sequential\"\n",
      "_________________________________________________________________\n",
      "Layer (type)                 Output Shape              Param #   \n",
      "=================================================================\n",
      "embedding (Embedding)        (None, 10, 150)           450000    \n",
      "_________________________________________________________________\n",
      "bidirectional (Bidirectional (None, 512)               833536    \n",
      "_________________________________________________________________\n",
      "dense (Dense)                (None, 128)               65664     \n",
      "=================================================================\n",
      "Total params: 1,349,200\n",
      "Trainable params: 899,200\n",
      "Non-trainable params: 450,000\n",
      "_________________________________________________________________\n"
     ]
    }
   ],
   "source": [
    "encoder.summary()"
   ]
  },
  {
   "cell_type": "code",
   "execution_count": 15,
   "metadata": {},
   "outputs": [],
   "source": [
    "encoder.save('../../models/encoder/encoder_cadec.h5')"
   ]
  },
  {
   "cell_type": "code",
   "execution_count": 16,
   "metadata": {},
   "outputs": [
    {
     "name": "stdout",
     "output_type": "stream",
     "text": [
      "WARNING:tensorflow:No training configuration found in the save file, so the model was *not* compiled. Compile it manually.\n"
     ]
    }
   ],
   "source": [
    "encoder_loaded = keras.models.load_model('../../models/encoder/encoder_cadec.h5')"
   ]
  },
  {
   "cell_type": "code",
   "execution_count": 17,
   "metadata": {},
   "outputs": [
    {
     "data": {
      "text/plain": [
       "(1, 128)"
      ]
     },
     "execution_count": 17,
     "metadata": {},
     "output_type": "execute_result"
    }
   ],
   "source": [
    "encoder_loaded.predict(tokenized).shape"
   ]
  },
  {
   "cell_type": "code",
   "execution_count": 18,
   "metadata": {},
   "outputs": [
    {
     "data": {
      "text/html": [
       "<div>\n",
       "<style scoped>\n",
       "    .dataframe tbody tr th:only-of-type {\n",
       "        vertical-align: middle;\n",
       "    }\n",
       "\n",
       "    .dataframe tbody tr th {\n",
       "        vertical-align: top;\n",
       "    }\n",
       "\n",
       "    .dataframe thead th {\n",
       "        text-align: right;\n",
       "    }\n",
       "</style>\n",
       "<table border=\"1\" class=\"dataframe\">\n",
       "  <thead>\n",
       "    <tr style=\"text-align: right;\">\n",
       "      <th></th>\n",
       "      <th>0</th>\n",
       "    </tr>\n",
       "  </thead>\n",
       "  <tbody>\n",
       "    <tr>\n",
       "      <th>0</th>\n",
       "      <td>sick of this pain my back yeahh</td>\n",
       "    </tr>\n",
       "    <tr>\n",
       "      <th>1</th>\n",
       "      <td>this is second message</td>\n",
       "    </tr>\n",
       "    <tr>\n",
       "      <th>2</th>\n",
       "      <td>this is third message</td>\n",
       "    </tr>\n",
       "  </tbody>\n",
       "</table>\n",
       "</div>"
      ],
      "text/plain": [
       "                                 0\n",
       "0  sick of this pain my back yeahh\n",
       "1           this is second message\n",
       "2            this is third message"
      ]
     },
     "execution_count": 18,
     "metadata": {},
     "output_type": "execute_result"
    }
   ],
   "source": [
    "text = pd.DataFrame([\n",
    "    'sick of this pain my back yeahh',\n",
    "    'this is second message',\n",
    "    'this is third message'\n",
    "])\n",
    "text"
   ]
  },
  {
   "cell_type": "code",
   "execution_count": 19,
   "metadata": {},
   "outputs": [
    {
     "data": {
      "text/html": [
       "<div>\n",
       "<style scoped>\n",
       "    .dataframe tbody tr th:only-of-type {\n",
       "        vertical-align: middle;\n",
       "    }\n",
       "\n",
       "    .dataframe tbody tr th {\n",
       "        vertical-align: top;\n",
       "    }\n",
       "\n",
       "    .dataframe thead th {\n",
       "        text-align: right;\n",
       "    }\n",
       "</style>\n",
       "<table border=\"1\" class=\"dataframe\">\n",
       "  <thead>\n",
       "    <tr style=\"text-align: right;\">\n",
       "      <th></th>\n",
       "      <th>0</th>\n",
       "      <th>vec</th>\n",
       "    </tr>\n",
       "  </thead>\n",
       "  <tbody>\n",
       "    <tr>\n",
       "      <th>0</th>\n",
       "      <td>sick of this pain my back yeahh</td>\n",
       "      <td>[1.7217798, -2.1035154, -1.3880174, -2.6382208...</td>\n",
       "    </tr>\n",
       "    <tr>\n",
       "      <th>1</th>\n",
       "      <td>this is second message</td>\n",
       "      <td>[1.327511, -5.3665457, -5.434833, -9.064444, 0...</td>\n",
       "    </tr>\n",
       "    <tr>\n",
       "      <th>2</th>\n",
       "      <td>this is third message</td>\n",
       "      <td>[1.7789334, -5.211913, -5.134136, -8.604033, 0...</td>\n",
       "    </tr>\n",
       "  </tbody>\n",
       "</table>\n",
       "</div>"
      ],
      "text/plain": [
       "                                 0  \\\n",
       "0  sick of this pain my back yeahh   \n",
       "1           this is second message   \n",
       "2            this is third message   \n",
       "\n",
       "                                                 vec  \n",
       "0  [1.7217798, -2.1035154, -1.3880174, -2.6382208...  \n",
       "1  [1.327511, -5.3665457, -5.434833, -9.064444, 0...  \n",
       "2  [1.7789334, -5.211913, -5.134136, -8.604033, 0...  "
      ]
     },
     "execution_count": 19,
     "metadata": {},
     "output_type": "execute_result"
    }
   ],
   "source": [
    "\n",
    "tokenized = tokenizer.texts_to_sequences(text[0])\n",
    "tokenized = sequence.pad_sequences(tokenized, maxlen=max_seq_len)\n",
    "#pd.DataFrame()\n",
    "text['vec'] = tokenizer.texts_to_sequences(text[0])\n",
    "#text['vec'] = text['vec'].apply(lambda toks: encoder_loaded.predict(toks).shape)\n",
    "text['vec'] = sequence.pad_sequences(text['vec'], maxlen=max_seq_len).tolist()\n",
    "text['vec'] = text['vec'].apply(lambda seq: encoder_loaded.predict([seq])[0])\n",
    "text"
   ]
  },
  {
   "cell_type": "code",
   "execution_count": 20,
   "metadata": {},
   "outputs": [
    {
     "data": {
      "text/plain": [
       "(128,)"
      ]
     },
     "execution_count": 20,
     "metadata": {},
     "output_type": "execute_result"
    }
   ],
   "source": [
    "text['vec'].iloc[0].shape"
   ]
  },
  {
   "cell_type": "code",
   "execution_count": null,
   "metadata": {},
   "outputs": [],
   "source": []
  },
  {
   "cell_type": "code",
   "execution_count": null,
   "metadata": {},
   "outputs": [],
   "source": []
  }
 ],
 "metadata": {
  "kernelspec": {
   "display_name": "Python 3",
   "language": "python",
   "name": "python3"
  },
  "language_info": {
   "codemirror_mode": {
    "name": "ipython",
    "version": 3
   },
   "file_extension": ".py",
   "mimetype": "text/x-python",
   "name": "python",
   "nbconvert_exporter": "python",
   "pygments_lexer": "ipython3",
   "version": "3.6.8"
  }
 },
 "nbformat": 4,
 "nbformat_minor": 4
}
